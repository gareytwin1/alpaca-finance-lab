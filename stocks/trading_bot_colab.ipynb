{
  "nbformat": 4,
  "nbformat_minor": 0,
  "metadata": {
    "colab": {
      "provenance": [],
      "authorship_tag": "ABX9TyNPlXAWaKGfBBa2zDrJitY0",
      "include_colab_link": true
    },
    "kernelspec": {
      "name": "python3",
      "display_name": "Python 3"
    },
    "language_info": {
      "name": "python"
    }
  },
  "cells": [
    {
      "cell_type": "markdown",
      "metadata": {
        "id": "view-in-github",
        "colab_type": "text"
      },
      "source": [
        "<a href=\"https://colab.research.google.com/github/gareytwin1/alpaca-finance-lab/blob/main/stocks/trading_bot_colab.ipynb\" target=\"_parent\"><img src=\"https://colab.research.google.com/assets/colab-badge.svg\" alt=\"Open In Colab\"/></a>"
      ]
    },
    {
      "cell_type": "code",
      "source": [
        "!pip install alpaca-trade-api\n",
        "!pip install plotly\n",
        "!pip install mplfinance"
      ],
      "metadata": {
        "id": "M4m9Xfrjmb-j",
        "colab": {
          "base_uri": "https://localhost:8080/"
        },
        "outputId": "753344e8-2823-4503-87d1-dca081927442"
      },
      "execution_count": 3,
      "outputs": [
        {
          "output_type": "stream",
          "name": "stdout",
          "text": [
            "Requirement already satisfied: alpaca-trade-api in /usr/local/lib/python3.11/dist-packages (3.2.0)\n",
            "Requirement already satisfied: pandas>=0.18.1 in /usr/local/lib/python3.11/dist-packages (from alpaca-trade-api) (2.2.2)\n",
            "Requirement already satisfied: numpy>=1.11.1 in /usr/local/lib/python3.11/dist-packages (from alpaca-trade-api) (2.0.2)\n",
            "Requirement already satisfied: requests<3,>2 in /usr/local/lib/python3.11/dist-packages (from alpaca-trade-api) (2.32.3)\n",
            "Requirement already satisfied: urllib3<2,>1.24 in /usr/local/lib/python3.11/dist-packages (from alpaca-trade-api) (1.26.20)\n",
            "Requirement already satisfied: websocket-client<2,>=0.56.0 in /usr/local/lib/python3.11/dist-packages (from alpaca-trade-api) (1.8.0)\n",
            "Requirement already satisfied: websockets<11,>=9.0 in /usr/local/lib/python3.11/dist-packages (from alpaca-trade-api) (10.4)\n",
            "Requirement already satisfied: msgpack==1.0.3 in /usr/local/lib/python3.11/dist-packages (from alpaca-trade-api) (1.0.3)\n",
            "Requirement already satisfied: aiohttp<4,>=3.8.3 in /usr/local/lib/python3.11/dist-packages (from alpaca-trade-api) (3.11.15)\n",
            "Requirement already satisfied: PyYAML==6.0.1 in /usr/local/lib/python3.11/dist-packages (from alpaca-trade-api) (6.0.1)\n",
            "Requirement already satisfied: deprecation==2.1.0 in /usr/local/lib/python3.11/dist-packages (from alpaca-trade-api) (2.1.0)\n",
            "Requirement already satisfied: packaging in /usr/local/lib/python3.11/dist-packages (from deprecation==2.1.0->alpaca-trade-api) (24.2)\n",
            "Requirement already satisfied: aiohappyeyeballs>=2.3.0 in /usr/local/lib/python3.11/dist-packages (from aiohttp<4,>=3.8.3->alpaca-trade-api) (2.6.1)\n",
            "Requirement already satisfied: aiosignal>=1.1.2 in /usr/local/lib/python3.11/dist-packages (from aiohttp<4,>=3.8.3->alpaca-trade-api) (1.3.2)\n",
            "Requirement already satisfied: attrs>=17.3.0 in /usr/local/lib/python3.11/dist-packages (from aiohttp<4,>=3.8.3->alpaca-trade-api) (25.3.0)\n",
            "Requirement already satisfied: frozenlist>=1.1.1 in /usr/local/lib/python3.11/dist-packages (from aiohttp<4,>=3.8.3->alpaca-trade-api) (1.6.0)\n",
            "Requirement already satisfied: multidict<7.0,>=4.5 in /usr/local/lib/python3.11/dist-packages (from aiohttp<4,>=3.8.3->alpaca-trade-api) (6.4.4)\n",
            "Requirement already satisfied: propcache>=0.2.0 in /usr/local/lib/python3.11/dist-packages (from aiohttp<4,>=3.8.3->alpaca-trade-api) (0.3.1)\n",
            "Requirement already satisfied: yarl<2.0,>=1.17.0 in /usr/local/lib/python3.11/dist-packages (from aiohttp<4,>=3.8.3->alpaca-trade-api) (1.20.0)\n",
            "Requirement already satisfied: python-dateutil>=2.8.2 in /usr/local/lib/python3.11/dist-packages (from pandas>=0.18.1->alpaca-trade-api) (2.9.0.post0)\n",
            "Requirement already satisfied: pytz>=2020.1 in /usr/local/lib/python3.11/dist-packages (from pandas>=0.18.1->alpaca-trade-api) (2025.2)\n",
            "Requirement already satisfied: tzdata>=2022.7 in /usr/local/lib/python3.11/dist-packages (from pandas>=0.18.1->alpaca-trade-api) (2025.2)\n",
            "Requirement already satisfied: charset-normalizer<4,>=2 in /usr/local/lib/python3.11/dist-packages (from requests<3,>2->alpaca-trade-api) (3.4.2)\n",
            "Requirement already satisfied: idna<4,>=2.5 in /usr/local/lib/python3.11/dist-packages (from requests<3,>2->alpaca-trade-api) (3.10)\n",
            "Requirement already satisfied: certifi>=2017.4.17 in /usr/local/lib/python3.11/dist-packages (from requests<3,>2->alpaca-trade-api) (2025.4.26)\n",
            "Requirement already satisfied: six>=1.5 in /usr/local/lib/python3.11/dist-packages (from python-dateutil>=2.8.2->pandas>=0.18.1->alpaca-trade-api) (1.17.0)\n",
            "Requirement already satisfied: plotly in /usr/local/lib/python3.11/dist-packages (5.24.1)\n",
            "Requirement already satisfied: tenacity>=6.2.0 in /usr/local/lib/python3.11/dist-packages (from plotly) (9.1.2)\n",
            "Requirement already satisfied: packaging in /usr/local/lib/python3.11/dist-packages (from plotly) (24.2)\n",
            "Collecting mplfinance\n",
            "  Downloading mplfinance-0.12.10b0-py3-none-any.whl.metadata (19 kB)\n",
            "Requirement already satisfied: matplotlib in /usr/local/lib/python3.11/dist-packages (from mplfinance) (3.10.0)\n",
            "Requirement already satisfied: pandas in /usr/local/lib/python3.11/dist-packages (from mplfinance) (2.2.2)\n",
            "Requirement already satisfied: contourpy>=1.0.1 in /usr/local/lib/python3.11/dist-packages (from matplotlib->mplfinance) (1.3.2)\n",
            "Requirement already satisfied: cycler>=0.10 in /usr/local/lib/python3.11/dist-packages (from matplotlib->mplfinance) (0.12.1)\n",
            "Requirement already satisfied: fonttools>=4.22.0 in /usr/local/lib/python3.11/dist-packages (from matplotlib->mplfinance) (4.58.1)\n",
            "Requirement already satisfied: kiwisolver>=1.3.1 in /usr/local/lib/python3.11/dist-packages (from matplotlib->mplfinance) (1.4.8)\n",
            "Requirement already satisfied: numpy>=1.23 in /usr/local/lib/python3.11/dist-packages (from matplotlib->mplfinance) (2.0.2)\n",
            "Requirement already satisfied: packaging>=20.0 in /usr/local/lib/python3.11/dist-packages (from matplotlib->mplfinance) (24.2)\n",
            "Requirement already satisfied: pillow>=8 in /usr/local/lib/python3.11/dist-packages (from matplotlib->mplfinance) (11.2.1)\n",
            "Requirement already satisfied: pyparsing>=2.3.1 in /usr/local/lib/python3.11/dist-packages (from matplotlib->mplfinance) (3.2.3)\n",
            "Requirement already satisfied: python-dateutil>=2.7 in /usr/local/lib/python3.11/dist-packages (from matplotlib->mplfinance) (2.9.0.post0)\n",
            "Requirement already satisfied: pytz>=2020.1 in /usr/local/lib/python3.11/dist-packages (from pandas->mplfinance) (2025.2)\n",
            "Requirement already satisfied: tzdata>=2022.7 in /usr/local/lib/python3.11/dist-packages (from pandas->mplfinance) (2025.2)\n",
            "Requirement already satisfied: six>=1.5 in /usr/local/lib/python3.11/dist-packages (from python-dateutil>=2.7->matplotlib->mplfinance) (1.17.0)\n",
            "Downloading mplfinance-0.12.10b0-py3-none-any.whl (75 kB)\n",
            "\u001b[2K   \u001b[90m━━━━━━━━━━━━━━━━━━━━━━━━━━━━━━━━━━━━━━━━\u001b[0m \u001b[32m75.0/75.0 kB\u001b[0m \u001b[31m3.2 MB/s\u001b[0m eta \u001b[36m0:00:00\u001b[0m\n",
            "\u001b[?25hInstalling collected packages: mplfinance\n",
            "Successfully installed mplfinance-0.12.10b0\n"
          ]
        }
      ]
    },
    {
      "cell_type": "code",
      "source": [
        "!pip install alpaca-py"
      ],
      "metadata": {
        "colab": {
          "base_uri": "https://localhost:8080/"
        },
        "id": "rr8kO6QRmECJ",
        "outputId": "3bca7d02-a474-4dc9-974c-2ce34609132f"
      },
      "execution_count": 5,
      "outputs": [
        {
          "output_type": "stream",
          "name": "stdout",
          "text": [
            "Collecting alpaca-py\n",
            "  Downloading alpaca_py-0.40.1-py3-none-any.whl.metadata (13 kB)\n",
            "Requirement already satisfied: msgpack<2.0.0,>=1.0.3 in /usr/local/lib/python3.11/dist-packages (from alpaca-py) (1.0.3)\n",
            "Requirement already satisfied: pandas>=1.5.3 in /usr/local/lib/python3.11/dist-packages (from alpaca-py) (2.2.2)\n",
            "Requirement already satisfied: pydantic<3.0.0,>=2.0.3 in /usr/local/lib/python3.11/dist-packages (from alpaca-py) (2.11.5)\n",
            "Requirement already satisfied: requests<3.0.0,>=2.30.0 in /usr/local/lib/python3.11/dist-packages (from alpaca-py) (2.32.3)\n",
            "Collecting sseclient-py<2.0.0,>=1.7.2 (from alpaca-py)\n",
            "  Downloading sseclient_py-1.8.0-py2.py3-none-any.whl.metadata (2.0 kB)\n",
            "Requirement already satisfied: websockets>=10.4 in /usr/local/lib/python3.11/dist-packages (from alpaca-py) (10.4)\n",
            "Requirement already satisfied: numpy>=1.23.2 in /usr/local/lib/python3.11/dist-packages (from pandas>=1.5.3->alpaca-py) (2.0.2)\n",
            "Requirement already satisfied: python-dateutil>=2.8.2 in /usr/local/lib/python3.11/dist-packages (from pandas>=1.5.3->alpaca-py) (2.9.0.post0)\n",
            "Requirement already satisfied: pytz>=2020.1 in /usr/local/lib/python3.11/dist-packages (from pandas>=1.5.3->alpaca-py) (2025.2)\n",
            "Requirement already satisfied: tzdata>=2022.7 in /usr/local/lib/python3.11/dist-packages (from pandas>=1.5.3->alpaca-py) (2025.2)\n",
            "Requirement already satisfied: annotated-types>=0.6.0 in /usr/local/lib/python3.11/dist-packages (from pydantic<3.0.0,>=2.0.3->alpaca-py) (0.7.0)\n",
            "Requirement already satisfied: pydantic-core==2.33.2 in /usr/local/lib/python3.11/dist-packages (from pydantic<3.0.0,>=2.0.3->alpaca-py) (2.33.2)\n",
            "Requirement already satisfied: typing-extensions>=4.12.2 in /usr/local/lib/python3.11/dist-packages (from pydantic<3.0.0,>=2.0.3->alpaca-py) (4.14.0)\n",
            "Requirement already satisfied: typing-inspection>=0.4.0 in /usr/local/lib/python3.11/dist-packages (from pydantic<3.0.0,>=2.0.3->alpaca-py) (0.4.1)\n",
            "Requirement already satisfied: charset-normalizer<4,>=2 in /usr/local/lib/python3.11/dist-packages (from requests<3.0.0,>=2.30.0->alpaca-py) (3.4.2)\n",
            "Requirement already satisfied: idna<4,>=2.5 in /usr/local/lib/python3.11/dist-packages (from requests<3.0.0,>=2.30.0->alpaca-py) (3.10)\n",
            "Requirement already satisfied: urllib3<3,>=1.21.1 in /usr/local/lib/python3.11/dist-packages (from requests<3.0.0,>=2.30.0->alpaca-py) (1.26.20)\n",
            "Requirement already satisfied: certifi>=2017.4.17 in /usr/local/lib/python3.11/dist-packages (from requests<3.0.0,>=2.30.0->alpaca-py) (2025.4.26)\n",
            "Requirement already satisfied: six>=1.5 in /usr/local/lib/python3.11/dist-packages (from python-dateutil>=2.8.2->pandas>=1.5.3->alpaca-py) (1.17.0)\n",
            "Downloading alpaca_py-0.40.1-py3-none-any.whl (121 kB)\n",
            "\u001b[2K   \u001b[90m━━━━━━━━━━━━━━━━━━━━━━━━━━━━━━━━━━━━━━━━\u001b[0m \u001b[32m121.7/121.7 kB\u001b[0m \u001b[31m5.8 MB/s\u001b[0m eta \u001b[36m0:00:00\u001b[0m\n",
            "\u001b[?25hDownloading sseclient_py-1.8.0-py2.py3-none-any.whl (8.8 kB)\n",
            "Installing collected packages: sseclient-py, alpaca-py\n",
            "Successfully installed alpaca-py-0.40.1 sseclient-py-1.8.0\n"
          ]
        }
      ]
    },
    {
      "cell_type": "code",
      "execution_count": 7,
      "metadata": {
        "id": "CIYZB6Z-jpdz"
      },
      "outputs": [],
      "source": [
        "import alpaca_trade_api as tradeapi\n",
        "from alpaca.data.historical import StockHistoricalDataClient\n",
        "from alpaca.data.requests import StockBarsRequest\n",
        "from alpaca.data.timeframe import TimeFrame, TimeFrameUnit\n",
        "import config\n",
        "import csv\n",
        "from datetime import datetime, timedelta\n",
        "from google.colab import userdata\n",
        "import json\n",
        "import logging\n",
        "import math\n",
        "import mplfinance as mpf\n",
        "import matplotlib.pyplot as plt\n",
        "import os\n",
        "import pandas as pd\n",
        "import polars as pl\n",
        "import plotly.graph_objects as go\n",
        "import seaborn as sns\n",
        "import time"
      ]
    },
    {
      "cell_type": "code",
      "source": [
        "POSITION_FILE: str = 'position.json'\n",
        "SYMBOL: str = 'SPY'\n",
        "MAX_TRADES_PER_DAY: int = 10        # Maximum trades allowed per day\n",
        "DAILY_LOSS_LIMIT: int  = 100       # Maximum daily loss allowed (in dollars)\n",
        "POSITION_SIZE_PCT: float = 0.1        # 10% of buying power per trade\n",
        "COOLDOWN: int = 60 * 5              # 5 minutes cooldown in seconds\n",
        "TRAILING_STOP_PCT: float = 0.02       # 2% trailing stop\n",
        "\n",
        "# Initial position dictionary\n",
        "initial_position_data = {\n",
        "    \"side\": \"long\",\n",
        "    \"entry_price\": 180.50,\n",
        "    \"qty\": 10,\n",
        "    \"high\": 180.50,\n",
        "    \"low\": 180.00,\n",
        "    \"entry_time\": datetime.now().isoformat(),\n",
        "    \"last_exit\": \"\"\n",
        "}\n",
        "\n",
        "# Remove existing handlers (important in Jupyter)\n",
        "for handler in logging.root.handlers[:]:\n",
        "    logging.root.removeHandler(handler)\n",
        "\n",
        "# Now set up logging to file\n",
        "logging.basicConfig(\n",
        "    filename='app.log',\n",
        "    level=logging.INFO,\n",
        "    format='%(asctime)s - %(levelname)s - %(message)s',\n",
        "    filemode='a'\n",
        ")\n",
        "\n",
        "# Test it\n",
        "logging.info(\"Logging from Jupyter is working.\")"
      ],
      "metadata": {
        "id": "CvI-UYfC5wkd"
      },
      "execution_count": 8,
      "outputs": []
    },
    {
      "cell_type": "code",
      "source": [
        "def create_position_file_if_not_exists() -> None:\n",
        "    \"\"\"Creates the position.json file with initial data if it doesn't exist.\"\"\"\n",
        "    if not os.path.exists(POSITION_FILE):\n",
        "        try:\n",
        "            with open(POSITION_FILE, 'w') as f:\n",
        "                json.dump(initial_position_data, f, indent=4)\n",
        "            logging.info(f\"'{POSITION_FILE}' not found. Created and initialized it.\")\n",
        "        except Exception as e:\n",
        "            logging.error(f\"Error creating '{POSITION_FILE}': {e}\", exc_info=True)\n",
        "    else:\n",
        "        logging.info(f\"'{POSITION_FILE}' already exists.\")"
      ],
      "metadata": {
        "id": "NjP1BVyK148p"
      },
      "execution_count": 9,
      "outputs": []
    },
    {
      "cell_type": "code",
      "source": [
        "create_position_file_if_not_exists()"
      ],
      "metadata": {
        "id": "5SNq6v5inGKr"
      },
      "execution_count": 10,
      "outputs": []
    },
    {
      "cell_type": "code",
      "source": [
        "def load_position() -> list[dict] | None:\n",
        "    \"\"\"Loads the trading position from the position.json file, ensuring recovery from corruption or absence.\"\"\"\n",
        "    create_position_file_if_not_exists()\n",
        "\n",
        "    try:\n",
        "        with open(POSITION_FILE, 'r') as f:\n",
        "            position_data: list[dict] = json.load(f)\n",
        "            logging.info(f\"Successfully loaded position from {POSITION_FILE}\")\n",
        "            return position_data\n",
        "\n",
        "    except json.JSONDecodeError:\n",
        "        logging.warning(f\"Error decoding JSON from {POSITION_FILE}. File might be corrupted. Attempting to fix.\")\n",
        "        try:\n",
        "            os.remove(POSITION_FILE)\n",
        "            logging.info(f\"Deleted corrupted {POSITION_FILE}. Re-creating it.\")\n",
        "            create_position_file_if_not_exists()\n",
        "            with open(POSITION_FILE, 'r') as f:\n",
        "                position_data: list[dict] = json.load(f)\n",
        "                logging.info(f\"Successfully recovered and reloaded {POSITION_FILE}\")\n",
        "                return position_data\n",
        "        except Exception as e:\n",
        "            logging.error(f\"Failed to reload after recreating {POSITION_FILE}: {e}\", exc_info=True)\n",
        "            return None\n",
        "\n",
        "    except Exception as e:\n",
        "        logging.error(f\"Unexpected error reading {POSITION_FILE}: {e}\", exc_info=True)\n",
        "        return None\n"
      ],
      "metadata": {
        "id": "39xwYNED0JHY"
      },
      "execution_count": 11,
      "outputs": []
    },
    {
      "cell_type": "code",
      "source": [
        "load_position()"
      ],
      "metadata": {
        "colab": {
          "base_uri": "https://localhost:8080/"
        },
        "id": "2zaO5FFJnSI6",
        "outputId": "b334c4bb-4f49-4f20-997c-50c8296957da"
      },
      "execution_count": 12,
      "outputs": [
        {
          "output_type": "execute_result",
          "data": {
            "text/plain": [
              "{'side': 'long',\n",
              " 'entry_price': 180.5,\n",
              " 'qty': 10,\n",
              " 'high': 180.5,\n",
              " 'low': 180.0,\n",
              " 'entry_time': '2025-06-14T22:42:34.302472',\n",
              " 'last_exit': ''}"
            ]
          },
          "metadata": {},
          "execution_count": 12
        }
      ]
    },
    {
      "cell_type": "code",
      "source": [
        "def reset_position() -> None:\n",
        "    \"\"\"Resets the position by deleting the position.json file.\"\"\"\n",
        "    try:\n",
        "        if os.path.exists(POSITION_FILE):\n",
        "            os.remove(POSITION_FILE)\n",
        "            logging.info(f\"Successfully deleted {POSITION_FILE}. Position reset.\")\n",
        "        else:\n",
        "            logging.info(f\"No position file found to delete. Nothing to reset.\")\n",
        "    except Exception as e:\n",
        "        logging.error(f\"Error while trying to reset position: {e}\", exc_info=True)"
      ],
      "metadata": {
        "id": "1X6LdYSFj_2j"
      },
      "execution_count": 13,
      "outputs": []
    },
    {
      "cell_type": "code",
      "source": [],
      "metadata": {
        "id": "fV4XPdEvncPY"
      },
      "execution_count": null,
      "outputs": []
    },
    {
      "cell_type": "code",
      "source": [
        "def close_position():\n",
        "    try:\n",
        "        # api.close_position(SYMBOL)\n",
        "        print(\"Position closed.\")\n",
        "    except Exception as e:\n",
        "        print(f\"Close error: {e}\")"
      ],
      "metadata": {
        "id": "bpwpjW_bj3GF"
      },
      "execution_count": null,
      "outputs": []
    },
    {
      "cell_type": "code",
      "source": [
        "def save_position(data):\n",
        "    POSITION_FILE = 'position.json'\n",
        "    with open(POSITION_FILE, 'w') as f:\n",
        "      json.dump(data,f)\n",
        "    print(\"Positioned save\")"
      ],
      "metadata": {
        "id": "i_fI-gacj8DL"
      },
      "execution_count": null,
      "outputs": []
    },
    {
      "cell_type": "code",
      "source": [
        "def place_order(side, qty, price):\n",
        "    try:\n",
        "        # api.submit_order(\n",
        "        #     symbol=SYMBOL,\n",
        "        #     qty=qty,\n",
        "        #     side=side,\n",
        "        #     type='limit',\n",
        "        #     limit_price=round(price, 2),\n",
        "        #     time_in_force='gtc'\n",
        "        # )\n",
        "        print(f\"{side.upper()} order placed at {price}\")\n",
        "    except Exception as e:\n",
        "        print(f\"Order error: {e}\")"
      ],
      "metadata": {
        "id": "dLZjZk_Nk9qO"
      },
      "execution_count": null,
      "outputs": []
    },
    {
      "cell_type": "code",
      "source": [
        "def log_trade(entry_time, exit_time, side, entry_price, exit_price, pnl):\n",
        "    # exists = os.path.exists(TRADE_LOG_FILE)\n",
        "    # with open(TRADE_LOG_FILE, 'a') as f:\n",
        "    #     if not exists:\n",
        "    #         f.write(\"entry_time,exit_time,side,entry_price,exit_price,pnl\\n\")\n",
        "    #     f.write(f\"{entry_time},{exit_time},{side},{entry_price},{exit_price},{pnl}\\n\")\n",
        "    print(\"Logged trade\")"
      ],
      "metadata": {
        "id": "4LF1yLGflqEL"
      },
      "execution_count": null,
      "outputs": []
    },
    {
      "cell_type": "code",
      "source": [
        "def check_daily_limits():\n",
        "    #List comphrension to a list of daily_list\n",
        "    daily_trades = [activity for activity in activities if datetime.fromisoformat(activity[\"transaction_time\"].isoformat()).date() == datetime.now().date()]\n",
        "    print(f\"daily trades: {daily_trades}\")\n",
        "    # Code into long way: for t in daily_trades if t.side in ['buy', 'sell']]\n",
        "\n",
        "    filtered_trades = []\n",
        "    for t in daily_trades:\n",
        "        if t['side'] in ['buy', 'sell']:\n",
        "            filtered_trades.append(t)\n",
        "    # Lets sum all pnl for today:\n",
        "    today_pnl = sum(trade[\"realized_pl\"] for trade in filtered_trades)\n",
        "    print(f\"Today's total PNL: {today_pnl}\")\n",
        "\n",
        "    try:\n",
        "        trade_count = len([t for t in daily_trades if t['side'] in ['buy', 'sell']])\n",
        "        print(f\"Trade count: {trade_count}\")\n",
        "        today_pnl = sum(trade[\"realized_pl\"] for trade in filtered_trades)\n",
        "        print(f\"Today's total PNL: {today_pnl}\")\n",
        "        print(f\"returning: {trade_count, today_pnl}\")\n",
        "        return trade_count, today_pnl\n",
        "    except Exception as e:\n",
        "        print(f\"Runtime error {e}\")\n",
        "        return 0, 0"
      ],
      "metadata": {
        "id": "jiJi0OpC65H2"
      },
      "execution_count": null,
      "outputs": []
    },
    {
      "cell_type": "code",
      "source": [
        "def get_data(symbol, timeframe='1m', limit=30):\n",
        "    try:\n",
        "        ticker = yf.Ticker(SYMBOL)\n",
        "\n",
        "        if timeframe == '1m':\n",
        "            df = ticker.history(period=\"1d\", interval=\"1m\")\n",
        "        elif timeframe == '5m':\n",
        "            df = ticker.history(period=\"1d\", interval=\"5m\")\n",
        "\n",
        "        df = ticker.history(period=\"1d\", interval=\"1m\")\n",
        "    # try:\n",
        "        # api_key = userdata.get('ALPACA_API_KEY')\n",
        "        # secret_key = userdata.get('ALPACA_SECRET_KEY')\n",
        "        # base_url = userdata.get('ALPACA_API_BASE_URL') # Default to paper trading URL\n",
        "\n",
        "        # if not api_key or not secret_key:\n",
        "        #     print(\"Alpaca API keys not found. Please set APCA_API_KEY_ID and APCA_API_SECRET_KEY environment variables.\")\n",
        "        # else:\n",
        "        #     api = tradeapi.REST(api_key, secret_key, base_url, api_version='v2')\n",
        "        #     client = StockHistoricalDataClient(API_KEY, API_SECRET)\n",
        "\n",
        "        #     end = datetime.now()\n",
        "        #     start = end - timedelta(minutes=limit)\n",
        "\n",
        "        #     request_params = StockBarsRequest(\n",
        "        #         symbol_or_symbols=symbol,\n",
        "        #         timeframe=TimeFrame(timeframe, TimeFrameUnit.Minute),\n",
        "        #         start=start,\n",
        "        #         end=end\n",
        "        #     )\n",
        "\n",
        "        #     bars = client.get_stock_bars(request_params).df\n",
        "        #     df = bars.reset_index().tail(limit)\n",
        "        #     df.set_index('timestamp', inplace=True)\n",
        "        return df\n",
        "    except Exception as e:\n",
        "        print(f\"Data error: {e}\")\n",
        "        return pd.DataFrame()"
      ],
      "metadata": {
        "id": "iIk_yS5zGNeA"
      },
      "execution_count": null,
      "outputs": []
    },
    {
      "cell_type": "code",
      "source": [
        "# Interactive chart with plotly\n",
        "def create_candlestick_chart(df):\n",
        "    # Create candlestick trace\n",
        "    candlestick = go.Candlestick(\n",
        "        x=df.index,\n",
        "        open=df['Open'],\n",
        "        high=df['High'],\n",
        "        low=df['Low'],\n",
        "        close=df['Close']\n",
        "    )\n",
        "\n",
        "    # Create figure and add trace\n",
        "    fig = go.Figure(data=[candlestick])\n",
        "\n",
        "    # Update layout\n",
        "    fig.update_layout(\n",
        "        title=f'{SYMBOL} Interactive Candlestick Chart',\n",
        "        xaxis_title='Time',\n",
        "        yaxis_title='Price',\n",
        "        xaxis_rangeslider_visible=False # Hide range slider\n",
        "    )\n",
        "\n",
        "    # Show the plot\n",
        "    fig.show()"
      ],
      "metadata": {
        "id": "u1fypkcRNRF-"
      },
      "execution_count": null,
      "outputs": []
    },
    {
      "cell_type": "code",
      "source": [
        "def calculate_ema(data, period=9):\n",
        "    return data['Close'].ewm(span=period, adjust=False).mean()"
      ],
      "metadata": {
        "id": "fIv9EPj2Sx_G"
      },
      "execution_count": null,
      "outputs": []
    },
    {
      "cell_type": "code",
      "source": [
        "def calculate_rsi(data, period=14):\n",
        "    delta = data['Close'].diff()\n",
        "    gain = delta.where(delta > 0, 0).rolling(window=period).mean()\n",
        "    loss = -delta.where(delta < 0, 0).rolling(window=period).mean()\n",
        "    rs = gain / loss\n",
        "    return 100 - (100 / (1 + rs))"
      ],
      "metadata": {
        "id": "SFh6Nf5cS7Dg"
      },
      "execution_count": null,
      "outputs": []
    },
    {
      "cell_type": "code",
      "source": [
        "def average_volume(data, window=20):\n",
        "    return data['Volume'].rolling(window=window).mean()"
      ],
      "metadata": {
        "id": "ZnsVhJvxS9VY"
      },
      "execution_count": null,
      "outputs": []
    },
    {
      "cell_type": "code",
      "source": [
        "def calculate_slope(series, window=5):\n",
        "    return series.diff().rolling(window=window).mean()"
      ],
      "metadata": {
        "id": "D9m57PfoS-x4"
      },
      "execution_count": null,
      "outputs": []
    },
    {
      "cell_type": "code",
      "source": [
        "def check_missing_values(df):\n",
        "    missing_values = df.isnull().sum()\n",
        "    missing_values = missing_values[missing_values > 0]\n",
        "    return missing_values"
      ],
      "metadata": {
        "id": "yLrue0zZWTqW"
      },
      "execution_count": null,
      "outputs": []
    },
    {
      "cell_type": "code",
      "source": [
        "# Remove columns 'Dividends' and 'Stock Splits'\n",
        "def remove_dividends_splits(df, columns):\n",
        "    try:\n",
        "        df = df.drop(columns=columns)\n",
        "    except Exception as e:\n",
        "        print(f\"Data error: {e}\")\n",
        "    return df"
      ],
      "metadata": {
        "id": "zjjqBiGAXYA5"
      },
      "execution_count": null,
      "outputs": []
    },
    {
      "cell_type": "code",
      "source": [
        "def trade():\n",
        "\n",
        "    position = load_position()\n",
        "    print(f\"position: {position}\")\n",
        "\n",
        "    # --- Modified Cooldown Check ---\n",
        "    now = datetime.now()\n",
        "    print(f\"now: {now}\")\n",
        "\n",
        "    # Check if last_exit is a non-empty string before attempting to parse\n",
        "    last_exit_str = position.get('last_exit', '') # Use .get to safely access, default to ''\n",
        "    print(f\"position['last_exit'] string: '{last_exit_str}'\")\n",
        "\n",
        "    if last_exit_str: # Check if the string is not empty\n",
        "        try:\n",
        "            last_exit = datetime.fromisoformat(last_exit_str)\n",
        "            print(f\"last_exit (parsed): {last_exit}\")\n",
        "\n",
        "            # Cooldown logic only applies if last_exit was successfully parsed\n",
        "            formatted_time = last_exit.strftime(\"%H:%M:%S\")\n",
        "            print(f\"formatted_time: {formatted_time}\")\n",
        "            time_from_last_exit = int((now - last_exit).total_seconds())\n",
        "            print(f\"time_from_last_exit: {time_from_last_exit}\")\n",
        "            time_left = COOLDOWN - time_from_last_exit\n",
        "            print(f\"time_left: {time_left}\")\n",
        "\n",
        "            if (time_left < COOLDOWN) and (time_left > 0):\n",
        "                print(f\"Cooldown active until {time_left} seconds from now. Last trade was at {formatted_time}\")\n",
        "                return # Exit the trade function if cooldown is active\n",
        "        except ValueError:\n",
        "            # Handle cases where the string is not a valid isoformat\n",
        "            print(f\"Warning: 'last_exit' value '{last_exit_str}' is not a valid ISO format. Assuming no recent exit for cooldown.\")\n",
        "            # Treat as if there was no recent exit (cooldown not active)\n",
        "            time_left = COOLDOWN + 1 # Ensure time_left is greater than COOLDOWN\n",
        "    else:\n",
        "        # If last_exit_str is empty, assume no recent exit (cooldown not active)\n",
        "        print(\"'last_exit' is empty. Assuming no recent exit for cooldown.\")\n",
        "        time_left = COOLDOWN + 1 # Ensure time_left is greater than COOLDOWN\n",
        "\n",
        "    # Rest of your trade logic continues here if cooldown is not active\n",
        "    trade_count, daily_pnl = check_daily_limits()\n",
        "    if trade_count >= MAX_TRADES_PER_DAY or daily_pnl <= -DAILY_LOSS_LIMIT:\n",
        "        print(\"Daily limit reached.\")\n",
        "        return\n",
        "\n",
        "    df_1m = get_data(SYMBOL, '1m', 30)\n",
        "    df_5m = get_data(SYMBOL, '5m', 30)\n",
        "\n",
        "    if df_1m.empty or df_5m.empty:\n",
        "        print(\"Data unavailable.\")\n",
        "        return\n",
        "\n",
        "    df_1m['ema9'] = calculate_ema(df_1m)\n",
        "    df_1m['rsi'] = calculate_rsi(df_1m)\n",
        "    df_1m['avg_volume'] = average_volume(df_1m)\n",
        "\n",
        "    df_5m['ema50'] = calculate_ema(df_5m, 50)\n",
        "    df_5m['slope50'] = calculate_slope(df_5m['ema50'])\n",
        "\n",
        "    last = df_1m.iloc[-1].copy()\n",
        "    #print(\"Raw last row values:\")\n",
        "    for k, v in last.items():\n",
        "        print(f\"  {k}: {v}\")\n",
        "\n",
        "    # convert the values in the last row of that DataFrame to a consistent numeric format.\n",
        "    numerical_columns = df_1m.select_dtypes(include='number').columns.tolist()\n",
        "    #print(f\"Numeric columns: {numerical_columns}\")\n",
        "    for col in numerical_columns:\n",
        "        try:\n",
        "            val = last[col]\n",
        "            if pd.isna(val) or str(val).strip() in ['', 'None', 'nan', 'NaN']:\n",
        "                raise ValueError(f\"Missing or empty value for {col}\")\n",
        "                val = float(val) if isinstance(val, (int, float)) else float(str(val).replace(',', '').strip())\n",
        "                last[col] = val\n",
        "        except Exception as e:\n",
        "            print(f\"Data conversion error for '{col}': {e}\")\n",
        "\n",
        "    #last\n",
        "\n",
        "    slope = float(df_5m['slope50'].iloc[-1])\n",
        "    print(f\"Slope: {slope}\")\n",
        "    side = position.get('side')\n",
        "    print(f\"Side: {side}\")\n",
        "    qty = position.get('qty', 0)\n",
        "    print(f\"Qty: {qty}\")\n",
        "    entry_price = position.get('entry_price', 0)\n",
        "    print(f\"Entry price: {entry_price}\")\n",
        "    buying_power = 100000 #float(api.get_account().cash)\n",
        "    trade_qty = int((buying_power * POSITION_SIZE_PCT) / last['Close'])\n",
        "    print(f\"Trade qty: {trade_qty}\")\n",
        "\n",
        "    # No position\n",
        "    if not side:\n",
        "        print(\"No position found\")\n",
        "        save_position({'side': 'long', 'entry_price': 100, 'qty': trade_qty, 'high': 200, 'entry_time': now.isoformat()})\n",
        "        # if last['Close'] > last['Open'] and last['Close'] > last['ema9'] and last['rsi'] < 65 and last['Volume'] > last['avg_volume'] and slope > 0:\n",
        "        #     price = last['Close'] * 1.001\n",
        "        #     place_order('buy', trade_qty, price)\n",
        "        #     save_position({'side': 'long', 'entry_price': price, 'qty': trade_qty, 'high': price, 'entry_time': now.isoformat()})\n",
        "\n",
        "        # elif last['Close'] < last['Open'] and last['Close'] < last['ema9'] and last['rsi'] > 55 and last['Volume'] > last['avg_volume'] and slope < 0:\n",
        "        #     price = last['Close'] * 0.999\n",
        "        #     place_order('sell', trade_qty, price)\n",
        "        #     save_position({'side': 'short', 'entry_price': price, 'qty': trade_qty, 'low': price, 'entry_time': now.isoformat()})\n",
        "\n",
        "    # Long Position\n",
        "    elif side == 'long':\n",
        "        print(\"Long Position\")\n",
        "        position['high'] = max(position['high'], last['Close'])\n",
        "        trail_stop = position['high'] * (1 - TRAILING_STOP_PCT)\n",
        "        print(f\"[LONG] Comparing last['Close'] = {last['Close']} (type: {type(last['Close'])}) to trail_stop = {trail_stop}\")\n",
        "        last_close = float(last['Close'])\n",
        "        if last_close <= trail_stop or last_close < last['ema9']:\n",
        "            close_position()\n",
        "            exit_price = last['Close']\n",
        "            pnl = (exit_price - entry_price) * qty\n",
        "            log_trade(position['entry_time'], now.isoformat(), side, entry_price, exit_price, pnl)\n",
        "            #reset_position()\n",
        "            save_position({'last_exit': now.isoformat()})\n",
        "\n",
        "    # Short Position\n",
        "    elif side == 'short':\n",
        "        print(\"Short Position\")\n",
        "        position['low'] = min(position['low'], last['Close'])\n",
        "        trail_stop = position['low'] * (1 + TRAILING_STOP_PCT)\n",
        "        print(f\"[SHORT] Comparing last['Close'] = {last['Close']} (type: {type(last['Close'])}) to trail_stop = {trail_stop}\")\n",
        "        last_close = float(last['Close'])\n",
        "        if last_close >= trail_stop or last_close > last['ema9']:\n",
        "            close_position()\n",
        "            exit_price = last['Close']\n",
        "            pnl = (entry_price - exit_price) * qty\n",
        "            log_trade(position['entry_time'], now.isoformat(), side, entry_price, exit_price, pnl)\n",
        "            #reset_position()\n",
        "            save_position({'last_exit': now.isoformat()})\n"
      ],
      "metadata": {
        "id": "o_v5Tg1-zlcK"
      },
      "execution_count": null,
      "outputs": []
    },
    {
      "cell_type": "code",
      "source": [
        "try:\n",
        "    trade()\n",
        "except Exception as e:\n",
        "    print(f\"Runtime error: {e}\")\n",
        "#time.sleep(60)"
      ],
      "metadata": {
        "colab": {
          "base_uri": "https://localhost:8080/"
        },
        "id": "fu7nSeWdt9PT",
        "outputId": "7fe95fc4-9fd5-4fda-eb77-518a5ca44c7e"
      },
      "execution_count": null,
      "outputs": [
        {
          "output_type": "stream",
          "name": "stdout",
          "text": [
            "'position.json' already exists.\n",
            "Successfully loaded position from position.json\n",
            "position: {'last_exit': '2025-06-08T20:27:25.835136'}\n",
            "now: 2025-06-08 20:27:46.097993\n",
            "position['last_exit'] string: '2025-06-08T20:27:25.835136'\n",
            "last_exit (parsed): 2025-06-08 20:27:25.835136\n",
            "formatted_time: 20:27:25\n",
            "time_from_last_exit: 20\n",
            "time_left: 0\n",
            "daily trades: [{'symbol': 'TSLA', 'side': 'buy', 'transaction_time': datetime.datetime(2025, 6, 8, 18, 23, 31, 29636), 'realized_pl': 0.0}, {'symbol': 'TSLA', 'side': 'sell', 'transaction_time': datetime.datetime(2025, 6, 8, 18, 53, 31, 29649), 'realized_pl': 15.75}, {'symbol': 'TSLA', 'side': 'buy', 'transaction_time': datetime.datetime(2025, 6, 8, 19, 38, 31, 29653), 'realized_pl': 0.0}, {'symbol': 'TSLA', 'side': 'sell', 'transaction_time': datetime.datetime(2025, 6, 8, 19, 53, 31, 29657), 'realized_pl': -5.25}]\n",
            "Today's total PNL: 10.5\n",
            "Trade count: 4\n",
            "Today's total PNL: 10.5\n",
            "returning: (4, 10.5)\n",
            "  Open: 295.6700134277344\n",
            "  High: 295.69000244140625\n",
            "  Low: 295.05999755859375\n",
            "  Close: 295.125\n",
            "  Volume: 1221619.0\n",
            "  Dividends: 0.0\n",
            "  Stock Splits: 0.0\n",
            "  ema9: 295.4017449889884\n",
            "  rsi: 46.88505523087689\n",
            "  avg_volume: 636321.35\n",
            "Slope: -0.07000483899181517\n",
            "Side: None\n",
            "Qty: 0\n",
            "Entry price: 0\n",
            "Trade qty: 33\n",
            "No position found\n",
            "Positioned save\n"
          ]
        }
      ]
    },
    {
      "cell_type": "markdown",
      "source": [],
      "metadata": {
        "id": "CBdRzugeCSlw"
      }
    }
  ]
}