{
  "cells": [
    {
      "cell_type": "code",
      "execution_count": 1,
      "metadata": {
        "colab": {
          "base_uri": "https://localhost:8080/"
        },
        "id": "M4m9Xfrjmb-j",
        "outputId": "772f49ff-058c-4d1e-88ef-9da6df1d6bed"
      },
      "outputs": [],
      "source": [
        "# !pip install alpaca-trade-api"
      ]
    },
    {
      "cell_type": "code",
      "execution_count": 2,
      "metadata": {
        "id": "CIYZB6Z-jpdz"
      },
      "outputs": [],
      "source": [
        "import alpaca_trade_api as tradeapi\n",
        "from alpaca.data.historical import StockHistoricalDataClient\n",
        "from alpaca.data.requests import StockBarsRequest\n",
        "from alpaca.data.timeframe import TimeFrame, TimeFrameUnit\n",
        "import config\n",
        "from datetime import datetime, timedelta\n",
        "import json\n",
        "import mplfinance as mpf\n",
        "import os\n",
        "import pandas as pd\n",
        "import polars as pl\n",
        "import plotly.graph_objects as go\n",
        "import time"
      ]
    },
    {
      "cell_type": "code",
      "execution_count": null,
      "metadata": {
        "id": "CvI-UYfC5wkd"
      },
      "outputs": [],
      "source": [
        "POSITION_FILE: str = 'position.json' \n",
        "\n",
        "SYMBOL = 'SPY'\n",
        "\n",
        "# Initial position dictionary\n",
        "initial_position_data = {\n",
        "    \"side\": \"long\",\n",
        "    \"entry_price\": 180.50,\n",
        "    \"qty\": 10,\n",
        "    \"high\": 180.50,\n",
        "    \"low\": 180.00,\n",
        "    \"entry_time\": datetime.now().isoformat(),\n",
        "    \"last_exit\": \"\"\n",
        "} \n",
        "\n",
        "# # Simulated activities\n",
        "# activities = [{\n",
        "#         \"symbol\": SYMBOL,\n",
        "#         \"side\": \"buy\",\n",
        "#         \"transaction_time\": datetime.now() - timedelta(hours=2),\n",
        "#         \"realized_pl\": 0.00},\n",
        "#     {\n",
        "#         \"symbol\": SYMBOL,\n",
        "#         \"side\": \"sell\",\n",
        "#         \"transaction_time\": datetime.now() - timedelta(hours=1, minutes=30),\n",
        "#         \"realized_pl\": 15.75},\n",
        "#     {\n",
        "#         \"symbol\": SYMBOL,\n",
        "#         \"side\": \"buy\",\n",
        "#         \"transaction_time\": datetime.now() - timedelta(minutes=45),\n",
        "#         \"realized_pl\": 0.00},\n",
        "#     {\n",
        "#         \"symbol\": SYMBOL,\n",
        "#         \"side\": \"sell\",\n",
        "#         \"transaction_time\": datetime.now() - timedelta(minutes=30),\n",
        "#         \"realized_pl\": -5.25}]"
      ]
    },
    {
      "cell_type": "code",
      "execution_count": 4,
      "metadata": {
        "id": "NjP1BVyK148p"
      },
      "outputs": [],
      "source": [
        "def create_position_file_if_not_exists():\n",
        "    \"\"\"Creates the position.json file with initial data if it doesn't exist.\"\"\"\n",
        "    if not os.path.exists(POSITION_FILE):\n",
        "        try:\n",
        "            with open(POSITION_FILE, 'w') as f:\n",
        "                json.dump(initial_position_data, f, indent=4)\n",
        "            print(f\"'{POSITION_FILE}' not found. Created and initialized it.\")\n",
        "        except Exception as e:\n",
        "            print(f\"Error creating '{POSITION_FILE}': {e}\")\n",
        "    else:\n",
        "        print(f\"'{POSITION_FILE}' already exists.\")"
      ]
    },
    {
      "cell_type": "code",
      "execution_count": 5,
      "metadata": {},
      "outputs": [
        {
          "name": "stdout",
          "output_type": "stream",
          "text": [
            "'position.json' not found. Created and initialized it.\n"
          ]
        }
      ],
      "source": [
        "create_position_file_if_not_exists()"
      ]
    },
    {
      "cell_type": "code",
      "execution_count": 6,
      "metadata": {
        "id": "39xwYNED0JHY"
      },
      "outputs": [],
      "source": [
        "def load_position() -> dict:\n",
        "    \"\"\"Loads the trading position from the position.json file.\"\"\"\n",
        "    # Ensure the file exists before attempting to load\n",
        "    create_position_file_if_not_exists()\n",
        "    try:\n",
        "        with open(POSITION_FILE, 'r') as f:\n",
        "            position_data = json.load(f)\n",
        "            print(f\"Successfully loaded position from {POSITION_FILE}\")\n",
        "            return position_data\n",
        "    except json.JSONDecodeError:\n",
        "        print(f\"Error decoding JSON from {POSITION_FILE}. File might be corrupted.\")\n",
        "        # file is corrupted, lets delete it and re-create\n",
        "        os.remove(POSITION_FILE)\n",
        "        print(f\"Deleted corrupted {POSITION_FILE}. Re-creating it.\")\n",
        "        try:\n",
        "             with open(POSITION_FILE, 'r') as f:\n",
        "                 position_data = json.load(f)\n",
        "                 return position_data # Should now load the initial data\n",
        "        except:\n",
        "             return initial_position_data # Fallback if even re-creation fails (unlikely)\n",
        "    except Exception as e:\n",
        "        print(f\"An unexpected error occurred while reading {POSITION_FILE}: {e}. Returning initial position.\")\n",
        "        return initial_position_data\n"
      ]
    },
    {
      "cell_type": "code",
      "execution_count": 7,
      "metadata": {},
      "outputs": [
        {
          "name": "stdout",
          "output_type": "stream",
          "text": [
            "'position.json' already exists.\n",
            "Successfully loaded position from position.json\n"
          ]
        },
        {
          "data": {
            "text/plain": [
              "{'side': 'long',\n",
              " 'entry_price': 180.5,\n",
              " 'qty': 10,\n",
              " 'high': 180.5,\n",
              " 'low': 180.0,\n",
              " 'entry_time': '2025-06-13T12:55:02.843897',\n",
              " 'last_exit': ''}"
            ]
          },
          "execution_count": 7,
          "metadata": {},
          "output_type": "execute_result"
        }
      ],
      "source": [
        "load_position()"
      ]
    },
    {
      "cell_type": "code",
      "execution_count": 8,
      "metadata": {
        "id": "bpwpjW_bj3GF"
      },
      "outputs": [],
      "source": [
        "def close_position():\n",
        "    \"\"\"Closes the current trading position.\"\"\"\n",
        "    try:\n",
        "        # api.close_position(SYMBOL)\n",
        "        print(\"Position closed.\")\n",
        "        # reset_position()\n",
        "    except Exception as e:\n",
        "        print(f\"Close error: {e}\")"
      ]
    },
    {
      "cell_type": "code",
      "execution_count": 9,
      "metadata": {
        "id": "i_fI-gacj8DL"
      },
      "outputs": [],
      "source": [
        "def save_position(data):\n",
        "    \"\"\"Saves the current trading position to the position.json file.\"\"\"\n",
        "    POSITION_FILE = 'position.json'\n",
        "    with open(POSITION_FILE, 'w') as f:\n",
        "        json.dump(data, f)\n",
        "    print(\"Position saved\")"
      ]
    },
    {
      "cell_type": "code",
      "execution_count": 10,
      "metadata": {
        "id": "1X6LdYSFj_2j"
      },
      "outputs": [],
      "source": [
        "def reset_position():\n",
        "    \"\"\"Resets the position by deleting the position.json file.\"\"\"\n",
        "    POSITION_FILE = 'position.json'\n",
        "    if os.path.exists(POSITION_FILE):\n",
        "        os.remove(POSITION_FILE)\n",
        "    print(\"Positioned reset\")"
      ]
    },
    {
      "cell_type": "code",
      "execution_count": 11,
      "metadata": {},
      "outputs": [
        {
          "name": "stdout",
          "output_type": "stream",
          "text": [
            "Positioned reset\n"
          ]
        }
      ],
      "source": [
        "reset_position()"
      ]
    },
    {
      "cell_type": "code",
      "execution_count": 12,
      "metadata": {},
      "outputs": [],
      "source": [
        "# writte a function that connects tto Alpaca API and returns the api object\n",
        "def connect_to_alpaca() -> tradeapi.REST | None:\n",
        "    \"\"\"Connects to the Alpaca API and returns the API object.\"\"\"\n",
        "    api_key = os.getenv(\"ALPACA_API_KEY\")\n",
        "    api_secret = os.getenv(\"ALPACA_SECRET_KEY\")\n",
        "    api_url = os.getenv(\"ALPACA_BASE_URL\", \"https://paper-api.alpaca.markets\")\n",
        "\n",
        "    if not api_key or not api_secret:\n",
        "        print(\"API key and secret must be set in environment variables.\")\n",
        "        return None\n",
        "    \n",
        "    try:\n",
        "        api = tradeapi.REST(\n",
        "            key_id=api_key,\n",
        "            secret_key=api_secret,\n",
        "            base_url=api_url\n",
        "        )\n",
        "        print(\"Connected to Alpaca API\")\n",
        "        return api\n",
        "    except Exception as e:\n",
        "        print(f\"Error connecting to Alpaca API: {e}\")\n",
        "        return None\n"
      ]
    },
    {
      "cell_type": "code",
      "execution_count": 13,
      "metadata": {},
      "outputs": [
        {
          "name": "stdout",
          "output_type": "stream",
          "text": [
            "Connected to Alpaca API\n",
            "Account status: ACTIVE\n",
            "Account equity: 99957.69\n",
            "Account buying power: 360511.34\n"
          ]
        }
      ],
      "source": [
        "api = connect_to_alpaca()\n",
        "if api is None:\n",
        "    print(\"Failed to connect to Alpaca API. Exiting.\")\n",
        "    exit(1)\n",
        "# get account information\n",
        "account = api.get_account()\n",
        "print(f\"Account status: {account.status}\")\n",
        "print(f\"Account equity: {account.equity}\")\n",
        "print(f\"Account buying power: {account.buying_power}\")"
      ]
    },
    {
      "cell_type": "code",
      "execution_count": 14,
      "metadata": {},
      "outputs": [],
      "source": [
        "def fetch_positions(api) -> list:\n",
        "    \"\"\"Fetches and returns the current open positions.\"\"\"\n",
        "    try:\n",
        "        positions = api.list_positions()\n",
        "        if positions:\n",
        "            for position in positions:\n",
        "                print(f\"Symbol: {position.symbol}, Qty: {position.qty}, Side: {position.side}, Market Value: {position.market_value}\")\n",
        "        else:\n",
        "            print(\"No open positions.\")\n",
        "        return positions\n",
        "    except Exception as e:\n",
        "        print(f\"Error fetching positions: {e}\")\n",
        "        return []"
      ]
    },
    {
      "cell_type": "code",
      "execution_count": 15,
      "metadata": {},
      "outputs": [
        {
          "name": "stdout",
          "output_type": "stream",
          "text": [
            "Symbol: SPY, Qty: 55.459157247, Side: long, Market Value: 33271.057616\n"
          ]
        }
      ],
      "source": [
        "positions = fetch_positions(api)"
      ]
    },
    {
      "cell_type": "code",
      "execution_count": 16,
      "metadata": {},
      "outputs": [],
      "source": [
        "def fetch_activities(api, symbol='SPY', after=None) -> list:\n",
        "    \"\"\"Fetches and returns account activities for a specific symbol.\"\"\"\n",
        "    try:\n",
        "        activities = api.get_activities(activity_types=['FILL'], after=after)\n",
        "        symbol_activities = [activity for activity in activities if activity.symbol == symbol]\n",
        "        if symbol_activities:\n",
        "            for activity in symbol_activities:\n",
        "                realized_pl = getattr(activity, \"realized_pl\", None)\n",
        "                print(f\"Symbol: {activity.symbol}, Side: {activity.side}, Qty: {activity.qty}, Price: {activity.price}, Time: {activity.transaction_time}, P/L: {realized_pl}\")\n",
        "        else:\n",
        "            print(f\"No activities found for symbol {symbol}.\")\n",
        "        return symbol_activities\n",
        "    except Exception as e:\n",
        "        print(f\"Error fetching activities: {e}\")\n",
        "        return []"
      ]
    },
    {
      "cell_type": "code",
      "execution_count": 17,
      "metadata": {},
      "outputs": [
        {
          "name": "stdout",
          "output_type": "stream",
          "text": [
            "Symbol: SPY, Side: sell, Qty: 0.01, Price: 601.032, Time: 2025-06-10 15:10:01.060081+00:00, P/L: None\n",
            "Symbol: SPY, Side: buy, Qty: 5, Price: 601.09, Time: 2025-06-10 15:09:41.580214+00:00, P/L: None\n",
            "Symbol: SPY, Side: buy, Qty: 1, Price: 601.15, Time: 2025-06-10 15:09:18.337749+00:00, P/L: None\n",
            "Symbol: SPY, Side: buy, Qty: 0.001829801, Price: 601.158, Time: 2025-06-10 15:09:13.593033+00:00, P/L: None\n",
            "Symbol: SPY, Side: buy, Qty: 0.5, Price: 601.19, Time: 2025-06-10 15:09:11.287751+00:00, P/L: None\n",
            "Symbol: SPY, Side: buy, Qty: 1, Price: 601.19, Time: 2025-06-10 15:09:11.285849+00:00, P/L: None\n",
            "Symbol: SPY, Side: buy, Qty: 2, Price: 601.19, Time: 2025-06-10 15:09:11.139781+00:00, P/L: None\n",
            "Symbol: SPY, Side: buy, Qty: 2, Price: 601.21, Time: 2025-06-10 15:09:10.868010+00:00, P/L: None\n",
            "Symbol: SPY, Side: sell, Qty: 0.01, Price: 600.982, Time: 2025-06-10 15:00:51.865423+00:00, P/L: None\n",
            "Symbol: SPY, Side: buy, Qty: 1, Price: 601.02, Time: 2025-06-10 15:00:25.313495+00:00, P/L: None\n",
            "Symbol: SPY, Side: buy, Qty: 1, Price: 601.01, Time: 2025-06-10 15:00:25.023907+00:00, P/L: None\n",
            "Symbol: SPY, Side: buy, Qty: 3, Price: 601.01, Time: 2025-06-10 15:00:24.861043+00:00, P/L: None\n",
            "Symbol: SPY, Side: buy, Qty: 1, Price: 600.97, Time: 2025-06-10 15:00:20.692504+00:00, P/L: None\n",
            "Symbol: SPY, Side: buy, Qty: 0.00183038, Price: 600.968, Time: 2025-06-10 15:00:15.043411+00:00, P/L: None\n",
            "Symbol: SPY, Side: buy, Qty: 0.5, Price: 601.01, Time: 2025-06-10 15:00:12.216695+00:00, P/L: None\n",
            "Symbol: SPY, Side: buy, Qty: 5, Price: 601.01, Time: 2025-06-10 15:00:12.214904+00:00, P/L: None\n",
            "Symbol: SPY, Side: sell, Qty: 0.01, Price: 601.272, Time: 2025-06-10 14:57:28.301675+00:00, P/L: None\n",
            "Symbol: SPY, Side: buy, Qty: 2, Price: 601.29, Time: 2025-06-10 14:56:49.232346+00:00, P/L: None\n",
            "Symbol: SPY, Side: buy, Qty: 1, Price: 601.29, Time: 2025-06-10 14:56:48.972204+00:00, P/L: None\n",
            "Symbol: SPY, Side: buy, Qty: 2, Price: 601.29, Time: 2025-06-10 14:56:48.726122+00:00, P/L: None\n",
            "Symbol: SPY, Side: buy, Qty: 1, Price: 601.47, Time: 2025-06-10 14:55:08.247762+00:00, P/L: None\n",
            "Symbol: SPY, Side: buy, Qty: 0.001828737, Price: 601.508, Time: 2025-06-10 14:55:02.006184+00:00, P/L: None\n",
            "Symbol: SPY, Side: buy, Qty: 0.5, Price: 601.51, Time: 2025-06-10 14:54:59.239718+00:00, P/L: None\n",
            "Symbol: SPY, Side: buy, Qty: 4, Price: 601.51, Time: 2025-06-10 14:54:59.238214+00:00, P/L: None\n",
            "Symbol: SPY, Side: buy, Qty: 1, Price: 601.51, Time: 2025-06-10 14:54:59.035878+00:00, P/L: None\n",
            "Symbol: SPY, Side: sell, Qty: 0.01, Price: 599.602, Time: 2025-06-09 16:11:08.216981+00:00, P/L: None\n",
            "Symbol: SPY, Side: buy, Qty: 1, Price: 599.6, Time: 2025-06-09 16:11:06.656009+00:00, P/L: None\n",
            "Symbol: SPY, Side: buy, Qty: 3, Price: 599.6, Time: 2025-06-09 16:11:06.409799+00:00, P/L: None\n",
            "Symbol: SPY, Side: buy, Qty: 1, Price: 599.59, Time: 2025-06-09 16:11:06.130747+00:00, P/L: None\n",
            "Symbol: SPY, Side: buy, Qty: 0.001834593, Price: 599.588, Time: 2025-06-09 16:11:04.769580+00:00, P/L: None\n",
            "Symbol: SPY, Side: buy, Qty: 0.5, Price: 599.59, Time: 2025-06-09 16:11:04.752685+00:00, P/L: None\n",
            "Symbol: SPY, Side: buy, Qty: 5, Price: 599.59, Time: 2025-06-09 16:11:04.751054+00:00, P/L: None\n",
            "Symbol: SPY, Side: sell, Qty: 0.01, Price: 599.892, Time: 2025-06-09 16:01:54.264235+00:00, P/L: None\n",
            "Symbol: SPY, Side: buy, Qty: 1, Price: 599.84, Time: 2025-06-09 15:59:30.233396+00:00, P/L: None\n",
            "Symbol: SPY, Side: buy, Qty: 2, Price: 599.84, Time: 2025-06-09 15:59:29.903937+00:00, P/L: None\n",
            "Symbol: SPY, Side: buy, Qty: 2, Price: 599.84, Time: 2025-06-09 15:59:29.423961+00:00, P/L: None\n",
            "Symbol: SPY, Side: buy, Qty: 0.001833736, Price: 599.868, Time: 2025-06-09 15:59:06.294021+00:00, P/L: None\n",
            "Symbol: SPY, Side: buy, Qty: 0.5, Price: 599.84, Time: 2025-06-09 15:58:57.484277+00:00, P/L: None\n",
            "Symbol: SPY, Side: buy, Qty: 1, Price: 599.84, Time: 2025-06-09 15:58:57.482423+00:00, P/L: None\n",
            "Symbol: SPY, Side: buy, Qty: 2, Price: 599.84, Time: 2025-06-09 15:58:57.282452+00:00, P/L: None\n",
            "Symbol: SPY, Side: buy, Qty: 2, Price: 599.84, Time: 2025-06-09 15:58:57.049331+00:00, P/L: None\n",
            "Recent activity: sell 0.01 shares of SPY at 601.032 on 2025-06-10 15:10:01.060081+00:00\n",
            "Recent activity: buy 5 shares of SPY at 601.09 on 2025-06-10 15:09:41.580214+00:00\n",
            "Recent activity: buy 1 shares of SPY at 601.15 on 2025-06-10 15:09:18.337749+00:00\n",
            "Recent activity: buy 0.001829801 shares of SPY at 601.158 on 2025-06-10 15:09:13.593033+00:00\n",
            "Recent activity: buy 0.5 shares of SPY at 601.19 on 2025-06-10 15:09:11.287751+00:00\n",
            "Recent activity: buy 1 shares of SPY at 601.19 on 2025-06-10 15:09:11.285849+00:00\n",
            "Recent activity: buy 2 shares of SPY at 601.19 on 2025-06-10 15:09:11.139781+00:00\n",
            "Recent activity: buy 2 shares of SPY at 601.21 on 2025-06-10 15:09:10.868010+00:00\n",
            "Recent activity: sell 0.01 shares of SPY at 600.982 on 2025-06-10 15:00:51.865423+00:00\n",
            "Recent activity: buy 1 shares of SPY at 601.02 on 2025-06-10 15:00:25.313495+00:00\n",
            "Recent activity: buy 1 shares of SPY at 601.01 on 2025-06-10 15:00:25.023907+00:00\n",
            "Recent activity: buy 3 shares of SPY at 601.01 on 2025-06-10 15:00:24.861043+00:00\n",
            "Recent activity: buy 1 shares of SPY at 600.97 on 2025-06-10 15:00:20.692504+00:00\n",
            "Recent activity: buy 0.00183038 shares of SPY at 600.968 on 2025-06-10 15:00:15.043411+00:00\n",
            "Recent activity: buy 0.5 shares of SPY at 601.01 on 2025-06-10 15:00:12.216695+00:00\n",
            "Recent activity: buy 5 shares of SPY at 601.01 on 2025-06-10 15:00:12.214904+00:00\n",
            "Recent activity: sell 0.01 shares of SPY at 601.272 on 2025-06-10 14:57:28.301675+00:00\n",
            "Recent activity: buy 2 shares of SPY at 601.29 on 2025-06-10 14:56:49.232346+00:00\n",
            "Recent activity: buy 1 shares of SPY at 601.29 on 2025-06-10 14:56:48.972204+00:00\n",
            "Recent activity: buy 2 shares of SPY at 601.29 on 2025-06-10 14:56:48.726122+00:00\n",
            "Recent activity: buy 1 shares of SPY at 601.47 on 2025-06-10 14:55:08.247762+00:00\n",
            "Recent activity: buy 0.001828737 shares of SPY at 601.508 on 2025-06-10 14:55:02.006184+00:00\n",
            "Recent activity: buy 0.5 shares of SPY at 601.51 on 2025-06-10 14:54:59.239718+00:00\n",
            "Recent activity: buy 4 shares of SPY at 601.51 on 2025-06-10 14:54:59.238214+00:00\n",
            "Recent activity: buy 1 shares of SPY at 601.51 on 2025-06-10 14:54:59.035878+00:00\n",
            "Recent activity: sell 0.01 shares of SPY at 599.602 on 2025-06-09 16:11:08.216981+00:00\n",
            "Recent activity: buy 1 shares of SPY at 599.6 on 2025-06-09 16:11:06.656009+00:00\n",
            "Recent activity: buy 3 shares of SPY at 599.6 on 2025-06-09 16:11:06.409799+00:00\n",
            "Recent activity: buy 1 shares of SPY at 599.59 on 2025-06-09 16:11:06.130747+00:00\n",
            "Recent activity: buy 0.001834593 shares of SPY at 599.588 on 2025-06-09 16:11:04.769580+00:00\n",
            "Recent activity: buy 0.5 shares of SPY at 599.59 on 2025-06-09 16:11:04.752685+00:00\n",
            "Recent activity: buy 5 shares of SPY at 599.59 on 2025-06-09 16:11:04.751054+00:00\n",
            "Recent activity: sell 0.01 shares of SPY at 599.892 on 2025-06-09 16:01:54.264235+00:00\n",
            "Recent activity: buy 1 shares of SPY at 599.84 on 2025-06-09 15:59:30.233396+00:00\n",
            "Recent activity: buy 2 shares of SPY at 599.84 on 2025-06-09 15:59:29.903937+00:00\n",
            "Recent activity: buy 2 shares of SPY at 599.84 on 2025-06-09 15:59:29.423961+00:00\n",
            "Recent activity: buy 0.001833736 shares of SPY at 599.868 on 2025-06-09 15:59:06.294021+00:00\n",
            "Recent activity: buy 0.5 shares of SPY at 599.84 on 2025-06-09 15:58:57.484277+00:00\n",
            "Recent activity: buy 1 shares of SPY at 599.84 on 2025-06-09 15:58:57.482423+00:00\n",
            "Recent activity: buy 2 shares of SPY at 599.84 on 2025-06-09 15:58:57.282452+00:00\n",
            "Recent activity: buy 2 shares of SPY at 599.84 on 2025-06-09 15:58:57.049331+00:00\n"
          ]
        }
      ],
      "source": [
        "# Fetch activities\n",
        "activities = fetch_activities(api, after=(datetime.now() - timedelta(days=5)).isoformat() + 'Z')\n",
        "if activities:\n",
        "    for activity in activities:\n",
        "        print(f\"Recent activity: {activity.side} {activity.qty} shares of {activity.symbol} at {activity.price} on {activity.transaction_time}\")\n",
        "else:\n",
        "    print(\"No recent activities.\")"
      ]
    },
    {
      "cell_type": "code",
      "execution_count": 18,
      "metadata": {},
      "outputs": [],
      "source": [
        "def fetch_open_orders(api, symbol='SPY') -> list:\n",
        "    \"\"\"Fetches and returns open orders for a specific symbol.\"\"\"\n",
        "    try:\n",
        "        orders = api.list_orders(status='open', symbols=[symbol])\n",
        "        if orders:\n",
        "            for order in orders:\n",
        "                print(f\"Order ID: {order.id}, Symbol: {order.symbol}, Qty: {order.qty}, Side: {order.side}, Type: {order.type}, Status: {order.status}\")\n",
        "        else:\n",
        "            print(f\"No open orders for symbol {symbol}.\")\n",
        "        return orders\n",
        "    except Exception as e:\n",
        "        print(f\"Error fetching open orders: {e}\")\n",
        "        return []\n"
      ]
    },
    {
      "cell_type": "code",
      "execution_count": 19,
      "metadata": {},
      "outputs": [
        {
          "name": "stdout",
          "output_type": "stream",
          "text": [
            "No open orders for symbol SPY.\n"
          ]
        }
      ],
      "source": [
        "open_orders = fetch_open_orders(api)"
      ]
    },
    {
      "cell_type": "code",
      "execution_count": 20,
      "metadata": {},
      "outputs": [],
      "source": [
        "def fetch_market_clock(api):\n",
        "    \"\"\"Fetches and prints the current market clock information.\"\"\"\n",
        "    try:\n",
        "        clock = api.get_clock()\n",
        "        print(f\"Market is currently {'open' if clock.is_open else 'closed'}. Next open: {clock.next_open}, Next close: {clock.next_close}\")\n",
        "        return clock\n",
        "    except Exception as e:\n",
        "        print(f\"Error fetching market clock: {e}\")\n",
        "        return None"
      ]
    },
    {
      "cell_type": "code",
      "execution_count": 22,
      "metadata": {},
      "outputs": [
        {
          "name": "stdout",
          "output_type": "stream",
          "text": [
            "Market is currently open. Next open: 2025-06-16 09:30:00-04:00, Next close: 2025-06-13 16:00:00-04:00\n"
          ]
        },
        {
          "data": {
            "text/plain": [
              "Clock({   'is_open': True,\n",
              "    'next_close': '2025-06-13T16:00:00-04:00',\n",
              "    'next_open': '2025-06-16T09:30:00-04:00',\n",
              "    'timestamp': '2025-06-13T13:55:47.061261004-04:00'})"
            ]
          },
          "execution_count": 22,
          "metadata": {},
          "output_type": "execute_result"
        }
      ],
      "source": [
        "fetch_market_clock(api)"
      ]
    },
    {
      "cell_type": "code",
      "execution_count": 23,
      "metadata": {},
      "outputs": [],
      "source": [
        "def fetch_market_calendar(api, start_date, end_date) -> list:\n",
        "    \"\"\"Fetches and returns the market calendar between specified dates.\"\"\"\n",
        "    try:\n",
        "        calendar = api.get_calendar(start=start_date, end=end_date)\n",
        "        if calendar:\n",
        "            for day in calendar:\n",
        "                print(f\"Date: {day.date}, Open: {day.open}, Close: {day.close}\")\n",
        "        else:\n",
        "            print(\"No market calendar data found for the specified dates.\")\n",
        "        return calendar\n",
        "    except Exception as e:\n",
        "        print(f\"Error fetching market calendar: {e}\")\n",
        "        return []"
      ]
    },
    {
      "cell_type": "code",
      "execution_count": 24,
      "metadata": {},
      "outputs": [
        {
          "name": "stdout",
          "output_type": "stream",
          "text": [
            "Date: 2025-06-13 00:00:00, Open: 09:30:00, Close: 16:00:00\n",
            "Date: 2025-06-16 00:00:00, Open: 09:30:00, Close: 16:00:00\n",
            "Date: 2025-06-17 00:00:00, Open: 09:30:00, Close: 16:00:00\n",
            "Date: 2025-06-18 00:00:00, Open: 09:30:00, Close: 16:00:00\n",
            "Date: 2025-06-20 00:00:00, Open: 09:30:00, Close: 16:00:00\n"
          ]
        },
        {
          "data": {
            "text/plain": [
              "[Calendar({   'close': '16:00',\n",
              "     'date': '2025-06-13',\n",
              "     'open': '09:30',\n",
              "     'session_close': '2000',\n",
              "     'session_open': '0400',\n",
              "     'settlement_date': '2025-06-16'}),\n",
              " Calendar({   'close': '16:00',\n",
              "     'date': '2025-06-16',\n",
              "     'open': '09:30',\n",
              "     'session_close': '2000',\n",
              "     'session_open': '0400',\n",
              "     'settlement_date': '2025-06-17'}),\n",
              " Calendar({   'close': '16:00',\n",
              "     'date': '2025-06-17',\n",
              "     'open': '09:30',\n",
              "     'session_close': '2000',\n",
              "     'session_open': '0400',\n",
              "     'settlement_date': '2025-06-18'}),\n",
              " Calendar({   'close': '16:00',\n",
              "     'date': '2025-06-18',\n",
              "     'open': '09:30',\n",
              "     'session_close': '2000',\n",
              "     'session_open': '0400',\n",
              "     'settlement_date': '2025-06-20'}),\n",
              " Calendar({   'close': '16:00',\n",
              "     'date': '2025-06-20',\n",
              "     'open': '09:30',\n",
              "     'session_close': '2000',\n",
              "     'session_open': '0400',\n",
              "     'settlement_date': '2025-06-23'})]"
            ]
          },
          "execution_count": 24,
          "metadata": {},
          "output_type": "execute_result"
        }
      ],
      "source": [
        "fetch_market_calendar(api, start_date=datetime.now().date(), end_date=(datetime.now() + timedelta(days=7)).date())"
      ]
    },
    {
      "cell_type": "code",
      "execution_count": 38,
      "metadata": {},
      "outputs": [],
      "source": [
        "def get_historical_data_client() -> StockHistoricalDataClient:\n",
        "    \"\"\"Creates and returns a StockHistoricalDataClient instance.\"\"\"\n",
        "    api_key = os.getenv(\"ALPACA_API_KEY\")\n",
        "    api_secret = os.getenv(\"ALPACA_SECRET_KEY\")\n",
        "    if api_key and api_secret:\n",
        "        return StockHistoricalDataClient(api_key, api_secret)\n",
        "    else:\n",
        "        raise ValueError(\"API key and secret must be provided.\")"
      ]
    },
    {
      "cell_type": "code",
      "execution_count": 39,
      "metadata": {},
      "outputs": [],
      "source": [
        "def build_stock_bars_request(symbol: str, start: datetime, end: datetime, timeframe: TimeFrame) -> StockBarsRequest:\n",
        "    \"\"\"Builds and returns a StockBarsRequest object.\"\"\"\n",
        "    return StockBarsRequest(\n",
        "        symbol_or_symbols=[symbol],\n",
        "        start=start,\n",
        "        end=end,\n",
        "        timeframe=timeframe\n",
        "    )\n",
        "    if feed:\n",
        "        params['feed'] = feed\n",
        "    return StockBarsRequest(**params)"
      ]
    },
    {
      "cell_type": "code",
      "execution_count": 51,
      "metadata": {},
      "outputs": [],
      "source": [
        "def fetch_historical_data(symbol, start, end, timeframe) -> pd.DataFrame | None:\n",
        "    \"\"\"Fetches historical stock data from Alpaca and returns a Polars DataFrame.\"\"\"\n",
        "    try:\n",
        "        client = get_historical_data_client()\n",
        "        request_params = build_stock_bars_request(symbol, start, end, timeframe)\n",
        "        bars = client.get_stock_bars(request_params)\n",
        "        df = bars.df\n",
        "        if df.empty:\n",
        "            print(\"No historical data returned.\")\n",
        "            return None\n",
        "        df.reset_index(inplace=True)  # Make sure 'timestamp' is a column\n",
        "        # Set 'timestamp' as the index before converting to polars\n",
        "        df = df.set_index('timestamp')\n",
        "        df = df.sort_index()\n",
        "        return df\n",
        "    except Exception as e:\n",
        "        print(f\"Error fetching historical data: {e}\")\n",
        "        return None\n"
      ]
    },
    {
      "cell_type": "code",
      "execution_count": 53,
      "metadata": {},
      "outputs": [
        {
          "data": {
            "text/html": [
              "<div>\n",
              "<style scoped>\n",
              "    .dataframe tbody tr th:only-of-type {\n",
              "        vertical-align: middle;\n",
              "    }\n",
              "\n",
              "    .dataframe tbody tr th {\n",
              "        vertical-align: top;\n",
              "    }\n",
              "\n",
              "    .dataframe thead th {\n",
              "        text-align: right;\n",
              "    }\n",
              "</style>\n",
              "<table border=\"1\" class=\"dataframe\">\n",
              "  <thead>\n",
              "    <tr style=\"text-align: right;\">\n",
              "      <th></th>\n",
              "      <th>symbol</th>\n",
              "      <th>open</th>\n",
              "      <th>high</th>\n",
              "      <th>low</th>\n",
              "      <th>close</th>\n",
              "      <th>volume</th>\n",
              "      <th>trade_count</th>\n",
              "      <th>vwap</th>\n",
              "    </tr>\n",
              "    <tr>\n",
              "      <th>timestamp</th>\n",
              "      <th></th>\n",
              "      <th></th>\n",
              "      <th></th>\n",
              "      <th></th>\n",
              "      <th></th>\n",
              "      <th></th>\n",
              "      <th></th>\n",
              "      <th></th>\n",
              "    </tr>\n",
              "  </thead>\n",
              "  <tbody>\n",
              "    <tr>\n",
              "      <th>2025-06-09 04:00:00+00:00</th>\n",
              "      <td>SPY</td>\n",
              "      <td>599.72</td>\n",
              "      <td>601.25</td>\n",
              "      <td>598.49</td>\n",
              "      <td>599.68</td>\n",
              "      <td>53016418.0</td>\n",
              "      <td>637329.0</td>\n",
              "      <td>600.053937</td>\n",
              "    </tr>\n",
              "    <tr>\n",
              "      <th>2025-06-10 04:00:00+00:00</th>\n",
              "      <td>SPY</td>\n",
              "      <td>600.22</td>\n",
              "      <td>603.47</td>\n",
              "      <td>599.09</td>\n",
              "      <td>603.08</td>\n",
              "      <td>66246973.0</td>\n",
              "      <td>674474.0</td>\n",
              "      <td>601.631918</td>\n",
              "    </tr>\n",
              "    <tr>\n",
              "      <th>2025-06-11 04:00:00+00:00</th>\n",
              "      <td>SPY</td>\n",
              "      <td>604.19</td>\n",
              "      <td>605.06</td>\n",
              "      <td>599.27</td>\n",
              "      <td>601.36</td>\n",
              "      <td>73658225.0</td>\n",
              "      <td>808639.0</td>\n",
              "      <td>602.345297</td>\n",
              "    </tr>\n",
              "    <tr>\n",
              "      <th>2025-06-12 04:00:00+00:00</th>\n",
              "      <td>SPY</td>\n",
              "      <td>600.01</td>\n",
              "      <td>603.75</td>\n",
              "      <td>599.52</td>\n",
              "      <td>603.75</td>\n",
              "      <td>64129003.0</td>\n",
              "      <td>689902.0</td>\n",
              "      <td>602.541248</td>\n",
              "    </tr>\n",
              "    <tr>\n",
              "      <th>2025-06-13 04:00:00+00:00</th>\n",
              "      <td>SPY</td>\n",
              "      <td>598.50</td>\n",
              "      <td>601.85</td>\n",
              "      <td>596.04</td>\n",
              "      <td>596.41</td>\n",
              "      <td>53683728.0</td>\n",
              "      <td>673936.0</td>\n",
              "      <td>599.222196</td>\n",
              "    </tr>\n",
              "  </tbody>\n",
              "</table>\n",
              "</div>"
            ],
            "text/plain": [
              "                          symbol    open    high     low   close      volume  \\\n",
              "timestamp                                                                      \n",
              "2025-06-09 04:00:00+00:00    SPY  599.72  601.25  598.49  599.68  53016418.0   \n",
              "2025-06-10 04:00:00+00:00    SPY  600.22  603.47  599.09  603.08  66246973.0   \n",
              "2025-06-11 04:00:00+00:00    SPY  604.19  605.06  599.27  601.36  73658225.0   \n",
              "2025-06-12 04:00:00+00:00    SPY  600.01  603.75  599.52  603.75  64129003.0   \n",
              "2025-06-13 04:00:00+00:00    SPY  598.50  601.85  596.04  596.41  53683728.0   \n",
              "\n",
              "                           trade_count        vwap  \n",
              "timestamp                                           \n",
              "2025-06-09 04:00:00+00:00     637329.0  600.053937  \n",
              "2025-06-10 04:00:00+00:00     674474.0  601.631918  \n",
              "2025-06-11 04:00:00+00:00     808639.0  602.345297  \n",
              "2025-06-12 04:00:00+00:00     689902.0  602.541248  \n",
              "2025-06-13 04:00:00+00:00     673936.0  599.222196  "
            ]
          },
          "execution_count": 53,
          "metadata": {},
          "output_type": "execute_result"
        }
      ],
      "source": [
        "fetch_historical_data('SPY', datetime.now() - timedelta(days=5), datetime.now(), TimeFrame.Day)"
      ]
    },
    {
      "cell_type": "code",
      "execution_count": null,
      "metadata": {},
      "outputs": [],
      "source": [
        "def create_trade_log_file():\n",
        "    \"\"\"\n",
        "    Creates a trade_log.csv file with headers in the same directory as the notebook.\n",
        "    \"\"\"\n",
        "    trade_log_file = 'trade_log.csv'\n",
        "    headers = \"entry_time,exit_time,side,entry_price,exit_price,pnl,logged_at\\n\"\n",
        "    if not os.path.exists(trade_log_file):\n",
        "        with open(trade_log_file, 'w') as f:\n",
        "            f.write(headers)\n",
        "        print(f\"Created {trade_log_file} with headers.\")\n",
        "    else:\n",
        "        print(f\"{trade_log_file} already exists.\")"
      ]
    },
    {
      "cell_type": "code",
      "execution_count": 58,
      "metadata": {
        "id": "4LF1yLGflqEL"
      },
      "outputs": [],
      "source": [
        "def log_trade(entry_time, exit_time, side, entry_price, exit_price, pnl):\n",
        "    \"\"\"Logs trade details to a CSV file.\"\"\"\n",
        "    TRADE_LOG_FILE = 'trade_log.csv'\n",
        "    headers = [\"entry_time\", \"exit_time\", \"side\", \"entry_price\", \"exit_price\", \"pnl\", \"logged_at\"]\n",
        "    timestamp = datetime.now().strftime(\"%Y-%m-%d %H:%M:%S\")\n",
        "    file_exists = os.path.exists(TRADE_LOG_FILE)\n",
        "\n",
        "    with open(TRADE_LOG_FILE, 'a', newline='') as f:\n",
        "        writer = csv.writer(f)\n",
        "        if not file_exists:\n",
        "            writer.writerow(headers)\n",
        "        writer.writerow([entry_time, exit_time, side, entry_price, exit_price, pnl, timestamp])\n",
        "    print(\"Trade logged.\")\n"
      ]
    },
    {
      "cell_type": "code",
      "execution_count": null,
      "metadata": {
        "id": "dLZjZk_Nk9qO"
      },
      "outputs": [],
      "source": [
        "def place_order(symbol, side, qty, price):\n",
        "    try:\n",
        "        api.submit_order(\n",
        "        symbol=symbol,\n",
        "        qty=qty,\n",
        "        side=side,\n",
        "        type='limit',\n",
        "        limit_price=round(price, 2),\n",
        "        time_in_force='gtc')\n",
        "        print(f\"{side.upper()} order placed at {price}\")\n",
        "    except Exception as e:\n",
        "        print(f\"Order error: {e}\")"
      ]
    },
    {
      "cell_type": "code",
      "execution_count": 60,
      "metadata": {},
      "outputs": [
        {
          "name": "stdout",
          "output_type": "stream",
          "text": [
            "Latest price for SPY: 599.22\n",
            "SELL order placed at 599.22\n",
            "Order error: log_trade() missing 2 required positional arguments: 'exit_price' and 'pnl'\n"
          ]
        }
      ],
      "source": [
        "# Use the existing pandas DataFrame 'df' for the latest price and order placement\n",
        "df = fetch_historical_data(SYMBOL, datetime.now() - timedelta(days=1), datetime.now(), TimeFrame.Minute)\n",
        "if df is not None and not df.empty:\n",
        "    latest_price = float(df['close'].iloc[-1])\n",
        "    print(f\"Latest price for {SYMBOL}: {latest_price}\")\n",
        "    place_order(SYMBOL, 'sell', 1, latest_price)\n",
        "else:\n",
        "    print(\"No recent bars found.\")"
      ]
    },
    {
      "cell_type": "code",
      "execution_count": 13,
      "metadata": {
        "id": "jiJi0OpC65H2"
      },
      "outputs": [],
      "source": [
        "def check_daily_limits():\n",
        "    #List comphrension to a list of daily_list\n",
        "    daily_trades = [activity for activity in activities if datetime.fromisoformat(activity[\"transaction_time\"].isoformat()).date() == datetime.now().date()]\n",
        "    print(f\"daily trades: {daily_trades}\")\n",
        "    # Code into long way: for t in daily_trades if t.side in ['buy', 'sell']]\n",
        "\n",
        "    filtered_trades = []\n",
        "    for t in daily_trades:\n",
        "        if t['side'] in ['buy', 'sell']:\n",
        "            filtered_trades.append(t)\n",
        "    # Lets sum all pnl for today:\n",
        "    today_pnl = sum(trade[\"realized_pl\"] for trade in filtered_trades)\n",
        "    print(f\"Today's total PNL: {today_pnl}\")\n",
        "\n",
        "    try:\n",
        "        trade_count = len([t for t in daily_trades if t['side'] in ['buy', 'sell']])\n",
        "        print(f\"Trade count: {trade_count}\")\n",
        "        today_pnl = sum(trade[\"realized_pl\"] for trade in filtered_trades)\n",
        "        print(f\"Today's total PNL: {today_pnl}\")\n",
        "        print(f\"returning: {trade_count, today_pnl}\")\n",
        "        return trade_count, today_pnl\n",
        "    except Exception as e:\n",
        "        print(f\"Runtime error {e}\")\n",
        "        return 0, 0"
      ]
    },
    {
      "cell_type": "code",
      "execution_count": null,
      "metadata": {
        "id": "iIk_yS5zGNeA"
      },
      "outputs": [],
      "source": [
        "def get_data(symbol, timeframe='1m', limit=30):\n",
        "    try:\n",
        "        api_key = os.getenv('ALPACA_API_KEY')\n",
        "        secret_key = os.getenv('ALPACA_SECRET_KEY')\n",
        "        base_url = os.getenv('ALPACA_API_BASE_URL')\n",
        "\n",
        "        if not api_key or not secret_key:\n",
        "            print(\"Alpaca API keys not found. Please set ALPACA_API_KEY and ALPACA_SECRET_KEY.\")\n",
        "            return pd.DataFrame()\n",
        "\n",
        "        # Compute time range\n",
        "        end = datetime.utcnow()\n",
        "        start = end - timedelta(minutes=limit)\n",
        "\n",
        "        # Choose correct timeframe\n",
        "        if timeframe == '1m':\n",
        "            tf = TimeFrame(1, TimeFrameUnit.Minute)\n",
        "        elif timeframe == '5m':\n",
        "            tf = TimeFrame(5, TimeFrameUnit.Minute)\n",
        "        else:\n",
        "            raise ValueError(f\"Unsupported timeframe: {timeframe}\")\n",
        "\n",
        "        # Build request\n",
        "        request_params = StockBarsRequest(\n",
        "            symbol_or_symbols=symbol,\n",
        "            timeframe=tf,\n",
        "            start=start,\n",
        "            end=end,\n",
        "            feed='iex'\n",
        "        )\n",
        "\n",
        "        # Create data client for historical stock data\n",
        "        client = StockHistoricalDataClient(api_key, secret_key)\n",
        "\n",
        "        # Fetch and process data\n",
        "        bars = client.get_stock_bars(request_params).df\n",
        "        df = bars.reset_index().tail(limit)\n",
        "        df.set_index('timestamp', inplace=True)\n",
        "\n",
        "        return df\n",
        "\n",
        "    except Exception as e:\n",
        "        print(f\"Data error: {e}\")\n",
        "        return pd.DataFrame()\n"
      ]
    },
    {
      "cell_type": "code",
      "execution_count": 29,
      "metadata": {
        "colab": {
          "base_uri": "https://localhost:8080/",
          "height": 112
        },
        "id": "CqCDirXv3pPB",
        "outputId": "16a9f36e-8b8a-484d-bf1e-c7bbec97d0b6"
      },
      "outputs": [
        {
          "data": {
            "application/vnd.google.colaboratory.intrinsic+json": {
              "summary": "{\n  \"name\": \"df\",\n  \"rows\": 1,\n  \"fields\": [\n    {\n      \"column\": \"timestamp\",\n      \"properties\": {\n        \"dtype\": \"date\",\n        \"min\": \"2025-06-12 20:45:00+00:00\",\n        \"max\": \"2025-06-12 20:45:00+00:00\",\n        \"num_unique_values\": 1,\n        \"samples\": [\n          \"2025-06-12 20:45:00+00:00\"\n        ],\n        \"semantic_type\": \"\",\n        \"description\": \"\"\n      }\n    },\n    {\n      \"column\": \"symbol\",\n      \"properties\": {\n        \"dtype\": \"string\",\n        \"num_unique_values\": 1,\n        \"samples\": [\n          \"TSLA\"\n        ],\n        \"semantic_type\": \"\",\n        \"description\": \"\"\n      }\n    },\n    {\n      \"column\": \"open\",\n      \"properties\": {\n        \"dtype\": \"number\",\n        \"std\": null,\n        \"min\": 318.78,\n        \"max\": 318.78,\n        \"num_unique_values\": 1,\n        \"samples\": [\n          318.78\n        ],\n        \"semantic_type\": \"\",\n        \"description\": \"\"\n      }\n    },\n    {\n      \"column\": \"high\",\n      \"properties\": {\n        \"dtype\": \"number\",\n        \"std\": null,\n        \"min\": 318.79,\n        \"max\": 318.79,\n        \"num_unique_values\": 1,\n        \"samples\": [\n          318.79\n        ],\n        \"semantic_type\": \"\",\n        \"description\": \"\"\n      }\n    },\n    {\n      \"column\": \"low\",\n      \"properties\": {\n        \"dtype\": \"number\",\n        \"std\": null,\n        \"min\": 318.78,\n        \"max\": 318.78,\n        \"num_unique_values\": 1,\n        \"samples\": [\n          318.78\n        ],\n        \"semantic_type\": \"\",\n        \"description\": \"\"\n      }\n    },\n    {\n      \"column\": \"close\",\n      \"properties\": {\n        \"dtype\": \"number\",\n        \"std\": null,\n        \"min\": 318.79,\n        \"max\": 318.79,\n        \"num_unique_values\": 1,\n        \"samples\": [\n          318.79\n        ],\n        \"semantic_type\": \"\",\n        \"description\": \"\"\n      }\n    },\n    {\n      \"column\": \"volume\",\n      \"properties\": {\n        \"dtype\": \"number\",\n        \"std\": null,\n        \"min\": 234.0,\n        \"max\": 234.0,\n        \"num_unique_values\": 1,\n        \"samples\": [\n          234.0\n        ],\n        \"semantic_type\": \"\",\n        \"description\": \"\"\n      }\n    },\n    {\n      \"column\": \"trade_count\",\n      \"properties\": {\n        \"dtype\": \"number\",\n        \"std\": null,\n        \"min\": 5.0,\n        \"max\": 5.0,\n        \"num_unique_values\": 1,\n        \"samples\": [\n          5.0\n        ],\n        \"semantic_type\": \"\",\n        \"description\": \"\"\n      }\n    },\n    {\n      \"column\": \"vwap\",\n      \"properties\": {\n        \"dtype\": \"number\",\n        \"std\": null,\n        \"min\": 318.785,\n        \"max\": 318.785,\n        \"num_unique_values\": 1,\n        \"samples\": [\n          318.785\n        ],\n        \"semantic_type\": \"\",\n        \"description\": \"\"\n      }\n    }\n  ]\n}",
              "type": "dataframe",
              "variable_name": "df"
            },
            "text/html": [
              "\n",
              "  <div id=\"df-faefe534-d333-4792-8229-2cd701c6e1d1\" class=\"colab-df-container\">\n",
              "    <div>\n",
              "<style scoped>\n",
              "    .dataframe tbody tr th:only-of-type {\n",
              "        vertical-align: middle;\n",
              "    }\n",
              "\n",
              "    .dataframe tbody tr th {\n",
              "        vertical-align: top;\n",
              "    }\n",
              "\n",
              "    .dataframe thead th {\n",
              "        text-align: right;\n",
              "    }\n",
              "</style>\n",
              "<table border=\"1\" class=\"dataframe\">\n",
              "  <thead>\n",
              "    <tr style=\"text-align: right;\">\n",
              "      <th></th>\n",
              "      <th>symbol</th>\n",
              "      <th>open</th>\n",
              "      <th>high</th>\n",
              "      <th>low</th>\n",
              "      <th>close</th>\n",
              "      <th>volume</th>\n",
              "      <th>trade_count</th>\n",
              "      <th>vwap</th>\n",
              "    </tr>\n",
              "    <tr>\n",
              "      <th>timestamp</th>\n",
              "      <th></th>\n",
              "      <th></th>\n",
              "      <th></th>\n",
              "      <th></th>\n",
              "      <th></th>\n",
              "      <th></th>\n",
              "      <th></th>\n",
              "      <th></th>\n",
              "    </tr>\n",
              "  </thead>\n",
              "  <tbody>\n",
              "    <tr>\n",
              "      <th>2025-06-12 20:45:00+00:00</th>\n",
              "      <td>TSLA</td>\n",
              "      <td>318.78</td>\n",
              "      <td>318.79</td>\n",
              "      <td>318.78</td>\n",
              "      <td>318.79</td>\n",
              "      <td>234.0</td>\n",
              "      <td>5.0</td>\n",
              "      <td>318.785</td>\n",
              "    </tr>\n",
              "  </tbody>\n",
              "</table>\n",
              "</div>\n",
              "    <div class=\"colab-df-buttons\">\n",
              "\n",
              "  <div class=\"colab-df-container\">\n",
              "    <button class=\"colab-df-convert\" onclick=\"convertToInteractive('df-faefe534-d333-4792-8229-2cd701c6e1d1')\"\n",
              "            title=\"Convert this dataframe to an interactive table.\"\n",
              "            style=\"display:none;\">\n",
              "\n",
              "  <svg xmlns=\"http://www.w3.org/2000/svg\" height=\"24px\" viewBox=\"0 -960 960 960\">\n",
              "    <path d=\"M120-120v-720h720v720H120Zm60-500h600v-160H180v160Zm220 220h160v-160H400v160Zm0 220h160v-160H400v160ZM180-400h160v-160H180v160Zm440 0h160v-160H620v160ZM180-180h160v-160H180v160Zm440 0h160v-160H620v160Z\"/>\n",
              "  </svg>\n",
              "    </button>\n",
              "\n",
              "  <style>\n",
              "    .colab-df-container {\n",
              "      display:flex;\n",
              "      gap: 12px;\n",
              "    }\n",
              "\n",
              "    .colab-df-convert {\n",
              "      background-color: #E8F0FE;\n",
              "      border: none;\n",
              "      border-radius: 50%;\n",
              "      cursor: pointer;\n",
              "      display: none;\n",
              "      fill: #1967D2;\n",
              "      height: 32px;\n",
              "      padding: 0 0 0 0;\n",
              "      width: 32px;\n",
              "    }\n",
              "\n",
              "    .colab-df-convert:hover {\n",
              "      background-color: #E2EBFA;\n",
              "      box-shadow: 0px 1px 2px rgba(60, 64, 67, 0.3), 0px 1px 3px 1px rgba(60, 64, 67, 0.15);\n",
              "      fill: #174EA6;\n",
              "    }\n",
              "\n",
              "    .colab-df-buttons div {\n",
              "      margin-bottom: 4px;\n",
              "    }\n",
              "\n",
              "    [theme=dark] .colab-df-convert {\n",
              "      background-color: #3B4455;\n",
              "      fill: #D2E3FC;\n",
              "    }\n",
              "\n",
              "    [theme=dark] .colab-df-convert:hover {\n",
              "      background-color: #434B5C;\n",
              "      box-shadow: 0px 1px 3px 1px rgba(0, 0, 0, 0.15);\n",
              "      filter: drop-shadow(0px 1px 2px rgba(0, 0, 0, 0.3));\n",
              "      fill: #FFFFFF;\n",
              "    }\n",
              "  </style>\n",
              "\n",
              "    <script>\n",
              "      const buttonEl =\n",
              "        document.querySelector('#df-faefe534-d333-4792-8229-2cd701c6e1d1 button.colab-df-convert');\n",
              "      buttonEl.style.display =\n",
              "        google.colab.kernel.accessAllowed ? 'block' : 'none';\n",
              "\n",
              "      async function convertToInteractive(key) {\n",
              "        const element = document.querySelector('#df-faefe534-d333-4792-8229-2cd701c6e1d1');\n",
              "        const dataTable =\n",
              "          await google.colab.kernel.invokeFunction('convertToInteractive',\n",
              "                                                    [key], {});\n",
              "        if (!dataTable) return;\n",
              "\n",
              "        const docLinkHtml = 'Like what you see? Visit the ' +\n",
              "          '<a target=\"_blank\" href=https://colab.research.google.com/notebooks/data_table.ipynb>data table notebook</a>'\n",
              "          + ' to learn more about interactive tables.';\n",
              "        element.innerHTML = '';\n",
              "        dataTable['output_type'] = 'display_data';\n",
              "        await google.colab.output.renderOutput(dataTable, element);\n",
              "        const docLink = document.createElement('div');\n",
              "        docLink.innerHTML = docLinkHtml;\n",
              "        element.appendChild(docLink);\n",
              "      }\n",
              "    </script>\n",
              "  </div>\n",
              "\n",
              "\n",
              "  <div id=\"id_34426c62-0a2d-49c8-aade-b3f55c2f91d3\">\n",
              "    <style>\n",
              "      .colab-df-generate {\n",
              "        background-color: #E8F0FE;\n",
              "        border: none;\n",
              "        border-radius: 50%;\n",
              "        cursor: pointer;\n",
              "        display: none;\n",
              "        fill: #1967D2;\n",
              "        height: 32px;\n",
              "        padding: 0 0 0 0;\n",
              "        width: 32px;\n",
              "      }\n",
              "\n",
              "      .colab-df-generate:hover {\n",
              "        background-color: #E2EBFA;\n",
              "        box-shadow: 0px 1px 2px rgba(60, 64, 67, 0.3), 0px 1px 3px 1px rgba(60, 64, 67, 0.15);\n",
              "        fill: #174EA6;\n",
              "      }\n",
              "\n",
              "      [theme=dark] .colab-df-generate {\n",
              "        background-color: #3B4455;\n",
              "        fill: #D2E3FC;\n",
              "      }\n",
              "\n",
              "      [theme=dark] .colab-df-generate:hover {\n",
              "        background-color: #434B5C;\n",
              "        box-shadow: 0px 1px 3px 1px rgba(0, 0, 0, 0.15);\n",
              "        filter: drop-shadow(0px 1px 2px rgba(0, 0, 0, 0.3));\n",
              "        fill: #FFFFFF;\n",
              "      }\n",
              "    </style>\n",
              "    <button class=\"colab-df-generate\" onclick=\"generateWithVariable('df')\"\n",
              "            title=\"Generate code using this dataframe.\"\n",
              "            style=\"display:none;\">\n",
              "\n",
              "  <svg xmlns=\"http://www.w3.org/2000/svg\" height=\"24px\"viewBox=\"0 0 24 24\"\n",
              "       width=\"24px\">\n",
              "    <path d=\"M7,19H8.4L18.45,9,17,7.55,7,17.6ZM5,21V16.75L18.45,3.32a2,2,0,0,1,2.83,0l1.4,1.43a1.91,1.91,0,0,1,.58,1.4,1.91,1.91,0,0,1-.58,1.4L9.25,21ZM18.45,9,17,7.55Zm-12,3A5.31,5.31,0,0,0,4.9,8.1,5.31,5.31,0,0,0,1,6.5,5.31,5.31,0,0,0,4.9,4.9,5.31,5.31,0,0,0,6.5,1,5.31,5.31,0,0,0,8.1,4.9,5.31,5.31,0,0,0,12,6.5,5.46,5.46,0,0,0,6.5,12Z\"/>\n",
              "  </svg>\n",
              "    </button>\n",
              "    <script>\n",
              "      (() => {\n",
              "      const buttonEl =\n",
              "        document.querySelector('#id_34426c62-0a2d-49c8-aade-b3f55c2f91d3 button.colab-df-generate');\n",
              "      buttonEl.style.display =\n",
              "        google.colab.kernel.accessAllowed ? 'block' : 'none';\n",
              "\n",
              "      buttonEl.onclick = () => {\n",
              "        google.colab.notebook.generateWithVariable('df');\n",
              "      }\n",
              "      })();\n",
              "    </script>\n",
              "  </div>\n",
              "\n",
              "    </div>\n",
              "  </div>\n"
            ],
            "text/plain": [
              "                          symbol    open    high     low   close  volume  \\\n",
              "timestamp                                                                  \n",
              "2025-06-12 20:45:00+00:00   TSLA  318.78  318.79  318.78  318.79   234.0   \n",
              "\n",
              "                           trade_count     vwap  \n",
              "timestamp                                        \n",
              "2025-06-12 20:45:00+00:00          5.0  318.785  "
            ]
          },
          "execution_count": 29,
          "metadata": {},
          "output_type": "execute_result"
        }
      ],
      "source": [
        "df = get_data(SYMBOL, '1m', 30)\n",
        "df"
      ]
    },
    {
      "cell_type": "code",
      "execution_count": 15,
      "metadata": {
        "id": "u1fypkcRNRF-"
      },
      "outputs": [],
      "source": [
        "# Interactive chart with plotly\n",
        "def create_candlestick_chart(df):\n",
        "    # Create candlestick trace\n",
        "    candlestick = go.Candlestick(\n",
        "        x=df.index,\n",
        "        open=df['Open'],\n",
        "        high=df['High'],\n",
        "        low=df['Low'],\n",
        "        close=df['Close']\n",
        "    )\n",
        "\n",
        "    # Create figure and add trace\n",
        "    fig = go.Figure(data=[candlestick])\n",
        "\n",
        "    # Update layout\n",
        "    fig.update_layout(\n",
        "        title=f'{SYMBOL} Interactive Candlestick Chart',\n",
        "        xaxis_title='Time',\n",
        "        yaxis_title='Price',\n",
        "        xaxis_rangeslider_visible=False # Hide range slider\n",
        "    )\n",
        "\n",
        "    # Show the plot\n",
        "    fig.show()"
      ]
    },
    {
      "cell_type": "code",
      "execution_count": 16,
      "metadata": {
        "id": "fIv9EPj2Sx_G"
      },
      "outputs": [],
      "source": [
        "def calculate_ema(data, period=9):\n",
        "    return data['Close'].ewm(span=period, adjust=False).mean()"
      ]
    },
    {
      "cell_type": "code",
      "execution_count": 17,
      "metadata": {
        "id": "SFh6Nf5cS7Dg"
      },
      "outputs": [],
      "source": [
        "def calculate_rsi(data, period=14):\n",
        "    delta = data['Close'].diff()\n",
        "    gain = delta.where(delta > 0, 0).rolling(window=period).mean()\n",
        "    loss = -delta.where(delta < 0, 0).rolling(window=period).mean()\n",
        "    rs = gain / loss\n",
        "    return 100 - (100 / (1 + rs))"
      ]
    },
    {
      "cell_type": "code",
      "execution_count": 18,
      "metadata": {
        "id": "ZnsVhJvxS9VY"
      },
      "outputs": [],
      "source": [
        "def average_volume(data, window=20):\n",
        "    return data['Volume'].rolling(window=window).mean()"
      ]
    },
    {
      "cell_type": "code",
      "execution_count": 19,
      "metadata": {
        "id": "D9m57PfoS-x4"
      },
      "outputs": [],
      "source": [
        "def calculate_slope(series, window=5):\n",
        "    return series.diff().rolling(window=window).mean()"
      ]
    },
    {
      "cell_type": "code",
      "execution_count": 20,
      "metadata": {
        "id": "yLrue0zZWTqW"
      },
      "outputs": [],
      "source": [
        "def check_missing_values(df):\n",
        "    missing_values = df.isnull().sum()\n",
        "    missing_values = missing_values[missing_values > 0]\n",
        "    return missing_values"
      ]
    },
    {
      "cell_type": "code",
      "execution_count": 21,
      "metadata": {
        "id": "zjjqBiGAXYA5"
      },
      "outputs": [],
      "source": [
        "# Remove columns 'Dividends' and 'Stock Splits'\n",
        "def remove_dividends_splits(df, columns):\n",
        "    try:\n",
        "        df = df.drop(columns=columns)\n",
        "    except Exception as e:\n",
        "        print(f\"Data error: {e}\")\n",
        "    return df"
      ]
    },
    {
      "cell_type": "code",
      "execution_count": 22,
      "metadata": {
        "id": "o_v5Tg1-zlcK"
      },
      "outputs": [],
      "source": [
        "def trade():\n",
        "\n",
        "    position = load_position()\n",
        "    print(f\"position: {position}\")\n",
        "\n",
        "    # --- Modified Cooldown Check ---\n",
        "    now = datetime.now()\n",
        "    print(f\"now: {now}\")\n",
        "\n",
        "    # Check if last_exit is a non-empty string before attempting to parse\n",
        "    last_exit_str = position.get('last_exit', '') # Use .get to safely access, default to ''\n",
        "    print(f\"position['last_exit'] string: '{last_exit_str}'\")\n",
        "\n",
        "    if last_exit_str: # Check if the string is not empty\n",
        "        try:\n",
        "            last_exit = datetime.fromisoformat(last_exit_str)\n",
        "            print(f\"last_exit (parsed): {last_exit}\")\n",
        "\n",
        "            # Cooldown logic only applies if last_exit was successfully parsed\n",
        "            formatted_time = last_exit.strftime(\"%H:%M:%S\")\n",
        "            print(f\"formatted_time: {formatted_time}\")\n",
        "            time_from_last_exit = int((now - last_exit).total_seconds())\n",
        "            print(f\"time_from_last_exit: {time_from_last_exit}\")\n",
        "            time_left = COOLDOWN - time_from_last_exit\n",
        "            print(f\"time_left: {time_left}\")\n",
        "\n",
        "            if (time_left < COOLDOWN) and (time_left > 0):\n",
        "                print(f\"Cooldown active until {time_left} seconds from now. Last trade was at {formatted_time}\")\n",
        "                return # Exit the trade function if cooldown is active\n",
        "        except ValueError:\n",
        "            # Handle cases where the string is not a valid isoformat\n",
        "            print(f\"Warning: 'last_exit' value '{last_exit_str}' is not a valid ISO format. Assuming no recent exit for cooldown.\")\n",
        "            # Treat as if there was no recent exit (cooldown not active)\n",
        "            time_left = COOLDOWN + 1 # Ensure time_left is greater than COOLDOWN\n",
        "    else:\n",
        "        # If last_exit_str is empty, assume no recent exit (cooldown not active)\n",
        "        print(\"'last_exit' is empty. Assuming no recent exit for cooldown.\")\n",
        "        time_left = COOLDOWN + 1 # Ensure time_left is greater than COOLDOWN\n",
        "\n",
        "    # Rest of your trade logic continues here if cooldown is not active\n",
        "    trade_count, daily_pnl = check_daily_limits()\n",
        "    if trade_count >= MAX_TRADES_PER_DAY or daily_pnl <= -DAILY_LOSS_LIMIT:\n",
        "        print(\"Daily limit reached.\")\n",
        "        return\n",
        "\n",
        "    df_1m = get_data(SYMBOL, '1m', 30)\n",
        "    df_5m = get_data(SYMBOL, '5m', 30)\n",
        "\n",
        "    if df_1m.empty or df_5m.empty:\n",
        "        print(\"Data unavailable.\")\n",
        "        return\n",
        "\n",
        "    df_1m['ema9'] = calculate_ema(df_1m)\n",
        "    df_1m['rsi'] = calculate_rsi(df_1m)\n",
        "    df_1m['avg_volume'] = average_volume(df_1m)\n",
        "\n",
        "    df_5m['ema50'] = calculate_ema(df_5m, 50)\n",
        "    df_5m['slope50'] = calculate_slope(df_5m['ema50'])\n",
        "\n",
        "    last = df_1m.iloc[-1].copy()\n",
        "    #print(\"Raw last row values:\")\n",
        "    for k, v in last.items():\n",
        "        print(f\"  {k}: {v}\")\n",
        "\n",
        "    # convert the values in the last row of that DataFrame to a consistent numeric format.\n",
        "    numerical_columns = df_1m.select_dtypes(include='number').columns.tolist()\n",
        "    #print(f\"Numeric columns: {numerical_columns}\")\n",
        "    for col in numerical_columns:\n",
        "        try:\n",
        "            val = last[col]\n",
        "            if pd.isna(val) or str(val).strip() in ['', 'None', 'nan', 'NaN']:\n",
        "                raise ValueError(f\"Missing or empty value for {col}\")\n",
        "                val = float(val) if isinstance(val, (int, float)) else float(str(val).replace(',', '').strip())\n",
        "                last[col] = val\n",
        "        except Exception as e:\n",
        "            print(f\"Data conversion error for '{col}': {e}\")\n",
        "\n",
        "    #last\n",
        "\n",
        "    slope = float(df_5m['slope50'].iloc[-1])\n",
        "    print(f\"Slope: {slope}\")\n",
        "    side = position.get('side')\n",
        "    print(f\"Side: {side}\")\n",
        "    qty = position.get('qty', 0)\n",
        "    print(f\"Qty: {qty}\")\n",
        "    entry_price = position.get('entry_price', 0)\n",
        "    print(f\"Entry price: {entry_price}\")\n",
        "    buying_power = 100000 #float(api.get_account().cash)\n",
        "    trade_qty = int((buying_power * POSITION_SIZE_PCT) / last['Close'])\n",
        "    print(f\"Trade qty: {trade_qty}\")\n",
        "\n",
        "    # No position\n",
        "    if not side:\n",
        "        print(\"No position found\")\n",
        "        save_position({'side': 'long', 'entry_price': 100, 'qty': trade_qty, 'high': 200, 'entry_time': now.isoformat()})\n",
        "        # if last['Close'] > last['Open'] and last['Close'] > last['ema9'] and last['rsi'] < 65 and last['Volume'] > last['avg_volume'] and slope > 0:\n",
        "        #     price = last['Close'] * 1.001\n",
        "        #     place_order('buy', trade_qty, price)\n",
        "        #     save_position({'side': 'long', 'entry_price': price, 'qty': trade_qty, 'high': price, 'entry_time': now.isoformat()})\n",
        "\n",
        "        # elif last['Close'] < last['Open'] and last['Close'] < last['ema9'] and last['rsi'] > 55 and last['Volume'] > last['avg_volume'] and slope < 0:\n",
        "        #     price = last['Close'] * 0.999\n",
        "        #     place_order('sell', trade_qty, price)\n",
        "        #     save_position({'side': 'short', 'entry_price': price, 'qty': trade_qty, 'low': price, 'entry_time': now.isoformat()})\n",
        "\n",
        "    # Long Position\n",
        "    elif side == 'long':\n",
        "        print(\"Long Position\")\n",
        "        position['high'] = max(position['high'], last['Close'])\n",
        "        trail_stop = position['high'] * (1 - TRAILING_STOP_PCT)\n",
        "        print(f\"[LONG] Comparing last['Close'] = {last['Close']} (type: {type(last['Close'])}) to trail_stop = {trail_stop}\")\n",
        "        last_close = float(last['Close'])\n",
        "        if last_close <= trail_stop or last_close < last['ema9']:\n",
        "            close_position()\n",
        "            exit_price = last['Close']\n",
        "            pnl = (exit_price - entry_price) * qty\n",
        "            log_trade(position['entry_time'], now.isoformat(), side, entry_price, exit_price, pnl)\n",
        "            #reset_position()\n",
        "            save_position({'last_exit': now.isoformat()})\n",
        "\n",
        "    # Short Position\n",
        "    elif side == 'short':\n",
        "        print(\"Short Position\")\n",
        "        position['low'] = min(position['low'], last['Close'])\n",
        "        trail_stop = position['low'] * (1 + TRAILING_STOP_PCT)\n",
        "        print(f\"[SHORT] Comparing last['Close'] = {last['Close']} (type: {type(last['Close'])}) to trail_stop = {trail_stop}\")\n",
        "        last_close = float(last['Close'])\n",
        "        if last_close >= trail_stop or last_close > last['ema9']:\n",
        "            close_position()\n",
        "            exit_price = last['Close']\n",
        "            pnl = (entry_price - exit_price) * qty\n",
        "            log_trade(position['entry_time'], now.isoformat(), side, entry_price, exit_price, pnl)\n",
        "            #reset_position()\n",
        "            save_position({'last_exit': now.isoformat()})\n"
      ]
    },
    {
      "cell_type": "code",
      "execution_count": 52,
      "metadata": {
        "colab": {
          "base_uri": "https://localhost:8080/"
        },
        "id": "fu7nSeWdt9PT",
        "outputId": "b87d3b29-d20d-465b-8274-f92d97cebc07"
      },
      "outputs": [
        {
          "name": "stdout",
          "output_type": "stream",
          "text": [
            "'position.json' already exists.\n",
            "Successfully loaded position from position.json\n",
            "position: {'last_exit': '2025-06-12T20:34:21.735676'}\n",
            "now: 2025-06-12 20:34:33.084023\n",
            "position['last_exit'] string: '2025-06-12T20:34:21.735676'\n",
            "last_exit (parsed): 2025-06-12 20:34:21.735676\n",
            "formatted_time: 20:34:21\n",
            "time_from_last_exit: 11\n",
            "time_left: 9\n",
            "Cooldown active until 9 seconds from now. Last trade was at 20:34:21\n"
          ]
        }
      ],
      "source": [
        "try:\n",
        "    trade()\n",
        "except Exception as e:\n",
        "    print(f\"Runtime error: {e}\")\n",
        "#time.sleep(60)"
      ]
    },
    {
      "cell_type": "markdown",
      "metadata": {
        "id": "CBdRzugeCSlw"
      },
      "source": []
    }
  ],
  "metadata": {
    "colab": {
      "authorship_tag": "ABX9TyNfEvgiKX3wR4bd4V7PClYf",
      "include_colab_link": true,
      "provenance": []
    },
    "kernelspec": {
      "display_name": "alpaca",
      "language": "python",
      "name": "python3"
    },
    "language_info": {
      "codemirror_mode": {
        "name": "ipython",
        "version": 3
      },
      "file_extension": ".py",
      "mimetype": "text/x-python",
      "name": "python",
      "nbconvert_exporter": "python",
      "pygments_lexer": "ipython3",
      "version": "3.13.5"
    }
  },
  "nbformat": 4,
  "nbformat_minor": 0
}
