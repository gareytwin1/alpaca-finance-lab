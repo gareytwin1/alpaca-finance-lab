{
  "nbformat": 4,
  "nbformat_minor": 0,
  "metadata": {
    "colab": {
      "provenance": [],
      "authorship_tag": "ABX9TyPybZik1/dzMhr0XihPzKUi",
      "include_colab_link": true
    },
    "kernelspec": {
      "name": "python3",
      "display_name": "Python 3"
    },
    "language_info": {
      "name": "python"
    }
  },
  "cells": [
    {
      "cell_type": "markdown",
      "metadata": {
        "id": "view-in-github",
        "colab_type": "text"
      },
      "source": [
        "<a href=\"https://colab.research.google.com/github/gareytwin1/alpaca-finance-lab/blob/main/Trading_Bot.ipynb\" target=\"_parent\"><img src=\"https://colab.research.google.com/assets/colab-badge.svg\" alt=\"Open In Colab\"/></a>"
      ]
    },
    {
      "cell_type": "code",
      "source": [
        "#!pip install alpaca-trade-api\n",
        "#!pip install yfinance\n",
        "#!pip install plotly\n",
        "#!pip install mplfinance"
      ],
      "metadata": {
        "id": "M4m9Xfrjmb-j"
      },
      "execution_count": null,
      "outputs": []
    },
    {
      "cell_type": "code",
      "execution_count": null,
      "metadata": {
        "id": "CIYZB6Z-jpdz"
      },
      "outputs": [],
      "source": [
        "#import alpaca_trade_api as tradeapi\n",
        "#import alpaca_trade_api as tradeapi\n",
        "#from alpaca.data.historical import StockHistoricalDataClient\n",
        "#from alpaca.data.requests import StockBarsRequest\n",
        "#from alpaca.data.timeframe import TimeFrame, TimeFrameUnit\n",
        "from datetime import datetime, timedelta\n",
        "#from google.colab import userdata\n",
        "import json\n",
        "import mplfinance as mpf\n",
        "import os\n",
        "import pandas as pd\n",
        "import plotly.graph_objects as go\n",
        "import time\n",
        "import yfinance as yf"
      ]
    },
    {
      "cell_type": "code",
      "source": [
        "POSITION_FILE = 'position.json' # Default path if not using Google Drive\n",
        "\n",
        "# Initial position dictionary\n",
        "initial_position_data = {\n",
        "    \"side\": \"long\",\n",
        "    \"entry_price\": 180.50,\n",
        "    \"qty\": 10,\n",
        "    \"high\": 180.50,\n",
        "    \"low\": 180.00,\n",
        "    \"entry_time\": datetime.now().isoformat(),\n",
        "    \"last_exit\": \"\"\n",
        "}\n",
        "\n",
        "#From config.py file\n",
        "SYMBOL = 'TSLA'\n",
        "POSITION_SIZE_PCT = 0.10\n",
        "TRAILING_STOP_PCT = 0.015\n",
        "MAX_TRADES_PER_DAY = 10\n",
        "DAILY_LOSS_LIMIT = 100  # in USD\n",
        "COOLDOWN = 20 #Cool down is 10 minutes\n",
        "\n",
        "# Simulated activities\n",
        "activities = [{\n",
        "        \"symbol\": SYMBOL,\n",
        "        \"side\": \"buy\",\n",
        "        \"transaction_time\": datetime.now() - timedelta(hours=2),\n",
        "        \"realized_pl\": 0.00},\n",
        "    {\n",
        "        \"symbol\": SYMBOL,\n",
        "        \"side\": \"sell\",\n",
        "        \"transaction_time\": datetime.now() - timedelta(hours=1, minutes=30),\n",
        "        \"realized_pl\": 15.75},\n",
        "    {\n",
        "        \"symbol\": SYMBOL,\n",
        "        \"side\": \"buy\",\n",
        "        \"transaction_time\": datetime.now() - timedelta(minutes=45),\n",
        "        \"realized_pl\": 0.00},\n",
        "    {\n",
        "        \"symbol\": SYMBOL,\n",
        "        \"side\": \"sell\",\n",
        "        \"transaction_time\": datetime.now() - timedelta(minutes=30),\n",
        "        \"realized_pl\": -5.25}]"
      ],
      "metadata": {
        "id": "CvI-UYfC5wkd"
      },
      "execution_count": null,
      "outputs": []
    },
    {
      "cell_type": "code",
      "source": [
        "def create_position_file_if_not_exists():\n",
        "    \"\"\"Creates the position.json file with initial data if it doesn't exist.\"\"\"\n",
        "    if not os.path.exists(POSITION_FILE):\n",
        "        try:\n",
        "            with open(POSITION_FILE, 'w') as f:\n",
        "                json.dump(initial_position_data, f, indent=4)\n",
        "            print(f\"'{POSITION_FILE}' not found. Created and initialized it.\")\n",
        "        except Exception as e:\n",
        "            print(f\"Error creating '{POSITION_FILE}': {e}\")\n",
        "    else:\n",
        "        print(f\"'{POSITION_FILE}' already exists.\")"
      ],
      "metadata": {
        "id": "NjP1BVyK148p"
      },
      "execution_count": null,
      "outputs": []
    },
    {
      "cell_type": "code",
      "source": [
        "def load_position():\n",
        "    \"\"\"Loads the trading position from the position.json file.\"\"\"\n",
        "    # Ensure the file exists before attempting to load\n",
        "    create_position_file_if_not_exists()\n",
        "    POSITION_FILE = 'position.json'\n",
        "    try:\n",
        "        with open(POSITION_FILE, 'r') as f:\n",
        "            position_data = json.load(f)\n",
        "            print(f\"Successfully loaded position from {POSITION_FILE}\")\n",
        "            return position_data\n",
        "    except json.JSONDecodeError:\n",
        "        print(f\"Error decoding JSON from {POSITION_FILE}. File might be corrupted. Re-initializing.\")\n",
        "        # Re-create the file if it's corrupted\n",
        "        create_position_file_if_not_exists() # This will overwrite the corrupted file\n",
        "        # Attempt to load again from the newly created file (or return initial data)\n",
        "        try:\n",
        "             with open(POSITION_FILE, 'r') as f:\n",
        "                 position_data = json.load(f)\n",
        "                 return position_data # Should now load the initial data\n",
        "        except:\n",
        "             return initial_position_data # Fallback if even re-creation fails (unlikely)\n",
        "    except FileNotFoundError:\n",
        "         # This case should theoretically not happen if create_position_file_if_not_exists works,\n",
        "         # but included for robustness.\n",
        "         print(f\"{POSITION_FILE} not found after creation attempt. Returning initial position.\")\n",
        "         return initial_position_data\n",
        "    except Exception as e:\n",
        "        print(f\"An unexpected error occurred while reading {POSITION_FILE}: {e}. Returning initial position.\")\n",
        "        return initial_position_data\n"
      ],
      "metadata": {
        "id": "39xwYNED0JHY"
      },
      "execution_count": null,
      "outputs": []
    },
    {
      "cell_type": "code",
      "source": [
        "def close_position():\n",
        "    try:\n",
        "        # api.close_position(SYMBOL)\n",
        "        print(\"Position closed.\")\n",
        "    except Exception as e:\n",
        "        print(f\"Close error: {e}\")"
      ],
      "metadata": {
        "id": "bpwpjW_bj3GF"
      },
      "execution_count": null,
      "outputs": []
    },
    {
      "cell_type": "code",
      "source": [
        "def save_position(data):\n",
        "    POSITION_FILE = 'position.json'\n",
        "    with open(POSITION_FILE, 'w') as f:\n",
        "      json.dump(data,f)\n",
        "    print(\"Positioned save\")"
      ],
      "metadata": {
        "id": "i_fI-gacj8DL"
      },
      "execution_count": null,
      "outputs": []
    },
    {
      "cell_type": "code",
      "source": [
        "def reset_position():\n",
        "    if os.path.exists(POSITION_FILE):\n",
        "        os.remove(POSITION_FILE)\n",
        "    print(\"Positioned reset\")"
      ],
      "metadata": {
        "id": "1X6LdYSFj_2j"
      },
      "execution_count": null,
      "outputs": []
    },
    {
      "cell_type": "code",
      "source": [
        "def place_order(side, qty, price):\n",
        "    try:\n",
        "        # api.submit_order(\n",
        "        #     symbol=SYMBOL,\n",
        "        #     qty=qty,\n",
        "        #     side=side,\n",
        "        #     type='limit',\n",
        "        #     limit_price=round(price, 2),\n",
        "        #     time_in_force='gtc'\n",
        "        # )\n",
        "        print(f\"{side.upper()} order placed at {price}\")\n",
        "    except Exception as e:\n",
        "        print(f\"Order error: {e}\")"
      ],
      "metadata": {
        "id": "dLZjZk_Nk9qO"
      },
      "execution_count": null,
      "outputs": []
    },
    {
      "cell_type": "code",
      "source": [
        "def log_trade(entry_time, exit_time, side, entry_price, exit_price, pnl):\n",
        "    # exists = os.path.exists(TRADE_LOG_FILE)\n",
        "    # with open(TRADE_LOG_FILE, 'a') as f:\n",
        "    #     if not exists:\n",
        "    #         f.write(\"entry_time,exit_time,side,entry_price,exit_price,pnl\\n\")\n",
        "    #     f.write(f\"{entry_time},{exit_time},{side},{entry_price},{exit_price},{pnl}\\n\")\n",
        "    print(\"Logged trade\")"
      ],
      "metadata": {
        "id": "4LF1yLGflqEL"
      },
      "execution_count": null,
      "outputs": []
    },
    {
      "cell_type": "code",
      "source": [
        "def check_daily_limits():\n",
        "    #List comphrension to a list of daily_list\n",
        "    daily_trades = [activity for activity in activities if datetime.fromisoformat(activity[\"transaction_time\"].isoformat()).date() == datetime.now().date()]\n",
        "    print(f\"daily trades: {daily_trades}\")\n",
        "    # Code into long way: for t in daily_trades if t.side in ['buy', 'sell']]\n",
        "\n",
        "    filtered_trades = []\n",
        "    for t in daily_trades:\n",
        "        if t['side'] in ['buy', 'sell']:\n",
        "            filtered_trades.append(t)\n",
        "    # Lets sum all pnl for today:\n",
        "    today_pnl = sum(trade[\"realized_pl\"] for trade in filtered_trades)\n",
        "    print(f\"Today's total PNL: {today_pnl}\")\n",
        "\n",
        "    try:\n",
        "        trade_count = len([t for t in daily_trades if t['side'] in ['buy', 'sell']])\n",
        "        print(f\"Trade count: {trade_count}\")\n",
        "        today_pnl = sum(trade[\"realized_pl\"] for trade in filtered_trades)\n",
        "        print(f\"Today's total PNL: {today_pnl}\")\n",
        "        print(f\"returning: {trade_count, today_pnl}\")\n",
        "        return trade_count, today_pnl\n",
        "    except Exception as e:\n",
        "        print(f\"Runtime error {e}\")\n",
        "        return 0, 0"
      ],
      "metadata": {
        "id": "jiJi0OpC65H2"
      },
      "execution_count": null,
      "outputs": []
    },
    {
      "cell_type": "code",
      "source": [
        "def get_data(symbol, timeframe='1m', limit=30):\n",
        "    try:\n",
        "        ticker = yf.Ticker(SYMBOL)\n",
        "\n",
        "        if timeframe == '1m':\n",
        "            df = ticker.history(period=\"1d\", interval=\"1m\")\n",
        "        elif timeframe == '5m':\n",
        "            df = ticker.history(period=\"1d\", interval=\"5m\")\n",
        "\n",
        "        df = ticker.history(period=\"1d\", interval=\"1m\")\n",
        "    # try:\n",
        "        # api_key = userdata.get('ALPACA_API_KEY')\n",
        "        # secret_key = userdata.get('ALPACA_SECRET_KEY')\n",
        "        # base_url = userdata.get('ALPACA_API_BASE_URL') # Default to paper trading URL\n",
        "\n",
        "        # if not api_key or not secret_key:\n",
        "        #     print(\"Alpaca API keys not found. Please set APCA_API_KEY_ID and APCA_API_SECRET_KEY environment variables.\")\n",
        "        # else:\n",
        "        #     api = tradeapi.REST(api_key, secret_key, base_url, api_version='v2')\n",
        "        #     client = StockHistoricalDataClient(API_KEY, API_SECRET)\n",
        "\n",
        "        #     end = datetime.now()\n",
        "        #     start = end - timedelta(minutes=limit)\n",
        "\n",
        "        #     request_params = StockBarsRequest(\n",
        "        #         symbol_or_symbols=symbol,\n",
        "        #         timeframe=TimeFrame(timeframe, TimeFrameUnit.Minute),\n",
        "        #         start=start,\n",
        "        #         end=end\n",
        "        #     )\n",
        "\n",
        "        #     bars = client.get_stock_bars(request_params).df\n",
        "        #     df = bars.reset_index().tail(limit)\n",
        "        #     df.set_index('timestamp', inplace=True)\n",
        "        return df\n",
        "    except Exception as e:\n",
        "        print(f\"Data error: {e}\")\n",
        "        return pd.DataFrame()"
      ],
      "metadata": {
        "id": "iIk_yS5zGNeA"
      },
      "execution_count": null,
      "outputs": []
    },
    {
      "cell_type": "code",
      "source": [
        "# Interactive chart with plotly\n",
        "def create_candlestick_chart(df):\n",
        "    # Create candlestick trace\n",
        "    candlestick = go.Candlestick(\n",
        "        x=df.index,\n",
        "        open=df['Open'],\n",
        "        high=df['High'],\n",
        "        low=df['Low'],\n",
        "        close=df['Close']\n",
        "    )\n",
        "\n",
        "    # Create figure and add trace\n",
        "    fig = go.Figure(data=[candlestick])\n",
        "\n",
        "    # Update layout\n",
        "    fig.update_layout(\n",
        "        title=f'{SYMBOL} Interactive Candlestick Chart',\n",
        "        xaxis_title='Time',\n",
        "        yaxis_title='Price',\n",
        "        xaxis_rangeslider_visible=False # Hide range slider\n",
        "    )\n",
        "\n",
        "    # Show the plot\n",
        "    fig.show()"
      ],
      "metadata": {
        "id": "u1fypkcRNRF-"
      },
      "execution_count": null,
      "outputs": []
    },
    {
      "cell_type": "code",
      "source": [
        "def calculate_ema(data, period=9):\n",
        "    return data['Close'].ewm(span=period, adjust=False).mean()"
      ],
      "metadata": {
        "id": "fIv9EPj2Sx_G"
      },
      "execution_count": null,
      "outputs": []
    },
    {
      "cell_type": "code",
      "source": [
        "def calculate_rsi(data, period=14):\n",
        "    delta = data['Close'].diff()\n",
        "    gain = delta.where(delta > 0, 0).rolling(window=period).mean()\n",
        "    loss = -delta.where(delta < 0, 0).rolling(window=period).mean()\n",
        "    rs = gain / loss\n",
        "    return 100 - (100 / (1 + rs))"
      ],
      "metadata": {
        "id": "SFh6Nf5cS7Dg"
      },
      "execution_count": null,
      "outputs": []
    },
    {
      "cell_type": "code",
      "source": [
        "def average_volume(data, window=20):\n",
        "    return data['Volume'].rolling(window=window).mean()"
      ],
      "metadata": {
        "id": "ZnsVhJvxS9VY"
      },
      "execution_count": null,
      "outputs": []
    },
    {
      "cell_type": "code",
      "source": [
        "def calculate_slope(series, window=5):\n",
        "    return series.diff().rolling(window=window).mean()"
      ],
      "metadata": {
        "id": "D9m57PfoS-x4"
      },
      "execution_count": null,
      "outputs": []
    },
    {
      "cell_type": "code",
      "source": [
        "def check_missing_values(df):\n",
        "    missing_values = df.isnull().sum()\n",
        "    missing_values = missing_values[missing_values > 0]\n",
        "    return missing_values"
      ],
      "metadata": {
        "id": "yLrue0zZWTqW"
      },
      "execution_count": null,
      "outputs": []
    },
    {
      "cell_type": "code",
      "source": [
        "# Remove columns 'Dividends' and 'Stock Splits'\n",
        "def remove_dividends_splits(df, columns):\n",
        "    try:\n",
        "        df = df.drop(columns=columns)\n",
        "    except Exception as e:\n",
        "        print(f\"Data error: {e}\")\n",
        "    return df"
      ],
      "metadata": {
        "id": "zjjqBiGAXYA5"
      },
      "execution_count": null,
      "outputs": []
    },
    {
      "cell_type": "code",
      "source": [
        "def trade():\n",
        "\n",
        "    position = load_position()\n",
        "    print(f\"position: {position}\")\n",
        "\n",
        "    # --- Modified Cooldown Check ---\n",
        "    now = datetime.now()\n",
        "    print(f\"now: {now}\")\n",
        "\n",
        "    # Check if last_exit is a non-empty string before attempting to parse\n",
        "    last_exit_str = position.get('last_exit', '') # Use .get to safely access, default to ''\n",
        "    print(f\"position['last_exit'] string: '{last_exit_str}'\")\n",
        "\n",
        "    if last_exit_str: # Check if the string is not empty\n",
        "        try:\n",
        "            last_exit = datetime.fromisoformat(last_exit_str)\n",
        "            print(f\"last_exit (parsed): {last_exit}\")\n",
        "\n",
        "            # Cooldown logic only applies if last_exit was successfully parsed\n",
        "            formatted_time = last_exit.strftime(\"%H:%M:%S\")\n",
        "            print(f\"formatted_time: {formatted_time}\")\n",
        "            time_from_last_exit = int((now - last_exit).total_seconds())\n",
        "            print(f\"time_from_last_exit: {time_from_last_exit}\")\n",
        "            time_left = COOLDOWN - time_from_last_exit\n",
        "            print(f\"time_left: {time_left}\")\n",
        "\n",
        "            if (time_left < COOLDOWN) and (time_left > 0):\n",
        "                print(f\"Cooldown active until {time_left} seconds from now. Last trade was at {formatted_time}\")\n",
        "                return # Exit the trade function if cooldown is active\n",
        "        except ValueError:\n",
        "            # Handle cases where the string is not a valid isoformat\n",
        "            print(f\"Warning: 'last_exit' value '{last_exit_str}' is not a valid ISO format. Assuming no recent exit for cooldown.\")\n",
        "            # Treat as if there was no recent exit (cooldown not active)\n",
        "            time_left = COOLDOWN + 1 # Ensure time_left is greater than COOLDOWN\n",
        "    else:\n",
        "        # If last_exit_str is empty, assume no recent exit (cooldown not active)\n",
        "        print(\"'last_exit' is empty. Assuming no recent exit for cooldown.\")\n",
        "        time_left = COOLDOWN + 1 # Ensure time_left is greater than COOLDOWN\n",
        "\n",
        "    # Rest of your trade logic continues here if cooldown is not active\n",
        "    trade_count, daily_pnl = check_daily_limits()\n",
        "    if trade_count >= MAX_TRADES_PER_DAY or daily_pnl <= -DAILY_LOSS_LIMIT:\n",
        "        print(\"Daily limit reached.\")\n",
        "        return\n",
        "\n",
        "    df_1m = get_data(SYMBOL, '1m', 30)\n",
        "    df_5m = get_data(SYMBOL, '5m', 30)\n",
        "\n",
        "    if df_1m.empty or df_5m.empty:\n",
        "        print(\"Data unavailable.\")\n",
        "        return\n",
        "\n",
        "    df_1m['ema9'] = calculate_ema(df_1m)\n",
        "    df_1m['rsi'] = calculate_rsi(df_1m)\n",
        "    df_1m['avg_volume'] = average_volume(df_1m)\n",
        "\n",
        "    df_5m['ema50'] = calculate_ema(df_5m, 50)\n",
        "    df_5m['slope50'] = calculate_slope(df_5m['ema50'])\n",
        "\n",
        "    last = df_1m.iloc[-1].copy()\n",
        "    #print(\"Raw last row values:\")\n",
        "    for k, v in last.items():\n",
        "        print(f\"  {k}: {v}\")\n",
        "\n",
        "    # convert the values in the last row of that DataFrame to a consistent numeric format.\n",
        "    numerical_columns = df_1m.select_dtypes(include='number').columns.tolist()\n",
        "    #print(f\"Numeric columns: {numerical_columns}\")\n",
        "    for col in numerical_columns:\n",
        "        try:\n",
        "            val = last[col]\n",
        "            if pd.isna(val) or str(val).strip() in ['', 'None', 'nan', 'NaN']:\n",
        "                raise ValueError(f\"Missing or empty value for {col}\")\n",
        "                val = float(val) if isinstance(val, (int, float)) else float(str(val).replace(',', '').strip())\n",
        "                last[col] = val\n",
        "        except Exception as e:\n",
        "            print(f\"Data conversion error for '{col}': {e}\")\n",
        "\n",
        "    #last\n",
        "\n",
        "    slope = float(df_5m['slope50'].iloc[-1])\n",
        "    print(f\"Slope: {slope}\")\n",
        "    side = position.get('side')\n",
        "    print(f\"Side: {side}\")\n",
        "    qty = position.get('qty', 0)\n",
        "    print(f\"Qty: {qty}\")\n",
        "    entry_price = position.get('entry_price', 0)\n",
        "    print(f\"Entry price: {entry_price}\")\n",
        "    buying_power = 100000 #float(api.get_account().cash)\n",
        "    trade_qty = int((buying_power * POSITION_SIZE_PCT) / last['Close'])\n",
        "    print(f\"Trade qty: {trade_qty}\")\n",
        "\n",
        "    # No position\n",
        "    if not side:\n",
        "        print(\"No position found\")\n",
        "        save_position({'side': 'long', 'entry_price': 100, 'qty': trade_qty, 'high': 200, 'entry_time': now.isoformat()})\n",
        "        # if last['Close'] > last['Open'] and last['Close'] > last['ema9'] and last['rsi'] < 65 and last['Volume'] > last['avg_volume'] and slope > 0:\n",
        "        #     price = last['Close'] * 1.001\n",
        "        #     place_order('buy', trade_qty, price)\n",
        "        #     save_position({'side': 'long', 'entry_price': price, 'qty': trade_qty, 'high': price, 'entry_time': now.isoformat()})\n",
        "\n",
        "        # elif last['Close'] < last['Open'] and last['Close'] < last['ema9'] and last['rsi'] > 55 and last['Volume'] > last['avg_volume'] and slope < 0:\n",
        "        #     price = last['Close'] * 0.999\n",
        "        #     place_order('sell', trade_qty, price)\n",
        "        #     save_position({'side': 'short', 'entry_price': price, 'qty': trade_qty, 'low': price, 'entry_time': now.isoformat()})\n",
        "\n",
        "    # Long Position\n",
        "    elif side == 'long':\n",
        "        print(\"Long Position\")\n",
        "        position['high'] = max(position['high'], last['Close'])\n",
        "        trail_stop = position['high'] * (1 - TRAILING_STOP_PCT)\n",
        "        print(f\"[LONG] Comparing last['Close'] = {last['Close']} (type: {type(last['Close'])}) to trail_stop = {trail_stop}\")\n",
        "        last_close = float(last['Close'])\n",
        "        if last_close <= trail_stop or last_close < last['ema9']:\n",
        "            close_position()\n",
        "            exit_price = last['Close']\n",
        "            pnl = (exit_price - entry_price) * qty\n",
        "            log_trade(position['entry_time'], now.isoformat(), side, entry_price, exit_price, pnl)\n",
        "            #reset_position()\n",
        "            save_position({'last_exit': now.isoformat()})\n",
        "\n",
        "    # Short Position\n",
        "    elif side == 'short':\n",
        "        print(\"Short Position\")\n",
        "        position['low'] = min(position['low'], last['Close'])\n",
        "        trail_stop = position['low'] * (1 + TRAILING_STOP_PCT)\n",
        "        print(f\"[SHORT] Comparing last['Close'] = {last['Close']} (type: {type(last['Close'])}) to trail_stop = {trail_stop}\")\n",
        "        last_close = float(last['Close'])\n",
        "        if last_close >= trail_stop or last_close > last['ema9']:\n",
        "            close_position()\n",
        "            exit_price = last['Close']\n",
        "            pnl = (entry_price - exit_price) * qty\n",
        "            log_trade(position['entry_time'], now.isoformat(), side, entry_price, exit_price, pnl)\n",
        "            #reset_position()\n",
        "            save_position({'last_exit': now.isoformat()})\n"
      ],
      "metadata": {
        "id": "o_v5Tg1-zlcK"
      },
      "execution_count": null,
      "outputs": []
    },
    {
      "cell_type": "code",
      "source": [
        "try:\n",
        "    trade()\n",
        "except Exception as e:\n",
        "    print(f\"Runtime error: {e}\")\n",
        "#time.sleep(60)"
      ],
      "metadata": {
        "colab": {
          "base_uri": "https://localhost:8080/"
        },
        "id": "fu7nSeWdt9PT",
        "outputId": "7fe95fc4-9fd5-4fda-eb77-518a5ca44c7e"
      },
      "execution_count": null,
      "outputs": [
        {
          "output_type": "stream",
          "name": "stdout",
          "text": [
            "'position.json' already exists.\n",
            "Successfully loaded position from position.json\n",
            "position: {'last_exit': '2025-06-08T20:27:25.835136'}\n",
            "now: 2025-06-08 20:27:46.097993\n",
            "position['last_exit'] string: '2025-06-08T20:27:25.835136'\n",
            "last_exit (parsed): 2025-06-08 20:27:25.835136\n",
            "formatted_time: 20:27:25\n",
            "time_from_last_exit: 20\n",
            "time_left: 0\n",
            "daily trades: [{'symbol': 'TSLA', 'side': 'buy', 'transaction_time': datetime.datetime(2025, 6, 8, 18, 23, 31, 29636), 'realized_pl': 0.0}, {'symbol': 'TSLA', 'side': 'sell', 'transaction_time': datetime.datetime(2025, 6, 8, 18, 53, 31, 29649), 'realized_pl': 15.75}, {'symbol': 'TSLA', 'side': 'buy', 'transaction_time': datetime.datetime(2025, 6, 8, 19, 38, 31, 29653), 'realized_pl': 0.0}, {'symbol': 'TSLA', 'side': 'sell', 'transaction_time': datetime.datetime(2025, 6, 8, 19, 53, 31, 29657), 'realized_pl': -5.25}]\n",
            "Today's total PNL: 10.5\n",
            "Trade count: 4\n",
            "Today's total PNL: 10.5\n",
            "returning: (4, 10.5)\n",
            "  Open: 295.6700134277344\n",
            "  High: 295.69000244140625\n",
            "  Low: 295.05999755859375\n",
            "  Close: 295.125\n",
            "  Volume: 1221619.0\n",
            "  Dividends: 0.0\n",
            "  Stock Splits: 0.0\n",
            "  ema9: 295.4017449889884\n",
            "  rsi: 46.88505523087689\n",
            "  avg_volume: 636321.35\n",
            "Slope: -0.07000483899181517\n",
            "Side: None\n",
            "Qty: 0\n",
            "Entry price: 0\n",
            "Trade qty: 33\n",
            "No position found\n",
            "Positioned save\n"
          ]
        }
      ]
    },
    {
      "cell_type": "markdown",
      "source": [],
      "metadata": {
        "id": "CBdRzugeCSlw"
      }
    }
  ]
}