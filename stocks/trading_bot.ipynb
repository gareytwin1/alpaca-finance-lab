{
  "cells": [
    {
      "cell_type": "code",
      "execution_count": 1,
      "metadata": {
        "colab": {
          "base_uri": "https://localhost:8080/"
        },
        "id": "M4m9Xfrjmb-j",
        "outputId": "772f49ff-058c-4d1e-88ef-9da6df1d6bed"
      },
      "outputs": [],
      "source": [
        "# !pip install alpaca-trade-api"
      ]
    },
    {
      "cell_type": "code",
      "execution_count": 114,
      "metadata": {
        "id": "CIYZB6Z-jpdz"
      },
      "outputs": [],
      "source": [
        "import alpaca_trade_api as tradeapi\n",
        "from alpaca.data.historical import StockHistoricalDataClient\n",
        "from alpaca.data.requests import StockBarsRequest\n",
        "from alpaca.data.timeframe import TimeFrame, TimeFrameUnit\n",
        "import config\n",
        "from datetime import datetime, timedelta, timezone\n",
        "import json\n",
        "import mplfinance as mpf\n",
        "import matplotlib.pyplot as plt\n",
        "import os\n",
        "import pandas as pd\n",
        "import polars as pl\n",
        "import plotly.graph_objects as go\n",
        "import seaborn as sns\n",
        "import time\n"
      ]
    },
    {
      "cell_type": "code",
      "execution_count": null,
      "metadata": {
        "id": "CvI-UYfC5wkd"
      },
      "outputs": [],
      "source": [
        "POSITION_FILE: str = 'position.json' \n",
        "\n",
        "SYMBOL = 'SPY'\n",
        "\n",
        "# Initial position dictionary\n",
        "initial_position_data = {\n",
        "    \"side\": \"long\",\n",
        "    \"entry_price\": 180.50,\n",
        "    \"qty\": 10,\n",
        "    \"high\": 180.50,\n",
        "    \"low\": 180.00,\n",
        "    \"entry_time\": datetime.now().isoformat(),\n",
        "    \"last_exit\": \"\"\n",
        "} \n",
        "\n",
        "# # Simulated activities\n",
        "# activities = [{\n",
        "#         \"symbol\": SYMBOL,\n",
        "#         \"side\": \"buy\",\n",
        "#         \"transaction_time\": datetime.now() - timedelta(hours=2),\n",
        "#         \"realized_pl\": 0.00},\n",
        "#     {\n",
        "#         \"symbol\": SYMBOL,\n",
        "#         \"side\": \"sell\",\n",
        "#         \"transaction_time\": datetime.now() - timedelta(hours=1, minutes=30),\n",
        "#         \"realized_pl\": 15.75},\n",
        "#     {\n",
        "#         \"symbol\": SYMBOL,\n",
        "#         \"side\": \"buy\",\n",
        "#         \"transaction_time\": datetime.now() - timedelta(minutes=45),\n",
        "#         \"realized_pl\": 0.00},\n",
        "#     {\n",
        "#         \"symbol\": SYMBOL,\n",
        "#         \"side\": \"sell\",\n",
        "#         \"transaction_time\": datetime.now() - timedelta(minutes=30),\n",
        "#         \"realized_pl\": -5.25}]"
      ]
    },
    {
      "cell_type": "code",
      "execution_count": 4,
      "metadata": {
        "id": "NjP1BVyK148p"
      },
      "outputs": [],
      "source": [
        "def create_position_file_if_not_exists():\n",
        "    \"\"\"Creates the position.json file with initial data if it doesn't exist.\"\"\"\n",
        "    if not os.path.exists(POSITION_FILE):\n",
        "        try:\n",
        "            with open(POSITION_FILE, 'w') as f:\n",
        "                json.dump(initial_position_data, f, indent=4)\n",
        "            print(f\"'{POSITION_FILE}' not found. Created and initialized it.\")\n",
        "        except Exception as e:\n",
        "            print(f\"Error creating '{POSITION_FILE}': {e}\")\n",
        "    else:\n",
        "        print(f\"'{POSITION_FILE}' already exists.\")"
      ]
    },
    {
      "cell_type": "code",
      "execution_count": 5,
      "metadata": {},
      "outputs": [
        {
          "name": "stdout",
          "output_type": "stream",
          "text": [
            "'position.json' not found. Created and initialized it.\n"
          ]
        }
      ],
      "source": [
        "create_position_file_if_not_exists()"
      ]
    },
    {
      "cell_type": "code",
      "execution_count": 6,
      "metadata": {
        "id": "39xwYNED0JHY"
      },
      "outputs": [],
      "source": [
        "def load_position() -> dict:\n",
        "    \"\"\"Loads the trading position from the position.json file.\"\"\"\n",
        "    # Ensure the file exists before attempting to load\n",
        "    create_position_file_if_not_exists()\n",
        "    try:\n",
        "        with open(POSITION_FILE, 'r') as f:\n",
        "            position_data = json.load(f)\n",
        "            print(f\"Successfully loaded position from {POSITION_FILE}\")\n",
        "            return position_data\n",
        "    except json.JSONDecodeError:\n",
        "        print(f\"Error decoding JSON from {POSITION_FILE}. File might be corrupted.\")\n",
        "        # file is corrupted, lets delete it and re-create\n",
        "        os.remove(POSITION_FILE)\n",
        "        print(f\"Deleted corrupted {POSITION_FILE}. Re-creating it.\")\n",
        "        try:\n",
        "             with open(POSITION_FILE, 'r') as f:\n",
        "                 position_data = json.load(f)\n",
        "                 return position_data # Should now load the initial data\n",
        "        except:\n",
        "             return initial_position_data # Fallback if even re-creation fails (unlikely)\n",
        "    except Exception as e:\n",
        "        print(f\"An unexpected error occurred while reading {POSITION_FILE}: {e}. Returning initial position.\")\n",
        "        return initial_position_data\n"
      ]
    },
    {
      "cell_type": "code",
      "execution_count": 7,
      "metadata": {},
      "outputs": [
        {
          "name": "stdout",
          "output_type": "stream",
          "text": [
            "'position.json' already exists.\n",
            "Successfully loaded position from position.json\n"
          ]
        },
        {
          "data": {
            "text/plain": [
              "{'side': 'long',\n",
              " 'entry_price': 180.5,\n",
              " 'qty': 10,\n",
              " 'high': 180.5,\n",
              " 'low': 180.0,\n",
              " 'entry_time': '2025-06-13T12:55:02.843897',\n",
              " 'last_exit': ''}"
            ]
          },
          "execution_count": 7,
          "metadata": {},
          "output_type": "execute_result"
        }
      ],
      "source": [
        "load_position()"
      ]
    },
    {
      "cell_type": "code",
      "execution_count": 8,
      "metadata": {
        "id": "bpwpjW_bj3GF"
      },
      "outputs": [],
      "source": [
        "def close_position():\n",
        "    \"\"\"Closes the current trading position.\"\"\"\n",
        "    try:\n",
        "        # api.close_position(SYMBOL)\n",
        "        print(\"Position closed.\")\n",
        "        # reset_position()\n",
        "    except Exception as e:\n",
        "        print(f\"Close error: {e}\")"
      ]
    },
    {
      "cell_type": "code",
      "execution_count": 9,
      "metadata": {
        "id": "i_fI-gacj8DL"
      },
      "outputs": [],
      "source": [
        "def save_position(data):\n",
        "    \"\"\"Saves the current trading position to the position.json file.\"\"\"\n",
        "    POSITION_FILE = 'position.json'\n",
        "    with open(POSITION_FILE, 'w') as f:\n",
        "        json.dump(data, f)\n",
        "    print(\"Position saved\")"
      ]
    },
    {
      "cell_type": "code",
      "execution_count": 10,
      "metadata": {
        "id": "1X6LdYSFj_2j"
      },
      "outputs": [],
      "source": [
        "def reset_position():\n",
        "    \"\"\"Resets the position by deleting the position.json file.\"\"\"\n",
        "    POSITION_FILE = 'position.json'\n",
        "    if os.path.exists(POSITION_FILE):\n",
        "        os.remove(POSITION_FILE)\n",
        "    print(\"Positioned reset\")"
      ]
    },
    {
      "cell_type": "code",
      "execution_count": 11,
      "metadata": {},
      "outputs": [
        {
          "name": "stdout",
          "output_type": "stream",
          "text": [
            "Positioned reset\n"
          ]
        }
      ],
      "source": [
        "reset_position()"
      ]
    },
    {
      "cell_type": "code",
      "execution_count": 12,
      "metadata": {},
      "outputs": [],
      "source": [
        "# writte a function that connects tto Alpaca API and returns the api object\n",
        "def connect_to_alpaca() -> tradeapi.REST | None:\n",
        "    \"\"\"Connects to the Alpaca API and returns the API object.\"\"\"\n",
        "    api_key = os.getenv(\"ALPACA_API_KEY\")\n",
        "    api_secret = os.getenv(\"ALPACA_SECRET_KEY\")\n",
        "    api_url = os.getenv(\"ALPACA_BASE_URL\", \"https://paper-api.alpaca.markets\")\n",
        "\n",
        "    if not api_key or not api_secret:\n",
        "        print(\"API key and secret must be set in environment variables.\")\n",
        "        return None\n",
        "    \n",
        "    try:\n",
        "        api = tradeapi.REST(\n",
        "            key_id=api_key,\n",
        "            secret_key=api_secret,\n",
        "            base_url=api_url\n",
        "        )\n",
        "        print(\"Connected to Alpaca API\")\n",
        "        return api\n",
        "    except Exception as e:\n",
        "        print(f\"Error connecting to Alpaca API: {e}\")\n",
        "        return None\n"
      ]
    },
    {
      "cell_type": "code",
      "execution_count": 13,
      "metadata": {},
      "outputs": [
        {
          "name": "stdout",
          "output_type": "stream",
          "text": [
            "Connected to Alpaca API\n",
            "Account status: ACTIVE\n",
            "Account equity: 99957.69\n",
            "Account buying power: 360511.34\n"
          ]
        }
      ],
      "source": [
        "api = connect_to_alpaca()\n",
        "if api is None:\n",
        "    print(\"Failed to connect to Alpaca API. Exiting.\")\n",
        "    exit(1)\n",
        "# get account information\n",
        "account = api.get_account()\n",
        "print(f\"Account status: {account.status}\")\n",
        "print(f\"Account equity: {account.equity}\")\n",
        "print(f\"Account buying power: {account.buying_power}\")"
      ]
    },
    {
      "cell_type": "code",
      "execution_count": 14,
      "metadata": {},
      "outputs": [],
      "source": [
        "def fetch_positions(api) -> list:\n",
        "    \"\"\"Fetches and returns the current open positions.\"\"\"\n",
        "    try:\n",
        "        positions = api.list_positions()\n",
        "        if positions:\n",
        "            for position in positions:\n",
        "                print(f\"Symbol: {position.symbol}, Qty: {position.qty}, Side: {position.side}, Market Value: {position.market_value}\")\n",
        "        else:\n",
        "            print(\"No open positions.\")\n",
        "        return positions\n",
        "    except Exception as e:\n",
        "        print(f\"Error fetching positions: {e}\")\n",
        "        return []"
      ]
    },
    {
      "cell_type": "code",
      "execution_count": 15,
      "metadata": {},
      "outputs": [
        {
          "name": "stdout",
          "output_type": "stream",
          "text": [
            "Symbol: SPY, Qty: 55.459157247, Side: long, Market Value: 33271.057616\n"
          ]
        }
      ],
      "source": [
        "positions = fetch_positions(api)"
      ]
    },
    {
      "cell_type": "code",
      "execution_count": 16,
      "metadata": {},
      "outputs": [],
      "source": [
        "def fetch_activities(api, symbol='SPY', after=None) -> list:\n",
        "    \"\"\"Fetches and returns account activities for a specific symbol.\"\"\"\n",
        "    try:\n",
        "        activities = api.get_activities(activity_types=['FILL'], after=after)\n",
        "        symbol_activities = [activity for activity in activities if activity.symbol == symbol]\n",
        "        if symbol_activities:\n",
        "            for activity in symbol_activities:\n",
        "                realized_pl = getattr(activity, \"realized_pl\", None)\n",
        "                print(f\"Symbol: {activity.symbol}, Side: {activity.side}, Qty: {activity.qty}, Price: {activity.price}, Time: {activity.transaction_time}, P/L: {realized_pl}\")\n",
        "        else:\n",
        "            print(f\"No activities found for symbol {symbol}.\")\n",
        "        return symbol_activities\n",
        "    except Exception as e:\n",
        "        print(f\"Error fetching activities: {e}\")\n",
        "        return []"
      ]
    },
    {
      "cell_type": "code",
      "execution_count": 17,
      "metadata": {},
      "outputs": [
        {
          "name": "stdout",
          "output_type": "stream",
          "text": [
            "Symbol: SPY, Side: sell, Qty: 0.01, Price: 601.032, Time: 2025-06-10 15:10:01.060081+00:00, P/L: None\n",
            "Symbol: SPY, Side: buy, Qty: 5, Price: 601.09, Time: 2025-06-10 15:09:41.580214+00:00, P/L: None\n",
            "Symbol: SPY, Side: buy, Qty: 1, Price: 601.15, Time: 2025-06-10 15:09:18.337749+00:00, P/L: None\n",
            "Symbol: SPY, Side: buy, Qty: 0.001829801, Price: 601.158, Time: 2025-06-10 15:09:13.593033+00:00, P/L: None\n",
            "Symbol: SPY, Side: buy, Qty: 0.5, Price: 601.19, Time: 2025-06-10 15:09:11.287751+00:00, P/L: None\n",
            "Symbol: SPY, Side: buy, Qty: 1, Price: 601.19, Time: 2025-06-10 15:09:11.285849+00:00, P/L: None\n",
            "Symbol: SPY, Side: buy, Qty: 2, Price: 601.19, Time: 2025-06-10 15:09:11.139781+00:00, P/L: None\n",
            "Symbol: SPY, Side: buy, Qty: 2, Price: 601.21, Time: 2025-06-10 15:09:10.868010+00:00, P/L: None\n",
            "Symbol: SPY, Side: sell, Qty: 0.01, Price: 600.982, Time: 2025-06-10 15:00:51.865423+00:00, P/L: None\n",
            "Symbol: SPY, Side: buy, Qty: 1, Price: 601.02, Time: 2025-06-10 15:00:25.313495+00:00, P/L: None\n",
            "Symbol: SPY, Side: buy, Qty: 1, Price: 601.01, Time: 2025-06-10 15:00:25.023907+00:00, P/L: None\n",
            "Symbol: SPY, Side: buy, Qty: 3, Price: 601.01, Time: 2025-06-10 15:00:24.861043+00:00, P/L: None\n",
            "Symbol: SPY, Side: buy, Qty: 1, Price: 600.97, Time: 2025-06-10 15:00:20.692504+00:00, P/L: None\n",
            "Symbol: SPY, Side: buy, Qty: 0.00183038, Price: 600.968, Time: 2025-06-10 15:00:15.043411+00:00, P/L: None\n",
            "Symbol: SPY, Side: buy, Qty: 0.5, Price: 601.01, Time: 2025-06-10 15:00:12.216695+00:00, P/L: None\n",
            "Symbol: SPY, Side: buy, Qty: 5, Price: 601.01, Time: 2025-06-10 15:00:12.214904+00:00, P/L: None\n",
            "Symbol: SPY, Side: sell, Qty: 0.01, Price: 601.272, Time: 2025-06-10 14:57:28.301675+00:00, P/L: None\n",
            "Symbol: SPY, Side: buy, Qty: 2, Price: 601.29, Time: 2025-06-10 14:56:49.232346+00:00, P/L: None\n",
            "Symbol: SPY, Side: buy, Qty: 1, Price: 601.29, Time: 2025-06-10 14:56:48.972204+00:00, P/L: None\n",
            "Symbol: SPY, Side: buy, Qty: 2, Price: 601.29, Time: 2025-06-10 14:56:48.726122+00:00, P/L: None\n",
            "Symbol: SPY, Side: buy, Qty: 1, Price: 601.47, Time: 2025-06-10 14:55:08.247762+00:00, P/L: None\n",
            "Symbol: SPY, Side: buy, Qty: 0.001828737, Price: 601.508, Time: 2025-06-10 14:55:02.006184+00:00, P/L: None\n",
            "Symbol: SPY, Side: buy, Qty: 0.5, Price: 601.51, Time: 2025-06-10 14:54:59.239718+00:00, P/L: None\n",
            "Symbol: SPY, Side: buy, Qty: 4, Price: 601.51, Time: 2025-06-10 14:54:59.238214+00:00, P/L: None\n",
            "Symbol: SPY, Side: buy, Qty: 1, Price: 601.51, Time: 2025-06-10 14:54:59.035878+00:00, P/L: None\n",
            "Symbol: SPY, Side: sell, Qty: 0.01, Price: 599.602, Time: 2025-06-09 16:11:08.216981+00:00, P/L: None\n",
            "Symbol: SPY, Side: buy, Qty: 1, Price: 599.6, Time: 2025-06-09 16:11:06.656009+00:00, P/L: None\n",
            "Symbol: SPY, Side: buy, Qty: 3, Price: 599.6, Time: 2025-06-09 16:11:06.409799+00:00, P/L: None\n",
            "Symbol: SPY, Side: buy, Qty: 1, Price: 599.59, Time: 2025-06-09 16:11:06.130747+00:00, P/L: None\n",
            "Symbol: SPY, Side: buy, Qty: 0.001834593, Price: 599.588, Time: 2025-06-09 16:11:04.769580+00:00, P/L: None\n",
            "Symbol: SPY, Side: buy, Qty: 0.5, Price: 599.59, Time: 2025-06-09 16:11:04.752685+00:00, P/L: None\n",
            "Symbol: SPY, Side: buy, Qty: 5, Price: 599.59, Time: 2025-06-09 16:11:04.751054+00:00, P/L: None\n",
            "Symbol: SPY, Side: sell, Qty: 0.01, Price: 599.892, Time: 2025-06-09 16:01:54.264235+00:00, P/L: None\n",
            "Symbol: SPY, Side: buy, Qty: 1, Price: 599.84, Time: 2025-06-09 15:59:30.233396+00:00, P/L: None\n",
            "Symbol: SPY, Side: buy, Qty: 2, Price: 599.84, Time: 2025-06-09 15:59:29.903937+00:00, P/L: None\n",
            "Symbol: SPY, Side: buy, Qty: 2, Price: 599.84, Time: 2025-06-09 15:59:29.423961+00:00, P/L: None\n",
            "Symbol: SPY, Side: buy, Qty: 0.001833736, Price: 599.868, Time: 2025-06-09 15:59:06.294021+00:00, P/L: None\n",
            "Symbol: SPY, Side: buy, Qty: 0.5, Price: 599.84, Time: 2025-06-09 15:58:57.484277+00:00, P/L: None\n",
            "Symbol: SPY, Side: buy, Qty: 1, Price: 599.84, Time: 2025-06-09 15:58:57.482423+00:00, P/L: None\n",
            "Symbol: SPY, Side: buy, Qty: 2, Price: 599.84, Time: 2025-06-09 15:58:57.282452+00:00, P/L: None\n",
            "Symbol: SPY, Side: buy, Qty: 2, Price: 599.84, Time: 2025-06-09 15:58:57.049331+00:00, P/L: None\n",
            "Recent activity: sell 0.01 shares of SPY at 601.032 on 2025-06-10 15:10:01.060081+00:00\n",
            "Recent activity: buy 5 shares of SPY at 601.09 on 2025-06-10 15:09:41.580214+00:00\n",
            "Recent activity: buy 1 shares of SPY at 601.15 on 2025-06-10 15:09:18.337749+00:00\n",
            "Recent activity: buy 0.001829801 shares of SPY at 601.158 on 2025-06-10 15:09:13.593033+00:00\n",
            "Recent activity: buy 0.5 shares of SPY at 601.19 on 2025-06-10 15:09:11.287751+00:00\n",
            "Recent activity: buy 1 shares of SPY at 601.19 on 2025-06-10 15:09:11.285849+00:00\n",
            "Recent activity: buy 2 shares of SPY at 601.19 on 2025-06-10 15:09:11.139781+00:00\n",
            "Recent activity: buy 2 shares of SPY at 601.21 on 2025-06-10 15:09:10.868010+00:00\n",
            "Recent activity: sell 0.01 shares of SPY at 600.982 on 2025-06-10 15:00:51.865423+00:00\n",
            "Recent activity: buy 1 shares of SPY at 601.02 on 2025-06-10 15:00:25.313495+00:00\n",
            "Recent activity: buy 1 shares of SPY at 601.01 on 2025-06-10 15:00:25.023907+00:00\n",
            "Recent activity: buy 3 shares of SPY at 601.01 on 2025-06-10 15:00:24.861043+00:00\n",
            "Recent activity: buy 1 shares of SPY at 600.97 on 2025-06-10 15:00:20.692504+00:00\n",
            "Recent activity: buy 0.00183038 shares of SPY at 600.968 on 2025-06-10 15:00:15.043411+00:00\n",
            "Recent activity: buy 0.5 shares of SPY at 601.01 on 2025-06-10 15:00:12.216695+00:00\n",
            "Recent activity: buy 5 shares of SPY at 601.01 on 2025-06-10 15:00:12.214904+00:00\n",
            "Recent activity: sell 0.01 shares of SPY at 601.272 on 2025-06-10 14:57:28.301675+00:00\n",
            "Recent activity: buy 2 shares of SPY at 601.29 on 2025-06-10 14:56:49.232346+00:00\n",
            "Recent activity: buy 1 shares of SPY at 601.29 on 2025-06-10 14:56:48.972204+00:00\n",
            "Recent activity: buy 2 shares of SPY at 601.29 on 2025-06-10 14:56:48.726122+00:00\n",
            "Recent activity: buy 1 shares of SPY at 601.47 on 2025-06-10 14:55:08.247762+00:00\n",
            "Recent activity: buy 0.001828737 shares of SPY at 601.508 on 2025-06-10 14:55:02.006184+00:00\n",
            "Recent activity: buy 0.5 shares of SPY at 601.51 on 2025-06-10 14:54:59.239718+00:00\n",
            "Recent activity: buy 4 shares of SPY at 601.51 on 2025-06-10 14:54:59.238214+00:00\n",
            "Recent activity: buy 1 shares of SPY at 601.51 on 2025-06-10 14:54:59.035878+00:00\n",
            "Recent activity: sell 0.01 shares of SPY at 599.602 on 2025-06-09 16:11:08.216981+00:00\n",
            "Recent activity: buy 1 shares of SPY at 599.6 on 2025-06-09 16:11:06.656009+00:00\n",
            "Recent activity: buy 3 shares of SPY at 599.6 on 2025-06-09 16:11:06.409799+00:00\n",
            "Recent activity: buy 1 shares of SPY at 599.59 on 2025-06-09 16:11:06.130747+00:00\n",
            "Recent activity: buy 0.001834593 shares of SPY at 599.588 on 2025-06-09 16:11:04.769580+00:00\n",
            "Recent activity: buy 0.5 shares of SPY at 599.59 on 2025-06-09 16:11:04.752685+00:00\n",
            "Recent activity: buy 5 shares of SPY at 599.59 on 2025-06-09 16:11:04.751054+00:00\n",
            "Recent activity: sell 0.01 shares of SPY at 599.892 on 2025-06-09 16:01:54.264235+00:00\n",
            "Recent activity: buy 1 shares of SPY at 599.84 on 2025-06-09 15:59:30.233396+00:00\n",
            "Recent activity: buy 2 shares of SPY at 599.84 on 2025-06-09 15:59:29.903937+00:00\n",
            "Recent activity: buy 2 shares of SPY at 599.84 on 2025-06-09 15:59:29.423961+00:00\n",
            "Recent activity: buy 0.001833736 shares of SPY at 599.868 on 2025-06-09 15:59:06.294021+00:00\n",
            "Recent activity: buy 0.5 shares of SPY at 599.84 on 2025-06-09 15:58:57.484277+00:00\n",
            "Recent activity: buy 1 shares of SPY at 599.84 on 2025-06-09 15:58:57.482423+00:00\n",
            "Recent activity: buy 2 shares of SPY at 599.84 on 2025-06-09 15:58:57.282452+00:00\n",
            "Recent activity: buy 2 shares of SPY at 599.84 on 2025-06-09 15:58:57.049331+00:00\n"
          ]
        }
      ],
      "source": [
        "# Fetch activities\n",
        "activities = fetch_activities(api, after=(datetime.now() - timedelta(days=5)).isoformat() + 'Z')\n",
        "if activities:\n",
        "    for activity in activities:\n",
        "        print(f\"Recent activity: {activity.side} {activity.qty} shares of {activity.symbol} at {activity.price} on {activity.transaction_time}\")\n",
        "else:\n",
        "    print(\"No recent activities.\")"
      ]
    },
    {
      "cell_type": "code",
      "execution_count": 18,
      "metadata": {},
      "outputs": [],
      "source": [
        "def fetch_open_orders(api, symbol='SPY') -> list:\n",
        "    \"\"\"Fetches and returns open orders for a specific symbol.\"\"\"\n",
        "    try:\n",
        "        orders = api.list_orders(status='open', symbols=[symbol])\n",
        "        if orders:\n",
        "            for order in orders:\n",
        "                print(f\"Order ID: {order.id}, Symbol: {order.symbol}, Qty: {order.qty}, Side: {order.side}, Type: {order.type}, Status: {order.status}\")\n",
        "        else:\n",
        "            print(f\"No open orders for symbol {symbol}.\")\n",
        "        return orders\n",
        "    except Exception as e:\n",
        "        print(f\"Error fetching open orders: {e}\")\n",
        "        return []\n"
      ]
    },
    {
      "cell_type": "code",
      "execution_count": 19,
      "metadata": {},
      "outputs": [
        {
          "name": "stdout",
          "output_type": "stream",
          "text": [
            "No open orders for symbol SPY.\n"
          ]
        }
      ],
      "source": [
        "open_orders = fetch_open_orders(api)"
      ]
    },
    {
      "cell_type": "code",
      "execution_count": 20,
      "metadata": {},
      "outputs": [],
      "source": [
        "def fetch_market_clock(api):\n",
        "    \"\"\"Fetches and prints the current market clock information.\"\"\"\n",
        "    try:\n",
        "        clock = api.get_clock()\n",
        "        print(f\"Market is currently {'open' if clock.is_open else 'closed'}. Next open: {clock.next_open}, Next close: {clock.next_close}\")\n",
        "        return clock\n",
        "    except Exception as e:\n",
        "        print(f\"Error fetching market clock: {e}\")\n",
        "        return None"
      ]
    },
    {
      "cell_type": "code",
      "execution_count": 22,
      "metadata": {},
      "outputs": [
        {
          "name": "stdout",
          "output_type": "stream",
          "text": [
            "Market is currently open. Next open: 2025-06-16 09:30:00-04:00, Next close: 2025-06-13 16:00:00-04:00\n"
          ]
        },
        {
          "data": {
            "text/plain": [
              "Clock({   'is_open': True,\n",
              "    'next_close': '2025-06-13T16:00:00-04:00',\n",
              "    'next_open': '2025-06-16T09:30:00-04:00',\n",
              "    'timestamp': '2025-06-13T13:55:47.061261004-04:00'})"
            ]
          },
          "execution_count": 22,
          "metadata": {},
          "output_type": "execute_result"
        }
      ],
      "source": [
        "fetch_market_clock(api)"
      ]
    },
    {
      "cell_type": "code",
      "execution_count": 23,
      "metadata": {},
      "outputs": [],
      "source": [
        "def fetch_market_calendar(api, start_date, end_date) -> list:\n",
        "    \"\"\"Fetches and returns the market calendar between specified dates.\"\"\"\n",
        "    try:\n",
        "        calendar = api.get_calendar(start=start_date, end=end_date)\n",
        "        if calendar:\n",
        "            for day in calendar:\n",
        "                print(f\"Date: {day.date}, Open: {day.open}, Close: {day.close}\")\n",
        "        else:\n",
        "            print(\"No market calendar data found for the specified dates.\")\n",
        "        return calendar\n",
        "    except Exception as e:\n",
        "        print(f\"Error fetching market calendar: {e}\")\n",
        "        return []"
      ]
    },
    {
      "cell_type": "code",
      "execution_count": 24,
      "metadata": {},
      "outputs": [
        {
          "name": "stdout",
          "output_type": "stream",
          "text": [
            "Date: 2025-06-13 00:00:00, Open: 09:30:00, Close: 16:00:00\n",
            "Date: 2025-06-16 00:00:00, Open: 09:30:00, Close: 16:00:00\n",
            "Date: 2025-06-17 00:00:00, Open: 09:30:00, Close: 16:00:00\n",
            "Date: 2025-06-18 00:00:00, Open: 09:30:00, Close: 16:00:00\n",
            "Date: 2025-06-20 00:00:00, Open: 09:30:00, Close: 16:00:00\n"
          ]
        },
        {
          "data": {
            "text/plain": [
              "[Calendar({   'close': '16:00',\n",
              "     'date': '2025-06-13',\n",
              "     'open': '09:30',\n",
              "     'session_close': '2000',\n",
              "     'session_open': '0400',\n",
              "     'settlement_date': '2025-06-16'}),\n",
              " Calendar({   'close': '16:00',\n",
              "     'date': '2025-06-16',\n",
              "     'open': '09:30',\n",
              "     'session_close': '2000',\n",
              "     'session_open': '0400',\n",
              "     'settlement_date': '2025-06-17'}),\n",
              " Calendar({   'close': '16:00',\n",
              "     'date': '2025-06-17',\n",
              "     'open': '09:30',\n",
              "     'session_close': '2000',\n",
              "     'session_open': '0400',\n",
              "     'settlement_date': '2025-06-18'}),\n",
              " Calendar({   'close': '16:00',\n",
              "     'date': '2025-06-18',\n",
              "     'open': '09:30',\n",
              "     'session_close': '2000',\n",
              "     'session_open': '0400',\n",
              "     'settlement_date': '2025-06-20'}),\n",
              " Calendar({   'close': '16:00',\n",
              "     'date': '2025-06-20',\n",
              "     'open': '09:30',\n",
              "     'session_close': '2000',\n",
              "     'session_open': '0400',\n",
              "     'settlement_date': '2025-06-23'})]"
            ]
          },
          "execution_count": 24,
          "metadata": {},
          "output_type": "execute_result"
        }
      ],
      "source": [
        "fetch_market_calendar(api, start_date=datetime.now().date(), end_date=(datetime.now() + timedelta(days=7)).date())"
      ]
    },
    {
      "cell_type": "code",
      "execution_count": 38,
      "metadata": {},
      "outputs": [],
      "source": [
        "def get_historical_data_client() -> StockHistoricalDataClient:\n",
        "    \"\"\"Creates and returns a StockHistoricalDataClient instance.\"\"\"\n",
        "    api_key = os.getenv(\"ALPACA_API_KEY\")\n",
        "    api_secret = os.getenv(\"ALPACA_SECRET_KEY\")\n",
        "    if api_key and api_secret:\n",
        "        return StockHistoricalDataClient(api_key, api_secret)\n",
        "    else:\n",
        "        raise ValueError(\"API key and secret must be provided.\")"
      ]
    },
    {
      "cell_type": "code",
      "execution_count": 98,
      "metadata": {},
      "outputs": [],
      "source": [
        "def build_stock_bars_request(symbol: str, start: datetime, end: datetime, timeframe: TimeFrame) -> StockBarsRequest:\n",
        "    \"\"\"Builds and returns a StockBarsRequest object.\"\"\"\n",
        "    return StockBarsRequest(\n",
        "        symbol_or_symbols=[symbol],\n",
        "        start=start,\n",
        "        end=end,\n",
        "        timeframe=timeframe,\n",
        "        feed='iex'\n",
        "    )\n",
        "    if feed:\n",
        "        params['feed'] = feed\n",
        "    return StockBarsRequest(**params)"
      ]
    },
    {
      "cell_type": "code",
      "execution_count": 51,
      "metadata": {},
      "outputs": [],
      "source": [
        "def fetch_historical_data(symbol, start, end, timeframe) -> pd.DataFrame | None:\n",
        "    \"\"\"Fetches historical stock data from Alpaca and returns a Polars DataFrame.\"\"\"\n",
        "    try:\n",
        "        client = get_historical_data_client()\n",
        "        request_params = build_stock_bars_request(symbol, start, end, timeframe)\n",
        "        bars = client.get_stock_bars(request_params)\n",
        "        df = bars.df\n",
        "        if df.empty:\n",
        "            print(\"No historical data returned.\")\n",
        "            return None\n",
        "        df.reset_index(inplace=True)  # Make sure 'timestamp' is a column\n",
        "        # Set 'timestamp' as the index before converting to polars\n",
        "        df = df.set_index('timestamp')\n",
        "        df = df.sort_index()\n",
        "        return df\n",
        "    except Exception as e:\n",
        "        print(f\"Error fetching historical data: {e}\")\n",
        "        return None\n"
      ]
    },
    {
      "cell_type": "code",
      "execution_count": 53,
      "metadata": {},
      "outputs": [
        {
          "data": {
            "text/html": [
              "<div>\n",
              "<style scoped>\n",
              "    .dataframe tbody tr th:only-of-type {\n",
              "        vertical-align: middle;\n",
              "    }\n",
              "\n",
              "    .dataframe tbody tr th {\n",
              "        vertical-align: top;\n",
              "    }\n",
              "\n",
              "    .dataframe thead th {\n",
              "        text-align: right;\n",
              "    }\n",
              "</style>\n",
              "<table border=\"1\" class=\"dataframe\">\n",
              "  <thead>\n",
              "    <tr style=\"text-align: right;\">\n",
              "      <th></th>\n",
              "      <th>symbol</th>\n",
              "      <th>open</th>\n",
              "      <th>high</th>\n",
              "      <th>low</th>\n",
              "      <th>close</th>\n",
              "      <th>volume</th>\n",
              "      <th>trade_count</th>\n",
              "      <th>vwap</th>\n",
              "    </tr>\n",
              "    <tr>\n",
              "      <th>timestamp</th>\n",
              "      <th></th>\n",
              "      <th></th>\n",
              "      <th></th>\n",
              "      <th></th>\n",
              "      <th></th>\n",
              "      <th></th>\n",
              "      <th></th>\n",
              "      <th></th>\n",
              "    </tr>\n",
              "  </thead>\n",
              "  <tbody>\n",
              "    <tr>\n",
              "      <th>2025-06-09 04:00:00+00:00</th>\n",
              "      <td>SPY</td>\n",
              "      <td>599.72</td>\n",
              "      <td>601.25</td>\n",
              "      <td>598.49</td>\n",
              "      <td>599.68</td>\n",
              "      <td>53016418.0</td>\n",
              "      <td>637329.0</td>\n",
              "      <td>600.053937</td>\n",
              "    </tr>\n",
              "    <tr>\n",
              "      <th>2025-06-10 04:00:00+00:00</th>\n",
              "      <td>SPY</td>\n",
              "      <td>600.22</td>\n",
              "      <td>603.47</td>\n",
              "      <td>599.09</td>\n",
              "      <td>603.08</td>\n",
              "      <td>66246973.0</td>\n",
              "      <td>674474.0</td>\n",
              "      <td>601.631918</td>\n",
              "    </tr>\n",
              "    <tr>\n",
              "      <th>2025-06-11 04:00:00+00:00</th>\n",
              "      <td>SPY</td>\n",
              "      <td>604.19</td>\n",
              "      <td>605.06</td>\n",
              "      <td>599.27</td>\n",
              "      <td>601.36</td>\n",
              "      <td>73658225.0</td>\n",
              "      <td>808639.0</td>\n",
              "      <td>602.345297</td>\n",
              "    </tr>\n",
              "    <tr>\n",
              "      <th>2025-06-12 04:00:00+00:00</th>\n",
              "      <td>SPY</td>\n",
              "      <td>600.01</td>\n",
              "      <td>603.75</td>\n",
              "      <td>599.52</td>\n",
              "      <td>603.75</td>\n",
              "      <td>64129003.0</td>\n",
              "      <td>689902.0</td>\n",
              "      <td>602.541248</td>\n",
              "    </tr>\n",
              "    <tr>\n",
              "      <th>2025-06-13 04:00:00+00:00</th>\n",
              "      <td>SPY</td>\n",
              "      <td>598.50</td>\n",
              "      <td>601.85</td>\n",
              "      <td>596.04</td>\n",
              "      <td>596.41</td>\n",
              "      <td>53683728.0</td>\n",
              "      <td>673936.0</td>\n",
              "      <td>599.222196</td>\n",
              "    </tr>\n",
              "  </tbody>\n",
              "</table>\n",
              "</div>"
            ],
            "text/plain": [
              "                          symbol    open    high     low   close      volume  \\\n",
              "timestamp                                                                      \n",
              "2025-06-09 04:00:00+00:00    SPY  599.72  601.25  598.49  599.68  53016418.0   \n",
              "2025-06-10 04:00:00+00:00    SPY  600.22  603.47  599.09  603.08  66246973.0   \n",
              "2025-06-11 04:00:00+00:00    SPY  604.19  605.06  599.27  601.36  73658225.0   \n",
              "2025-06-12 04:00:00+00:00    SPY  600.01  603.75  599.52  603.75  64129003.0   \n",
              "2025-06-13 04:00:00+00:00    SPY  598.50  601.85  596.04  596.41  53683728.0   \n",
              "\n",
              "                           trade_count        vwap  \n",
              "timestamp                                           \n",
              "2025-06-09 04:00:00+00:00     637329.0  600.053937  \n",
              "2025-06-10 04:00:00+00:00     674474.0  601.631918  \n",
              "2025-06-11 04:00:00+00:00     808639.0  602.345297  \n",
              "2025-06-12 04:00:00+00:00     689902.0  602.541248  \n",
              "2025-06-13 04:00:00+00:00     673936.0  599.222196  "
            ]
          },
          "execution_count": 53,
          "metadata": {},
          "output_type": "execute_result"
        }
      ],
      "source": [
        "fetch_historical_data('SPY', datetime.now() - timedelta(days=5), datetime.now(), TimeFrame.Day)"
      ]
    },
    {
      "cell_type": "code",
      "execution_count": null,
      "metadata": {},
      "outputs": [],
      "source": [
        "def create_trade_log_file():\n",
        "    \"\"\"\n",
        "    Creates a trade_log.csv file with headers in the same directory as the notebook.\n",
        "    \"\"\"\n",
        "    trade_log_file = 'trade_log.csv'\n",
        "    headers = \"entry_time,exit_time,side,entry_price,exit_price,pnl,logged_at\\n\"\n",
        "    if not os.path.exists(trade_log_file):\n",
        "        with open(trade_log_file, 'w') as f:\n",
        "            f.write(headers)\n",
        "        print(f\"Created {trade_log_file} with headers.\")\n",
        "    else:\n",
        "        print(f\"{trade_log_file} already exists.\")"
      ]
    },
    {
      "cell_type": "code",
      "execution_count": 58,
      "metadata": {
        "id": "4LF1yLGflqEL"
      },
      "outputs": [],
      "source": [
        "def log_trade(entry_time, exit_time, side, entry_price, exit_price, pnl):\n",
        "    \"\"\"Logs trade details to a CSV file.\"\"\"\n",
        "    TRADE_LOG_FILE = 'trade_log.csv'\n",
        "    headers = [\"entry_time\", \"exit_time\", \"side\", \"entry_price\", \"exit_price\", \"pnl\", \"logged_at\"]\n",
        "    timestamp = datetime.now().strftime(\"%Y-%m-%d %H:%M:%S\")\n",
        "    file_exists = os.path.exists(TRADE_LOG_FILE)\n",
        "\n",
        "    with open(TRADE_LOG_FILE, 'a', newline='') as f:\n",
        "        writer = csv.writer(f)\n",
        "        if not file_exists:\n",
        "            writer.writerow(headers)\n",
        "        writer.writerow([entry_time, exit_time, side, entry_price, exit_price, pnl, timestamp])\n",
        "    print(\"Trade logged.\")\n"
      ]
    },
    {
      "cell_type": "code",
      "execution_count": 61,
      "metadata": {
        "id": "dLZjZk_Nk9qO"
      },
      "outputs": [],
      "source": [
        "def place_order(symbol, side, qty, price):\n",
        "    try:\n",
        "        api.submit_order(\n",
        "        symbol=symbol,\n",
        "        qty=qty,\n",
        "        side=side,\n",
        "        type='limit',\n",
        "        limit_price=round(price, 2),\n",
        "        time_in_force='gtc')\n",
        "        print(f\"{side.upper()} order placed at {price}\")\n",
        "    except Exception as e:\n",
        "        print(f\"Order error: {e}\")"
      ]
    },
    {
      "cell_type": "code",
      "execution_count": null,
      "metadata": {},
      "outputs": [
        {
          "name": "stdout",
          "output_type": "stream",
          "text": [
            "Latest price for SPY: 599.21\n",
            "SELL order placed at 599.21\n"
          ]
        }
      ],
      "source": [
        "# Use the existing pandas DataFrame 'df' for the latest price and order placement\n",
        "# This is a test to sell 1 unit of 'SPY' at the latest price.\n",
        "df = fetch_historical_data(SYMBOL, datetime.now() - timedelta(days=1), datetime.now(), TimeFrame.Minute)\n",
        "if df is not None and not df.empty:\n",
        "    latest_price = float(df['close'].iloc[-1])\n",
        "    print(f\"Latest price for {SYMBOL}: {latest_price}\")\n",
        "    place_order(SYMBOL, 'sell', 1, latest_price)\n",
        "else:\n",
        "    print(\"No recent bars found.\")"
      ]
    },
    {
      "cell_type": "code",
      "execution_count": 91,
      "metadata": {},
      "outputs": [],
      "source": [
        "def filtered_daily_trade(activities) -> list:\n",
        "    \"\"\"Filters trades based on their side.\"\"\"\n",
        "    filtered_activities = [activity for activity in activities if getattr(activity, 'side', None) in ['buy', 'sell']]\n",
        "    \n",
        "    # Filter trades for today only\n",
        "    today = datetime.now().date()\n",
        "    filtered_trades = [\n",
        "        trade for trade in filtered_activities\n",
        "        if pd.to_datetime(getattr(trade, 'transaction_time')).date() == today\n",
        "    ]\n",
        "    return filtered_trades\n"
      ]
    },
    {
      "cell_type": "code",
      "execution_count": 92,
      "metadata": {
        "id": "jiJi0OpC65H2"
      },
      "outputs": [],
      "source": [
        "def check_daily_limits() -> tuple[int, float]:\n",
        "    \"\"\"Checks and returns the number of trades and total PNL for today.\"\"\"\n",
        "    print(\"Checking daily limits...\")\n",
        "    try:\n",
        "        # Use midnight UTC for today\n",
        "        \n",
        "        # Use midnight UTC for today, formatted as ISO 8601 with 'Z'\n",
        "        after = datetime.now(timezone.utc).replace(hour=0, minute=0, second=0, microsecond=0).isoformat().replace('+00:00', 'Z')\n",
        "        activities = fetch_activities(api, after=after)\n",
        "        print(f\"Activity: {activities}\")\n",
        "        daily_trades = filtered_daily_trade(activities)\n",
        "        print(f\"Today's trades: {daily_trades}\")\n",
        "    except Exception as e:\n",
        "        print(f\"Error fetching activities: {e}\")\n",
        "        return 0, 0\n",
        "\n",
        "    # Use attribute access for realized_pl\n",
        "    today_pnl = sum(float(getattr(trade, \"realized_pl\", 0) or 0) for trade in daily_trades)\n",
        "    print(f\"Today's total PNL: {today_pnl}\")\n",
        "\n",
        "    try:\n",
        "        trade_count = len([t for t in daily_trades if getattr(t, 'side', None) in ['buy', 'sell']])\n",
        "        print(f\"Trade count: {trade_count}\")\n",
        "        print(f\"Today's total PNL: {today_pnl}\")\n",
        "        print(f\"returning: {trade_count, today_pnl}\")\n",
        "        return trade_count, today_pnl\n",
        "    except RuntimeError as e:\n",
        "        print(f\"{e}\")\n",
        "        return 0, 0"
      ]
    },
    {
      "cell_type": "code",
      "execution_count": 93,
      "metadata": {},
      "outputs": [
        {
          "name": "stdout",
          "output_type": "stream",
          "text": [
            "Checking daily limits...\n",
            "Symbol: SPY, Side: buy, Qty: 1, Price: 597.95, Time: 2025-06-13 18:15:26.465747+00:00, P/L: None\n",
            "Activity: [AccountActivity({   'activity_type': 'FILL',\n",
            "    'cum_qty': '1',\n",
            "    'id': '20250613141526465::bb74f2e3-7306-4a87-9a02-812305c5b9e8',\n",
            "    'leaves_qty': '0',\n",
            "    'order_id': '41c8d603-2eaf-4834-af71-118282b72a81',\n",
            "    'order_status': 'filled',\n",
            "    'price': '597.95',\n",
            "    'qty': '1',\n",
            "    'side': 'buy',\n",
            "    'symbol': 'SPY',\n",
            "    'transaction_time': '2025-06-13T18:15:26.465747Z',\n",
            "    'type': 'fill'})]\n",
            "Today's trades: [AccountActivity({   'activity_type': 'FILL',\n",
            "    'cum_qty': '1',\n",
            "    'id': '20250613141526465::bb74f2e3-7306-4a87-9a02-812305c5b9e8',\n",
            "    'leaves_qty': '0',\n",
            "    'order_id': '41c8d603-2eaf-4834-af71-118282b72a81',\n",
            "    'order_status': 'filled',\n",
            "    'price': '597.95',\n",
            "    'qty': '1',\n",
            "    'side': 'buy',\n",
            "    'symbol': 'SPY',\n",
            "    'transaction_time': '2025-06-13T18:15:26.465747Z',\n",
            "    'type': 'fill'})]\n",
            "Today's total PNL: 0.0\n",
            "Trade count: 1\n",
            "Today's total PNL: 0.0\n",
            "returning: (1, 0.0)\n"
          ]
        },
        {
          "data": {
            "text/plain": [
              "(1, 0.0)"
            ]
          },
          "execution_count": 93,
          "metadata": {},
          "output_type": "execute_result"
        }
      ],
      "source": [
        "check_daily_limits()"
      ]
    },
    {
      "cell_type": "code",
      "execution_count": 106,
      "metadata": {
        "id": "iIk_yS5zGNeA"
      },
      "outputs": [],
      "source": [
        "def get_data(symbol, timeframe='1m', limit=30) -> pd.DataFrame:\n",
        "    \"\"\"Fetches historical stock data and returns a DataFrame.\"\"\"\n",
        "    try:\n",
        "\n",
        "        # Compute time range\n",
        "        end = datetime.now(timezone.utc)\n",
        "        start = end - timedelta(minutes=limit)\n",
        "\n",
        "        # Choose correct timeframe\n",
        "        if timeframe == '1m':\n",
        "            tf = TimeFrame(1, TimeFrameUnit.Minute)\n",
        "        elif timeframe == '5m':\n",
        "            tf = TimeFrame(5, TimeFrameUnit.Minute)\n",
        "        else:\n",
        "            raise ValueError(f\"Unsupported timeframe: {timeframe}\")\n",
        "        # Initialize client\n",
        "        client = get_historical_data_client()\n",
        "\n",
        "        # Build request parameters\n",
        "        request_params = build_stock_bars_request(symbol, start, end, tf)\n",
        "\n",
        "        # Fetch and process data\n",
        "        bars = client.get_stock_bars(request_params).df\n",
        "        df = bars.reset_index().tail(limit)\n",
        "        df.set_index('timestamp', inplace=True)\n",
        "\n",
        "        return df\n",
        "\n",
        "    except Exception as e:\n",
        "        print(f\"Data error: {e}\")\n",
        "        return pd.DataFrame()\n"
      ]
    },
    {
      "cell_type": "code",
      "execution_count": 105,
      "metadata": {
        "colab": {
          "base_uri": "https://localhost:8080/",
          "height": 112
        },
        "id": "CqCDirXv3pPB",
        "outputId": "16a9f36e-8b8a-484d-bf1e-c7bbec97d0b6"
      },
      "outputs": [
        {
          "data": {
            "text/html": [
              "<div>\n",
              "<style scoped>\n",
              "    .dataframe tbody tr th:only-of-type {\n",
              "        vertical-align: middle;\n",
              "    }\n",
              "\n",
              "    .dataframe tbody tr th {\n",
              "        vertical-align: top;\n",
              "    }\n",
              "\n",
              "    .dataframe thead th {\n",
              "        text-align: right;\n",
              "    }\n",
              "</style>\n",
              "<table border=\"1\" class=\"dataframe\">\n",
              "  <thead>\n",
              "    <tr style=\"text-align: right;\">\n",
              "      <th></th>\n",
              "      <th>symbol</th>\n",
              "      <th>open</th>\n",
              "      <th>high</th>\n",
              "      <th>low</th>\n",
              "      <th>close</th>\n",
              "      <th>volume</th>\n",
              "      <th>trade_count</th>\n",
              "      <th>vwap</th>\n",
              "    </tr>\n",
              "    <tr>\n",
              "      <th>timestamp</th>\n",
              "      <th></th>\n",
              "      <th></th>\n",
              "      <th></th>\n",
              "      <th></th>\n",
              "      <th></th>\n",
              "      <th></th>\n",
              "      <th></th>\n",
              "      <th></th>\n",
              "    </tr>\n",
              "  </thead>\n",
              "  <tbody>\n",
              "    <tr>\n",
              "      <th>2025-06-13 19:00:00+00:00</th>\n",
              "      <td>SPY</td>\n",
              "      <td>597.200</td>\n",
              "      <td>597.260</td>\n",
              "      <td>596.930</td>\n",
              "      <td>596.930</td>\n",
              "      <td>3711.0</td>\n",
              "      <td>39.0</td>\n",
              "      <td>597.158449</td>\n",
              "    </tr>\n",
              "    <tr>\n",
              "      <th>2025-06-13 19:01:00+00:00</th>\n",
              "      <td>SPY</td>\n",
              "      <td>596.910</td>\n",
              "      <td>596.970</td>\n",
              "      <td>596.600</td>\n",
              "      <td>596.600</td>\n",
              "      <td>1600.0</td>\n",
              "      <td>25.0</td>\n",
              "      <td>596.722365</td>\n",
              "    </tr>\n",
              "    <tr>\n",
              "      <th>2025-06-13 19:02:00+00:00</th>\n",
              "      <td>SPY</td>\n",
              "      <td>596.410</td>\n",
              "      <td>596.580</td>\n",
              "      <td>596.310</td>\n",
              "      <td>596.370</td>\n",
              "      <td>4269.0</td>\n",
              "      <td>53.0</td>\n",
              "      <td>596.402778</td>\n",
              "    </tr>\n",
              "    <tr>\n",
              "      <th>2025-06-13 19:03:00+00:00</th>\n",
              "      <td>SPY</td>\n",
              "      <td>596.460</td>\n",
              "      <td>597.060</td>\n",
              "      <td>596.460</td>\n",
              "      <td>596.980</td>\n",
              "      <td>2953.0</td>\n",
              "      <td>33.0</td>\n",
              "      <td>596.846382</td>\n",
              "    </tr>\n",
              "    <tr>\n",
              "      <th>2025-06-13 19:04:00+00:00</th>\n",
              "      <td>SPY</td>\n",
              "      <td>597.050</td>\n",
              "      <td>597.050</td>\n",
              "      <td>596.980</td>\n",
              "      <td>596.980</td>\n",
              "      <td>684.0</td>\n",
              "      <td>19.0</td>\n",
              "      <td>597.016667</td>\n",
              "    </tr>\n",
              "    <tr>\n",
              "      <th>2025-06-13 19:05:00+00:00</th>\n",
              "      <td>SPY</td>\n",
              "      <td>596.840</td>\n",
              "      <td>596.840</td>\n",
              "      <td>596.680</td>\n",
              "      <td>596.820</td>\n",
              "      <td>1526.0</td>\n",
              "      <td>25.0</td>\n",
              "      <td>596.771667</td>\n",
              "    </tr>\n",
              "    <tr>\n",
              "      <th>2025-06-13 19:06:00+00:00</th>\n",
              "      <td>SPY</td>\n",
              "      <td>596.690</td>\n",
              "      <td>596.860</td>\n",
              "      <td>596.690</td>\n",
              "      <td>596.740</td>\n",
              "      <td>822.0</td>\n",
              "      <td>24.0</td>\n",
              "      <td>596.748571</td>\n",
              "    </tr>\n",
              "    <tr>\n",
              "      <th>2025-06-13 19:07:00+00:00</th>\n",
              "      <td>SPY</td>\n",
              "      <td>596.820</td>\n",
              "      <td>597.220</td>\n",
              "      <td>596.820</td>\n",
              "      <td>597.170</td>\n",
              "      <td>2219.0</td>\n",
              "      <td>32.0</td>\n",
              "      <td>597.106983</td>\n",
              "    </tr>\n",
              "    <tr>\n",
              "      <th>2025-06-13 19:08:00+00:00</th>\n",
              "      <td>SPY</td>\n",
              "      <td>597.170</td>\n",
              "      <td>597.260</td>\n",
              "      <td>597.140</td>\n",
              "      <td>597.230</td>\n",
              "      <td>918.0</td>\n",
              "      <td>15.0</td>\n",
              "      <td>597.202540</td>\n",
              "    </tr>\n",
              "    <tr>\n",
              "      <th>2025-06-13 19:09:00+00:00</th>\n",
              "      <td>SPY</td>\n",
              "      <td>597.200</td>\n",
              "      <td>597.610</td>\n",
              "      <td>597.180</td>\n",
              "      <td>597.560</td>\n",
              "      <td>4588.0</td>\n",
              "      <td>38.0</td>\n",
              "      <td>597.464947</td>\n",
              "    </tr>\n",
              "    <tr>\n",
              "      <th>2025-06-13 19:10:00+00:00</th>\n",
              "      <td>SPY</td>\n",
              "      <td>597.460</td>\n",
              "      <td>597.460</td>\n",
              "      <td>597.250</td>\n",
              "      <td>597.300</td>\n",
              "      <td>6516.0</td>\n",
              "      <td>48.0</td>\n",
              "      <td>597.352432</td>\n",
              "    </tr>\n",
              "    <tr>\n",
              "      <th>2025-06-13 19:11:00+00:00</th>\n",
              "      <td>SPY</td>\n",
              "      <td>597.180</td>\n",
              "      <td>597.230</td>\n",
              "      <td>597.000</td>\n",
              "      <td>597.000</td>\n",
              "      <td>1235.0</td>\n",
              "      <td>17.0</td>\n",
              "      <td>597.070500</td>\n",
              "    </tr>\n",
              "    <tr>\n",
              "      <th>2025-06-13 19:12:00+00:00</th>\n",
              "      <td>SPY</td>\n",
              "      <td>597.020</td>\n",
              "      <td>597.150</td>\n",
              "      <td>596.950</td>\n",
              "      <td>597.140</td>\n",
              "      <td>969.0</td>\n",
              "      <td>17.0</td>\n",
              "      <td>597.036787</td>\n",
              "    </tr>\n",
              "    <tr>\n",
              "      <th>2025-06-13 19:13:00+00:00</th>\n",
              "      <td>SPY</td>\n",
              "      <td>597.120</td>\n",
              "      <td>597.305</td>\n",
              "      <td>597.010</td>\n",
              "      <td>597.260</td>\n",
              "      <td>2699.0</td>\n",
              "      <td>49.0</td>\n",
              "      <td>597.141201</td>\n",
              "    </tr>\n",
              "    <tr>\n",
              "      <th>2025-06-13 19:14:00+00:00</th>\n",
              "      <td>SPY</td>\n",
              "      <td>597.300</td>\n",
              "      <td>597.580</td>\n",
              "      <td>597.170</td>\n",
              "      <td>597.400</td>\n",
              "      <td>1596.0</td>\n",
              "      <td>26.0</td>\n",
              "      <td>597.386804</td>\n",
              "    </tr>\n",
              "    <tr>\n",
              "      <th>2025-06-13 19:15:00+00:00</th>\n",
              "      <td>SPY</td>\n",
              "      <td>597.550</td>\n",
              "      <td>597.550</td>\n",
              "      <td>597.170</td>\n",
              "      <td>597.330</td>\n",
              "      <td>1557.0</td>\n",
              "      <td>31.0</td>\n",
              "      <td>597.405500</td>\n",
              "    </tr>\n",
              "    <tr>\n",
              "      <th>2025-06-13 19:16:00+00:00</th>\n",
              "      <td>SPY</td>\n",
              "      <td>597.390</td>\n",
              "      <td>597.390</td>\n",
              "      <td>597.255</td>\n",
              "      <td>597.320</td>\n",
              "      <td>1440.0</td>\n",
              "      <td>16.0</td>\n",
              "      <td>597.299952</td>\n",
              "    </tr>\n",
              "    <tr>\n",
              "      <th>2025-06-13 19:17:00+00:00</th>\n",
              "      <td>SPY</td>\n",
              "      <td>597.340</td>\n",
              "      <td>597.360</td>\n",
              "      <td>597.065</td>\n",
              "      <td>597.080</td>\n",
              "      <td>3950.0</td>\n",
              "      <td>51.0</td>\n",
              "      <td>597.189739</td>\n",
              "    </tr>\n",
              "    <tr>\n",
              "      <th>2025-06-13 19:18:00+00:00</th>\n",
              "      <td>SPY</td>\n",
              "      <td>597.070</td>\n",
              "      <td>597.270</td>\n",
              "      <td>597.050</td>\n",
              "      <td>597.050</td>\n",
              "      <td>6539.0</td>\n",
              "      <td>60.0</td>\n",
              "      <td>597.177067</td>\n",
              "    </tr>\n",
              "    <tr>\n",
              "      <th>2025-06-13 19:19:00+00:00</th>\n",
              "      <td>SPY</td>\n",
              "      <td>597.020</td>\n",
              "      <td>597.020</td>\n",
              "      <td>596.845</td>\n",
              "      <td>597.010</td>\n",
              "      <td>1511.0</td>\n",
              "      <td>35.0</td>\n",
              "      <td>596.927088</td>\n",
              "    </tr>\n",
              "    <tr>\n",
              "      <th>2025-06-13 19:20:00+00:00</th>\n",
              "      <td>SPY</td>\n",
              "      <td>596.990</td>\n",
              "      <td>597.340</td>\n",
              "      <td>596.990</td>\n",
              "      <td>597.230</td>\n",
              "      <td>5757.0</td>\n",
              "      <td>79.0</td>\n",
              "      <td>597.179102</td>\n",
              "    </tr>\n",
              "    <tr>\n",
              "      <th>2025-06-13 19:21:00+00:00</th>\n",
              "      <td>SPY</td>\n",
              "      <td>597.355</td>\n",
              "      <td>597.400</td>\n",
              "      <td>596.930</td>\n",
              "      <td>596.930</td>\n",
              "      <td>2856.0</td>\n",
              "      <td>41.0</td>\n",
              "      <td>597.202173</td>\n",
              "    </tr>\n",
              "    <tr>\n",
              "      <th>2025-06-13 19:22:00+00:00</th>\n",
              "      <td>SPY</td>\n",
              "      <td>596.920</td>\n",
              "      <td>597.000</td>\n",
              "      <td>596.600</td>\n",
              "      <td>596.735</td>\n",
              "      <td>3037.0</td>\n",
              "      <td>33.0</td>\n",
              "      <td>596.761508</td>\n",
              "    </tr>\n",
              "    <tr>\n",
              "      <th>2025-06-13 19:23:00+00:00</th>\n",
              "      <td>SPY</td>\n",
              "      <td>596.690</td>\n",
              "      <td>596.710</td>\n",
              "      <td>596.570</td>\n",
              "      <td>596.570</td>\n",
              "      <td>5446.0</td>\n",
              "      <td>50.0</td>\n",
              "      <td>596.642699</td>\n",
              "    </tr>\n",
              "    <tr>\n",
              "      <th>2025-06-13 19:24:00+00:00</th>\n",
              "      <td>SPY</td>\n",
              "      <td>596.590</td>\n",
              "      <td>596.725</td>\n",
              "      <td>596.440</td>\n",
              "      <td>596.450</td>\n",
              "      <td>8144.0</td>\n",
              "      <td>88.0</td>\n",
              "      <td>596.583436</td>\n",
              "    </tr>\n",
              "    <tr>\n",
              "      <th>2025-06-13 19:25:00+00:00</th>\n",
              "      <td>SPY</td>\n",
              "      <td>596.570</td>\n",
              "      <td>596.570</td>\n",
              "      <td>596.225</td>\n",
              "      <td>596.310</td>\n",
              "      <td>4913.0</td>\n",
              "      <td>49.0</td>\n",
              "      <td>596.376228</td>\n",
              "    </tr>\n",
              "    <tr>\n",
              "      <th>2025-06-13 19:26:00+00:00</th>\n",
              "      <td>SPY</td>\n",
              "      <td>596.340</td>\n",
              "      <td>596.340</td>\n",
              "      <td>596.200</td>\n",
              "      <td>596.260</td>\n",
              "      <td>2665.0</td>\n",
              "      <td>39.0</td>\n",
              "      <td>596.261500</td>\n",
              "    </tr>\n",
              "    <tr>\n",
              "      <th>2025-06-13 19:27:00+00:00</th>\n",
              "      <td>SPY</td>\n",
              "      <td>596.240</td>\n",
              "      <td>596.240</td>\n",
              "      <td>596.060</td>\n",
              "      <td>596.140</td>\n",
              "      <td>3491.0</td>\n",
              "      <td>52.0</td>\n",
              "      <td>596.126722</td>\n",
              "    </tr>\n",
              "    <tr>\n",
              "      <th>2025-06-13 19:28:00+00:00</th>\n",
              "      <td>SPY</td>\n",
              "      <td>596.260</td>\n",
              "      <td>596.450</td>\n",
              "      <td>596.260</td>\n",
              "      <td>596.360</td>\n",
              "      <td>2654.0</td>\n",
              "      <td>38.0</td>\n",
              "      <td>596.338978</td>\n",
              "    </tr>\n",
              "  </tbody>\n",
              "</table>\n",
              "</div>"
            ],
            "text/plain": [
              "                          symbol     open     high      low    close  volume  \\\n",
              "timestamp                                                                      \n",
              "2025-06-13 19:00:00+00:00    SPY  597.200  597.260  596.930  596.930  3711.0   \n",
              "2025-06-13 19:01:00+00:00    SPY  596.910  596.970  596.600  596.600  1600.0   \n",
              "2025-06-13 19:02:00+00:00    SPY  596.410  596.580  596.310  596.370  4269.0   \n",
              "2025-06-13 19:03:00+00:00    SPY  596.460  597.060  596.460  596.980  2953.0   \n",
              "2025-06-13 19:04:00+00:00    SPY  597.050  597.050  596.980  596.980   684.0   \n",
              "2025-06-13 19:05:00+00:00    SPY  596.840  596.840  596.680  596.820  1526.0   \n",
              "2025-06-13 19:06:00+00:00    SPY  596.690  596.860  596.690  596.740   822.0   \n",
              "2025-06-13 19:07:00+00:00    SPY  596.820  597.220  596.820  597.170  2219.0   \n",
              "2025-06-13 19:08:00+00:00    SPY  597.170  597.260  597.140  597.230   918.0   \n",
              "2025-06-13 19:09:00+00:00    SPY  597.200  597.610  597.180  597.560  4588.0   \n",
              "2025-06-13 19:10:00+00:00    SPY  597.460  597.460  597.250  597.300  6516.0   \n",
              "2025-06-13 19:11:00+00:00    SPY  597.180  597.230  597.000  597.000  1235.0   \n",
              "2025-06-13 19:12:00+00:00    SPY  597.020  597.150  596.950  597.140   969.0   \n",
              "2025-06-13 19:13:00+00:00    SPY  597.120  597.305  597.010  597.260  2699.0   \n",
              "2025-06-13 19:14:00+00:00    SPY  597.300  597.580  597.170  597.400  1596.0   \n",
              "2025-06-13 19:15:00+00:00    SPY  597.550  597.550  597.170  597.330  1557.0   \n",
              "2025-06-13 19:16:00+00:00    SPY  597.390  597.390  597.255  597.320  1440.0   \n",
              "2025-06-13 19:17:00+00:00    SPY  597.340  597.360  597.065  597.080  3950.0   \n",
              "2025-06-13 19:18:00+00:00    SPY  597.070  597.270  597.050  597.050  6539.0   \n",
              "2025-06-13 19:19:00+00:00    SPY  597.020  597.020  596.845  597.010  1511.0   \n",
              "2025-06-13 19:20:00+00:00    SPY  596.990  597.340  596.990  597.230  5757.0   \n",
              "2025-06-13 19:21:00+00:00    SPY  597.355  597.400  596.930  596.930  2856.0   \n",
              "2025-06-13 19:22:00+00:00    SPY  596.920  597.000  596.600  596.735  3037.0   \n",
              "2025-06-13 19:23:00+00:00    SPY  596.690  596.710  596.570  596.570  5446.0   \n",
              "2025-06-13 19:24:00+00:00    SPY  596.590  596.725  596.440  596.450  8144.0   \n",
              "2025-06-13 19:25:00+00:00    SPY  596.570  596.570  596.225  596.310  4913.0   \n",
              "2025-06-13 19:26:00+00:00    SPY  596.340  596.340  596.200  596.260  2665.0   \n",
              "2025-06-13 19:27:00+00:00    SPY  596.240  596.240  596.060  596.140  3491.0   \n",
              "2025-06-13 19:28:00+00:00    SPY  596.260  596.450  596.260  596.360  2654.0   \n",
              "\n",
              "                           trade_count        vwap  \n",
              "timestamp                                           \n",
              "2025-06-13 19:00:00+00:00         39.0  597.158449  \n",
              "2025-06-13 19:01:00+00:00         25.0  596.722365  \n",
              "2025-06-13 19:02:00+00:00         53.0  596.402778  \n",
              "2025-06-13 19:03:00+00:00         33.0  596.846382  \n",
              "2025-06-13 19:04:00+00:00         19.0  597.016667  \n",
              "2025-06-13 19:05:00+00:00         25.0  596.771667  \n",
              "2025-06-13 19:06:00+00:00         24.0  596.748571  \n",
              "2025-06-13 19:07:00+00:00         32.0  597.106983  \n",
              "2025-06-13 19:08:00+00:00         15.0  597.202540  \n",
              "2025-06-13 19:09:00+00:00         38.0  597.464947  \n",
              "2025-06-13 19:10:00+00:00         48.0  597.352432  \n",
              "2025-06-13 19:11:00+00:00         17.0  597.070500  \n",
              "2025-06-13 19:12:00+00:00         17.0  597.036787  \n",
              "2025-06-13 19:13:00+00:00         49.0  597.141201  \n",
              "2025-06-13 19:14:00+00:00         26.0  597.386804  \n",
              "2025-06-13 19:15:00+00:00         31.0  597.405500  \n",
              "2025-06-13 19:16:00+00:00         16.0  597.299952  \n",
              "2025-06-13 19:17:00+00:00         51.0  597.189739  \n",
              "2025-06-13 19:18:00+00:00         60.0  597.177067  \n",
              "2025-06-13 19:19:00+00:00         35.0  596.927088  \n",
              "2025-06-13 19:20:00+00:00         79.0  597.179102  \n",
              "2025-06-13 19:21:00+00:00         41.0  597.202173  \n",
              "2025-06-13 19:22:00+00:00         33.0  596.761508  \n",
              "2025-06-13 19:23:00+00:00         50.0  596.642699  \n",
              "2025-06-13 19:24:00+00:00         88.0  596.583436  \n",
              "2025-06-13 19:25:00+00:00         49.0  596.376228  \n",
              "2025-06-13 19:26:00+00:00         39.0  596.261500  \n",
              "2025-06-13 19:27:00+00:00         52.0  596.126722  \n",
              "2025-06-13 19:28:00+00:00         38.0  596.338978  "
            ]
          },
          "execution_count": 105,
          "metadata": {},
          "output_type": "execute_result"
        }
      ],
      "source": [
        "df = get_data(SYMBOL, '1m', 30)\n",
        "df"
      ]
    },
    {
      "cell_type": "code",
      "execution_count": 109,
      "metadata": {
        "id": "u1fypkcRNRF-"
      },
      "outputs": [],
      "source": [
        "# Interactive chart with plotly\n",
        "def create_candlestick_chart(df):\n",
        "    # Create candlestick trace\n",
        "    candlestick = go.Candlestick(\n",
        "        x=df.index,\n",
        "        open=df['open'],\n",
        "        high=df['high'],\n",
        "        low=df['low'],\n",
        "        close=df['close']\n",
        "    )\n",
        "\n",
        "    # Create figure and add trace\n",
        "    fig = go.Figure(data=[candlestick])\n",
        "\n",
        "    # Update layout\n",
        "    fig.update_layout(\n",
        "        title=f'{SYMBOL} Interactive Candlestick Chart',\n",
        "        xaxis_title='Time',\n",
        "        yaxis_title='Price',\n",
        "        xaxis_rangeslider_visible=False # Hide range slider\n",
        "    )\n",
        "\n",
        "    # Show the plot\n",
        "    fig.show()"
      ]
    },
    {
      "cell_type": "code",
      "execution_count": 110,
      "metadata": {},
      "outputs": [
        {
          "data": {
            "application/vnd.plotly.v1+json": {
              "config": {
                "plotlyServerURL": "https://plot.ly"
              },
              "data": [
                {
                  "close": {
                    "bdata": "PQrXo3CngkDNzMzMzKSCQClcj8L1ooJApHA9CtengkCkcD0K16eCQMP1KFyPpoJAUrgeheulgkCPwvUoXKmCQKRwPQrXqYJAFK5H4XqsgkBmZmZmZqqCQAAAAAAAqIJAhetRuB6pgkCuR+F6FKqCQDMzMzMzq4JAcT0K16OqgkDD9Shcj6qCQHE9CtejqIJAZmZmZmaogkCuR+F6FKiCQKRwPQrXqYJAPQrXo3CngkB7FK5H4aWCQMP1KFyPpIJAmpmZmZmjgkAUrkfheqKCQK5H4XoUooJAhetRuB6hgkB7FK5H4aKCQA==",
                    "dtype": "f8"
                  },
                  "high": {
                    "bdata": "rkfhehSqgkD2KFyPwqeCQHE9CtejpIJAFK5H4XqogkBmZmZmZqiCQB+F61G4poJAexSuR+GmgkD2KFyPwqmCQK5H4XoUqoJAexSuR+GsgkBI4XoUrquCQKRwPQrXqYJAMzMzMzOpgkA9CtejcKqCQHE9CtejrIJAZmZmZmasgkCF61G4HquCQHsUrkfhqoJAXI/C9SiqgkBcj8L1KKiCQB+F61G4qoJAMzMzMzOrgkAAAAAAAKiCQEjhehSupYJAzczMzMylgkDD9Shcj6SCQB+F61G4ooJAUrgeheuhgkCamZmZmaOCQA==",
                    "dtype": "f8"
                  },
                  "low": {
                    "bdata": "PQrXo3CngkDNzMzMzKSCQBSuR+F6ooJASOF6FK6jgkCkcD0K16eCQD0K16NwpYJA7FG4HoWlgkDD9Shcj6aCQIXrUbgeqYJAPQrXo3CpgkAAAAAAAKqCQAAAAAAAqIJAmpmZmZmngkCuR+F6FKiCQI/C9ShcqYJAj8L1KFypgkDXo3A9CqqCQOxRuB6FqIJAZmZmZmaogkD2KFyPwqaCQFK4HoXrp4JAPQrXo3CngkDNzMzMzKSCQMP1KFyPpIJA7FG4HoWjgkDNzMzMzKGCQJqZmZmZoYJAFK5H4XqggkCuR+F6FKKCQA==",
                    "dtype": "f8"
                  },
                  "open": {
                    "bdata": "mpmZmZmpgkDhehSuR6eCQOF6FK5Ho4JASOF6FK6jgkBmZmZmZqiCQB+F61G4poJA7FG4HoWlgkDD9Shcj6aCQI/C9ShcqYJAmpmZmZmpgkBI4XoUrquCQD0K16NwqYJAXI/C9SiogkApXI/C9aiCQGZmZmZmqoJAZmZmZmasgkCF61G4HquCQB+F61G4qoJAw/UoXI+ogkBcj8L1KKiCQFK4HoXrp4JApHA9CteqgkCPwvUoXKeCQOxRuB6FpYJAH4XrUbikgkDD9Shcj6SCQB+F61G4ooJAUrgeheuhgkCuR+F6FKKCQA==",
                    "dtype": "f8"
                  },
                  "type": "candlestick",
                  "x": [
                    "2025-06-13T19:00:00+00:00",
                    "2025-06-13T19:01:00+00:00",
                    "2025-06-13T19:02:00+00:00",
                    "2025-06-13T19:03:00+00:00",
                    "2025-06-13T19:04:00+00:00",
                    "2025-06-13T19:05:00+00:00",
                    "2025-06-13T19:06:00+00:00",
                    "2025-06-13T19:07:00+00:00",
                    "2025-06-13T19:08:00+00:00",
                    "2025-06-13T19:09:00+00:00",
                    "2025-06-13T19:10:00+00:00",
                    "2025-06-13T19:11:00+00:00",
                    "2025-06-13T19:12:00+00:00",
                    "2025-06-13T19:13:00+00:00",
                    "2025-06-13T19:14:00+00:00",
                    "2025-06-13T19:15:00+00:00",
                    "2025-06-13T19:16:00+00:00",
                    "2025-06-13T19:17:00+00:00",
                    "2025-06-13T19:18:00+00:00",
                    "2025-06-13T19:19:00+00:00",
                    "2025-06-13T19:20:00+00:00",
                    "2025-06-13T19:21:00+00:00",
                    "2025-06-13T19:22:00+00:00",
                    "2025-06-13T19:23:00+00:00",
                    "2025-06-13T19:24:00+00:00",
                    "2025-06-13T19:25:00+00:00",
                    "2025-06-13T19:26:00+00:00",
                    "2025-06-13T19:27:00+00:00",
                    "2025-06-13T19:28:00+00:00"
                  ]
                }
              ],
              "layout": {
                "template": {
                  "data": {
                    "bar": [
                      {
                        "error_x": {
                          "color": "#2a3f5f"
                        },
                        "error_y": {
                          "color": "#2a3f5f"
                        },
                        "marker": {
                          "line": {
                            "color": "#E5ECF6",
                            "width": 0.5
                          },
                          "pattern": {
                            "fillmode": "overlay",
                            "size": 10,
                            "solidity": 0.2
                          }
                        },
                        "type": "bar"
                      }
                    ],
                    "barpolar": [
                      {
                        "marker": {
                          "line": {
                            "color": "#E5ECF6",
                            "width": 0.5
                          },
                          "pattern": {
                            "fillmode": "overlay",
                            "size": 10,
                            "solidity": 0.2
                          }
                        },
                        "type": "barpolar"
                      }
                    ],
                    "carpet": [
                      {
                        "aaxis": {
                          "endlinecolor": "#2a3f5f",
                          "gridcolor": "white",
                          "linecolor": "white",
                          "minorgridcolor": "white",
                          "startlinecolor": "#2a3f5f"
                        },
                        "baxis": {
                          "endlinecolor": "#2a3f5f",
                          "gridcolor": "white",
                          "linecolor": "white",
                          "minorgridcolor": "white",
                          "startlinecolor": "#2a3f5f"
                        },
                        "type": "carpet"
                      }
                    ],
                    "choropleth": [
                      {
                        "colorbar": {
                          "outlinewidth": 0,
                          "ticks": ""
                        },
                        "type": "choropleth"
                      }
                    ],
                    "contour": [
                      {
                        "colorbar": {
                          "outlinewidth": 0,
                          "ticks": ""
                        },
                        "colorscale": [
                          [
                            0,
                            "#0d0887"
                          ],
                          [
                            0.1111111111111111,
                            "#46039f"
                          ],
                          [
                            0.2222222222222222,
                            "#7201a8"
                          ],
                          [
                            0.3333333333333333,
                            "#9c179e"
                          ],
                          [
                            0.4444444444444444,
                            "#bd3786"
                          ],
                          [
                            0.5555555555555556,
                            "#d8576b"
                          ],
                          [
                            0.6666666666666666,
                            "#ed7953"
                          ],
                          [
                            0.7777777777777778,
                            "#fb9f3a"
                          ],
                          [
                            0.8888888888888888,
                            "#fdca26"
                          ],
                          [
                            1,
                            "#f0f921"
                          ]
                        ],
                        "type": "contour"
                      }
                    ],
                    "contourcarpet": [
                      {
                        "colorbar": {
                          "outlinewidth": 0,
                          "ticks": ""
                        },
                        "type": "contourcarpet"
                      }
                    ],
                    "heatmap": [
                      {
                        "colorbar": {
                          "outlinewidth": 0,
                          "ticks": ""
                        },
                        "colorscale": [
                          [
                            0,
                            "#0d0887"
                          ],
                          [
                            0.1111111111111111,
                            "#46039f"
                          ],
                          [
                            0.2222222222222222,
                            "#7201a8"
                          ],
                          [
                            0.3333333333333333,
                            "#9c179e"
                          ],
                          [
                            0.4444444444444444,
                            "#bd3786"
                          ],
                          [
                            0.5555555555555556,
                            "#d8576b"
                          ],
                          [
                            0.6666666666666666,
                            "#ed7953"
                          ],
                          [
                            0.7777777777777778,
                            "#fb9f3a"
                          ],
                          [
                            0.8888888888888888,
                            "#fdca26"
                          ],
                          [
                            1,
                            "#f0f921"
                          ]
                        ],
                        "type": "heatmap"
                      }
                    ],
                    "histogram": [
                      {
                        "marker": {
                          "pattern": {
                            "fillmode": "overlay",
                            "size": 10,
                            "solidity": 0.2
                          }
                        },
                        "type": "histogram"
                      }
                    ],
                    "histogram2d": [
                      {
                        "colorbar": {
                          "outlinewidth": 0,
                          "ticks": ""
                        },
                        "colorscale": [
                          [
                            0,
                            "#0d0887"
                          ],
                          [
                            0.1111111111111111,
                            "#46039f"
                          ],
                          [
                            0.2222222222222222,
                            "#7201a8"
                          ],
                          [
                            0.3333333333333333,
                            "#9c179e"
                          ],
                          [
                            0.4444444444444444,
                            "#bd3786"
                          ],
                          [
                            0.5555555555555556,
                            "#d8576b"
                          ],
                          [
                            0.6666666666666666,
                            "#ed7953"
                          ],
                          [
                            0.7777777777777778,
                            "#fb9f3a"
                          ],
                          [
                            0.8888888888888888,
                            "#fdca26"
                          ],
                          [
                            1,
                            "#f0f921"
                          ]
                        ],
                        "type": "histogram2d"
                      }
                    ],
                    "histogram2dcontour": [
                      {
                        "colorbar": {
                          "outlinewidth": 0,
                          "ticks": ""
                        },
                        "colorscale": [
                          [
                            0,
                            "#0d0887"
                          ],
                          [
                            0.1111111111111111,
                            "#46039f"
                          ],
                          [
                            0.2222222222222222,
                            "#7201a8"
                          ],
                          [
                            0.3333333333333333,
                            "#9c179e"
                          ],
                          [
                            0.4444444444444444,
                            "#bd3786"
                          ],
                          [
                            0.5555555555555556,
                            "#d8576b"
                          ],
                          [
                            0.6666666666666666,
                            "#ed7953"
                          ],
                          [
                            0.7777777777777778,
                            "#fb9f3a"
                          ],
                          [
                            0.8888888888888888,
                            "#fdca26"
                          ],
                          [
                            1,
                            "#f0f921"
                          ]
                        ],
                        "type": "histogram2dcontour"
                      }
                    ],
                    "mesh3d": [
                      {
                        "colorbar": {
                          "outlinewidth": 0,
                          "ticks": ""
                        },
                        "type": "mesh3d"
                      }
                    ],
                    "parcoords": [
                      {
                        "line": {
                          "colorbar": {
                            "outlinewidth": 0,
                            "ticks": ""
                          }
                        },
                        "type": "parcoords"
                      }
                    ],
                    "pie": [
                      {
                        "automargin": true,
                        "type": "pie"
                      }
                    ],
                    "scatter": [
                      {
                        "fillpattern": {
                          "fillmode": "overlay",
                          "size": 10,
                          "solidity": 0.2
                        },
                        "type": "scatter"
                      }
                    ],
                    "scatter3d": [
                      {
                        "line": {
                          "colorbar": {
                            "outlinewidth": 0,
                            "ticks": ""
                          }
                        },
                        "marker": {
                          "colorbar": {
                            "outlinewidth": 0,
                            "ticks": ""
                          }
                        },
                        "type": "scatter3d"
                      }
                    ],
                    "scattercarpet": [
                      {
                        "marker": {
                          "colorbar": {
                            "outlinewidth": 0,
                            "ticks": ""
                          }
                        },
                        "type": "scattercarpet"
                      }
                    ],
                    "scattergeo": [
                      {
                        "marker": {
                          "colorbar": {
                            "outlinewidth": 0,
                            "ticks": ""
                          }
                        },
                        "type": "scattergeo"
                      }
                    ],
                    "scattergl": [
                      {
                        "marker": {
                          "colorbar": {
                            "outlinewidth": 0,
                            "ticks": ""
                          }
                        },
                        "type": "scattergl"
                      }
                    ],
                    "scattermap": [
                      {
                        "marker": {
                          "colorbar": {
                            "outlinewidth": 0,
                            "ticks": ""
                          }
                        },
                        "type": "scattermap"
                      }
                    ],
                    "scattermapbox": [
                      {
                        "marker": {
                          "colorbar": {
                            "outlinewidth": 0,
                            "ticks": ""
                          }
                        },
                        "type": "scattermapbox"
                      }
                    ],
                    "scatterpolar": [
                      {
                        "marker": {
                          "colorbar": {
                            "outlinewidth": 0,
                            "ticks": ""
                          }
                        },
                        "type": "scatterpolar"
                      }
                    ],
                    "scatterpolargl": [
                      {
                        "marker": {
                          "colorbar": {
                            "outlinewidth": 0,
                            "ticks": ""
                          }
                        },
                        "type": "scatterpolargl"
                      }
                    ],
                    "scatterternary": [
                      {
                        "marker": {
                          "colorbar": {
                            "outlinewidth": 0,
                            "ticks": ""
                          }
                        },
                        "type": "scatterternary"
                      }
                    ],
                    "surface": [
                      {
                        "colorbar": {
                          "outlinewidth": 0,
                          "ticks": ""
                        },
                        "colorscale": [
                          [
                            0,
                            "#0d0887"
                          ],
                          [
                            0.1111111111111111,
                            "#46039f"
                          ],
                          [
                            0.2222222222222222,
                            "#7201a8"
                          ],
                          [
                            0.3333333333333333,
                            "#9c179e"
                          ],
                          [
                            0.4444444444444444,
                            "#bd3786"
                          ],
                          [
                            0.5555555555555556,
                            "#d8576b"
                          ],
                          [
                            0.6666666666666666,
                            "#ed7953"
                          ],
                          [
                            0.7777777777777778,
                            "#fb9f3a"
                          ],
                          [
                            0.8888888888888888,
                            "#fdca26"
                          ],
                          [
                            1,
                            "#f0f921"
                          ]
                        ],
                        "type": "surface"
                      }
                    ],
                    "table": [
                      {
                        "cells": {
                          "fill": {
                            "color": "#EBF0F8"
                          },
                          "line": {
                            "color": "white"
                          }
                        },
                        "header": {
                          "fill": {
                            "color": "#C8D4E3"
                          },
                          "line": {
                            "color": "white"
                          }
                        },
                        "type": "table"
                      }
                    ]
                  },
                  "layout": {
                    "annotationdefaults": {
                      "arrowcolor": "#2a3f5f",
                      "arrowhead": 0,
                      "arrowwidth": 1
                    },
                    "autotypenumbers": "strict",
                    "coloraxis": {
                      "colorbar": {
                        "outlinewidth": 0,
                        "ticks": ""
                      }
                    },
                    "colorscale": {
                      "diverging": [
                        [
                          0,
                          "#8e0152"
                        ],
                        [
                          0.1,
                          "#c51b7d"
                        ],
                        [
                          0.2,
                          "#de77ae"
                        ],
                        [
                          0.3,
                          "#f1b6da"
                        ],
                        [
                          0.4,
                          "#fde0ef"
                        ],
                        [
                          0.5,
                          "#f7f7f7"
                        ],
                        [
                          0.6,
                          "#e6f5d0"
                        ],
                        [
                          0.7,
                          "#b8e186"
                        ],
                        [
                          0.8,
                          "#7fbc41"
                        ],
                        [
                          0.9,
                          "#4d9221"
                        ],
                        [
                          1,
                          "#276419"
                        ]
                      ],
                      "sequential": [
                        [
                          0,
                          "#0d0887"
                        ],
                        [
                          0.1111111111111111,
                          "#46039f"
                        ],
                        [
                          0.2222222222222222,
                          "#7201a8"
                        ],
                        [
                          0.3333333333333333,
                          "#9c179e"
                        ],
                        [
                          0.4444444444444444,
                          "#bd3786"
                        ],
                        [
                          0.5555555555555556,
                          "#d8576b"
                        ],
                        [
                          0.6666666666666666,
                          "#ed7953"
                        ],
                        [
                          0.7777777777777778,
                          "#fb9f3a"
                        ],
                        [
                          0.8888888888888888,
                          "#fdca26"
                        ],
                        [
                          1,
                          "#f0f921"
                        ]
                      ],
                      "sequentialminus": [
                        [
                          0,
                          "#0d0887"
                        ],
                        [
                          0.1111111111111111,
                          "#46039f"
                        ],
                        [
                          0.2222222222222222,
                          "#7201a8"
                        ],
                        [
                          0.3333333333333333,
                          "#9c179e"
                        ],
                        [
                          0.4444444444444444,
                          "#bd3786"
                        ],
                        [
                          0.5555555555555556,
                          "#d8576b"
                        ],
                        [
                          0.6666666666666666,
                          "#ed7953"
                        ],
                        [
                          0.7777777777777778,
                          "#fb9f3a"
                        ],
                        [
                          0.8888888888888888,
                          "#fdca26"
                        ],
                        [
                          1,
                          "#f0f921"
                        ]
                      ]
                    },
                    "colorway": [
                      "#636efa",
                      "#EF553B",
                      "#00cc96",
                      "#ab63fa",
                      "#FFA15A",
                      "#19d3f3",
                      "#FF6692",
                      "#B6E880",
                      "#FF97FF",
                      "#FECB52"
                    ],
                    "font": {
                      "color": "#2a3f5f"
                    },
                    "geo": {
                      "bgcolor": "white",
                      "lakecolor": "white",
                      "landcolor": "#E5ECF6",
                      "showlakes": true,
                      "showland": true,
                      "subunitcolor": "white"
                    },
                    "hoverlabel": {
                      "align": "left"
                    },
                    "hovermode": "closest",
                    "mapbox": {
                      "style": "light"
                    },
                    "paper_bgcolor": "white",
                    "plot_bgcolor": "#E5ECF6",
                    "polar": {
                      "angularaxis": {
                        "gridcolor": "white",
                        "linecolor": "white",
                        "ticks": ""
                      },
                      "bgcolor": "#E5ECF6",
                      "radialaxis": {
                        "gridcolor": "white",
                        "linecolor": "white",
                        "ticks": ""
                      }
                    },
                    "scene": {
                      "xaxis": {
                        "backgroundcolor": "#E5ECF6",
                        "gridcolor": "white",
                        "gridwidth": 2,
                        "linecolor": "white",
                        "showbackground": true,
                        "ticks": "",
                        "zerolinecolor": "white"
                      },
                      "yaxis": {
                        "backgroundcolor": "#E5ECF6",
                        "gridcolor": "white",
                        "gridwidth": 2,
                        "linecolor": "white",
                        "showbackground": true,
                        "ticks": "",
                        "zerolinecolor": "white"
                      },
                      "zaxis": {
                        "backgroundcolor": "#E5ECF6",
                        "gridcolor": "white",
                        "gridwidth": 2,
                        "linecolor": "white",
                        "showbackground": true,
                        "ticks": "",
                        "zerolinecolor": "white"
                      }
                    },
                    "shapedefaults": {
                      "line": {
                        "color": "#2a3f5f"
                      }
                    },
                    "ternary": {
                      "aaxis": {
                        "gridcolor": "white",
                        "linecolor": "white",
                        "ticks": ""
                      },
                      "baxis": {
                        "gridcolor": "white",
                        "linecolor": "white",
                        "ticks": ""
                      },
                      "bgcolor": "#E5ECF6",
                      "caxis": {
                        "gridcolor": "white",
                        "linecolor": "white",
                        "ticks": ""
                      }
                    },
                    "title": {
                      "x": 0.05
                    },
                    "xaxis": {
                      "automargin": true,
                      "gridcolor": "white",
                      "linecolor": "white",
                      "ticks": "",
                      "title": {
                        "standoff": 15
                      },
                      "zerolinecolor": "white",
                      "zerolinewidth": 2
                    },
                    "yaxis": {
                      "automargin": true,
                      "gridcolor": "white",
                      "linecolor": "white",
                      "ticks": "",
                      "title": {
                        "standoff": 15
                      },
                      "zerolinecolor": "white",
                      "zerolinewidth": 2
                    }
                  }
                },
                "title": {
                  "text": "SPY Interactive Candlestick Chart"
                },
                "xaxis": {
                  "rangeslider": {
                    "visible": false
                  },
                  "title": {
                    "text": "Time"
                  }
                },
                "yaxis": {
                  "title": {
                    "text": "Price"
                  }
                }
              }
            }
          },
          "metadata": {},
          "output_type": "display_data"
        }
      ],
      "source": [
        "create_candlestick_chart(df)"
      ]
    },
    {
      "cell_type": "code",
      "execution_count": 111,
      "metadata": {
        "id": "fIv9EPj2Sx_G"
      },
      "outputs": [],
      "source": [
        "def calculate_ema(data, period=9) -> pd.Series:\n",
        "    \"\"\"Calculates the Exponential Moving Average (EMA) for the given data.\"\"\"\n",
        "    \n",
        "    if data.empty:\n",
        "        raise ValueError(\"Input data is empty.\")\n",
        "    ema = data['close'].ewm(span=period, adjust=False).mean()\n",
        "    return ema"
      ]
    },
    {
      "cell_type": "code",
      "execution_count": 113,
      "metadata": {},
      "outputs": [
        {
          "data": {
            "text/plain": [
              "timestamp\n",
              "2025-06-13 19:00:00+00:00    596.930000\n",
              "2025-06-13 19:01:00+00:00    596.879231\n",
              "2025-06-13 19:02:00+00:00    596.800888\n",
              "2025-06-13 19:03:00+00:00    596.828443\n",
              "2025-06-13 19:04:00+00:00    596.851760\n",
              "Name: close, dtype: float64"
            ]
          },
          "execution_count": 113,
          "metadata": {},
          "output_type": "execute_result"
        }
      ],
      "source": [
        "ema_series = calculate_ema(df, period=12)\n",
        "ema_series.head()"
      ]
    },
    {
      "cell_type": "code",
      "execution_count": 115,
      "metadata": {},
      "outputs": [
        {
          "data": {
            "image/png": "[encoded data removed]",
            "text/plain": [
              "<Figure size 1200x500 with 1 Axes>"
            ]
          },
          "metadata": {},
          "output_type": "display_data"
        }
      ],
      "source": [
        "ema_series = calculate_ema(df, period=12)\n",
        "plt.figure(figsize=(12, 5))\n",
        "sns.lineplot(x=df.index, y=df['close'], label='Close Price')\n",
        "sns.lineplot(x=df.index, y=ema_series, label='EMA (12)', color='orange')\n",
        "plt.title('Close Price and EMA (12)')\n",
        "plt.xlabel('Time')\n",
        "plt.ylabel('Price')\n",
        "plt.legend()\n",
        "plt.show()"
      ]
    },
    {
      "cell_type": "code",
      "execution_count": 117,
      "metadata": {
        "id": "SFh6Nf5cS7Dg"
      },
      "outputs": [],
      "source": [
        "def calculate_rsi(data, period=14) -> pd.Series:\n",
        "    \"\"\"Calculates the Relative Strength Index (RSI) for the given data.\"\"\"\n",
        "    if data.empty:\n",
        "        raise ValueError(\"Input data is empty.\")\n",
        "    delta = data['close'].diff()\n",
        "    gain = delta.where(delta > 0, 0).rolling(window=period).mean()\n",
        "    loss = -delta.where(delta < 0, 0).rolling(window=period).mean()\n",
        "    rs = gain / loss\n",
        "    rsi = 100 - (100 / (1 + rs))\n",
        "    return rsi"
      ]
    },
    {
      "cell_type": "code",
      "execution_count": 119,
      "metadata": {},
      "outputs": [
        {
          "data": {
            "text/plain": [
              "timestamp\n",
              "2025-06-13 19:00:00+00:00          NaN\n",
              "2025-06-13 19:01:00+00:00          NaN\n",
              "2025-06-13 19:02:00+00:00          NaN\n",
              "2025-06-13 19:03:00+00:00          NaN\n",
              "2025-06-13 19:04:00+00:00          NaN\n",
              "2025-06-13 19:05:00+00:00          NaN\n",
              "2025-06-13 19:06:00+00:00          NaN\n",
              "2025-06-13 19:07:00+00:00          NaN\n",
              "2025-06-13 19:08:00+00:00          NaN\n",
              "2025-06-13 19:09:00+00:00          NaN\n",
              "2025-06-13 19:10:00+00:00          NaN\n",
              "2025-06-13 19:11:00+00:00          NaN\n",
              "2025-06-13 19:12:00+00:00          NaN\n",
              "2025-06-13 19:13:00+00:00    55.409836\n",
              "2025-06-13 19:14:00+00:00    57.366771\n",
              "2025-06-13 19:15:00+00:00    62.457338\n",
              "2025-06-13 19:16:00+00:00    67.527675\n",
              "2025-06-13 19:17:00+00:00    52.136752\n",
              "2025-06-13 19:18:00+00:00    51.476793\n",
              "2025-06-13 19:19:00+00:00    54.222222\n",
              "2025-06-13 19:20:00+00:00    60.251046\n",
              "2025-06-13 19:21:00+00:00    44.690265\n",
              "2025-06-13 19:22:00+00:00    39.665971\n",
              "2025-06-13 19:23:00+00:00    27.802691\n",
              "2025-06-13 19:24:00+00:00    29.665072\n",
              "2025-06-13 19:25:00+00:00    32.124352\n",
              "2025-06-13 19:26:00+00:00    26.086957\n",
              "2025-06-13 19:27:00+00:00    19.565217\n",
              "2025-06-13 19:28:00+00:00    22.916667\n",
              "Name: close, dtype: float64"
            ]
          },
          "execution_count": 119,
          "metadata": {},
          "output_type": "execute_result"
        }
      ],
      "source": [
        "rsi_series = calculate_rsi(df, period=14)\n",
        "rsi_series"
      ]
    },
    {
      "cell_type": "code",
      "execution_count": 120,
      "metadata": {},
      "outputs": [
        {
          "data": {
            "image/png": "[encoded data removed]",
            "text/plain": [
              "<Figure size 1200x400 with 1 Axes>"
            ]
          },
          "metadata": {},
          "output_type": "display_data"
        }
      ],
      "source": [
        "rsi_series = calculate_rsi(df, period=14)\n",
        "plt.figure(figsize=(12, 4))\n",
        "sns.lineplot(x=df.index, y=rsi_series, label='RSI (14)', color='purple')\n",
        "plt.axhline(70, color='red', linestyle='--', label='Overbought (70)')\n",
        "plt.axhline(30, color='green', linestyle='--', label='Oversold (30)')\n",
        "plt.title('RSI (14)')\n",
        "plt.xlabel('Time')\n",
        "plt.ylabel('RSI Value')\n",
        "plt.legend()\n",
        "plt.show()"
      ]
    },
    {
      "cell_type": "code",
      "execution_count": 125,
      "metadata": {
        "id": "ZnsVhJvxS9VY"
      },
      "outputs": [],
      "source": [
        "def average_volume(data, window=20) -> pd.Series:\n",
        "    \"\"\"Calculates the average volume over a specified window.\"\"\"\n",
        "    if data.empty:\n",
        "        raise ValueError(\"Input data is empty.\")\n",
        "    \n",
        "    avg_vol = data['volume'].rolling(window=window).mean()\n",
        "    return avg_vol"
      ]
    },
    {
      "cell_type": "code",
      "execution_count": 127,
      "metadata": {},
      "outputs": [
        {
          "data": {
            "text/plain": [
              "timestamp\n",
              "2025-06-13 19:00:00+00:00        NaN\n",
              "2025-06-13 19:01:00+00:00        NaN\n",
              "2025-06-13 19:02:00+00:00        NaN\n",
              "2025-06-13 19:03:00+00:00        NaN\n",
              "2025-06-13 19:04:00+00:00        NaN\n",
              "2025-06-13 19:05:00+00:00        NaN\n",
              "2025-06-13 19:06:00+00:00        NaN\n",
              "2025-06-13 19:07:00+00:00        NaN\n",
              "2025-06-13 19:08:00+00:00        NaN\n",
              "2025-06-13 19:09:00+00:00        NaN\n",
              "2025-06-13 19:10:00+00:00        NaN\n",
              "2025-06-13 19:11:00+00:00        NaN\n",
              "2025-06-13 19:12:00+00:00        NaN\n",
              "2025-06-13 19:13:00+00:00        NaN\n",
              "2025-06-13 19:14:00+00:00        NaN\n",
              "2025-06-13 19:15:00+00:00        NaN\n",
              "2025-06-13 19:16:00+00:00        NaN\n",
              "2025-06-13 19:17:00+00:00        NaN\n",
              "2025-06-13 19:18:00+00:00        NaN\n",
              "2025-06-13 19:19:00+00:00    2565.10\n",
              "2025-06-13 19:20:00+00:00    2667.40\n",
              "2025-06-13 19:21:00+00:00    2730.20\n",
              "2025-06-13 19:22:00+00:00    2668.60\n",
              "2025-06-13 19:23:00+00:00    2793.25\n",
              "2025-06-13 19:24:00+00:00    3166.25\n",
              "2025-06-13 19:25:00+00:00    3335.60\n",
              "2025-06-13 19:26:00+00:00    3427.75\n",
              "2025-06-13 19:27:00+00:00    3491.35\n",
              "2025-06-13 19:28:00+00:00    3578.15\n",
              "Name: volume, dtype: float64"
            ]
          },
          "execution_count": 127,
          "metadata": {},
          "output_type": "execute_result"
        }
      ],
      "source": [
        "average_volume_series = average_volume(df)\n",
        "average_volume_series"
      ]
    },
    {
      "cell_type": "code",
      "execution_count": 128,
      "metadata": {},
      "outputs": [
        {
          "data": {
            "image/png": "[encoded data removed]",
            "text/plain": [
              "<Figure size 1200x400 with 1 Axes>"
            ]
          },
          "metadata": {},
          "output_type": "display_data"
        }
      ],
      "source": [
        "average_volume_series = average_volume(df)\n",
        "plt.figure(figsize=(12, 4))\n",
        "sns.lineplot(x=df.index, y=df['volume'], label='Volume')\n",
        "sns.lineplot(x=df.index, y=average_volume_series, label='Average Volume (20)', color='orange')\n",
        "plt.title('Volume and 20-Period Average Volume')\n",
        "plt.xlabel('Time')\n",
        "plt.ylabel('Volume')\n",
        "plt.legend()\n",
        "plt.show()"
      ]
    },
    {
      "cell_type": "code",
      "execution_count": 129,
      "metadata": {
        "id": "D9m57PfoS-x4"
      },
      "outputs": [],
      "source": [
        "def calculate_slope(series, window=5) -> pd.Series:\n",
        "    \"\"\"Calculates the slope of the given series over a specified window.\"\"\"\n",
        "    if series.empty:\n",
        "        raise ValueError(\"Input series is empty.\")\n",
        "    \n",
        "    slope = series.diff().rolling(window=window).mean()\n",
        "    return slope"
      ]
    },
    {
      "cell_type": "code",
      "execution_count": 130,
      "metadata": {},
      "outputs": [
        {
          "data": {
            "text/plain": [
              "timestamp\n",
              "2025-06-13 19:00:00+00:00      NaN\n",
              "2025-06-13 19:01:00+00:00      NaN\n",
              "2025-06-13 19:02:00+00:00      NaN\n",
              "2025-06-13 19:03:00+00:00      NaN\n",
              "2025-06-13 19:04:00+00:00      NaN\n",
              "2025-06-13 19:05:00+00:00   -0.022\n",
              "2025-06-13 19:06:00+00:00    0.028\n",
              "2025-06-13 19:07:00+00:00    0.160\n",
              "2025-06-13 19:08:00+00:00    0.050\n",
              "2025-06-13 19:09:00+00:00    0.116\n",
              "2025-06-13 19:10:00+00:00    0.096\n",
              "2025-06-13 19:11:00+00:00    0.052\n",
              "2025-06-13 19:12:00+00:00   -0.006\n",
              "2025-06-13 19:13:00+00:00    0.006\n",
              "2025-06-13 19:14:00+00:00   -0.032\n",
              "2025-06-13 19:15:00+00:00    0.006\n",
              "2025-06-13 19:16:00+00:00    0.064\n",
              "2025-06-13 19:17:00+00:00   -0.012\n",
              "2025-06-13 19:18:00+00:00   -0.042\n",
              "2025-06-13 19:19:00+00:00   -0.078\n",
              "2025-06-13 19:20:00+00:00   -0.020\n",
              "2025-06-13 19:21:00+00:00   -0.078\n",
              "2025-06-13 19:22:00+00:00   -0.069\n",
              "2025-06-13 19:23:00+00:00   -0.096\n",
              "2025-06-13 19:24:00+00:00   -0.112\n",
              "2025-06-13 19:25:00+00:00   -0.184\n",
              "2025-06-13 19:26:00+00:00   -0.134\n",
              "2025-06-13 19:27:00+00:00   -0.119\n",
              "2025-06-13 19:28:00+00:00   -0.042\n",
              "Name: close, dtype: float64"
            ]
          },
          "execution_count": 130,
          "metadata": {},
          "output_type": "execute_result"
        }
      ],
      "source": [
        "cal_slope_series = calculate_slope(df['close'])\n",
        "cal_slope_series"
      ]
    },
    {
      "cell_type": "code",
      "execution_count": 131,
      "metadata": {},
      "outputs": [
        {
          "data": {
            "image/png": "[encoded data removed]",
            "text/plain": [
              "<Figure size 1200x400 with 1 Axes>"
            ]
          },
          "metadata": {},
          "output_type": "display_data"
        }
      ],
      "source": [
        "cal_slope_series = calculate_slope(df['close'])\n",
        "plt.figure(figsize=(12, 4))\n",
        "sns.lineplot(x=df.index, y=cal_slope_series, label='Slope (5)', color='blue')\n",
        "plt.title('Slope of Close Price (5-Period Rolling)')\n",
        "plt.xlabel('Time')\n",
        "plt.ylabel('Slope')\n",
        "plt.legend()\n",
        "plt.show()"
      ]
    },
    {
      "cell_type": "code",
      "execution_count": 142,
      "metadata": {
        "id": "yLrue0zZWTqW"
      },
      "outputs": [],
      "source": [
        "def check_missing_values(df) -> pd.Series:\n",
        "    \"\"\"Checks for missing values in the DataFrame and returns a Series with counts.\"\"\"\n",
        "    if df.empty:\n",
        "        raise ValueError(\"Input DataFrame is empty.\")\n",
        "\n",
        "    missing_values = df.isnull().sum()\n",
        "    missing_values = missing_values[missing_values > 0]\n",
        "    print(\"Missing values in each column:\\n\", missing_values)\n",
        "    return missing_values"
      ]
    },
    {
      "cell_type": "code",
      "execution_count": 143,
      "metadata": {},
      "outputs": [
        {
          "name": "stdout",
          "output_type": "stream",
          "text": [
            "Missing values in each column:\n",
            " Series([], dtype: int64)\n"
          ]
        },
        {
          "data": {
            "text/plain": [
              "Series([], dtype: int64)"
            ]
          },
          "execution_count": 143,
          "metadata": {},
          "output_type": "execute_result"
        }
      ],
      "source": [
        "check_missing_values(df)"
      ]
    },
    {
      "cell_type": "code",
      "execution_count": 144,
      "metadata": {
        "id": "zjjqBiGAXYA5"
      },
      "outputs": [],
      "source": [
        "def remove_dividends_splits(df, columns) -> pd.DataFrame:\n",
        "    \"\"\"Removes specified columns from the DataFrame.\"\"\"\n",
        "    if df.empty:\n",
        "        raise ValueError(\"Input DataFrame is empty.\")\n",
        "    try:\n",
        "        df = df.drop(columns=columns)\n",
        "    except Exception as e:\n",
        "        print(f\"Data error: {e}\")\n",
        "    print(\"Remaining columns after removal:\\n\", df.columns)\n",
        "    return df"
      ]
    },
    {
      "cell_type": "code",
      "execution_count": 145,
      "metadata": {},
      "outputs": [
        {
          "name": "stdout",
          "output_type": "stream",
          "text": [
            "Data error: \"['dividends', 'splits'] not found in axis\"\n",
            "Remaining columns after removal:\n",
            " Index(['symbol', 'open', 'high', 'low', 'close', 'volume', 'trade_count',\n",
            "       'vwap'],\n",
            "      dtype='object')\n"
          ]
        },
        {
          "data": {
            "text/plain": [
              "Index(['symbol', 'open', 'high', 'low', 'close', 'volume', 'trade_count',\n",
              "       'vwap'],\n",
              "      dtype='object')"
            ]
          },
          "execution_count": 145,
          "metadata": {},
          "output_type": "execute_result"
        }
      ],
      "source": [
        "df_removed = remove_dividends_splits(df, ['dividends', 'splits'])\n",
        "df_removed.columns"
      ]
    },
    {
      "cell_type": "code",
      "execution_count": 22,
      "metadata": {
        "id": "o_v5Tg1-zlcK"
      },
      "outputs": [],
      "source": [
        "def trade():\n",
        "\n",
        "    position = load_position()\n",
        "    print(f\"position: {position}\")\n",
        "\n",
        "    # --- Modified Cooldown Check ---\n",
        "    now = datetime.now()\n",
        "    print(f\"now: {now}\")\n",
        "\n",
        "    # Check if last_exit is a non-empty string before attempting to parse\n",
        "    last_exit_str = position.get('last_exit', '') # Use .get to safely access, default to ''\n",
        "    print(f\"position['last_exit'] string: '{last_exit_str}'\")\n",
        "\n",
        "    if last_exit_str: # Check if the string is not empty\n",
        "        try:\n",
        "            last_exit = datetime.fromisoformat(last_exit_str)\n",
        "            print(f\"last_exit (parsed): {last_exit}\")\n",
        "\n",
        "            # Cooldown logic only applies if last_exit was successfully parsed\n",
        "            formatted_time = last_exit.strftime(\"%H:%M:%S\")\n",
        "            print(f\"formatted_time: {formatted_time}\")\n",
        "            time_from_last_exit = int((now - last_exit).total_seconds())\n",
        "            print(f\"time_from_last_exit: {time_from_last_exit}\")\n",
        "            time_left = COOLDOWN - time_from_last_exit\n",
        "            print(f\"time_left: {time_left}\")\n",
        "\n",
        "            if (time_left < COOLDOWN) and (time_left > 0):\n",
        "                print(f\"Cooldown active until {time_left} seconds from now. Last trade was at {formatted_time}\")\n",
        "                return # Exit the trade function if cooldown is active\n",
        "        except ValueError:\n",
        "            # Handle cases where the string is not a valid isoformat\n",
        "            print(f\"Warning: 'last_exit' value '{last_exit_str}' is not a valid ISO format. Assuming no recent exit for cooldown.\")\n",
        "            # Treat as if there was no recent exit (cooldown not active)\n",
        "            time_left = COOLDOWN + 1 # Ensure time_left is greater than COOLDOWN\n",
        "    else:\n",
        "        # If last_exit_str is empty, assume no recent exit (cooldown not active)\n",
        "        print(\"'last_exit' is empty. Assuming no recent exit for cooldown.\")\n",
        "        time_left = COOLDOWN + 1 # Ensure time_left is greater than COOLDOWN\n",
        "\n",
        "    # Rest of your trade logic continues here if cooldown is not active\n",
        "    trade_count, daily_pnl = check_daily_limits()\n",
        "    if trade_count >= MAX_TRADES_PER_DAY or daily_pnl <= -DAILY_LOSS_LIMIT:\n",
        "        print(\"Daily limit reached.\")\n",
        "        return\n",
        "\n",
        "    df_1m = get_data(SYMBOL, '1m', 30)\n",
        "    df_5m = get_data(SYMBOL, '5m', 30)\n",
        "\n",
        "    if df_1m.empty or df_5m.empty:\n",
        "        print(\"Data unavailable.\")\n",
        "        return\n",
        "\n",
        "    df_1m['ema9'] = calculate_ema(df_1m)\n",
        "    df_1m['rsi'] = calculate_rsi(df_1m)\n",
        "    df_1m['avg_volume'] = average_volume(df_1m)\n",
        "\n",
        "    df_5m['ema50'] = calculate_ema(df_5m, 50)\n",
        "    df_5m['slope50'] = calculate_slope(df_5m['ema50'])\n",
        "\n",
        "    last = df_1m.iloc[-1].copy()\n",
        "    #print(\"Raw last row values:\")\n",
        "    for k, v in last.items():\n",
        "        print(f\"  {k}: {v}\")\n",
        "\n",
        "    # convert the values in the last row of that DataFrame to a consistent numeric format.\n",
        "    numerical_columns = df_1m.select_dtypes(include='number').columns.tolist()\n",
        "    #print(f\"Numeric columns: {numerical_columns}\")\n",
        "    for col in numerical_columns:\n",
        "        try:\n",
        "            val = last[col]\n",
        "            if pd.isna(val) or str(val).strip() in ['', 'None', 'nan', 'NaN']:\n",
        "                raise ValueError(f\"Missing or empty value for {col}\")\n",
        "                val = float(val) if isinstance(val, (int, float)) else float(str(val).replace(',', '').strip())\n",
        "                last[col] = val\n",
        "        except Exception as e:\n",
        "            print(f\"Data conversion error for '{col}': {e}\")\n",
        "\n",
        "    #last\n",
        "\n",
        "    slope = float(df_5m['slope50'].iloc[-1])\n",
        "    print(f\"Slope: {slope}\")\n",
        "    side = position.get('side')\n",
        "    print(f\"Side: {side}\")\n",
        "    qty = position.get('qty', 0)\n",
        "    print(f\"Qty: {qty}\")\n",
        "    entry_price = position.get('entry_price', 0)\n",
        "    print(f\"Entry price: {entry_price}\")\n",
        "    buying_power = 100000 #float(api.get_account().cash)\n",
        "    trade_qty = int((buying_power * POSITION_SIZE_PCT) / last['Close'])\n",
        "    print(f\"Trade qty: {trade_qty}\")\n",
        "\n",
        "    # No position\n",
        "    if not side:\n",
        "        print(\"No position found\")\n",
        "        save_position({'side': 'long', 'entry_price': 100, 'qty': trade_qty, 'high': 200, 'entry_time': now.isoformat()})\n",
        "        # if last['Close'] > last['Open'] and last['Close'] > last['ema9'] and last['rsi'] < 65 and last['Volume'] > last['avg_volume'] and slope > 0:\n",
        "        #     price = last['Close'] * 1.001\n",
        "        #     place_order('buy', trade_qty, price)\n",
        "        #     save_position({'side': 'long', 'entry_price': price, 'qty': trade_qty, 'high': price, 'entry_time': now.isoformat()})\n",
        "\n",
        "        # elif last['Close'] < last['Open'] and last['Close'] < last['ema9'] and last['rsi'] > 55 and last['Volume'] > last['avg_volume'] and slope < 0:\n",
        "        #     price = last['Close'] * 0.999\n",
        "        #     place_order('sell', trade_qty, price)\n",
        "        #     save_position({'side': 'short', 'entry_price': price, 'qty': trade_qty, 'low': price, 'entry_time': now.isoformat()})\n",
        "\n",
        "    # Long Position\n",
        "    elif side == 'long':\n",
        "        print(\"Long Position\")\n",
        "        position['high'] = max(position['high'], last['Close'])\n",
        "        trail_stop = position['high'] * (1 - TRAILING_STOP_PCT)\n",
        "        print(f\"[LONG] Comparing last['Close'] = {last['Close']} (type: {type(last['Close'])}) to trail_stop = {trail_stop}\")\n",
        "        last_close = float(last['Close'])\n",
        "        if last_close <= trail_stop or last_close < last['ema9']:\n",
        "            close_position()\n",
        "            exit_price = last['Close']\n",
        "            pnl = (exit_price - entry_price) * qty\n",
        "            log_trade(position['entry_time'], now.isoformat(), side, entry_price, exit_price, pnl)\n",
        "            #reset_position()\n",
        "            save_position({'last_exit': now.isoformat()})\n",
        "\n",
        "    # Short Position\n",
        "    elif side == 'short':\n",
        "        print(\"Short Position\")\n",
        "        position['low'] = min(position['low'], last['Close'])\n",
        "        trail_stop = position['low'] * (1 + TRAILING_STOP_PCT)\n",
        "        print(f\"[SHORT] Comparing last['Close'] = {last['Close']} (type: {type(last['Close'])}) to trail_stop = {trail_stop}\")\n",
        "        last_close = float(last['Close'])\n",
        "        if last_close >= trail_stop or last_close > last['ema9']:\n",
        "            close_position()\n",
        "            exit_price = last['Close']\n",
        "            pnl = (entry_price - exit_price) * qty\n",
        "            log_trade(position['entry_time'], now.isoformat(), side, entry_price, exit_price, pnl)\n",
        "            #reset_position()\n",
        "            save_position({'last_exit': now.isoformat()})\n"
      ]
    },
    {
      "cell_type": "code",
      "execution_count": 52,
      "metadata": {
        "colab": {
          "base_uri": "https://localhost:8080/"
        },
        "id": "fu7nSeWdt9PT",
        "outputId": "b87d3b29-d20d-465b-8274-f92d97cebc07"
      },
      "outputs": [
        {
          "name": "stdout",
          "output_type": "stream",
          "text": [
            "'position.json' already exists.\n",
            "Successfully loaded position from position.json\n",
            "position: {'last_exit': '2025-06-12T20:34:21.735676'}\n",
            "now: 2025-06-12 20:34:33.084023\n",
            "position['last_exit'] string: '2025-06-12T20:34:21.735676'\n",
            "last_exit (parsed): 2025-06-12 20:34:21.735676\n",
            "formatted_time: 20:34:21\n",
            "time_from_last_exit: 11\n",
            "time_left: 9\n",
            "Cooldown active until 9 seconds from now. Last trade was at 20:34:21\n"
          ]
        }
      ],
      "source": [
        "try:\n",
        "    trade()\n",
        "except Exception as e:\n",
        "    print(f\"Runtime error: {e}\")\n",
        "#time.sleep(60)"
      ]
    },
    {
      "cell_type": "markdown",
      "metadata": {
        "id": "CBdRzugeCSlw"
      },
      "source": []
    }
  ],
  "metadata": {
    "colab": {
      "authorship_tag": "ABX9TyNfEvgiKX3wR4bd4V7PClYf",
      "include_colab_link": true,
      "provenance": []
    },
    "kernelspec": {
      "display_name": "alpaca",
      "language": "python",
      "name": "python3"
    },
    "language_info": {
      "codemirror_mode": {
        "name": "ipython",
        "version": 3
      },
      "file_extension": ".py",
      "mimetype": "text/x-python",
      "name": "python",
      "nbconvert_exporter": "python",
      "pygments_lexer": "ipython3",
      "version": "3.13.5"
    }
  },
  "nbformat": 4,
  "nbformat_minor": 0
}
