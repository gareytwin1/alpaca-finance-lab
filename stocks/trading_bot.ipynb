{
  "cells": [
    {
      "cell_type": "code",
      "execution_count": 431,
      "metadata": {
        "colab": {
          "base_uri": "https://localhost:8080/"
        },
        "id": "M4m9Xfrjmb-j",
        "outputId": "772f49ff-058c-4d1e-88ef-9da6df1d6bed"
      },
      "outputs": [],
      "source": [
        "# !pip install alpaca-trade-api"
      ]
    },
    {
      "cell_type": "code",
      "execution_count": 432,
      "metadata": {
        "id": "CIYZB6Z-jpdz"
      },
      "outputs": [],
      "source": [
        "import alpaca_trade_api as tradeapi\n",
        "from alpaca.data.historical import StockHistoricalDataClient\n",
        "from alpaca.data.requests import StockBarsRequest, StockLatestQuoteRequest\n",
        "from alpaca.data.timeframe import TimeFrame, TimeFrameUnit\n",
        "import config\n",
        "from datetime import datetime, timedelta, timezone\n",
        "import json\n",
        "import mplfinance as mpf\n",
        "import matplotlib.pyplot as plt\n",
        "import os\n",
        "import pandas as pd\n",
        "import polars as pl\n",
        "import plotly.graph_objects as go\n",
        "import seaborn as sns\n",
        "import time\n"
      ]
    },
    {
      "cell_type": "code",
      "execution_count": 433,
      "metadata": {
        "id": "CvI-UYfC5wkd"
      },
      "outputs": [],
      "source": [
        "POSITION_FILE: str = 'position.json' \n",
        "SYMBOL: str = 'SPY'\n",
        "MAX_TRADES_PER_DAY: int = 10        # Maximum trades allowed per day\n",
        "DAILY_LOSS_LIMIT: int  = 100       # Maximum daily loss allowed (in dollars)\n",
        "POSITION_SIZE_PCT: float = 0.1        # 10% of buying power per trade\n",
        "COOLDOWN: int = 60 * 5              # 5 minutes cooldown in seconds\n",
        "TRAILING_STOP_PCT: float = 0.02       # 2% trailing stop\n",
        "\n",
        "# Initial position dictionary\n",
        "initial_position_data = {\n",
        "    \"side\": \"long\",\n",
        "    \"entry_price\": 180.50,\n",
        "    \"qty\": 10,\n",
        "    \"high\": 180.50,\n",
        "    \"low\": 180.00,\n",
        "    \"entry_time\": datetime.now().isoformat(),\n",
        "    \"last_exit\": \"\"\n",
        "} \n",
        "\n",
        "# # Simulated activities\n",
        "# activities = [{\n",
        "#         \"symbol\": SYMBOL,\n",
        "#         \"side\": \"buy\",\n",
        "#         \"transaction_time\": datetime.now() - timedelta(hours=2),\n",
        "#         \"realized_pl\": 0.00},\n",
        "#     {\n",
        "#         \"symbol\": SYMBOL,\n",
        "#         \"side\": \"sell\",\n",
        "#         \"transaction_time\": datetime.now() - timedelta(hours=1, minutes=30),\n",
        "#         \"realized_pl\": 15.75},\n",
        "#     {\n",
        "#         \"symbol\": SYMBOL,\n",
        "#         \"side\": \"buy\",\n",
        "#         \"transaction_time\": datetime.now() - timedelta(minutes=45),\n",
        "#         \"realized_pl\": 0.00},\n",
        "#     {\n",
        "#         \"symbol\": SYMBOL,\n",
        "#         \"side\": \"sell\",\n",
        "#         \"transaction_time\": datetime.now() - timedelta(minutes=30),\n",
        "#         \"realized_pl\": -5.25}]"
      ]
    },
    {
      "cell_type": "code",
      "execution_count": 434,
      "metadata": {
        "id": "NjP1BVyK148p"
      },
      "outputs": [],
      "source": [
        "def create_position_file_if_not_exists():\n",
        "    \"\"\"Creates the position.json file with initial data if it doesn't exist.\"\"\"\n",
        "    if not os.path.exists(POSITION_FILE):\n",
        "        try:\n",
        "            with open(POSITION_FILE, 'w') as f:\n",
        "                json.dump(initial_position_data, f, indent=4)\n",
        "            print(f\"'{POSITION_FILE}' not found. Created and initialized it.\")\n",
        "        except Exception as e:\n",
        "            print(f\"Error creating '{POSITION_FILE}': {e}\")\n",
        "    else:\n",
        "        print(f\"'{POSITION_FILE}' already exists.\")"
      ]
    },
    {
      "cell_type": "code",
      "execution_count": 435,
      "metadata": {},
      "outputs": [
        {
          "name": "stdout",
          "output_type": "stream",
          "text": [
            "'position.json' not found. Created and initialized it.\n"
          ]
        }
      ],
      "source": [
        "create_position_file_if_not_exists()"
      ]
    },
    {
      "cell_type": "code",
      "execution_count": 436,
      "metadata": {
        "id": "39xwYNED0JHY"
      },
      "outputs": [],
      "source": [
        "def load_position() -> list[dict]:\n",
        "    \"\"\"Loads the trading position from the position.json file.\"\"\"\n",
        "    # Ensure the file exists before attempting to load\n",
        "    create_position_file_if_not_exists()\n",
        "    try:\n",
        "        with open(POSITION_FILE, 'r') as f:\n",
        "            position_data = json.load(f)\n",
        "            print(f\"Successfully loaded position from {POSITION_FILE}\")\n",
        "            return position_data\n",
        "    except json.JSONDecodeError:\n",
        "        print(f\"Error decoding JSON from {POSITION_FILE}. File might be corrupted.\")\n",
        "        # file is corrupted, lets delete it and re-create\n",
        "        os.remove(POSITION_FILE)\n",
        "        print(f\"Deleted corrupted {POSITION_FILE}. Re-creating it.\")\n",
        "        try:\n",
        "             with open(POSITION_FILE, 'r') as f:\n",
        "                 position_data = json.load(f)\n",
        "                 return position_data # Should now load the initial data\n",
        "        except:\n",
        "             return initial_position_data # Fallback if even re-creation fails (unlikely)\n",
        "    except Exception as e:\n",
        "        print(f\"An unexpected error occurred while reading {POSITION_FILE}: {e}. Returning initial position.\")\n",
        "        return initial_position_data\n"
      ]
    },
    {
      "cell_type": "code",
      "execution_count": 437,
      "metadata": {},
      "outputs": [
        {
          "name": "stdout",
          "output_type": "stream",
          "text": [
            "'position.json' already exists.\n",
            "Successfully loaded position from position.json\n"
          ]
        },
        {
          "data": {
            "text/plain": [
              "{'side': 'long',\n",
              " 'entry_price': 180.5,\n",
              " 'qty': 10,\n",
              " 'high': 180.5,\n",
              " 'low': 180.0,\n",
              " 'entry_time': '2025-06-13T16:04:02.153733',\n",
              " 'last_exit': ''}"
            ]
          },
          "execution_count": 437,
          "metadata": {},
          "output_type": "execute_result"
        }
      ],
      "source": [
        "load_position()"
      ]
    },
    {
      "cell_type": "code",
      "execution_count": 438,
      "metadata": {
        "id": "bpwpjW_bj3GF"
      },
      "outputs": [],
      "source": [
        "def close_position():\n",
        "    \"\"\"Closes the current trading position.\"\"\"\n",
        "    try:\n",
        "        # api.close_position(SYMBOL)\n",
        "        print(\"Position closed.\")\n",
        "        # reset_position()\n",
        "    except Exception as e:\n",
        "        print(f\"Close error: {e}\")"
      ]
    },
    {
      "cell_type": "code",
      "execution_count": 439,
      "metadata": {
        "id": "i_fI-gacj8DL"
      },
      "outputs": [],
      "source": [
        "def save_position(data):\n",
        "    \"\"\"Saves the current trading position to the position.json file.\"\"\"\n",
        "    POSITION_FILE = 'position.json'\n",
        "    with open(POSITION_FILE, 'w') as f:\n",
        "        json.dump(data, f)\n",
        "    print(\"Position saved\")"
      ]
    },
    {
      "cell_type": "code",
      "execution_count": 440,
      "metadata": {
        "id": "1X6LdYSFj_2j"
      },
      "outputs": [],
      "source": [
        "def reset_position():\n",
        "    \"\"\"Resets the position by deleting the position.json file.\"\"\"\n",
        "    POSITION_FILE = 'position.json'\n",
        "    if os.path.exists(POSITION_FILE):\n",
        "        os.remove(POSITION_FILE)\n",
        "    print(\"Positioned reset\")"
      ]
    },
    {
      "cell_type": "code",
      "execution_count": 441,
      "metadata": {},
      "outputs": [
        {
          "name": "stdout",
          "output_type": "stream",
          "text": [
            "Positioned reset\n"
          ]
        }
      ],
      "source": [
        "reset_position()"
      ]
    },
    {
      "cell_type": "code",
      "execution_count": 442,
      "metadata": {},
      "outputs": [],
      "source": [
        "# writte a function that connects tto Alpaca API and returns the api object\n",
        "def connect_to_alpaca() -> tradeapi.REST | None:\n",
        "    \"\"\"Connects to the Alpaca API and returns the API object.\"\"\"\n",
        "    api_key = os.getenv(\"ALPACA_API_KEY\")\n",
        "    api_secret = os.getenv(\"ALPACA_SECRET_KEY\")\n",
        "    api_url = os.getenv(\"ALPACA_BASE_URL\", \"https://paper-api.alpaca.markets\")\n",
        "\n",
        "    if not api_key or not api_secret:\n",
        "        print(\"API key and secret must be set in environment variables.\")\n",
        "        return None\n",
        "    \n",
        "    try:\n",
        "        api = tradeapi.REST(\n",
        "            key_id=api_key,\n",
        "            secret_key=api_secret,\n",
        "            base_url=api_url\n",
        "        )\n",
        "        print(\"Connected to Alpaca API\")\n",
        "        return api\n",
        "    except Exception as e:\n",
        "        print(f\"Error connecting to Alpaca API: {e}\")\n",
        "        return None\n"
      ]
    },
    {
      "cell_type": "code",
      "execution_count": 443,
      "metadata": {},
      "outputs": [
        {
          "name": "stdout",
          "output_type": "stream",
          "text": [
            "Connected to Alpaca API\n",
            "Account status: ACTIVE\n",
            "Account equity: 99797.58\n",
            "Account buying power: 359913.39\n"
          ]
        }
      ],
      "source": [
        "api = connect_to_alpaca()\n",
        "if api is None:\n",
        "    print(\"Failed to connect to Alpaca API. Exiting.\")\n",
        "    exit(1)\n",
        "# get account information\n",
        "account = api.get_account()\n",
        "print(f\"Account status: {account.status}\")\n",
        "print(f\"Account equity: {account.equity}\")\n",
        "print(f\"Account buying power: {account.buying_power}\")"
      ]
    },
    {
      "cell_type": "code",
      "execution_count": 444,
      "metadata": {},
      "outputs": [],
      "source": [
        "def fetch_positions(api) -> list:\n",
        "    \"\"\"Fetches and returns the current open positions.\"\"\"\n",
        "    try:\n",
        "        positions = api.list_positions()\n",
        "        if positions:\n",
        "            for position in positions:\n",
        "                print(f\"Symbol: {position.symbol}, Qty: {position.qty}, Side: {position.side}, Market Value: {position.market_value}\")\n",
        "        else:\n",
        "            print(\"No open positions.\")\n",
        "        return positions\n",
        "    except Exception as e:\n",
        "        print(f\"Error fetching positions: {e}\")\n",
        "        return []"
      ]
    },
    {
      "cell_type": "code",
      "execution_count": 445,
      "metadata": {},
      "outputs": [
        {
          "name": "stdout",
          "output_type": "stream",
          "text": [
            "Symbol: SPY, Qty: 56.459157247, Side: long, Market Value: 33706.116876\n"
          ]
        }
      ],
      "source": [
        "positions = fetch_positions(api)"
      ]
    },
    {
      "cell_type": "code",
      "execution_count": 446,
      "metadata": {},
      "outputs": [],
      "source": [
        "def fetch_activities(api, symbol='SPY', after=None) -> list:\n",
        "    \"\"\"Fetches and returns account activities for a specific symbol.\"\"\"\n",
        "    try:\n",
        "        activities = api.get_activities(activity_types=['FILL'], after=after)\n",
        "        symbol_activities = [activity for activity in activities if activity.symbol == symbol]\n",
        "        if symbol_activities:\n",
        "            for activity in symbol_activities:\n",
        "                realized_pl = getattr(activity, \"realized_pl\", None)\n",
        "        else:\n",
        "            print(f\"No activities found for symbol {symbol}.\")\n",
        "        return symbol_activities\n",
        "    except Exception as e:\n",
        "        print(f\"Error fetching activities: {e}\")\n",
        "        return []"
      ]
    },
    {
      "cell_type": "code",
      "execution_count": 447,
      "metadata": {},
      "outputs": [
        {
          "name": "stdout",
          "output_type": "stream",
          "text": [
            "Recent activity: buy 1 shares of SPY at 597.95 on 18:15:26\n",
            "Recent activity: sell 0.01 shares of SPY at 601.032 on 15:10:01\n",
            "Recent activity: buy 5 shares of SPY at 601.09 on 15:09:41\n",
            "Recent activity: buy 1 shares of SPY at 601.15 on 15:09:18\n",
            "Recent activity: buy 0.001829801 shares of SPY at 601.158 on 15:09:13\n",
            "Recent activity: buy 0.5 shares of SPY at 601.19 on 15:09:11\n",
            "Recent activity: buy 1 shares of SPY at 601.19 on 15:09:11\n",
            "Recent activity: buy 2 shares of SPY at 601.19 on 15:09:11\n",
            "Recent activity: buy 2 shares of SPY at 601.21 on 15:09:10\n",
            "Recent activity: sell 0.01 shares of SPY at 600.982 on 15:00:51\n",
            "Recent activity: buy 1 shares of SPY at 601.02 on 15:00:25\n",
            "Recent activity: buy 1 shares of SPY at 601.01 on 15:00:25\n",
            "Recent activity: buy 3 shares of SPY at 601.01 on 15:00:24\n",
            "Recent activity: buy 1 shares of SPY at 600.97 on 15:00:20\n",
            "Recent activity: buy 0.00183038 shares of SPY at 600.968 on 15:00:15\n",
            "Recent activity: buy 0.5 shares of SPY at 601.01 on 15:00:12\n",
            "Recent activity: buy 5 shares of SPY at 601.01 on 15:00:12\n",
            "Recent activity: sell 0.01 shares of SPY at 601.272 on 14:57:28\n",
            "Recent activity: buy 2 shares of SPY at 601.29 on 14:56:49\n",
            "Recent activity: buy 1 shares of SPY at 601.29 on 14:56:48\n",
            "Recent activity: buy 2 shares of SPY at 601.29 on 14:56:48\n",
            "Recent activity: buy 1 shares of SPY at 601.47 on 14:55:08\n",
            "Recent activity: buy 0.001828737 shares of SPY at 601.508 on 14:55:02\n",
            "Recent activity: buy 0.5 shares of SPY at 601.51 on 14:54:59\n",
            "Recent activity: buy 4 shares of SPY at 601.51 on 14:54:59\n",
            "Recent activity: buy 1 shares of SPY at 601.51 on 14:54:59\n",
            "Recent activity: sell 0.01 shares of SPY at 599.602 on 16:11:08\n",
            "Recent activity: buy 1 shares of SPY at 599.6 on 16:11:06\n",
            "Recent activity: buy 3 shares of SPY at 599.6 on 16:11:06\n",
            "Recent activity: buy 1 shares of SPY at 599.59 on 16:11:06\n",
            "Recent activity: buy 0.001834593 shares of SPY at 599.588 on 16:11:04\n",
            "Recent activity: buy 0.5 shares of SPY at 599.59 on 16:11:04\n",
            "Recent activity: buy 5 shares of SPY at 599.59 on 16:11:04\n",
            "Recent activity: sell 0.01 shares of SPY at 599.892 on 16:01:54\n",
            "Recent activity: buy 1 shares of SPY at 599.84 on 15:59:30\n",
            "Recent activity: buy 2 shares of SPY at 599.84 on 15:59:29\n",
            "Recent activity: buy 2 shares of SPY at 599.84 on 15:59:29\n",
            "Recent activity: buy 0.001833736 shares of SPY at 599.868 on 15:59:06\n",
            "Recent activity: buy 0.5 shares of SPY at 599.84 on 15:58:57\n",
            "Recent activity: buy 1 shares of SPY at 599.84 on 15:58:57\n",
            "Recent activity: buy 2 shares of SPY at 599.84 on 15:58:57\n",
            "Recent activity: buy 2 shares of SPY at 599.84 on 15:58:57\n"
          ]
        }
      ],
      "source": [
        "# Fetch activities\n",
        "activities = fetch_activities(api, after=(datetime.now() - timedelta(days=5)).isoformat() + 'Z')\n",
        "if activities:\n",
        "    for activity in activities:\n",
        "        time_str = activity.transaction_time.strftime('%H:%M:%S')\n",
        "        print(\n",
        "            f\"Recent activity: {activity.side} \"\n",
        "            f\"{activity.qty} shares of {activity.symbol} \"\n",
        "            f\"at {activity.price} \"\n",
        "            f\"on {time_str}\"\n",
        "        )\n",
        "else:\n",
        "    print(\"No recent activities.\")"
      ]
    },
    {
      "cell_type": "code",
      "execution_count": 448,
      "metadata": {},
      "outputs": [],
      "source": [
        "def fetch_open_orders(api, symbol='SPY') -> list:\n",
        "    \"\"\"Fetches and returns open orders for a specific symbol.\"\"\"\n",
        "    try:\n",
        "        orders = api.list_orders(status='open', symbols=[symbol])\n",
        "        if orders:\n",
        "            for order in orders:\n",
        "                print(f\"Order ID: {order.id}, Symbol: {order.symbol}, Qty: {order.qty}, Side: {order.side}, Type: {order.type}, Status: {order.status}\")\n",
        "        else:\n",
        "            print(f\"No open orders for symbol {symbol}.\")\n",
        "        return orders\n",
        "    except Exception as e:\n",
        "        print(f\"Error fetching open orders: {e}\")\n",
        "        return []\n"
      ]
    },
    {
      "cell_type": "code",
      "execution_count": 449,
      "metadata": {},
      "outputs": [
        {
          "name": "stdout",
          "output_type": "stream",
          "text": [
            "Order ID: 77d32c00-7a59-41e4-b8cc-6eb75bb58b04, Symbol: SPY, Qty: 1, Side: sell, Type: limit, Status: accepted\n",
            "Order ID: 29ca5027-19f6-41d7-a7d6-86333ba77af6, Symbol: SPY, Qty: 1, Side: sell, Type: limit, Status: accepted\n",
            "Order ID: c9753f73-44af-4dcb-8ddf-7e8feb75c545, Symbol: SPY, Qty: 1, Side: sell, Type: limit, Status: accepted\n",
            "Order ID: 4a004081-8eb3-4c35-80e4-216fe660a21b, Symbol: SPY, Qty: 1, Side: sell, Type: limit, Status: accepted\n",
            "Order ID: d70d5c36-ae3f-4d2b-afb4-b04ecdddd890, Symbol: SPY, Qty: 1, Side: sell, Type: limit, Status: accepted\n",
            "Order ID: 4a93c88d-a950-4a29-a31d-c0d464508c3c, Symbol: SPY, Qty: 1, Side: sell, Type: limit, Status: new\n",
            "Order ID: 22f9a46d-2daa-4fa1-a7b7-4292a936217c, Symbol: SPY, Qty: 1, Side: sell, Type: limit, Status: new\n",
            "Order ID: 555c6275-58fa-4198-bbda-c9528b4d41fa, Symbol: SPY, Qty: 1, Side: sell, Type: limit, Status: new\n",
            "Order ID: 369cbc94-1b11-4e5c-a2ce-ad75953d8741, Symbol: SPY, Qty: 1, Side: sell, Type: limit, Status: new\n",
            "Order ID: 343d60be-a83d-4d2d-b552-b440d9050589, Symbol: SPY, Qty: 1, Side: sell, Type: limit, Status: new\n"
          ]
        }
      ],
      "source": [
        "open_orders = fetch_open_orders(api)"
      ]
    },
    {
      "cell_type": "code",
      "execution_count": 450,
      "metadata": {},
      "outputs": [],
      "source": [
        "def fetch_market_clock(api):\n",
        "    \"\"\"Fetches and prints the current market clock information.\"\"\"\n",
        "    try:\n",
        "        clock = api.get_clock()\n",
        "        print(f\"Market is currently {'open' if clock.is_open else 'closed'}. Next open: {clock.next_open}, Next close: {clock.next_close}\")\n",
        "        return clock\n",
        "    except Exception as e:\n",
        "        print(f\"Error fetching market clock: {e}\")\n",
        "        return None"
      ]
    },
    {
      "cell_type": "code",
      "execution_count": 451,
      "metadata": {},
      "outputs": [
        {
          "name": "stdout",
          "output_type": "stream",
          "text": [
            "Market is currently closed. Next open: 2025-06-16 09:30:00-04:00, Next close: 2025-06-16 16:00:00-04:00\n"
          ]
        },
        {
          "data": {
            "text/plain": [
              "Clock({   'is_open': False,\n",
              "    'next_close': '2025-06-16T16:00:00-04:00',\n",
              "    'next_open': '2025-06-16T09:30:00-04:00',\n",
              "    'timestamp': '2025-06-13T17:04:02.688954873-04:00'})"
            ]
          },
          "execution_count": 451,
          "metadata": {},
          "output_type": "execute_result"
        }
      ],
      "source": [
        "fetch_market_clock(api)"
      ]
    },
    {
      "cell_type": "code",
      "execution_count": 452,
      "metadata": {},
      "outputs": [],
      "source": [
        "def fetch_market_calendar(api, start_date, end_date) -> list:\n",
        "    \"\"\"Fetches and returns the market calendar between specified dates.\"\"\"\n",
        "    try:\n",
        "        calendar = api.get_calendar(start=start_date, end=end_date)\n",
        "        if calendar:\n",
        "            for day in calendar:\n",
        "                print(f\"Date: {day.date}, Open: {day.open}, Close: {day.close}\")\n",
        "        else:\n",
        "            print(\"No market calendar data found for the specified dates.\")\n",
        "        return calendar\n",
        "    except Exception as e:\n",
        "        print(f\"Error fetching market calendar: {e}\")\n",
        "        return []"
      ]
    },
    {
      "cell_type": "code",
      "execution_count": 453,
      "metadata": {},
      "outputs": [
        {
          "name": "stdout",
          "output_type": "stream",
          "text": [
            "Date: 2025-06-13 00:00:00, Open: 09:30:00, Close: 16:00:00\n",
            "Date: 2025-06-16 00:00:00, Open: 09:30:00, Close: 16:00:00\n",
            "Date: 2025-06-17 00:00:00, Open: 09:30:00, Close: 16:00:00\n",
            "Date: 2025-06-18 00:00:00, Open: 09:30:00, Close: 16:00:00\n",
            "Date: 2025-06-20 00:00:00, Open: 09:30:00, Close: 16:00:00\n"
          ]
        },
        {
          "data": {
            "text/plain": [
              "[Calendar({   'close': '16:00',\n",
              "     'date': '2025-06-13',\n",
              "     'open': '09:30',\n",
              "     'session_close': '2000',\n",
              "     'session_open': '0400',\n",
              "     'settlement_date': '2025-06-16'}),\n",
              " Calendar({   'close': '16:00',\n",
              "     'date': '2025-06-16',\n",
              "     'open': '09:30',\n",
              "     'session_close': '2000',\n",
              "     'session_open': '0400',\n",
              "     'settlement_date': '2025-06-17'}),\n",
              " Calendar({   'close': '16:00',\n",
              "     'date': '2025-06-17',\n",
              "     'open': '09:30',\n",
              "     'session_close': '2000',\n",
              "     'session_open': '0400',\n",
              "     'settlement_date': '2025-06-18'}),\n",
              " Calendar({   'close': '16:00',\n",
              "     'date': '2025-06-18',\n",
              "     'open': '09:30',\n",
              "     'session_close': '2000',\n",
              "     'session_open': '0400',\n",
              "     'settlement_date': '2025-06-20'}),\n",
              " Calendar({   'close': '16:00',\n",
              "     'date': '2025-06-20',\n",
              "     'open': '09:30',\n",
              "     'session_close': '2000',\n",
              "     'session_open': '0400',\n",
              "     'settlement_date': '2025-06-23'})]"
            ]
          },
          "execution_count": 453,
          "metadata": {},
          "output_type": "execute_result"
        }
      ],
      "source": [
        "fetch_market_calendar(api, start_date=datetime.now().date(), end_date=(datetime.now() + timedelta(days=7)).date())"
      ]
    },
    {
      "cell_type": "code",
      "execution_count": 454,
      "metadata": {},
      "outputs": [],
      "source": [
        "def get_historical_data_client() -> StockHistoricalDataClient:\n",
        "    \"\"\"Creates and returns a StockHistoricalDataClient instance.\"\"\"\n",
        "    api_key = os.getenv(\"ALPACA_API_KEY\")\n",
        "    api_secret = os.getenv(\"ALPACA_SECRET_KEY\")\n",
        "    if api_key and api_secret:\n",
        "        return StockHistoricalDataClient(api_key, api_secret)\n",
        "    else:\n",
        "        raise ValueError(\"API key and secret must be provided.\")"
      ]
    },
    {
      "cell_type": "code",
      "execution_count": 455,
      "metadata": {},
      "outputs": [],
      "source": [
        "def build_stock_bars_request(symbol: str, start: datetime, end: datetime, timeframe: TimeFrame) -> StockBarsRequest:\n",
        "    \"\"\"Builds and returns a StockBarsRequest object.\"\"\"\n",
        "    return StockBarsRequest(\n",
        "        symbol_or_symbols=[symbol],\n",
        "        start=start,\n",
        "        end=end,\n",
        "        timeframe=timeframe,\n",
        "        feed='iex'\n",
        "    )\n",
        "    if feed:\n",
        "        params['feed'] = feed\n",
        "    return StockBarsRequest(**params)"
      ]
    },
    {
      "cell_type": "code",
      "execution_count": 456,
      "metadata": {},
      "outputs": [],
      "source": [
        "def fetch_historical_data(symbol, start, end, timeframe) -> pd.DataFrame | None:\n",
        "    \"\"\"Fetches historical stock data from Alpaca and returns a Polars DataFrame.\"\"\"\n",
        "    try:\n",
        "        client = get_historical_data_client()\n",
        "        request_params = build_stock_bars_request(symbol, start, end, timeframe)\n",
        "        bars = client.get_stock_bars(request_params)\n",
        "        df = bars.df\n",
        "        if df.empty:\n",
        "            print(\"No historical data returned.\")\n",
        "            return None\n",
        "        df.reset_index(inplace=True)  # Make sure 'timestamp' is a column\n",
        "        # Set 'timestamp' as the index before converting to polars\n",
        "        df = df.set_index('timestamp')\n",
        "        df = df.sort_index()\n",
        "        return df\n",
        "    except Exception as e:\n",
        "        print(f\"Error fetching historical data: {e}\")\n",
        "        return None\n"
      ]
    },
    {
      "cell_type": "code",
      "execution_count": 457,
      "metadata": {},
      "outputs": [
        {
          "data": {
            "text/html": [
              "<div>\n",
              "<style scoped>\n",
              "    .dataframe tbody tr th:only-of-type {\n",
              "        vertical-align: middle;\n",
              "    }\n",
              "\n",
              "    .dataframe tbody tr th {\n",
              "        vertical-align: top;\n",
              "    }\n",
              "\n",
              "    .dataframe thead th {\n",
              "        text-align: right;\n",
              "    }\n",
              "</style>\n",
              "<table border=\"1\" class=\"dataframe\">\n",
              "  <thead>\n",
              "    <tr style=\"text-align: right;\">\n",
              "      <th></th>\n",
              "      <th>symbol</th>\n",
              "      <th>open</th>\n",
              "      <th>high</th>\n",
              "      <th>low</th>\n",
              "      <th>close</th>\n",
              "      <th>volume</th>\n",
              "      <th>trade_count</th>\n",
              "      <th>vwap</th>\n",
              "    </tr>\n",
              "    <tr>\n",
              "      <th>timestamp</th>\n",
              "      <th></th>\n",
              "      <th></th>\n",
              "      <th></th>\n",
              "      <th></th>\n",
              "      <th></th>\n",
              "      <th></th>\n",
              "      <th></th>\n",
              "      <th></th>\n",
              "    </tr>\n",
              "  </thead>\n",
              "  <tbody>\n",
              "    <tr>\n",
              "      <th>2025-06-09 04:00:00+00:00</th>\n",
              "      <td>SPY</td>\n",
              "      <td>599.750</td>\n",
              "      <td>601.250</td>\n",
              "      <td>598.520</td>\n",
              "      <td>599.43</td>\n",
              "      <td>745570.0</td>\n",
              "      <td>9529.0</td>\n",
              "      <td>600.025070</td>\n",
              "    </tr>\n",
              "    <tr>\n",
              "      <th>2025-06-10 04:00:00+00:00</th>\n",
              "      <td>SPY</td>\n",
              "      <td>600.335</td>\n",
              "      <td>603.465</td>\n",
              "      <td>599.150</td>\n",
              "      <td>603.10</td>\n",
              "      <td>954803.0</td>\n",
              "      <td>12227.0</td>\n",
              "      <td>601.680572</td>\n",
              "    </tr>\n",
              "    <tr>\n",
              "      <th>2025-06-11 04:00:00+00:00</th>\n",
              "      <td>SPY</td>\n",
              "      <td>604.180</td>\n",
              "      <td>605.040</td>\n",
              "      <td>599.275</td>\n",
              "      <td>601.59</td>\n",
              "      <td>1048022.0</td>\n",
              "      <td>14418.0</td>\n",
              "      <td>602.365390</td>\n",
              "    </tr>\n",
              "    <tr>\n",
              "      <th>2025-06-12 04:00:00+00:00</th>\n",
              "      <td>SPY</td>\n",
              "      <td>600.020</td>\n",
              "      <td>603.720</td>\n",
              "      <td>599.570</td>\n",
              "      <td>603.72</td>\n",
              "      <td>824021.0</td>\n",
              "      <td>13745.0</td>\n",
              "      <td>602.553171</td>\n",
              "    </tr>\n",
              "    <tr>\n",
              "      <th>2025-06-13 04:00:00+00:00</th>\n",
              "      <td>SPY</td>\n",
              "      <td>598.540</td>\n",
              "      <td>601.840</td>\n",
              "      <td>595.520</td>\n",
              "      <td>596.78</td>\n",
              "      <td>1120853.0</td>\n",
              "      <td>14485.0</td>\n",
              "      <td>598.389526</td>\n",
              "    </tr>\n",
              "  </tbody>\n",
              "</table>\n",
              "</div>"
            ],
            "text/plain": [
              "                          symbol     open     high      low   close  \\\n",
              "timestamp                                                             \n",
              "2025-06-09 04:00:00+00:00    SPY  599.750  601.250  598.520  599.43   \n",
              "2025-06-10 04:00:00+00:00    SPY  600.335  603.465  599.150  603.10   \n",
              "2025-06-11 04:00:00+00:00    SPY  604.180  605.040  599.275  601.59   \n",
              "2025-06-12 04:00:00+00:00    SPY  600.020  603.720  599.570  603.72   \n",
              "2025-06-13 04:00:00+00:00    SPY  598.540  601.840  595.520  596.78   \n",
              "\n",
              "                              volume  trade_count        vwap  \n",
              "timestamp                                                      \n",
              "2025-06-09 04:00:00+00:00   745570.0       9529.0  600.025070  \n",
              "2025-06-10 04:00:00+00:00   954803.0      12227.0  601.680572  \n",
              "2025-06-11 04:00:00+00:00  1048022.0      14418.0  602.365390  \n",
              "2025-06-12 04:00:00+00:00   824021.0      13745.0  602.553171  \n",
              "2025-06-13 04:00:00+00:00  1120853.0      14485.0  598.389526  "
            ]
          },
          "execution_count": 457,
          "metadata": {},
          "output_type": "execute_result"
        }
      ],
      "source": [
        "fetch_historical_data('SPY', datetime.now() - timedelta(days=5), datetime.now(), TimeFrame.Day)"
      ]
    },
    {
      "cell_type": "code",
      "execution_count": 458,
      "metadata": {},
      "outputs": [],
      "source": [
        "def create_trade_log_file():\n",
        "    \"\"\"\n",
        "    Creates a trade_log.csv file with headers in the same directory as the notebook.\n",
        "    \"\"\"\n",
        "    trade_log_file = 'trade_log.csv'\n",
        "    headers = \"entry_time,exit_time,side,entry_price,exit_price,pnl,logged_at\\n\"\n",
        "    if not os.path.exists(trade_log_file):\n",
        "        with open(trade_log_file, 'w') as f:\n",
        "            f.write(headers)\n",
        "        print(f\"Created {trade_log_file} with headers.\")\n",
        "    else:\n",
        "        print(f\"{trade_log_file} already exists.\")"
      ]
    },
    {
      "cell_type": "code",
      "execution_count": 459,
      "metadata": {
        "id": "4LF1yLGflqEL"
      },
      "outputs": [],
      "source": [
        "def log_trade(entry_time, exit_time, side, entry_price, exit_price, pnl):\n",
        "    \"\"\"Logs trade details to a CSV file.\"\"\"\n",
        "    TRADE_LOG_FILE = 'trade_log.csv'\n",
        "    headers = [\"entry_time\", \"exit_time\", \"side\", \"entry_price\", \"exit_price\", \"pnl\", \"logged_at\"]\n",
        "    timestamp = datetime.now().strftime(\"%Y-%m-%d %H:%M:%S\")\n",
        "    file_exists = os.path.exists(TRADE_LOG_FILE)\n",
        "\n",
        "    with open(TRADE_LOG_FILE, 'a', newline='') as f:\n",
        "        writer = csv.writer(f)\n",
        "        if not file_exists:\n",
        "            writer.writerow(headers)\n",
        "        writer.writerow([entry_time, exit_time, side, entry_price, exit_price, pnl, timestamp])\n",
        "    print(\"Trade logged.\")\n"
      ]
    },
    {
      "cell_type": "code",
      "execution_count": 460,
      "metadata": {
        "id": "dLZjZk_Nk9qO"
      },
      "outputs": [],
      "source": [
        "def place_order(symbol, side, qty, price):\n",
        "    try:\n",
        "        api.submit_order(\n",
        "        symbol=symbol,\n",
        "        qty=qty,\n",
        "        side=side,\n",
        "        type='limit',\n",
        "        limit_price=round(price, 2),\n",
        "        time_in_force='gtc')\n",
        "        print(f\"{side.upper()} order placed at {price}\")\n",
        "    except Exception as e:\n",
        "        print(f\"Order error: {e}\")"
      ]
    },
    {
      "cell_type": "code",
      "execution_count": 461,
      "metadata": {},
      "outputs": [
        {
          "name": "stdout",
          "output_type": "stream",
          "text": [
            "Latest price for SPY: 601.01\n",
            "SELL order placed at 601.01\n"
          ]
        }
      ],
      "source": [
        "# Use the existing pandas DataFrame 'df' for the latest price and order placement\n",
        "# This is a test to sell 1 unit of 'SPY' at the latest price.\n",
        "df = fetch_historical_data(SYMBOL, datetime.now() - timedelta(days=1), datetime.now(), TimeFrame.Minute)\n",
        "if df is not None and not df.empty:\n",
        "    latest_price = float(df['close'].iloc[-1])\n",
        "    print(f\"Latest price for {SYMBOL}: {latest_price}\")\n",
        "    place_order(SYMBOL, 'sell', 1, latest_price)\n",
        "else:\n",
        "    print(\"No recent bars found.\")"
      ]
    },
    {
      "cell_type": "code",
      "execution_count": 462,
      "metadata": {},
      "outputs": [],
      "source": [
        "def filtered_daily_trade(activities) -> list:\n",
        "    \"\"\"Filters trades based on their side.\"\"\"\n",
        "    filtered_activities = [activity for activity in activities if getattr(activity, 'side', None) in ['buy', 'sell']]\n",
        "    \n",
        "    # Filter trades for today only\n",
        "    today = datetime.now().date()\n",
        "    filtered_trades = [\n",
        "        trade for trade in filtered_activities\n",
        "        if pd.to_datetime(getattr(trade, 'transaction_time')).date() == today\n",
        "    ]\n",
        "    return filtered_trades\n"
      ]
    },
    {
      "cell_type": "code",
      "execution_count": 463,
      "metadata": {
        "id": "jiJi0OpC65H2"
      },
      "outputs": [],
      "source": [
        "def check_daily_limits() -> tuple[int, float]:\n",
        "    \"\"\"Checks and returns the number of trades and total PNL for today.\"\"\"\n",
        "    print(\"Checking daily limits...\")\n",
        "    try:\n",
        "        # Use midnight UTC for today\n",
        "        \n",
        "        # Use midnight UTC for today, formatted as ISO 8601 with 'Z'\n",
        "        after = datetime.now(timezone.utc).replace(hour=0, minute=0, second=0, microsecond=0).isoformat().replace('+00:00', 'Z')\n",
        "        activities = fetch_activities(api, after=after)\n",
        "        print(f\"Activity: {activities}\")\n",
        "        daily_trades = filtered_daily_trade(activities)\n",
        "        print(f\"Today's trades: {daily_trades}\")\n",
        "    except Exception as e:\n",
        "        print(f\"Error fetching activities: {e}\")\n",
        "        return 0, 0\n",
        "\n",
        "    # Use attribute access for realized_pl\n",
        "    today_pnl = sum(float(getattr(trade, \"realized_pl\", 0) or 0) for trade in daily_trades)\n",
        "    print(f\"Today's total PNL: {today_pnl}\")\n",
        "\n",
        "    try:\n",
        "        trade_count = len([t for t in daily_trades if getattr(t, 'side', None) in ['buy', 'sell']])\n",
        "        print(f\"Trade count: {trade_count}\")\n",
        "        print(f\"Today's total PNL: {today_pnl}\")\n",
        "        print(f\"returning: {trade_count, today_pnl}\")\n",
        "        return trade_count, today_pnl\n",
        "    except RuntimeError as e:\n",
        "        print(f\"{e}\")\n",
        "        return 0, 0"
      ]
    },
    {
      "cell_type": "code",
      "execution_count": 464,
      "metadata": {},
      "outputs": [
        {
          "name": "stdout",
          "output_type": "stream",
          "text": [
            "Checking daily limits...\n",
            "Activity: [AccountActivity({   'activity_type': 'FILL',\n",
            "    'cum_qty': '1',\n",
            "    'id': '20250613141526465::bb74f2e3-7306-4a87-9a02-812305c5b9e8',\n",
            "    'leaves_qty': '0',\n",
            "    'order_id': '41c8d603-2eaf-4834-af71-118282b72a81',\n",
            "    'order_status': 'filled',\n",
            "    'price': '597.95',\n",
            "    'qty': '1',\n",
            "    'side': 'buy',\n",
            "    'symbol': 'SPY',\n",
            "    'transaction_time': '2025-06-13T18:15:26.465747Z',\n",
            "    'type': 'fill'})]\n",
            "Today's trades: [AccountActivity({   'activity_type': 'FILL',\n",
            "    'cum_qty': '1',\n",
            "    'id': '20250613141526465::bb74f2e3-7306-4a87-9a02-812305c5b9e8',\n",
            "    'leaves_qty': '0',\n",
            "    'order_id': '41c8d603-2eaf-4834-af71-118282b72a81',\n",
            "    'order_status': 'filled',\n",
            "    'price': '597.95',\n",
            "    'qty': '1',\n",
            "    'side': 'buy',\n",
            "    'symbol': 'SPY',\n",
            "    'transaction_time': '2025-06-13T18:15:26.465747Z',\n",
            "    'type': 'fill'})]\n",
            "Today's total PNL: 0.0\n",
            "Trade count: 1\n",
            "Today's total PNL: 0.0\n",
            "returning: (1, 0.0)\n"
          ]
        },
        {
          "data": {
            "text/plain": [
              "(1, 0.0)"
            ]
          },
          "execution_count": 464,
          "metadata": {},
          "output_type": "execute_result"
        }
      ],
      "source": [
        "check_daily_limits()"
      ]
    },
    {
      "cell_type": "code",
      "execution_count": null,
      "metadata": {
        "id": "iIk_yS5zGNeA"
      },
      "outputs": [],
      "source": [
        "def get_data(symbol, timeframe='1m', limit=30) -> pd.DataFrame:\n",
        "    \"\"\"Fetches historical stock data and returns a DataFrame.\"\"\"\n",
        "    try:\n",
        "\n",
        "        # Compute time range\n",
        "        end = datetime.now(timezone.utc)\n",
        "        start = end - timedelta(minutes=limit)\n",
        "\n",
        "        # Choose correct timeframe\n",
        "        if timeframe == '1m':\n",
        "            tf = TimeFrame(1, TimeFrameUnit.Minute)\n",
        "        elif timeframe == '5m':\n",
        "            tf = TimeFrame(5, TimeFrameUnit.Minute)\n",
        "        else:\n",
        "            raise ValueError(f\"Unsupported timeframe: {timeframe}\")\n",
        "        # Initialize client\n",
        "        client = get_historical_data_client()\n",
        "\n",
        "        # Build request parameters\n",
        "        request_params = build_stock_bars_request(symbol, start, end, tf)\n",
        "\n",
        "        # Fetch and process data\n",
        "        bars = client.get_stock_bars(request_params).df\n",
        "        df = bars.reset_index().tail(limit)\n",
        "        df.set_index('timestamp', inplace=True)\n",
        "        return df\n",
        "\n",
        "    except Exception as e:\n",
        "        print(f\"Data error: {e}\")\n",
        "        return pd.DataFrame()\n"
      ]
    },
    {
      "cell_type": "code",
      "execution_count": 473,
      "metadata": {
        "colab": {
          "base_uri": "https://localhost:8080/",
          "height": 112
        },
        "id": "CqCDirXv3pPB",
        "outputId": "16a9f36e-8b8a-484d-bf1e-c7bbec97d0b6"
      },
      "outputs": [
        {
          "data": {
            "text/html": [
              "<div>\n",
              "<style scoped>\n",
              "    .dataframe tbody tr th:only-of-type {\n",
              "        vertical-align: middle;\n",
              "    }\n",
              "\n",
              "    .dataframe tbody tr th {\n",
              "        vertical-align: top;\n",
              "    }\n",
              "\n",
              "    .dataframe thead th {\n",
              "        text-align: right;\n",
              "    }\n",
              "</style>\n",
              "<table border=\"1\" class=\"dataframe\">\n",
              "  <thead>\n",
              "    <tr style=\"text-align: right;\">\n",
              "      <th></th>\n",
              "    </tr>\n",
              "  </thead>\n",
              "  <tbody>\n",
              "  </tbody>\n",
              "</table>\n",
              "</div>"
            ],
            "text/plain": [
              "Empty DataFrame\n",
              "Columns: []\n",
              "Index: []"
            ]
          },
          "execution_count": 473,
          "metadata": {},
          "output_type": "execute_result"
        }
      ],
      "source": [
        "df = get_data(SYMBOL, '1m', 30)\n",
        "df"
      ]
    },
    {
      "cell_type": "code",
      "execution_count": 474,
      "metadata": {
        "id": "u1fypkcRNRF-"
      },
      "outputs": [],
      "source": [
        "# Interactive chart with plotly\n",
        "def create_candlestick_chart(df):\n",
        "    # Create candlestick trace\n",
        "    candlestick = go.Candlestick(\n",
        "        x=df.index,\n",
        "        open=df['Open'],\n",
        "        high=df['high'],\n",
        "        low=df['low'],\n",
        "        close=df['close']\n",
        "    )\n",
        "\n",
        "    # Create figure and add trace\n",
        "    fig = go.Figure(data=[candlestick])\n",
        "\n",
        "    # Update layout\n",
        "    fig.update_layout(\n",
        "        title=f'{SYMBOL} Interactive Candlestick Chart',\n",
        "        xaxis_title='Time',\n",
        "        yaxis_title='Price',\n",
        "        xaxis_rangeslider_visible=False # Hide range slider\n",
        "    )\n",
        "\n",
        "    # Show the plot\n",
        "    fig.show()"
      ]
    },
    {
      "cell_type": "code",
      "execution_count": 475,
      "metadata": {},
      "outputs": [
        {
          "ename": "KeyError",
          "evalue": "'Open'",
          "output_type": "error",
          "traceback": [
            "\u001b[31m---------------------------------------------------------------------------\u001b[39m",
            "\u001b[31mKeyError\u001b[39m                                  Traceback (most recent call last)",
            "\u001b[36mCell\u001b[39m\u001b[36m \u001b[39m\u001b[32mIn[475]\u001b[39m\u001b[32m, line 1\u001b[39m\n\u001b[32m----> \u001b[39m\u001b[32m1\u001b[39m \u001b[43mcreate_candlestick_chart\u001b[49m\u001b[43m(\u001b[49m\u001b[43mdf\u001b[49m\u001b[43m)\u001b[49m\n",
            "\u001b[36mCell\u001b[39m\u001b[36m \u001b[39m\u001b[32mIn[474]\u001b[39m\u001b[32m, line 6\u001b[39m, in \u001b[36mcreate_candlestick_chart\u001b[39m\u001b[34m(df)\u001b[39m\n\u001b[32m      2\u001b[39m \u001b[38;5;28;01mdef\u001b[39;00m\u001b[38;5;250m \u001b[39m\u001b[34mcreate_candlestick_chart\u001b[39m(df):\n\u001b[32m      3\u001b[39m     \u001b[38;5;66;03m# Create candlestick trace\u001b[39;00m\n\u001b[32m      4\u001b[39m     candlestick = go.Candlestick(\n\u001b[32m      5\u001b[39m         x=df.index,\n\u001b[32m----> \u001b[39m\u001b[32m6\u001b[39m         \u001b[38;5;28mopen\u001b[39m=\u001b[43mdf\u001b[49m\u001b[43m[\u001b[49m\u001b[33;43m'\u001b[39;49m\u001b[33;43mOpen\u001b[39;49m\u001b[33;43m'\u001b[39;49m\u001b[43m]\u001b[49m,\n\u001b[32m      7\u001b[39m         high=df[\u001b[33m'\u001b[39m\u001b[33mhigh\u001b[39m\u001b[33m'\u001b[39m],\n\u001b[32m      8\u001b[39m         low=df[\u001b[33m'\u001b[39m\u001b[33mlow\u001b[39m\u001b[33m'\u001b[39m],\n\u001b[32m      9\u001b[39m         close=df[\u001b[33m'\u001b[39m\u001b[33mclose\u001b[39m\u001b[33m'\u001b[39m]\n\u001b[32m     10\u001b[39m     )\n\u001b[32m     12\u001b[39m     \u001b[38;5;66;03m# Create figure and add trace\u001b[39;00m\n\u001b[32m     13\u001b[39m     fig = go.Figure(data=[candlestick])\n",
            "\u001b[36mFile \u001b[39m\u001b[32m~/miniconda3/envs/alpaca/lib/python3.13/site-packages/pandas/core/frame.py:4107\u001b[39m, in \u001b[36mDataFrame.__getitem__\u001b[39m\u001b[34m(self, key)\u001b[39m\n\u001b[32m   4105\u001b[39m \u001b[38;5;28;01mif\u001b[39;00m \u001b[38;5;28mself\u001b[39m.columns.nlevels > \u001b[32m1\u001b[39m:\n\u001b[32m   4106\u001b[39m     \u001b[38;5;28;01mreturn\u001b[39;00m \u001b[38;5;28mself\u001b[39m._getitem_multilevel(key)\n\u001b[32m-> \u001b[39m\u001b[32m4107\u001b[39m indexer = \u001b[38;5;28;43mself\u001b[39;49m\u001b[43m.\u001b[49m\u001b[43mcolumns\u001b[49m\u001b[43m.\u001b[49m\u001b[43mget_loc\u001b[49m\u001b[43m(\u001b[49m\u001b[43mkey\u001b[49m\u001b[43m)\u001b[49m\n\u001b[32m   4108\u001b[39m \u001b[38;5;28;01mif\u001b[39;00m is_integer(indexer):\n\u001b[32m   4109\u001b[39m     indexer = [indexer]\n",
            "\u001b[36mFile \u001b[39m\u001b[32m~/miniconda3/envs/alpaca/lib/python3.13/site-packages/pandas/core/indexes/range.py:417\u001b[39m, in \u001b[36mRangeIndex.get_loc\u001b[39m\u001b[34m(self, key)\u001b[39m\n\u001b[32m    415\u001b[39m         \u001b[38;5;28;01mraise\u001b[39;00m \u001b[38;5;167;01mKeyError\u001b[39;00m(key) \u001b[38;5;28;01mfrom\u001b[39;00m\u001b[38;5;250m \u001b[39m\u001b[34;01merr\u001b[39;00m\n\u001b[32m    416\u001b[39m \u001b[38;5;28;01mif\u001b[39;00m \u001b[38;5;28misinstance\u001b[39m(key, Hashable):\n\u001b[32m--> \u001b[39m\u001b[32m417\u001b[39m     \u001b[38;5;28;01mraise\u001b[39;00m \u001b[38;5;167;01mKeyError\u001b[39;00m(key)\n\u001b[32m    418\u001b[39m \u001b[38;5;28mself\u001b[39m._check_indexing_error(key)\n\u001b[32m    419\u001b[39m \u001b[38;5;28;01mraise\u001b[39;00m \u001b[38;5;167;01mKeyError\u001b[39;00m(key)\n",
            "\u001b[31mKeyError\u001b[39m: 'Open'"
          ]
        }
      ],
      "source": [
        "create_candlestick_chart(df)"
      ]
    },
    {
      "cell_type": "code",
      "execution_count": null,
      "metadata": {
        "id": "fIv9EPj2Sx_G"
      },
      "outputs": [],
      "source": [
        "def calculate_ema(data, period=9) -> pd.Series:\n",
        "    \"\"\"Calculates the Exponential Moving Average (EMA) for the given data.\"\"\"\n",
        "    \n",
        "    if data.empty:\n",
        "        raise ValueError(\"Input data is empty.\")\n",
        "    ema = data['close'].ewm(span=period, adjust=False).mean()\n",
        "    return ema"
      ]
    },
    {
      "cell_type": "code",
      "execution_count": null,
      "metadata": {},
      "outputs": [],
      "source": [
        "ema_series = calculate_ema(df, period=12)\n",
        "ema_series.head()"
      ]
    },
    {
      "cell_type": "code",
      "execution_count": null,
      "metadata": {},
      "outputs": [],
      "source": [
        "ema_series = calculate_ema(df, period=12)\n",
        "plt.figure(figsize=(12, 5))\n",
        "sns.lineplot(x=df.index, y=df['close'], label='Close Price')\n",
        "sns.lineplot(x=df.index, y=ema_series, label='EMA (12)', color='orange')\n",
        "plt.title('Close Price and EMA (12)')\n",
        "plt.xlabel('Time')\n",
        "plt.ylabel('Price')\n",
        "plt.legend()\n",
        "plt.show()"
      ]
    },
    {
      "cell_type": "code",
      "execution_count": null,
      "metadata": {
        "id": "SFh6Nf5cS7Dg"
      },
      "outputs": [],
      "source": [
        "def calculate_rsi(data, period=14) -> pd.Series:\n",
        "    \"\"\"Calculates the Relative Strength Index (RSI) for the given data.\"\"\"\n",
        "    if data.empty:\n",
        "        raise ValueError(\"Input data is empty.\")\n",
        "    delta = data['close'].diff()\n",
        "    gain = delta.where(delta > 0, 0).rolling(window=period).mean()\n",
        "    loss = -delta.where(delta < 0, 0).rolling(window=period).mean()\n",
        "    rs = gain / loss\n",
        "    rsi = 100 - (100 / (1 + rs))\n",
        "    return rsi"
      ]
    },
    {
      "cell_type": "code",
      "execution_count": null,
      "metadata": {},
      "outputs": [],
      "source": [
        "rsi_series = calculate_rsi(df, period=14)\n",
        "rsi_series"
      ]
    },
    {
      "cell_type": "code",
      "execution_count": null,
      "metadata": {},
      "outputs": [],
      "source": [
        "rsi_series = calculate_rsi(df, period=14)\n",
        "plt.figure(figsize=(12, 4))\n",
        "sns.lineplot(x=df.index, y=rsi_series, label='RSI (14)', color='purple')\n",
        "plt.axhline(70, color='red', linestyle='--', label='Overbought (70)')\n",
        "plt.axhline(30, color='green', linestyle='--', label='Oversold (30)')\n",
        "plt.title('RSI (14)')\n",
        "plt.xlabel('Time')\n",
        "plt.ylabel('RSI Value')\n",
        "plt.legend()\n",
        "plt.show()"
      ]
    },
    {
      "cell_type": "code",
      "execution_count": null,
      "metadata": {
        "id": "ZnsVhJvxS9VY"
      },
      "outputs": [],
      "source": [
        "def average_volume(data, window=20) -> pd.Series:\n",
        "    \"\"\"Calculates the average volume over a specified window.\"\"\"\n",
        "    if data.empty:\n",
        "        raise ValueError(\"Input data is empty.\")\n",
        "    \n",
        "    avg_vol = data['volume'].rolling(window=window).mean()\n",
        "    return avg_vol"
      ]
    },
    {
      "cell_type": "code",
      "execution_count": null,
      "metadata": {},
      "outputs": [],
      "source": [
        "average_volume_series = average_volume(df)\n",
        "average_volume_series"
      ]
    },
    {
      "cell_type": "code",
      "execution_count": null,
      "metadata": {},
      "outputs": [],
      "source": [
        "average_volume_series = average_volume(df)\n",
        "plt.figure(figsize=(12, 4))\n",
        "sns.lineplot(x=df.index, y=df['volume'], label='Volume')\n",
        "sns.lineplot(x=df.index, y=average_volume_series, label='Average Volume (20)', color='orange')\n",
        "plt.title('Volume and 20-Period Average Volume')\n",
        "plt.xlabel('Time')\n",
        "plt.ylabel('Volume')\n",
        "plt.legend()\n",
        "plt.show()"
      ]
    },
    {
      "cell_type": "code",
      "execution_count": null,
      "metadata": {
        "id": "D9m57PfoS-x4"
      },
      "outputs": [],
      "source": [
        "def calculate_slope(series, window=5) -> pd.Series:\n",
        "    \"\"\"Calculates the slope of the given series over a specified window.\"\"\"\n",
        "    if series.empty:\n",
        "        raise ValueError(\"Input series is empty.\")\n",
        "    \n",
        "    slope = series.diff().rolling(window=window).mean()\n",
        "    return slope"
      ]
    },
    {
      "cell_type": "code",
      "execution_count": null,
      "metadata": {},
      "outputs": [],
      "source": [
        "cal_slope_series = calculate_slope(df['close'])\n",
        "cal_slope_series"
      ]
    },
    {
      "cell_type": "code",
      "execution_count": null,
      "metadata": {},
      "outputs": [],
      "source": [
        "cal_slope_series = calculate_slope(df['close'])\n",
        "plt.figure(figsize=(12, 4))\n",
        "sns.lineplot(x=df.index, y=cal_slope_series, label='Slope (5)', color='blue')\n",
        "plt.title('Slope of Close Price (5-Period Rolling)')\n",
        "plt.xlabel('Time')\n",
        "plt.ylabel('Slope')\n",
        "plt.legend()\n",
        "plt.show()"
      ]
    },
    {
      "cell_type": "code",
      "execution_count": null,
      "metadata": {
        "id": "yLrue0zZWTqW"
      },
      "outputs": [],
      "source": [
        "def check_missing_values(df) -> pd.Series:\n",
        "    \"\"\"Checks for missing values in the DataFrame and returns a Series with counts.\"\"\"\n",
        "    if df.empty:\n",
        "        raise ValueError(\"Input DataFrame is empty.\")\n",
        "\n",
        "    missing_values = df.isnull().sum()\n",
        "    missing_values = missing_values[missing_values > 0]\n",
        "    print(\"Missing values in each column:\\n\", missing_values)\n",
        "    return missing_values"
      ]
    },
    {
      "cell_type": "code",
      "execution_count": null,
      "metadata": {},
      "outputs": [],
      "source": [
        "check_missing_values(df)"
      ]
    },
    {
      "cell_type": "code",
      "execution_count": null,
      "metadata": {
        "id": "zjjqBiGAXYA5"
      },
      "outputs": [],
      "source": [
        "def remove_dividends_splits(df, columns) -> pd.DataFrame:\n",
        "    \"\"\"Removes specified columns from the DataFrame.\"\"\"\n",
        "    if df.empty:\n",
        "        raise ValueError(\"Input DataFrame is empty.\")\n",
        "    try:\n",
        "        df = df.drop(columns=columns)\n",
        "    except Exception as e:\n",
        "        print(f\"Data error: {e}\")\n",
        "    print(\"Remaining columns after removal:\\n\", df.columns)\n",
        "    return df"
      ]
    },
    {
      "cell_type": "code",
      "execution_count": null,
      "metadata": {},
      "outputs": [],
      "source": [
        "df_removed = remove_dividends_splits(df, ['dividends', 'splits'])\n",
        "df_removed.columns"
      ]
    },
    {
      "cell_type": "code",
      "execution_count": null,
      "metadata": {},
      "outputs": [],
      "source": [
        "def save_all_open_positions(api, filename=\"position.json\") -> None:\n",
        "    \"\"\"Saves all open positions to a JSON file.\"\"\"\n",
        "    \n",
        "    positions = api.list_positions()\n",
        "\n",
        "    # Convert each position object to a dictionary\n",
        "    positions_data = [p._raw for p in positions]\n",
        "    with open(filename, \"w\") as f:\n",
        "        json.dump(positions_data, f, indent=4)\n",
        "    print(f\"Saved {len(positions_data)} open positions to {filename}\")"
      ]
    },
    {
      "cell_type": "code",
      "execution_count": null,
      "metadata": {},
      "outputs": [],
      "source": [
        "def fetch_open_positions(api) -> list:\n",
        "    \"\"\"Fetches and returns all open positions.\"\"\"\n",
        "    try:\n",
        "        positions = api.list_positions()\n",
        "        if not positions:\n",
        "            print(\"No open positions.\")\n",
        "        return positions\n",
        "    except Exception as e:\n",
        "        print(f\"Error fetching positions: {e}\")\n",
        "        return []\n"
      ]
    },
    {
      "cell_type": "code",
      "execution_count": null,
      "metadata": {},
      "outputs": [],
      "source": [
        "save_all_open_positions(api)\n",
        "open_positions = fetch_open_positions(api)\n",
        "for position in open_positions:\n",
        "    symbol = position.symbol\n",
        "    qty = position.qty\n",
        "    entry_price = position.avg_entry_price\n",
        "    current_price = position.current_price\n",
        "    unrealized_pl = position.unrealized_pl\n",
        "    print(\n",
        "        f\"Symbol: {symbol}, Qty: {qty}, Entry: {entry_price}, \"\n",
        "        f\"Current: {current_price}, Unrealized PnL: {unrealized_pl}\"\n",
        "    )"
      ]
    },
    {
      "cell_type": "code",
      "execution_count": null,
      "metadata": {},
      "outputs": [],
      "source": [
        "def convert_row_to_numeric(row, df):\n",
        "    \"\"\"\n",
        "    Converts the values in the given row to a consistent numeric format for all numeric columns in df.\n",
        "    Returns the modified row.\n",
        "    \"\"\"\n",
        "    numerical_columns = df.select_dtypes(include='number').columns.tolist()\n",
        "    for col in numerical_columns:\n",
        "        try:\n",
        "            val = row[col]\n",
        "            if pd.isna(val) or str(val).strip() in ['', 'None', 'nan', 'NaN']:\n",
        "                raise ValueError(f\"Missing or empty value for {col}\")\n",
        "            row[col] = float(val) if not isinstance(val, float) else val\n",
        "        except Exception as e:\n",
        "            print(f\"Data conversion error for '{col}': {e}\")\n",
        "    return row"
      ]
    },
    {
      "cell_type": "code",
      "execution_count": null,
      "metadata": {},
      "outputs": [],
      "source": [
        "def add_indicators(df):\n",
        "    \"\"\"\n",
        "    Adds EMA(9), slope of EMA(9), RSI(14), and 20-period average volume to the DataFrame.\n",
        "    Returns the DataFrame with new columns: 'ema9', 'slope9', 'rsi', 'avg_volume'.\n",
        "    \"\"\"\n",
        "    df = df.copy()\n",
        "    df['ema9'] = calculate_ema(df, period=9)\n",
        "    df['slope9'] = calculate_slope(df['ema9'])\n",
        "    df['rsi'] = calculate_rsi(df)\n",
        "    df['avg_volume'] = average_volume(df)\n",
        "    return df"
      ]
    },
    {
      "cell_type": "code",
      "execution_count": null,
      "metadata": {
        "id": "o_v5Tg1-zlcK"
      },
      "outputs": [],
      "source": [
        "def main():\n",
        "    \n",
        "\n",
        "    position = load_position()\n",
        "    print(f\"position: {position}\")\n",
        "\n",
        "    # --- Modified Cooldown Check ---\n",
        "    now = datetime.now()\n",
        "    print(f\"now: {now}\")\n",
        "\n",
        "    # Check if last_exit is a non-empty string before attempting to parse\n",
        "    #print(f\"position type: {type(position[0])}\")\n",
        "    last_exit_str = position[0].get('last_exit', '') # Use .get to safely access, default to ''\n",
        "    print(f\"position[0]['last_exit'] string: '{last_exit_str}'\")\n",
        "\n",
        "    if last_exit_str:\n",
        "        try:\n",
        "            last_exit = datetime.fromisoformat(last_exit_str)\n",
        "            print(f\"last_exit (parsed): {last_exit}\")\n",
        "\n",
        "            time_from_last_exit = int((now - last_exit).total_seconds())\n",
        "            time_left = COOLDOWN - time_from_last_exit\n",
        "            print(f\"time_from_last_exit: {time_from_last_exit}\")\n",
        "            print(f\"time_left: {time_left}\")\n",
        "\n",
        "            if (time_left > 0):\n",
        "                print(f\"Cooldown active for {time_left} more seconds. Last trade was at {last_exit.strftime('%H:%M:%S')}\")\n",
        "                return  # Exit if cooldown is active\n",
        "        except ValueError:\n",
        "            print(f\"Warning: 'last_exit' value '{last_exit_str}' is not a valid ISO format. No cooldown applied.\")\n",
        "    else:\n",
        "        print(\"'last_exit' is empty. No cooldown applied.\")\n",
        "\n",
        "    # Rest of your trade logic continues here if cooldown is not active\n",
        "    trade_count, daily_pnl = check_daily_limits()\n",
        "    if trade_count >= MAX_TRADES_PER_DAY or daily_pnl <= -DAILY_LOSS_LIMIT:\n",
        "        print(\"Daily limit reached.\"\n",
        "              f\" Trade count: {trade_count}, Daily PnL: {daily_pnl}. \"\n",
        "              \"No trades will be made today.\"\n",
        "        )\n",
        "        return\n",
        "    \n",
        "    try: \n",
        "        client = get_historical_data_client()\n",
        "        quote = client.get_stock_latest_quote(StockLatestQuoteRequest(symbol_or_symbols=SYMBOL))\n",
        "    except ValueError as e:\n",
        "        print(f\"Error initializing data client: {e}\")\n",
        "        return\n",
        "    \n",
        "\n",
        "    df_1m = get_data(SYMBOL, '1m', 30)\n",
        "    df_5m = get_data(SYMBOL, '5m', 30)\n",
        "\n",
        "    if df_1m.empty or df_5m.empty:\n",
        "        print(\"Data unavailable.\")\n",
        "        return\n",
        "\n",
        "    # Check for missing values\n",
        "    if not df_1m.isnull().sum().sum() == 0 or not df_5m.isnull().sum().sum() == 0:\n",
        "        print(\"Missing data detected. Skipping trade.\")\n",
        "        return\n",
        "\n",
        "    df_1m = add_indicators(df_1m)\n",
        "    df_5m = add_indicators(df_5m)\n",
        "\n",
        "    last = df_1m.iloc[-1].copy()\n",
        "    #print(\"Raw last row values:\")\n",
        "    for k, v in last.items():\n",
        "        print(f\"  {k}: {v}\")\n",
        "\n",
        "    last = df_1m.iloc[-1].copy()\n",
        "    last = convert_row_to_numeric(last, df_1m)\n",
        "\n",
        "    # #last\n",
        "\n",
        "    slope = float(df_5m['slope9'].iloc[-1])  # Updated to use 'slope9'\n",
        "    print(f\"Slope: {slope}\")\n",
        "    side = position[0].get('side')\n",
        "    print(f\"Side: {side}\")\n",
        "    qty = position[0].get('qty', 0)\n",
        "    print(f\"Qty: {qty}\")\n",
        "    entry_price = position[0].get('avg_entry_price', 0)\n",
        "    print(f\"Entry price: {entry_price}\")\n",
        "    buying_power = float(api.get_account().cash)\n",
        "    current_price = quote[SYMBOL].ask_price\n",
        "    print(f\"Current price: {current_price}\")\n",
        "    print(f\"Buying power: {buying_power}\")\n",
        "    trade_qty = int((buying_power * POSITION_SIZE_PCT) / last['close'])\n",
        "    print(f\"Trade qty: {trade_qty}\")\n",
        "\n",
        "    # No position\n",
        "    if not side:\n",
        "        print(\"No position found\")\n",
        "        # if last['Close'] > last['Open'] and last['Close'] > last['ema9'] and last['rsi'] < 65 and last['Volume'] > last['avg_volume'] and slope > 0:\n",
        "        #     price = last['Close'] * 1.001\n",
        "        #     place_order('buy', trade_qty, price)\n",
        "        #     save_position({'side': 'long', 'entry_price': price, 'qty': trade_qty, 'high': price, 'entry_time': now.isoformat()})\n",
        "\n",
        "        # elif last['Close'] < last['Open'] and last['Close'] < last['ema9'] and last['rsi'] > 55 and last['Volume'] > last['avg_volume'] and slope < 0:\n",
        "        #     price = last['Close'] * 0.999\n",
        "        #     place_order('sell', trade_qty, price)\n",
        "        #     save_position({'side': 'short', 'entry_price': price, 'qty': trade_qty, 'low': price, 'entry_time': now.isoformat()})\n",
        "\n",
        "    # Long Position\n",
        "    elif side == 'long':\n",
        "        print(\"Long Position\")\n",
        "        # print(\"Long Position\")\n",
        "        # position['high'] = max(position['high'], last['Close'])\n",
        "        # trail_stop = position['high'] * (1 - TRAILING_STOP_PCT)\n",
        "        # print(f\"[LONG] Comparing last['Close'] = {last['Close']} (type: {type(last['Close'])}) to trail_stop = {trail_stop}\")\n",
        "        # last_close = float(last['Close'])\n",
        "        # if last_close <= trail_stop or last_close < last['ema9']:\n",
        "        #     close_position()\n",
        "        #     exit_price = last['Close']\n",
        "        #     pnl = (exit_price - entry_price) * qty\n",
        "        #     log_trade(position['entry_time'], now.isoformat(), side, entry_price, exit_price, pnl)\n",
        "        #     #reset_position()\n",
        "        #     save_position({'last_exit': now.isoformat()})\n",
        "\n",
        "    # # Short Position\n",
        "    elif side == 'short':\n",
        "        print(\"Short Position\")\n",
        "        # position['low'] = min(position['low'], last['Close'])\n",
        "        # trail_stop = position['low'] * (1 + TRAILING_STOP_PCT)\n",
        "        # print(f\"[SHORT] Comparing last['Close'] = {last['Close']} (type: {type(last['Close'])}) to trail_stop = {trail_stop}\")\n",
        "        # last_close = float(last['Close'])\n",
        "        # if last_close >= trail_stop or last_close > last['ema9']:\n",
        "        #     close_position()\n",
        "        #     exit_price = last['Close']\n",
        "        #     pnl = (entry_price - exit_price) * qty\n",
        "        #     log_trade(position['entry_time'], now.isoformat(), side, entry_price, exit_price, pnl)\n",
        "        #     #reset_position()\n",
        "        #     save_position({'last_exit': now.isoformat()})\n"
      ]
    },
    {
      "cell_type": "code",
      "execution_count": null,
      "metadata": {
        "colab": {
          "base_uri": "https://localhost:8080/"
        },
        "id": "fu7nSeWdt9PT",
        "outputId": "b87d3b29-d20d-465b-8274-f92d97cebc07"
      },
      "outputs": [],
      "source": [
        "if __name__ == \"__main__\":\n",
        "    create_trade_log_file()\n",
        "    main()"
      ]
    },
    {
      "cell_type": "markdown",
      "metadata": {
        "id": "CBdRzugeCSlw"
      },
      "source": []
    }
  ],
  "metadata": {
    "colab": {
      "authorship_tag": "ABX9TyNfEvgiKX3wR4bd4V7PClYf",
      "include_colab_link": true,
      "provenance": []
    },
    "kernelspec": {
      "display_name": "alpaca",
      "language": "python",
      "name": "python3"
    },
    "language_info": {
      "codemirror_mode": {
        "name": "ipython",
        "version": 3
      },
      "file_extension": ".py",
      "mimetype": "text/x-python",
      "name": "python",
      "nbconvert_exporter": "python",
      "pygments_lexer": "ipython3",
      "version": "3.13.5"
    }
  },
  "nbformat": 4,
  "nbformat_minor": 0
}
