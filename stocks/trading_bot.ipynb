{
  "cells": [
    {
      "cell_type": "code",
      "execution_count": 525,
      "metadata": {
        "id": "CIYZB6Z-jpdz"
      },
      "outputs": [],
      "source": [
        "import alpaca_trade_api as tradeapi\n",
        "from alpaca.data.historical import StockHistoricalDataClient\n",
        "from alpaca.data.requests import StockBarsRequest, StockLatestQuoteRequest\n",
        "from alpaca.data.timeframe import TimeFrame, TimeFrameUnit\n",
        "import config\n",
        "import csv\n",
        "from datetime import datetime, timedelta, timezone\n",
        "import json\n",
        "import logging\n",
        "import math\n",
        "import mplfinance as mpf\n",
        "import matplotlib.pyplot as plt\n",
        "import os\n",
        "import pandas as pd\n",
        "import polars as pl\n",
        "import plotly.graph_objects as go\n",
        "import seaborn as sns\n",
        "import time\n"
      ]
    },
    {
      "cell_type": "code",
      "execution_count": 526,
      "metadata": {
        "id": "CvI-UYfC5wkd"
      },
      "outputs": [],
      "source": [
        "POSITION_FILE: str = 'position.json' \n",
        "SYMBOL: str = 'SPY'\n",
        "MAX_TRADES_PER_DAY: int = 100        # Maximum trades allowed per day\n",
        "DAILY_LOSS_LIMIT: int  = 10000       # Maximum daily loss allowed (in dollars)\n",
        "POSITION_SIZE_PCT: float = 0.1        # 10% of buying power per trade\n",
        "COOLDOWN: int = 60 * 5              # 5 minutes cooldown in seconds\n",
        "TRAILING_STOP_PCT: float = 0.02       # 2% trailing stop\n",
        "\n",
        "# Initial position dictionary\n",
        "initial_position_data = {\n",
        "    \"side\": \"long\",\n",
        "    \"entry_price\": 180.50,\n",
        "    \"qty\": 10,\n",
        "    \"high\": 180.50,\n",
        "    \"low\": 180.00,\n",
        "    \"entry_time\": datetime.now().isoformat(), # ignore this field\n",
        "    \"last_exit\": \"\"\n",
        "} \n",
        "\n",
        "# Remove existing handlers (important in Jupyter)\n",
        "for handler in logging.root.handlers[:]:\n",
        "    logging.root.removeHandler(handler)\n",
        "\n",
        "# Now set up logging to file\n",
        "logging.basicConfig(\n",
        "    filename='app.log',\n",
        "    level=logging.INFO,\n",
        "    format='%(asctime)s - %(levelname)s - %(message)s',\n",
        "    filemode='a'\n",
        ")\n",
        "\n",
        "# Test it\n",
        "logging.info(\"Logging from Jupyter is working.\")"
      ]
    },
    {
      "cell_type": "code",
      "execution_count": 527,
      "metadata": {
        "id": "NjP1BVyK148p"
      },
      "outputs": [],
      "source": [
        "def create_position_file_if_not_exists() -> None:\n",
        "    \"\"\"Creates the position.json file with initial data if it doesn't exist.\"\"\"\n",
        "    if not os.path.exists(POSITION_FILE):\n",
        "        try:\n",
        "            with open(POSITION_FILE, 'w') as f:\n",
        "                json.dump(initial_position_data, f, indent=4)\n",
        "            logging.info(f\"'{POSITION_FILE}' not found. Created and initialized it.\")\n",
        "        except Exception as e:\n",
        "            logging.error(f\"Error creating '{POSITION_FILE}': {e}\", exc_info=True)\n",
        "    else:\n",
        "        logging.info(f\"'{POSITION_FILE}' already exists.\")\n"
      ]
    },
    {
      "cell_type": "code",
      "execution_count": 528,
      "metadata": {},
      "outputs": [],
      "source": [
        "create_position_file_if_not_exists()"
      ]
    },
    {
      "cell_type": "code",
      "execution_count": 529,
      "metadata": {
        "id": "39xwYNED0JHY"
      },
      "outputs": [],
      "source": [
        "def load_position() -> list[dict] | None:\n",
        "    \"\"\"Loads the trading position from the position.json file, ensuring recovery from corruption or absence.\"\"\"\n",
        "    create_position_file_if_not_exists()\n",
        "\n",
        "    try:\n",
        "        with open(POSITION_FILE, 'r') as f:\n",
        "            position_data: list[dict] = json.load(f)\n",
        "            logging.info(f\"Successfully loaded position from {POSITION_FILE}\")\n",
        "            return position_data\n",
        "\n",
        "    except json.JSONDecodeError:\n",
        "        logging.warning(f\"Error decoding JSON from {POSITION_FILE}. File might be corrupted. Attempting to fix.\")\n",
        "        try:\n",
        "            os.remove(POSITION_FILE)\n",
        "            logging.info(f\"Deleted corrupted {POSITION_FILE}. Re-creating it.\")\n",
        "            create_position_file_if_not_exists()\n",
        "            with open(POSITION_FILE, 'r') as f:\n",
        "                position_data: list[dict] = json.load(f)\n",
        "                logging.info(f\"Successfully recovered and reloaded {POSITION_FILE}\")\n",
        "                return position_data\n",
        "        except Exception as e:\n",
        "            logging.error(f\"Failed to reload after recreating {POSITION_FILE}: {e}\", exc_info=True)\n",
        "            return None\n",
        "\n",
        "    except Exception as e:\n",
        "        logging.error(f\"Unexpected error reading {POSITION_FILE}: {e}\", exc_info=True)\n",
        "        return None"
      ]
    },
    {
      "cell_type": "code",
      "execution_count": 530,
      "metadata": {},
      "outputs": [
        {
          "data": {
            "text/plain": [
              "{'side': 'long',\n",
              " 'entry_price': 180.5,\n",
              " 'qty': 10,\n",
              " 'high': 180.5,\n",
              " 'low': 180.0,\n",
              " 'entry_time': '2025-06-16T15:26:22.280661',\n",
              " 'last_exit': ''}"
            ]
          },
          "execution_count": 530,
          "metadata": {},
          "output_type": "execute_result"
        }
      ],
      "source": [
        "load_position()"
      ]
    },
    {
      "cell_type": "code",
      "execution_count": 531,
      "metadata": {
        "id": "1X6LdYSFj_2j"
      },
      "outputs": [],
      "source": [
        "def reset_position() -> None:\n",
        "    \"\"\"Resets the position by deleting the position.json file.\"\"\"\n",
        "    try:\n",
        "        if os.path.exists(POSITION_FILE):\n",
        "            os.remove(POSITION_FILE)\n",
        "            logging.info(f\"Successfully deleted {POSITION_FILE}. Position reset.\")\n",
        "        else:\n",
        "            logging.info(f\"No position file found to delete. Nothing to reset.\")\n",
        "    except Exception as e:\n",
        "        logging.error(f\"Error while trying to reset position: {e}\", exc_info=True)"
      ]
    },
    {
      "cell_type": "code",
      "execution_count": 532,
      "metadata": {},
      "outputs": [],
      "source": [
        "reset_position()"
      ]
    },
    {
      "cell_type": "code",
      "execution_count": 533,
      "metadata": {
        "id": "bpwpjW_bj3GF"
      },
      "outputs": [],
      "source": [
        "def close_position(api: tradeapi.REST, symbol=SYMBOL) -> None:\n",
        "    \"\"\"Closes the current trading position.\"\"\"\n",
        "    try:\n",
        "        api.close_position(symbol)\n",
        "        logging.info(\"Position closed successfully.\")\n",
        "        reset_position() \n",
        "        logging.info(\"Position reset successfully.\")\n",
        "    except Exception as e:\n",
        "        logging.error(f\"Error closing position: {e}\", exc_info=True)"
      ]
    },
    {
      "cell_type": "code",
      "execution_count": 534,
      "metadata": {
        "id": "i_fI-gacj8DL"
      },
      "outputs": [],
      "source": [
        "def save_position(position_dict: dict) -> None:\n",
        "    \"\"\"Saves the current trading position to the position.json file.\"\"\"\n",
        "    try:\n",
        "        with open(POSITION_FILE, 'w') as f:\n",
        "            json.dump(position_dict, f, indent=4)\n",
        "        logging.info(f\"Position saved to {POSITION_FILE}.\")\n",
        "    except Exception as e:\n",
        "        logging.error(f\"Failed to save position to {POSITION_FILE}: {e}\", exc_info=True)"
      ]
    },
    {
      "cell_type": "code",
      "execution_count": 535,
      "metadata": {},
      "outputs": [],
      "source": [
        "def connect_to_alpaca() -> tradeapi.REST | None:\n",
        "    \"\"\"Connects to the Alpaca API and returns the API object.\"\"\"\n",
        "    api_key = os.getenv(\"ALPACA_API_KEY\")\n",
        "    api_secret = os.getenv(\"ALPACA_SECRET_KEY\")\n",
        "    api_url = os.getenv(\"ALPACA_BASE_URL\", \"https://paper-api.alpaca.markets\")\n",
        "\n",
        "    if not api_key or not api_secret:\n",
        "        logging.error(\"Alpaca API key and secret must be set in environment variables.\")\n",
        "        return None\n",
        "\n",
        "    try:\n",
        "        api = tradeapi.REST(\n",
        "            key_id=api_key,\n",
        "            secret_key=api_secret,\n",
        "            base_url=api_url\n",
        "        )\n",
        "        # Optional: validate connection by making a simple API call\n",
        "        api.get_account()\n",
        "        logging.info(f\"Successfully connected to Alpaca API at {api_url}\")\n",
        "        return api\n",
        "    except Exception as e:\n",
        "        logging.error(f\"Error connecting to Alpaca API: {e}\", exc_info=True)\n",
        "        return None\n"
      ]
    },
    {
      "cell_type": "code",
      "execution_count": 536,
      "metadata": {},
      "outputs": [
        {
          "name": "stdout",
          "output_type": "stream",
          "text": [
            "Account status: ACTIVE\n",
            "Account equity: 100080.96\n",
            "Account buying power: 358742.91\n"
          ]
        }
      ],
      "source": [
        "api = connect_to_alpaca()\n",
        "if api is None:\n",
        "    print(\"Failed to connect to Alpaca API. Exiting.\")\n",
        "    exit(1)\n",
        "# get account information\n",
        "account = api.get_account()\n",
        "print(f\"Account status: {account.status}\")\n",
        "print(f\"Account equity: {account.equity}\")\n",
        "print(f\"Account buying power: {account.buying_power}\")"
      ]
    },
    {
      "cell_type": "code",
      "execution_count": 537,
      "metadata": {},
      "outputs": [],
      "source": [
        "def fetch_positions(api: tradeapi.REST) -> list:\n",
        "    \"\"\"Fetches and returns the current open positions.\"\"\"\n",
        "    try:\n",
        "        positions: list = api.list_positions()\n",
        "\n",
        "        if positions:\n",
        "            for position in positions:\n",
        "                logging.info(\n",
        "                    f\"Symbol: {position.symbol}, Qty: {position.qty}, \"\n",
        "                    f\"Side: {position.side}, Market Value: {position.market_value}\"\n",
        "                )\n",
        "        else:\n",
        "            logging.info(\"No open positions.\")\n",
        "        \n",
        "        return positions\n",
        "\n",
        "    except Exception as e:\n",
        "        logging.error(f\"Error fetching positions: {e}\", exc_info=True)\n",
        "        return []"
      ]
    },
    {
      "cell_type": "code",
      "execution_count": 538,
      "metadata": {},
      "outputs": [],
      "source": [
        "if api is not None:\n",
        "\tpositions = fetch_positions(api)\n",
        "else:\n",
        "\tprint(\"API connection is not available.\")\n",
        "\tpositions = []"
      ]
    },
    {
      "cell_type": "code",
      "execution_count": 539,
      "metadata": {},
      "outputs": [],
      "source": [
        "def fetch_activities(api: tradeapi.REST, symbol: str = 'SPY', after: datetime | None = None) -> list:\n",
        "    \"\"\"Fetches and returns account activities for a specific symbol.\"\"\"\n",
        "    try:\n",
        "        # Only pass 'after' if it is a non-empty string\n",
        "        after_str = after.strftime('%Y-%m-%dT%H:%M:%SZ') if after else None\n",
        "\n",
        "        if after:\n",
        "            activities: list = api.get_activities(activity_types='FILL', after=after_str) # ignore after_str \n",
        "        else:\n",
        "            activities: list = api.get_activities(activity_types='FILL')\n",
        "        symbol_activities = [activity for activity in activities if activity.symbol == symbol]\n",
        "\n",
        "        if symbol_activities:\n",
        "            for activity in symbol_activities:\n",
        "                realized_pl = getattr(activity, \"realized_pl\", None)\n",
        "            logging.info(f\"Activities fetched for {symbol}\")\n",
        "        else:\n",
        "            logging.info(f\"No activities found for symbol '{symbol}' after {after}.\")\n",
        "\n",
        "        return symbol_activities\n",
        "\n",
        "    except Exception as e:\n",
        "        logging.error(f\"Error fetching activities for symbol '{symbol}': {e}\", exc_info=True)\n",
        "        return []"
      ]
    },
    {
      "cell_type": "code",
      "execution_count": 540,
      "metadata": {},
      "outputs": [
        {
          "name": "stdout",
          "output_type": "stream",
          "text": [
            "Recent activity: sell 1 shares of SPY at 602.16 on 18:52:08\n",
            "Recent activity: sell 1 shares of SPY at 602.35 on 18:41:38\n",
            "Recent activity: sell 1 shares of SPY at 602.32 on 18:40:56\n",
            "Recent activity: sell 1 shares of SPY at 602.56 on 18:17:47\n",
            "Recent activity: sell 1 shares of SPY at 603 on 17:51:21\n",
            "Recent activity: sell 1 shares of SPY at 601.67 on 13:39:48\n",
            "Recent activity: sell 1 shares of SPY at 601.51 on 13:32:13\n",
            "Recent activity: sell 1 shares of SPY at 601.25 on 13:31:28\n",
            "Recent activity: sell 1 shares of SPY at 601.15 on 13:31:05\n",
            "Recent activity: sell 1 shares of SPY at 601.04 on 13:31:03\n",
            "Recent activity: sell 1 shares of SPY at 600.63 on 13:30:40\n",
            "Recent activity: sell 1 shares of SPY at 600.54 on 13:30:32\n",
            "Recent activity: sell 1 shares of SPY at 600.53 on 13:30:30\n",
            "Recent activity: sell 1 shares of SPY at 600.61 on 13:30:27\n",
            "Recent activity: sell 1 shares of SPY at 600.51 on 13:30:24\n",
            "Recent activity: sell 1 shares of SPY at 600.54 on 13:30:22\n",
            "Recent activity: sell 1 shares of SPY at 600.44 on 13:30:20\n",
            "Recent activity: sell 1 shares of SPY at 600.42 on 13:30:13\n",
            "Recent activity: sell 1 shares of SPY at 600.4 on 13:30:11\n",
            "Recent activity: sell 1 shares of SPY at 600.46 on 13:30:10\n",
            "Recent activity: sell 1 shares of SPY at 600.39 on 13:30:10\n",
            "Recent activity: sell 1 shares of SPY at 600.42 on 13:30:08\n",
            "Recent activity: sell 1 shares of SPY at 600.41 on 13:30:07\n",
            "Recent activity: sell 1 shares of SPY at 600.42 on 13:30:00\n",
            "Recent activity: buy 1 shares of SPY at 597.95 on 18:15:26\n"
          ]
        }
      ],
      "source": [
        "# Fetch activities\n",
        "if api is not None:\n",
        "    activities = fetch_activities(api, after=(datetime.now() - timedelta(days=5)))\n",
        "    if activities:\n",
        "        for activity in activities:\n",
        "            # activity.transaction_time may be a string, so parse if needed\n",
        "            time_val = getattr(activity, 'transaction_time', None)\n",
        "            if isinstance(time_val, str):\n",
        "                try:\n",
        "                    time_obj = pd.to_datetime(time_val)\n",
        "                    time_str = time_obj.strftime('%H:%M:%S')\n",
        "                except Exception:\n",
        "                    time_str = str(time_val)\n",
        "            elif time_val is not None:\n",
        "                time_str = time_val.strftime('%H:%M:%S')\n",
        "            else:\n",
        "                time_str = \"N/A\"\n",
        "            print(\n",
        "                f\"Recent activity: {getattr(activity, 'side', '')} \"\n",
        "                f\"{getattr(activity, 'qty', '')} shares of {getattr(activity, 'symbol', '')} \"\n",
        "                f\"at {getattr(activity, 'price', '')} \"\n",
        "                f\"on {time_str}\"\n",
        "            )\n",
        "    else:\n",
        "        print(\"No recent activities.\")\n",
        "else:\n",
        "    print(\"API connection is not available.\")"
      ]
    },
    {
      "cell_type": "code",
      "execution_count": 541,
      "metadata": {},
      "outputs": [],
      "source": [
        "def fetch_open_orders(api: tradeapi.REST, symbol:str = 'SPY') -> list:\n",
        "    \"\"\"Fetches and returns open orders for a specific symbol.\"\"\"\n",
        "    try:\n",
        "        orders = api.list_orders(status='open', symbols=[symbol])\n",
        "        if orders and len(orders) > 0:\n",
        "            logging.info(f\"Open orders for {symbol}: {len(orders)} found.\")\n",
        "        else:\n",
        "           logging.info(f\"No open orders for symbol {symbol}.\")\n",
        "        return orders\n",
        "    except Exception as e:\n",
        "        logging.error(f\"Error fetching open orders: {e}\")\n",
        "        return []\n"
      ]
    },
    {
      "cell_type": "code",
      "execution_count": 542,
      "metadata": {},
      "outputs": [
        {
          "name": "stdout",
          "output_type": "stream",
          "text": [
            "Open order: sell 1 shares of SPY at 604 Status: accepted\n",
            "Open order: sell 1 shares of SPY at 604.01 Status: accepted\n",
            "Open order: sell 1 shares of SPY at 604.01 Status: accepted\n",
            "Open order: sell 1 shares of SPY at 603.75 Status: accepted\n"
          ]
        }
      ],
      "source": [
        "if api is not None:\n",
        "    open_orders = fetch_open_orders(api)\n",
        "    if open_orders:\n",
        "        for order in open_orders:\n",
        "            print(\n",
        "                f\"Open order: {order.side} \"\n",
        "                f\"{order.qty} shares of {order.symbol} \"\n",
        "                f\"at {order.limit_price} \"\n",
        "                f\"Status: {order.status}\"\n",
        "            )\n",
        "    else:\n",
        "        print(\"No open orders.\")\n",
        "else:\n",
        "    print(\"API connection is not available.\")"
      ]
    },
    {
      "cell_type": "code",
      "execution_count": 543,
      "metadata": {},
      "outputs": [],
      "source": [
        "def fetch_market_clock(api: tradeapi.REST) -> tradeapi.entity.Clock | None: # ignore tradeapi.entity.Clock type error\n",
        "    \"\"\"Fetches and logs the current market clock information.\"\"\"\n",
        "    try:\n",
        "        clock = api.get_clock()\n",
        "        logging.info(\n",
        "            f\"Market is currently {'open' if clock.is_open else 'closed'}. \"\n",
        "            f\"Next open: {clock.next_open}, Next close: {clock.next_close}\"\n",
        "        )\n",
        "        return clock\n",
        "    except Exception as e:\n",
        "        logging.error(f\"Error fetching market clock: {e}\", exc_info=True)\n",
        "        return None"
      ]
    },
    {
      "cell_type": "code",
      "execution_count": 544,
      "metadata": {},
      "outputs": [
        {
          "name": "stdout",
          "output_type": "stream",
          "text": [
            "Market is currently closed. Next open: 2025-06-17 09:30:00-04:00, Next close: 2025-06-17 16:00:00-04:00\n"
          ]
        }
      ],
      "source": [
        "if api is not None:\n",
        "    clock = fetch_market_clock(api)\n",
        "    if clock:\n",
        "        print(\n",
        "            f\"Market is currently {'open' if clock.is_open else 'closed'}. \"\n",
        "            f\"Next open: {clock.next_open}, Next close: {clock.next_close}\"\n",
        "        )\n",
        "    else:\n",
        "        print(\"Failed to fetch market clock.\")\n",
        "else:\n",
        "    print(\"Failed to fetch market clock.\")"
      ]
    },
    {
      "cell_type": "code",
      "execution_count": 545,
      "metadata": {},
      "outputs": [],
      "source": [
        "def fetch_market_calendar(api: tradeapi.REST, start_date: str, end_date: str) -> list | None:\n",
        "    \"\"\"Fetches and logs the market calendar between specified dates.\"\"\"\n",
        "    try:\n",
        "        calendar = api.get_calendar(start=start_date, end=end_date)\n",
        "\n",
        "        if calendar:\n",
        "            for day in calendar:\n",
        "                logging.info(f\"Date: {day.date}, Open: {day.open}, Close: {day.close}\")\n",
        "        else:\n",
        "            logging.info(\"No market calendar data found for the specified dates.\")\n",
        "\n",
        "        return calendar\n",
        "\n",
        "    except Exception as e:\n",
        "        logging.error(f\"Error fetching market calendar from {start_date} to {end_date}: {e}\", exc_info=True)\n",
        "        return []"
      ]
    },
    {
      "cell_type": "code",
      "execution_count": 546,
      "metadata": {},
      "outputs": [
        {
          "name": "stdout",
          "output_type": "stream",
          "text": [
            "Market calendar fetched successfully.\n",
            "Date: 2025-06-16 00:00:00, Open: 09:30:00, Close: 16:00:00\n",
            "Date: 2025-06-17 00:00:00, Open: 09:30:00, Close: 16:00:00\n",
            "Date: 2025-06-18 00:00:00, Open: 09:30:00, Close: 16:00:00\n",
            "Date: 2025-06-20 00:00:00, Open: 09:30:00, Close: 16:00:00\n",
            "Date: 2025-06-23 00:00:00, Open: 09:30:00, Close: 16:00:00\n"
          ]
        }
      ],
      "source": [
        "if api is not None:\n",
        "    calendar = fetch_market_calendar(api, start_date=str(datetime.now().date()), end_date=str((datetime.now() + timedelta(days=7)).date()))\n",
        "    if calendar:\n",
        "        print(\"Market calendar fetched successfully.\")\n",
        "        for day in calendar:\n",
        "            print(f\"Date: {day.date}, Open: {day.open}, Close: {day.close}\")\n",
        "    else:\n",
        "        print(\"Failed to fetch market calendar.\")\n",
        "else:\n",
        "    print(\"API is not available.\")"
      ]
    },
    {
      "cell_type": "code",
      "execution_count": 547,
      "metadata": {},
      "outputs": [],
      "source": [
        "def get_historical_data_client() -> StockHistoricalDataClient:\n",
        "    \"\"\"Creates and returns a StockHistoricalDataClient instance using API credentials.\"\"\"\n",
        "    api_key = os.getenv(\"ALPACA_API_KEY\")\n",
        "    api_secret = os.getenv(\"ALPACA_SECRET_KEY\")\n",
        "\n",
        "    if api_key and api_secret:\n",
        "        logging.info(\"Successfully created StockHistoricalDataClient.\")\n",
        "        return StockHistoricalDataClient(api_key, api_secret)\n",
        "    else:\n",
        "        logging.error(\"Missing Alpaca API credentials. Cannot create StockHistoricalDataClient.\")\n",
        "        raise ValueError(\"API key and secret must be provided as environment variables.\")"
      ]
    },
    {
      "cell_type": "code",
      "execution_count": 548,
      "metadata": {},
      "outputs": [],
      "source": [
        "def build_stock_bars_request(symbol: str, start: datetime, end: datetime, timeframe: TimeFrame) -> StockBarsRequest:\n",
        "    \"\"\"Builds and returns a StockBarsRequest object.\"\"\"\n",
        "    return StockBarsRequest(\n",
        "        symbol_or_symbols=[symbol],\n",
        "        start=start,\n",
        "        end=end,\n",
        "        timeframe=timeframe,\n",
        "        feed='iex'  # 'iex' is used for free accounts; 'sip' for premium # type: ignore\n",
        "    )"
      ]
    },
    {
      "cell_type": "code",
      "execution_count": 549,
      "metadata": {},
      "outputs": [],
      "source": [
        "def fetch_historical_data(symbol: str, start: datetime, end: datetime, timeframe: TimeFrame) -> pd.DataFrame | None:\n",
        "    \"\"\"Fetches historical stock data from Alpaca and returns a Pandas DataFrame.\"\"\"\n",
        "    try:\n",
        "        client = get_historical_data_client()\n",
        "        request_params = build_stock_bars_request(symbol, start, end, timeframe)\n",
        "        bars = client.get_stock_bars(request_params)\n",
        "        df = bars.df\n",
        "\n",
        "        if df.empty:\n",
        "            logging.info(f\"No historical data returned for {symbol} from {start} to {end}.\")\n",
        "            return None\n",
        "\n",
        "        df.reset_index(inplace=True)\n",
        "        df = df.set_index('timestamp').sort_index()\n",
        "        logging.info(f\"Fetched {len(df)} bars for {symbol} from {start} to {end}.\")\n",
        "        return df\n",
        "\n",
        "    except Exception as e:\n",
        "        logging.error(f\"Error fetching historical data for {symbol}: {e}\", exc_info=True)\n",
        "        return None\n"
      ]
    },
    {
      "cell_type": "code",
      "execution_count": 550,
      "metadata": {},
      "outputs": [
        {
          "data": {
            "text/html": [
              "<div>\n",
              "<style scoped>\n",
              "    .dataframe tbody tr th:only-of-type {\n",
              "        vertical-align: middle;\n",
              "    }\n",
              "\n",
              "    .dataframe tbody tr th {\n",
              "        vertical-align: top;\n",
              "    }\n",
              "\n",
              "    .dataframe thead th {\n",
              "        text-align: right;\n",
              "    }\n",
              "</style>\n",
              "<table border=\"1\" class=\"dataframe\">\n",
              "  <thead>\n",
              "    <tr style=\"text-align: right;\">\n",
              "      <th></th>\n",
              "      <th>symbol</th>\n",
              "      <th>open</th>\n",
              "      <th>high</th>\n",
              "      <th>low</th>\n",
              "      <th>close</th>\n",
              "      <th>volume</th>\n",
              "      <th>trade_count</th>\n",
              "      <th>vwap</th>\n",
              "    </tr>\n",
              "    <tr>\n",
              "      <th>timestamp</th>\n",
              "      <th></th>\n",
              "      <th></th>\n",
              "      <th></th>\n",
              "      <th></th>\n",
              "      <th></th>\n",
              "      <th></th>\n",
              "      <th></th>\n",
              "      <th></th>\n",
              "    </tr>\n",
              "  </thead>\n",
              "  <tbody>\n",
              "    <tr>\n",
              "      <th>2025-06-12 04:00:00+00:00</th>\n",
              "      <td>SPY</td>\n",
              "      <td>600.02</td>\n",
              "      <td>603.72</td>\n",
              "      <td>599.57</td>\n",
              "      <td>603.720</td>\n",
              "      <td>824021.0</td>\n",
              "      <td>13745.0</td>\n",
              "      <td>602.553171</td>\n",
              "    </tr>\n",
              "    <tr>\n",
              "      <th>2025-06-13 04:00:00+00:00</th>\n",
              "      <td>SPY</td>\n",
              "      <td>598.54</td>\n",
              "      <td>601.84</td>\n",
              "      <td>595.52</td>\n",
              "      <td>596.780</td>\n",
              "      <td>1120893.0</td>\n",
              "      <td>14487.0</td>\n",
              "      <td>598.389526</td>\n",
              "    </tr>\n",
              "    <tr>\n",
              "      <th>2025-06-16 04:00:00+00:00</th>\n",
              "      <td>SPY</td>\n",
              "      <td>600.43</td>\n",
              "      <td>604.45</td>\n",
              "      <td>600.24</td>\n",
              "      <td>602.705</td>\n",
              "      <td>1278612.0</td>\n",
              "      <td>14618.0</td>\n",
              "      <td>602.779749</td>\n",
              "    </tr>\n",
              "  </tbody>\n",
              "</table>\n",
              "</div>"
            ],
            "text/plain": [
              "                          symbol    open    high     low    close     volume  \\\n",
              "timestamp                                                                      \n",
              "2025-06-12 04:00:00+00:00    SPY  600.02  603.72  599.57  603.720   824021.0   \n",
              "2025-06-13 04:00:00+00:00    SPY  598.54  601.84  595.52  596.780  1120893.0   \n",
              "2025-06-16 04:00:00+00:00    SPY  600.43  604.45  600.24  602.705  1278612.0   \n",
              "\n",
              "                           trade_count        vwap  \n",
              "timestamp                                           \n",
              "2025-06-12 04:00:00+00:00      13745.0  602.553171  \n",
              "2025-06-13 04:00:00+00:00      14487.0  598.389526  \n",
              "2025-06-16 04:00:00+00:00      14618.0  602.779749  "
            ]
          },
          "execution_count": 550,
          "metadata": {},
          "output_type": "execute_result"
        }
      ],
      "source": [
        "fetch_historical_data('SPY', datetime.now() - timedelta(days=5), datetime.now(), TimeFrame(1, TimeFrameUnit.Day))"
      ]
    },
    {
      "cell_type": "code",
      "execution_count": 551,
      "metadata": {},
      "outputs": [],
      "source": [
        "def create_trade_log_file() -> None:\n",
        "    \"\"\"\n",
        "    Creates a trade_log.csv file with headers if it doesn't already exist.\n",
        "    \"\"\"\n",
        "    trade_log_file: str = 'trade_log.csv'\n",
        "    headers: str = \"entry_time,exit_time,side,entry_price,exit_price,pnl,logged_at\\n\"\n",
        "\n",
        "    try:\n",
        "        if not os.path.exists(trade_log_file):\n",
        "            with open(trade_log_file, 'w') as f:\n",
        "                f.write(headers)\n",
        "            logging.info(f\"Created {trade_log_file} with headers.\")\n",
        "        else:\n",
        "            logging.info(f\"{trade_log_file} already exists.\")\n",
        "    except Exception as e:\n",
        "        logging.error(f\"Error creating {trade_log_file}: {e}\", exc_info=True)"
      ]
    },
    {
      "cell_type": "code",
      "execution_count": 552,
      "metadata": {
        "id": "4LF1yLGflqEL"
      },
      "outputs": [],
      "source": [
        "def log_trade(entry_time: str, exit_time: str, side: str, entry_price: float, exit_price: float, pnl: float) -> None:\n",
        "    \"\"\"Logs trade details to a CSV file with a timestamp.\"\"\"\n",
        "    TRADE_LOG_FILE: str = 'trade_log.csv'\n",
        "    headers: list[str] = [\"entry_time\", \"exit_time\", \"side\", \"entry_price\", \"exit_price\", \"pnl\", \"logged_at\"]\n",
        "    timestamp: str = datetime.now().strftime(\"%Y-%m-%d %H:%M:%S\")\n",
        "    file_exists: bool = os.path.exists(TRADE_LOG_FILE)\n",
        "\n",
        "    try:\n",
        "        with open(TRADE_LOG_FILE, 'a', newline='') as f:\n",
        "            writer = csv.writer(f)\n",
        "            if not file_exists:\n",
        "                writer.writerow(headers)\n",
        "            writer.writerow([entry_time, exit_time, side, entry_price, exit_price, pnl, timestamp])\n",
        "        logging.info(f\"Trade logged: {side} | Entry: {entry_price}, Exit: {exit_price}, PnL: {pnl}\")\n",
        "    except Exception as e:\n",
        "        logging.error(f\"Failed to log trade: {e}\", exc_info=True)"
      ]
    },
    {
      "cell_type": "code",
      "execution_count": 553,
      "metadata": {
        "id": "dLZjZk_Nk9qO"
      },
      "outputs": [],
      "source": [
        "def place_order(api: tradeapi.REST, symbol: str, side: str, qty: float, price: float) -> None:\n",
        "    \"\"\"Places a limit order with Alpaca.\"\"\"\n",
        "    try:\n",
        "        api.submit_order(\n",
        "            symbol=symbol,\n",
        "            qty=qty,\n",
        "            side=side,\n",
        "            type='limit',\n",
        "            limit_price=str(round(price, 2)),\n",
        "            time_in_force='gtc'\n",
        "        )\n",
        "        logging.info(f\"{side.upper()} order placed for {qty} {symbol} at ${round(price, 2)}.\")\n",
        "    except Exception as e:\n",
        "        logging.error(f\"Error placing {side.upper()} order for {symbol}: {e}\", exc_info=True)"
      ]
    },
    {
      "cell_type": "code",
      "execution_count": 554,
      "metadata": {},
      "outputs": [
        {
          "name": "stdout",
          "output_type": "stream",
          "text": [
            "Latest price for SPY: 603.48\n"
          ]
        }
      ],
      "source": [
        "# Use the existing pandas DataFrame 'df' for the latest price and order placement\n",
        "# This is a test to sell 1 unit of 'SPY' at the latest price.\n",
        "df = fetch_historical_data(SYMBOL, datetime.now() - timedelta(days=1), datetime.now(), TimeFrame(1, TimeFrameUnit.Minute))\n",
        "if df is not None and not df.empty:\n",
        "    latest_price = float(df['close'].iloc[-1])\n",
        "    print(f\"Latest price for {SYMBOL}: {latest_price}\")\n",
        "    if api is not None:\n",
        "        place_order(api, SYMBOL, 'sell', 1, latest_price)\n",
        "    else:\n",
        "        print(\"API connection is not available. Cannot place order.\")\n",
        "else:\n",
        "    print(\"No recent bars found.\")"
      ]
    },
    {
      "cell_type": "code",
      "execution_count": 555,
      "metadata": {},
      "outputs": [],
      "source": [
        "def filtered_daily_trade(activities: list) -> list:\n",
        "    \"\"\"Filters activities to include only today's buy/sell trades.\"\"\"\n",
        "    try:\n",
        "        filtered_activities = [\n",
        "            activity for activity in activities\n",
        "            if getattr(activity, 'side', None) in ['buy', 'sell']\n",
        "        ]\n",
        "\n",
        "        today = datetime.now().date()\n",
        "\n",
        "        filtered_trades = [\n",
        "            trade for trade in filtered_activities\n",
        "            if pd.to_datetime(getattr(trade, 'transaction_time')).date() == today\n",
        "        ]\n",
        "\n",
        "        logging.info(f\"Filtered {len(filtered_trades)} trades from {len(activities)} total activities for today.\")\n",
        "        return filtered_trades\n",
        "\n",
        "    except Exception as e:\n",
        "        logging.error(f\"Error filtering daily trades: {e}\", exc_info=True)\n",
        "        return []\n"
      ]
    },
    {
      "cell_type": "code",
      "execution_count": 556,
      "metadata": {},
      "outputs": [],
      "source": [
        "def calculate_today_pnl(api: tradeapi.REST) -> float:\n",
        "    \"\"\"\n",
        "    Fetches account equity and calculates today's profit and loss.\n",
        "    Returns the P&L as a float.\n",
        "    \"\"\"\n",
        "    try:\n",
        "        account = api.get_account()\n",
        "        equity = float(account.equity)\n",
        "        last_equity = float(account.last_equity)\n",
        "        today_pnl = equity - last_equity\n",
        "\n",
        "        logging.info(f\"Today's P&L: ${today_pnl:.2f}\")\n",
        "        return today_pnl\n",
        "\n",
        "    except Exception as e:\n",
        "        logging.error(f\"Failed to calculate today's P&L: {e}\", exc_info=True)\n",
        "        return 0.0\n"
      ]
    },
    {
      "cell_type": "code",
      "execution_count": 557,
      "metadata": {},
      "outputs": [],
      "source": [
        "if api is not None:\n",
        "\tcalculate_today_pnl(api)\n",
        "else:\n",
        "\tprint(\"API connection is not available.\")"
      ]
    },
    {
      "cell_type": "code",
      "execution_count": 558,
      "metadata": {
        "id": "jiJi0OpC65H2"
      },
      "outputs": [],
      "source": [
        "def check_daily_limits() -> tuple[int, float]:\n",
        "    \"\"\"Checks and returns the number of trades and total PNL for today.\"\"\"\n",
        "    logging.info(\"Checking daily limits...\")\n",
        "\n",
        "    if api is None:\n",
        "        logging.error(\"API connection is not available.\")\n",
        "        return 0, 0.0\n",
        "\n",
        "    try:\n",
        "        after: datetime = datetime.now(timezone.utc).replace(\n",
        "            hour=0, minute=0, second=0, microsecond=0\n",
        "        )\n",
        "        activities: list[dict] = fetch_activities(api, after=after)\n",
        "        logging.info(f\"Fetched {len(activities)} activities for today.\")\n",
        "\n",
        "        daily_trades = filtered_daily_trade(activities)\n",
        "        logging.info(f\"Filtered to {len(daily_trades)} daily trades.\")\n",
        "    except Exception as e:\n",
        "        logging.error(f\"Error fetching or filtering activities: {e}\", exc_info=True)\n",
        "        return 0, 0.0\n",
        "\n",
        "    try:\n",
        "        today_pnl = calculate_today_pnl(api)\n",
        "        trade_count = len([t for t in daily_trades if getattr(t, 'side', None) in ['buy', 'sell']])\n",
        "\n",
        "        logging.info(f\"Today's trade count: {trade_count}\")\n",
        "        logging.info(f\"Today's total PNL: {today_pnl:.2f}\")\n",
        "\n",
        "        return trade_count, today_pnl\n",
        "\n",
        "    except Exception as e:\n",
        "        logging.error(f\"Error computing trade count or PNL: {e}\", exc_info=True)\n",
        "        return 0, 0.0"
      ]
    },
    {
      "cell_type": "code",
      "execution_count": 559,
      "metadata": {},
      "outputs": [
        {
          "data": {
            "text/plain": [
              "(24, 283.39312354101276)"
            ]
          },
          "execution_count": 559,
          "metadata": {},
          "output_type": "execute_result"
        }
      ],
      "source": [
        "check_daily_limits()"
      ]
    },
    {
      "cell_type": "code",
      "execution_count": 560,
      "metadata": {
        "id": "iIk_yS5zGNeA"
      },
      "outputs": [],
      "source": [
        "def get_data(symbol: str, timeframe: str = '1d', limit: int = 5) -> pd.DataFrame:\n",
        "    \"\"\"Fetches historical stock data and returns a DataFrame.\"\"\"\n",
        "    logging.info(f\"Getting data for {symbol} with timeframe {timeframe} and limit {limit}.\")\n",
        "    try:\n",
        "        end = datetime.now(timezone.utc)\n",
        "\n",
        "        if timeframe == '1d':\n",
        "            start = end - timedelta(days=limit)\n",
        "            tf = TimeFrame(1, TimeFrameUnit.Day)\n",
        "        elif timeframe == '1m':\n",
        "            start = end - timedelta(minutes=limit)\n",
        "            tf = TimeFrame(1, TimeFrameUnit.Minute)\n",
        "        elif timeframe == '5m':\n",
        "            start = end - timedelta(minutes=5 * limit)\n",
        "            tf = TimeFrame(5, TimeFrameUnit.Minute)\n",
        "        else:\n",
        "            raise ValueError(f\"Unsupported timeframe: {timeframe}\")\n",
        "        \n",
        "        client = get_historical_data_client()\n",
        "        request_params = build_stock_bars_request(symbol, start, end, tf)\n",
        "        bars = client.get_stock_bars(request_params).df # type: ignore\n",
        "\n",
        "        if bars.empty:\n",
        "            logging.warning(f\"No historical data returned for {symbol} with timeframe {timeframe}.\")\n",
        "            return pd.DataFrame()\n",
        "\n",
        "        bars = bars.reset_index().tail(limit)\n",
        "\n",
        "        if 'timestamp' not in bars.columns:\n",
        "            logging.warning(f\"'timestamp' column missing in bars data. Columns available: {bars.columns.tolist()}\")\n",
        "            return pd.DataFrame()\n",
        "\n",
        "        bars.set_index('timestamp', inplace=True)\n",
        "        logging.info(f\"Fetched {len(bars)} bars for {symbol} ({timeframe}).\")\n",
        "        return bars\n",
        "\n",
        "    except Exception as e:\n",
        "        logging.error(f\"Data fetch error for {symbol}: {e}\", exc_info=True)\n",
        "        return pd.DataFrame()"
      ]
    },
    {
      "cell_type": "code",
      "execution_count": 561,
      "metadata": {
        "colab": {
          "base_uri": "https://localhost:8080/",
          "height": 112
        },
        "id": "CqCDirXv3pPB",
        "outputId": "16a9f36e-8b8a-484d-bf1e-c7bbec97d0b6"
      },
      "outputs": [
        {
          "data": {
            "text/html": [
              "<div>\n",
              "<style scoped>\n",
              "    .dataframe tbody tr th:only-of-type {\n",
              "        vertical-align: middle;\n",
              "    }\n",
              "\n",
              "    .dataframe tbody tr th {\n",
              "        vertical-align: top;\n",
              "    }\n",
              "\n",
              "    .dataframe thead th {\n",
              "        text-align: right;\n",
              "    }\n",
              "</style>\n",
              "<table border=\"1\" class=\"dataframe\">\n",
              "  <thead>\n",
              "    <tr style=\"text-align: right;\">\n",
              "      <th></th>\n",
              "      <th>symbol</th>\n",
              "      <th>open</th>\n",
              "      <th>high</th>\n",
              "      <th>low</th>\n",
              "      <th>close</th>\n",
              "      <th>volume</th>\n",
              "      <th>trade_count</th>\n",
              "      <th>vwap</th>\n",
              "    </tr>\n",
              "    <tr>\n",
              "      <th>timestamp</th>\n",
              "      <th></th>\n",
              "      <th></th>\n",
              "      <th></th>\n",
              "      <th></th>\n",
              "      <th></th>\n",
              "      <th></th>\n",
              "      <th></th>\n",
              "      <th></th>\n",
              "    </tr>\n",
              "  </thead>\n",
              "  <tbody>\n",
              "    <tr>\n",
              "      <th>2025-06-10 04:00:00+00:00</th>\n",
              "      <td>SPY</td>\n",
              "      <td>600.335</td>\n",
              "      <td>603.465</td>\n",
              "      <td>599.150</td>\n",
              "      <td>603.100</td>\n",
              "      <td>954803.0</td>\n",
              "      <td>12227.0</td>\n",
              "      <td>601.680572</td>\n",
              "    </tr>\n",
              "    <tr>\n",
              "      <th>2025-06-11 04:00:00+00:00</th>\n",
              "      <td>SPY</td>\n",
              "      <td>604.180</td>\n",
              "      <td>605.040</td>\n",
              "      <td>599.275</td>\n",
              "      <td>601.590</td>\n",
              "      <td>1048022.0</td>\n",
              "      <td>14418.0</td>\n",
              "      <td>602.365390</td>\n",
              "    </tr>\n",
              "    <tr>\n",
              "      <th>2025-06-12 04:00:00+00:00</th>\n",
              "      <td>SPY</td>\n",
              "      <td>600.020</td>\n",
              "      <td>603.720</td>\n",
              "      <td>599.570</td>\n",
              "      <td>603.720</td>\n",
              "      <td>824021.0</td>\n",
              "      <td>13745.0</td>\n",
              "      <td>602.553171</td>\n",
              "    </tr>\n",
              "    <tr>\n",
              "      <th>2025-06-13 04:00:00+00:00</th>\n",
              "      <td>SPY</td>\n",
              "      <td>598.540</td>\n",
              "      <td>601.840</td>\n",
              "      <td>595.520</td>\n",
              "      <td>596.780</td>\n",
              "      <td>1120893.0</td>\n",
              "      <td>14487.0</td>\n",
              "      <td>598.389526</td>\n",
              "    </tr>\n",
              "    <tr>\n",
              "      <th>2025-06-16 04:00:00+00:00</th>\n",
              "      <td>SPY</td>\n",
              "      <td>600.430</td>\n",
              "      <td>604.450</td>\n",
              "      <td>600.240</td>\n",
              "      <td>602.705</td>\n",
              "      <td>1278612.0</td>\n",
              "      <td>14618.0</td>\n",
              "      <td>602.779749</td>\n",
              "    </tr>\n",
              "  </tbody>\n",
              "</table>\n",
              "</div>"
            ],
            "text/plain": [
              "                          symbol     open     high      low    close  \\\n",
              "timestamp                                                              \n",
              "2025-06-10 04:00:00+00:00    SPY  600.335  603.465  599.150  603.100   \n",
              "2025-06-11 04:00:00+00:00    SPY  604.180  605.040  599.275  601.590   \n",
              "2025-06-12 04:00:00+00:00    SPY  600.020  603.720  599.570  603.720   \n",
              "2025-06-13 04:00:00+00:00    SPY  598.540  601.840  595.520  596.780   \n",
              "2025-06-16 04:00:00+00:00    SPY  600.430  604.450  600.240  602.705   \n",
              "\n",
              "                              volume  trade_count        vwap  \n",
              "timestamp                                                      \n",
              "2025-06-10 04:00:00+00:00   954803.0      12227.0  601.680572  \n",
              "2025-06-11 04:00:00+00:00  1048022.0      14418.0  602.365390  \n",
              "2025-06-12 04:00:00+00:00   824021.0      13745.0  602.553171  \n",
              "2025-06-13 04:00:00+00:00  1120893.0      14487.0  598.389526  \n",
              "2025-06-16 04:00:00+00:00  1278612.0      14618.0  602.779749  "
            ]
          },
          "execution_count": 561,
          "metadata": {},
          "output_type": "execute_result"
        }
      ],
      "source": [
        "df = get_data(SYMBOL, '1d', 30)\n",
        "if clock is not None and clock.is_open:\n",
        "    df = get_data(SYMBOL, '1m', 30)\n",
        "else:\n",
        "    df = get_data(SYMBOL, '1d', 30)\n",
        "df.tail()"
      ]
    },
    {
      "cell_type": "code",
      "execution_count": 562,
      "metadata": {
        "id": "u1fypkcRNRF-"
      },
      "outputs": [],
      "source": [
        "def create_candlestick_chart(df: pd.DataFrame, symbol: str =SYMBOL) -> None:\n",
        "    \"\"\"Creates and displays an interactive candlestick chart using Plotly.\"\"\"\n",
        "    if df is None or df.empty:\n",
        "        logging.warning(f\"No data available to plot for symbol: {symbol}\")\n",
        "        return\n",
        "\n",
        "    try:\n",
        "        candlestick = go.Candlestick(\n",
        "            x=df.index,\n",
        "            open=df['open'],\n",
        "            high=df['high'],\n",
        "            low=df['low'],\n",
        "            close=df['close']\n",
        "        )\n",
        "\n",
        "        fig = go.Figure(data=[candlestick])\n",
        "\n",
        "        fig.update_layout(\n",
        "            title=f'{symbol.upper()} Interactive Candlestick Chart',\n",
        "            xaxis_title='Time',\n",
        "            yaxis_title='Price',\n",
        "            xaxis_rangeslider_visible=False\n",
        "        )\n",
        "\n",
        "        fig.show()\n",
        "        logging.info(f\"Candlestick chart rendered for {symbol} with {len(df)} data points.\")\n",
        "    except Exception as e:\n",
        "        logging.error(f\"Error generating candlestick chart for {symbol}: {e}\", exc_info=True)\n"
      ]
    },
    {
      "cell_type": "code",
      "execution_count": 563,
      "metadata": {},
      "outputs": [
        {
          "data": {
            "application/vnd.plotly.v1+json": {
              "config": {
                "plotlyServerURL": "https://plot.ly"
              },
              "data": [
                {
                  "close": {
                    "bdata": "16NwPQqXgkDXo3A9CoeCQEjhehSuN4JAFK5H4Xo4gkCamZmZmRmCQBSuR+F6eIJAZmZmZmZegkCamZmZmW+CQGZmZmZmaoJAuB6F61GGgkApXI/C9aCCQKRwPQrXn4JAcT0K16OIgkDNzMzMzLeCQD0K16Nwu4JAzczMzMzYgkAfhetRuMyCQPYoXI/C3YJACtejcD2mgkBxPQrXo9WCQA==",
                    "dtype": "f8"
                  },
                  "high": {
                    "bdata": "CtejcD2cgkDXo3A9CpCCQGZmZmZmhIJAexSuR+FUgkBcj8L1KC6CQLgehetReoJArkfhehSGgkDNzMzMzIiCQFK4HoXreIJAuB6F61GGgkDD9Shcj6iCQI/C9Shcr4JAPQrXo3C3gkDD9Shcj8aCQAAAAAAAyoJAH4XrUbjbgkC4HoXrUeiCQPYoXI/C3YJAH4XrUbjOgkCamZmZmeOCQA==",
                    "dtype": "f8"
                  },
                  "low": {
                    "bdata": "MzMzMzNhgkApXI/C9WyCQFK4HoXrLoJAUrgehesrgkAzMzMzM/2BQPYoXI/CQ4JAAAAAAABYgkCuR+F6FFKCQIXrUbgeOoJAzczMzMxIgkB7FK5H4X6CQBSuR+F6nIJAw/UoXI94gkDhehSuR6eCQFyPwvUotIJAMzMzMzO5gkAzMzMzM7qCQMP1KFyPvIJAXI/C9SicgkBSuB6F68GCQA==",
                    "dtype": "f8"
                  },
                  "open": {
                    "bdata": "MzMzMzNhgkCkcD0K14iCQHE9CtejZIJACtejcD01gkApXI/C9f6BQB+F61G4UIJAmpmZmZl8gkDNzMzMzIiCQEjhehSuZ4JArkfhehRegkA9CtejcIOCQHsUrkfhp4JA4XoUrketgkApXI/C9bSCQAAAAAAAvoJASOF6FK7CgkA9CtejcOGCQFyPwvUowIJAuB6F61G0gkA9CtejcMOCQA==",
                    "dtype": "f8"
                  },
                  "type": "candlestick",
                  "x": [
                    "2025-05-19T04:00:00+00:00",
                    "2025-05-20T04:00:00+00:00",
                    "2025-05-21T04:00:00+00:00",
                    "2025-05-22T04:00:00+00:00",
                    "2025-05-23T04:00:00+00:00",
                    "2025-05-27T04:00:00+00:00",
                    "2025-05-28T04:00:00+00:00",
                    "2025-05-29T04:00:00+00:00",
                    "2025-05-30T04:00:00+00:00",
                    "2025-06-02T04:00:00+00:00",
                    "2025-06-03T04:00:00+00:00",
                    "2025-06-04T04:00:00+00:00",
                    "2025-06-05T04:00:00+00:00",
                    "2025-06-06T04:00:00+00:00",
                    "2025-06-09T04:00:00+00:00",
                    "2025-06-10T04:00:00+00:00",
                    "2025-06-11T04:00:00+00:00",
                    "2025-06-12T04:00:00+00:00",
                    "2025-06-13T04:00:00+00:00",
                    "2025-06-16T04:00:00+00:00"
                  ]
                }
              ],
              "layout": {
                "template": {
                  "data": {
                    "bar": [
                      {
                        "error_x": {
                          "color": "#2a3f5f"
                        },
                        "error_y": {
                          "color": "#2a3f5f"
                        },
                        "marker": {
                          "line": {
                            "color": "#E5ECF6",
                            "width": 0.5
                          },
                          "pattern": {
                            "fillmode": "overlay",
                            "size": 10,
                            "solidity": 0.2
                          }
                        },
                        "type": "bar"
                      }
                    ],
                    "barpolar": [
                      {
                        "marker": {
                          "line": {
                            "color": "#E5ECF6",
                            "width": 0.5
                          },
                          "pattern": {
                            "fillmode": "overlay",
                            "size": 10,
                            "solidity": 0.2
                          }
                        },
                        "type": "barpolar"
                      }
                    ],
                    "carpet": [
                      {
                        "aaxis": {
                          "endlinecolor": "#2a3f5f",
                          "gridcolor": "white",
                          "linecolor": "white",
                          "minorgridcolor": "white",
                          "startlinecolor": "#2a3f5f"
                        },
                        "baxis": {
                          "endlinecolor": "#2a3f5f",
                          "gridcolor": "white",
                          "linecolor": "white",
                          "minorgridcolor": "white",
                          "startlinecolor": "#2a3f5f"
                        },
                        "type": "carpet"
                      }
                    ],
                    "choropleth": [
                      {
                        "colorbar": {
                          "outlinewidth": 0,
                          "ticks": ""
                        },
                        "type": "choropleth"
                      }
                    ],
                    "contour": [
                      {
                        "colorbar": {
                          "outlinewidth": 0,
                          "ticks": ""
                        },
                        "colorscale": [
                          [
                            0,
                            "#0d0887"
                          ],
                          [
                            0.1111111111111111,
                            "#46039f"
                          ],
                          [
                            0.2222222222222222,
                            "#7201a8"
                          ],
                          [
                            0.3333333333333333,
                            "#9c179e"
                          ],
                          [
                            0.4444444444444444,
                            "#bd3786"
                          ],
                          [
                            0.5555555555555556,
                            "#d8576b"
                          ],
                          [
                            0.6666666666666666,
                            "#ed7953"
                          ],
                          [
                            0.7777777777777778,
                            "#fb9f3a"
                          ],
                          [
                            0.8888888888888888,
                            "#fdca26"
                          ],
                          [
                            1,
                            "#f0f921"
                          ]
                        ],
                        "type": "contour"
                      }
                    ],
                    "contourcarpet": [
                      {
                        "colorbar": {
                          "outlinewidth": 0,
                          "ticks": ""
                        },
                        "type": "contourcarpet"
                      }
                    ],
                    "heatmap": [
                      {
                        "colorbar": {
                          "outlinewidth": 0,
                          "ticks": ""
                        },
                        "colorscale": [
                          [
                            0,
                            "#0d0887"
                          ],
                          [
                            0.1111111111111111,
                            "#46039f"
                          ],
                          [
                            0.2222222222222222,
                            "#7201a8"
                          ],
                          [
                            0.3333333333333333,
                            "#9c179e"
                          ],
                          [
                            0.4444444444444444,
                            "#bd3786"
                          ],
                          [
                            0.5555555555555556,
                            "#d8576b"
                          ],
                          [
                            0.6666666666666666,
                            "#ed7953"
                          ],
                          [
                            0.7777777777777778,
                            "#fb9f3a"
                          ],
                          [
                            0.8888888888888888,
                            "#fdca26"
                          ],
                          [
                            1,
                            "#f0f921"
                          ]
                        ],
                        "type": "heatmap"
                      }
                    ],
                    "histogram": [
                      {
                        "marker": {
                          "pattern": {
                            "fillmode": "overlay",
                            "size": 10,
                            "solidity": 0.2
                          }
                        },
                        "type": "histogram"
                      }
                    ],
                    "histogram2d": [
                      {
                        "colorbar": {
                          "outlinewidth": 0,
                          "ticks": ""
                        },
                        "colorscale": [
                          [
                            0,
                            "#0d0887"
                          ],
                          [
                            0.1111111111111111,
                            "#46039f"
                          ],
                          [
                            0.2222222222222222,
                            "#7201a8"
                          ],
                          [
                            0.3333333333333333,
                            "#9c179e"
                          ],
                          [
                            0.4444444444444444,
                            "#bd3786"
                          ],
                          [
                            0.5555555555555556,
                            "#d8576b"
                          ],
                          [
                            0.6666666666666666,
                            "#ed7953"
                          ],
                          [
                            0.7777777777777778,
                            "#fb9f3a"
                          ],
                          [
                            0.8888888888888888,
                            "#fdca26"
                          ],
                          [
                            1,
                            "#f0f921"
                          ]
                        ],
                        "type": "histogram2d"
                      }
                    ],
                    "histogram2dcontour": [
                      {
                        "colorbar": {
                          "outlinewidth": 0,
                          "ticks": ""
                        },
                        "colorscale": [
                          [
                            0,
                            "#0d0887"
                          ],
                          [
                            0.1111111111111111,
                            "#46039f"
                          ],
                          [
                            0.2222222222222222,
                            "#7201a8"
                          ],
                          [
                            0.3333333333333333,
                            "#9c179e"
                          ],
                          [
                            0.4444444444444444,
                            "#bd3786"
                          ],
                          [
                            0.5555555555555556,
                            "#d8576b"
                          ],
                          [
                            0.6666666666666666,
                            "#ed7953"
                          ],
                          [
                            0.7777777777777778,
                            "#fb9f3a"
                          ],
                          [
                            0.8888888888888888,
                            "#fdca26"
                          ],
                          [
                            1,
                            "#f0f921"
                          ]
                        ],
                        "type": "histogram2dcontour"
                      }
                    ],
                    "mesh3d": [
                      {
                        "colorbar": {
                          "outlinewidth": 0,
                          "ticks": ""
                        },
                        "type": "mesh3d"
                      }
                    ],
                    "parcoords": [
                      {
                        "line": {
                          "colorbar": {
                            "outlinewidth": 0,
                            "ticks": ""
                          }
                        },
                        "type": "parcoords"
                      }
                    ],
                    "pie": [
                      {
                        "automargin": true,
                        "type": "pie"
                      }
                    ],
                    "scatter": [
                      {
                        "fillpattern": {
                          "fillmode": "overlay",
                          "size": 10,
                          "solidity": 0.2
                        },
                        "type": "scatter"
                      }
                    ],
                    "scatter3d": [
                      {
                        "line": {
                          "colorbar": {
                            "outlinewidth": 0,
                            "ticks": ""
                          }
                        },
                        "marker": {
                          "colorbar": {
                            "outlinewidth": 0,
                            "ticks": ""
                          }
                        },
                        "type": "scatter3d"
                      }
                    ],
                    "scattercarpet": [
                      {
                        "marker": {
                          "colorbar": {
                            "outlinewidth": 0,
                            "ticks": ""
                          }
                        },
                        "type": "scattercarpet"
                      }
                    ],
                    "scattergeo": [
                      {
                        "marker": {
                          "colorbar": {
                            "outlinewidth": 0,
                            "ticks": ""
                          }
                        },
                        "type": "scattergeo"
                      }
                    ],
                    "scattergl": [
                      {
                        "marker": {
                          "colorbar": {
                            "outlinewidth": 0,
                            "ticks": ""
                          }
                        },
                        "type": "scattergl"
                      }
                    ],
                    "scattermap": [
                      {
                        "marker": {
                          "colorbar": {
                            "outlinewidth": 0,
                            "ticks": ""
                          }
                        },
                        "type": "scattermap"
                      }
                    ],
                    "scattermapbox": [
                      {
                        "marker": {
                          "colorbar": {
                            "outlinewidth": 0,
                            "ticks": ""
                          }
                        },
                        "type": "scattermapbox"
                      }
                    ],
                    "scatterpolar": [
                      {
                        "marker": {
                          "colorbar": {
                            "outlinewidth": 0,
                            "ticks": ""
                          }
                        },
                        "type": "scatterpolar"
                      }
                    ],
                    "scatterpolargl": [
                      {
                        "marker": {
                          "colorbar": {
                            "outlinewidth": 0,
                            "ticks": ""
                          }
                        },
                        "type": "scatterpolargl"
                      }
                    ],
                    "scatterternary": [
                      {
                        "marker": {
                          "colorbar": {
                            "outlinewidth": 0,
                            "ticks": ""
                          }
                        },
                        "type": "scatterternary"
                      }
                    ],
                    "surface": [
                      {
                        "colorbar": {
                          "outlinewidth": 0,
                          "ticks": ""
                        },
                        "colorscale": [
                          [
                            0,
                            "#0d0887"
                          ],
                          [
                            0.1111111111111111,
                            "#46039f"
                          ],
                          [
                            0.2222222222222222,
                            "#7201a8"
                          ],
                          [
                            0.3333333333333333,
                            "#9c179e"
                          ],
                          [
                            0.4444444444444444,
                            "#bd3786"
                          ],
                          [
                            0.5555555555555556,
                            "#d8576b"
                          ],
                          [
                            0.6666666666666666,
                            "#ed7953"
                          ],
                          [
                            0.7777777777777778,
                            "#fb9f3a"
                          ],
                          [
                            0.8888888888888888,
                            "#fdca26"
                          ],
                          [
                            1,
                            "#f0f921"
                          ]
                        ],
                        "type": "surface"
                      }
                    ],
                    "table": [
                      {
                        "cells": {
                          "fill": {
                            "color": "#EBF0F8"
                          },
                          "line": {
                            "color": "white"
                          }
                        },
                        "header": {
                          "fill": {
                            "color": "#C8D4E3"
                          },
                          "line": {
                            "color": "white"
                          }
                        },
                        "type": "table"
                      }
                    ]
                  },
                  "layout": {
                    "annotationdefaults": {
                      "arrowcolor": "#2a3f5f",
                      "arrowhead": 0,
                      "arrowwidth": 1
                    },
                    "autotypenumbers": "strict",
                    "coloraxis": {
                      "colorbar": {
                        "outlinewidth": 0,
                        "ticks": ""
                      }
                    },
                    "colorscale": {
                      "diverging": [
                        [
                          0,
                          "#8e0152"
                        ],
                        [
                          0.1,
                          "#c51b7d"
                        ],
                        [
                          0.2,
                          "#de77ae"
                        ],
                        [
                          0.3,
                          "#f1b6da"
                        ],
                        [
                          0.4,
                          "#fde0ef"
                        ],
                        [
                          0.5,
                          "#f7f7f7"
                        ],
                        [
                          0.6,
                          "#e6f5d0"
                        ],
                        [
                          0.7,
                          "#b8e186"
                        ],
                        [
                          0.8,
                          "#7fbc41"
                        ],
                        [
                          0.9,
                          "#4d9221"
                        ],
                        [
                          1,
                          "#276419"
                        ]
                      ],
                      "sequential": [
                        [
                          0,
                          "#0d0887"
                        ],
                        [
                          0.1111111111111111,
                          "#46039f"
                        ],
                        [
                          0.2222222222222222,
                          "#7201a8"
                        ],
                        [
                          0.3333333333333333,
                          "#9c179e"
                        ],
                        [
                          0.4444444444444444,
                          "#bd3786"
                        ],
                        [
                          0.5555555555555556,
                          "#d8576b"
                        ],
                        [
                          0.6666666666666666,
                          "#ed7953"
                        ],
                        [
                          0.7777777777777778,
                          "#fb9f3a"
                        ],
                        [
                          0.8888888888888888,
                          "#fdca26"
                        ],
                        [
                          1,
                          "#f0f921"
                        ]
                      ],
                      "sequentialminus": [
                        [
                          0,
                          "#0d0887"
                        ],
                        [
                          0.1111111111111111,
                          "#46039f"
                        ],
                        [
                          0.2222222222222222,
                          "#7201a8"
                        ],
                        [
                          0.3333333333333333,
                          "#9c179e"
                        ],
                        [
                          0.4444444444444444,
                          "#bd3786"
                        ],
                        [
                          0.5555555555555556,
                          "#d8576b"
                        ],
                        [
                          0.6666666666666666,
                          "#ed7953"
                        ],
                        [
                          0.7777777777777778,
                          "#fb9f3a"
                        ],
                        [
                          0.8888888888888888,
                          "#fdca26"
                        ],
                        [
                          1,
                          "#f0f921"
                        ]
                      ]
                    },
                    "colorway": [
                      "#636efa",
                      "#EF553B",
                      "#00cc96",
                      "#ab63fa",
                      "#FFA15A",
                      "#19d3f3",
                      "#FF6692",
                      "#B6E880",
                      "#FF97FF",
                      "#FECB52"
                    ],
                    "font": {
                      "color": "#2a3f5f"
                    },
                    "geo": {
                      "bgcolor": "white",
                      "lakecolor": "white",
                      "landcolor": "#E5ECF6",
                      "showlakes": true,
                      "showland": true,
                      "subunitcolor": "white"
                    },
                    "hoverlabel": {
                      "align": "left"
                    },
                    "hovermode": "closest",
                    "mapbox": {
                      "style": "light"
                    },
                    "paper_bgcolor": "white",
                    "plot_bgcolor": "#E5ECF6",
                    "polar": {
                      "angularaxis": {
                        "gridcolor": "white",
                        "linecolor": "white",
                        "ticks": ""
                      },
                      "bgcolor": "#E5ECF6",
                      "radialaxis": {
                        "gridcolor": "white",
                        "linecolor": "white",
                        "ticks": ""
                      }
                    },
                    "scene": {
                      "xaxis": {
                        "backgroundcolor": "#E5ECF6",
                        "gridcolor": "white",
                        "gridwidth": 2,
                        "linecolor": "white",
                        "showbackground": true,
                        "ticks": "",
                        "zerolinecolor": "white"
                      },
                      "yaxis": {
                        "backgroundcolor": "#E5ECF6",
                        "gridcolor": "white",
                        "gridwidth": 2,
                        "linecolor": "white",
                        "showbackground": true,
                        "ticks": "",
                        "zerolinecolor": "white"
                      },
                      "zaxis": {
                        "backgroundcolor": "#E5ECF6",
                        "gridcolor": "white",
                        "gridwidth": 2,
                        "linecolor": "white",
                        "showbackground": true,
                        "ticks": "",
                        "zerolinecolor": "white"
                      }
                    },
                    "shapedefaults": {
                      "line": {
                        "color": "#2a3f5f"
                      }
                    },
                    "ternary": {
                      "aaxis": {
                        "gridcolor": "white",
                        "linecolor": "white",
                        "ticks": ""
                      },
                      "baxis": {
                        "gridcolor": "white",
                        "linecolor": "white",
                        "ticks": ""
                      },
                      "bgcolor": "#E5ECF6",
                      "caxis": {
                        "gridcolor": "white",
                        "linecolor": "white",
                        "ticks": ""
                      }
                    },
                    "title": {
                      "x": 0.05
                    },
                    "xaxis": {
                      "automargin": true,
                      "gridcolor": "white",
                      "linecolor": "white",
                      "ticks": "",
                      "title": {
                        "standoff": 15
                      },
                      "zerolinecolor": "white",
                      "zerolinewidth": 2
                    },
                    "yaxis": {
                      "automargin": true,
                      "gridcolor": "white",
                      "linecolor": "white",
                      "ticks": "",
                      "title": {
                        "standoff": 15
                      },
                      "zerolinecolor": "white",
                      "zerolinewidth": 2
                    }
                  }
                },
                "title": {
                  "text": "SPY Interactive Candlestick Chart"
                },
                "xaxis": {
                  "rangeslider": {
                    "visible": false
                  },
                  "title": {
                    "text": "Time"
                  }
                },
                "yaxis": {
                  "title": {
                    "text": "Price"
                  }
                }
              }
            }
          },
          "metadata": {},
          "output_type": "display_data"
        }
      ],
      "source": [
        "create_candlestick_chart(df, SYMBOL)"
      ]
    },
    {
      "cell_type": "code",
      "execution_count": 564,
      "metadata": {
        "id": "fIv9EPj2Sx_G"
      },
      "outputs": [],
      "source": [
        "def calculate_ema(data: pd.DataFrame, period: int = 9) -> pd.Series:\n",
        "    \"\"\"Calculates the Exponential Moving Average (EMA) for the given data.\"\"\"\n",
        "    if data.empty:\n",
        "        logging.error(\"Cannot calculate EMA: input data is empty.\")\n",
        "        raise ValueError(\"Input data is empty.\")\n",
        "\n",
        "    try:\n",
        "        ema = data['close'].ewm(span=period, adjust=False).mean()\n",
        "        logging.info(f\"Calculated {period}-period EMA on {len(ema)} data points.\")\n",
        "        return ema\n",
        "    except KeyError:\n",
        "        logging.error(\"Column 'close' not found in data.\")\n",
        "        raise\n",
        "    except Exception as e:\n",
        "        logging.error(f\"Unexpected error during EMA calculation: {e}\", exc_info=True)\n",
        "        raise"
      ]
    },
    {
      "cell_type": "code",
      "execution_count": 565,
      "metadata": {},
      "outputs": [
        {
          "data": {
            "text/plain": [
              "timestamp\n",
              "2025-05-19 04:00:00+00:00    594.880000\n",
              "2025-05-20 04:00:00+00:00    594.572308\n",
              "2025-05-21 04:00:00+00:00    592.785799\n",
              "2025-05-22 04:00:00+00:00    591.289522\n",
              "2025-05-23 04:00:00+00:00    589.429596\n",
              "Name: close, dtype: float64"
            ]
          },
          "execution_count": 565,
          "metadata": {},
          "output_type": "execute_result"
        }
      ],
      "source": [
        "ema_series = calculate_ema(df, period=12)\n",
        "ema_series.head()"
      ]
    },
    {
      "cell_type": "code",
      "execution_count": 566,
      "metadata": {},
      "outputs": [
        {
          "data": {
            "image/png": "[encoded data removed]",
            "text/plain": [
              "<Figure size 1200x500 with 1 Axes>"
            ]
          },
          "metadata": {},
          "output_type": "display_data"
        }
      ],
      "source": [
        "ema_series = calculate_ema(df, period=12)\n",
        "plt.figure(figsize=(12, 5))\n",
        "sns.lineplot(x=df.index, y=df['close'], label='Close Price')\n",
        "sns.lineplot(x=df.index, y=ema_series, label='EMA (12)', color='orange')\n",
        "plt.title('Close Price and EMA (12)')\n",
        "plt.xlabel('Time')\n",
        "plt.ylabel('Price')\n",
        "plt.legend()\n",
        "plt.show()"
      ]
    },
    {
      "cell_type": "code",
      "execution_count": 567,
      "metadata": {
        "id": "SFh6Nf5cS7Dg"
      },
      "outputs": [],
      "source": [
        "def calculate_rsi(data: pd.DataFrame, period: int = 14) -> pd.Series:\n",
        "    \"\"\"Calculates the Relative Strength Index (RSI) for the given data.\"\"\"\n",
        "    if data.empty:\n",
        "        logging.error(\"Cannot calculate RSI: input data is empty.\")\n",
        "        raise ValueError(\"Input data is empty.\")\n",
        "\n",
        "    if 'close' not in data.columns:\n",
        "        logging.error(\"Column 'close' not found in data.\")\n",
        "        raise KeyError(\"Input data must contain a 'close' column.\")\n",
        "\n",
        "    try:\n",
        "        delta = data['close'].diff().astype(float)\n",
        "        gain = delta.where(delta > 0, 0.0).rolling(window=period).mean()\n",
        "        loss = -delta.where(delta < 0, 0.0).rolling(window=period).mean()\n",
        "        rs = gain / loss\n",
        "        rsi = 100 - (100 / (1 + rs))\n",
        "        logging.info(f\"Calculated {period}-period RSI on {len(rsi)} data points.\")\n",
        "        return rsi\n",
        "    except Exception as e:\n",
        "        logging.error(f\"Unexpected error during RSI calculation: {e}\", exc_info=True)\n",
        "        raise\n"
      ]
    },
    {
      "cell_type": "code",
      "execution_count": 568,
      "metadata": {},
      "outputs": [
        {
          "data": {
            "text/plain": [
              "timestamp\n",
              "2025-05-19 04:00:00+00:00          NaN\n",
              "2025-05-20 04:00:00+00:00          NaN\n",
              "2025-05-21 04:00:00+00:00          NaN\n",
              "2025-05-22 04:00:00+00:00          NaN\n",
              "2025-05-23 04:00:00+00:00          NaN\n",
              "2025-05-27 04:00:00+00:00          NaN\n",
              "2025-05-28 04:00:00+00:00          NaN\n",
              "2025-05-29 04:00:00+00:00          NaN\n",
              "2025-05-30 04:00:00+00:00          NaN\n",
              "2025-06-02 04:00:00+00:00          NaN\n",
              "2025-06-03 04:00:00+00:00          NaN\n",
              "2025-06-04 04:00:00+00:00          NaN\n",
              "2025-06-05 04:00:00+00:00          NaN\n",
              "2025-06-06 04:00:00+00:00    54.131773\n",
              "2025-06-09 04:00:00+00:00    54.549090\n",
              "2025-06-10 04:00:00+00:00    59.887771\n",
              "2025-06-11 04:00:00+00:00    71.527617\n",
              "2025-06-12 04:00:00+00:00    72.803532\n",
              "2025-06-13 04:00:00+00:00    68.168665\n",
              "2025-06-16 04:00:00+00:00    63.717752\n",
              "Name: close, dtype: float64"
            ]
          },
          "execution_count": 568,
          "metadata": {},
          "output_type": "execute_result"
        }
      ],
      "source": [
        "rsi_series = calculate_rsi(df, period=14)\n",
        "rsi_series"
      ]
    },
    {
      "cell_type": "code",
      "execution_count": 569,
      "metadata": {},
      "outputs": [
        {
          "data": {
            "image/png": "[encoded data removed]",
            "text/plain": [
              "<Figure size 1200x400 with 1 Axes>"
            ]
          },
          "metadata": {},
          "output_type": "display_data"
        }
      ],
      "source": [
        "rsi_series = calculate_rsi(df, period=14)\n",
        "plt.figure(figsize=(12, 4))\n",
        "sns.lineplot(x=df.index, y=rsi_series, label='RSI (14)', color='purple')\n",
        "plt.axhline(70, color='red', linestyle='--', label='Overbought (70)')\n",
        "plt.axhline(30, color='green', linestyle='--', label='Oversold (30)')\n",
        "plt.title('RSI (14)')\n",
        "plt.xlabel('Time')\n",
        "plt.ylabel('RSI Value')\n",
        "plt.legend()\n",
        "plt.show()"
      ]
    },
    {
      "cell_type": "code",
      "execution_count": 570,
      "metadata": {
        "id": "ZnsVhJvxS9VY"
      },
      "outputs": [],
      "source": [
        "def average_volume(data: pd.DataFrame, window: int = 20) -> pd.Series:\n",
        "    \"\"\"Calculates the average volume over a specified window.\"\"\"\n",
        "    if data.empty:\n",
        "        logging.error(\"Cannot calculate average volume: input data is empty.\")\n",
        "        raise ValueError(\"Input data is empty.\")\n",
        "\n",
        "    if 'volume' not in data.columns:\n",
        "        logging.error(\"Column 'volume' not found in input data.\")\n",
        "        raise KeyError(\"Input data must contain a 'volume' column.\")\n",
        "\n",
        "    try:\n",
        "        avg_vol = data['volume'].rolling(window=window).mean()\n",
        "        logging.info(f\"Calculated {window}-period average volume on {len(avg_vol)} data points.\")\n",
        "        return avg_vol\n",
        "    except Exception as e:\n",
        "        logging.error(f\"Unexpected error during average volume calculation: {e}\", exc_info=True)\n",
        "        raise\n"
      ]
    },
    {
      "cell_type": "code",
      "execution_count": 571,
      "metadata": {},
      "outputs": [
        {
          "data": {
            "text/plain": [
              "timestamp\n",
              "2025-05-19 04:00:00+00:00           NaN\n",
              "2025-05-20 04:00:00+00:00           NaN\n",
              "2025-05-21 04:00:00+00:00           NaN\n",
              "2025-05-22 04:00:00+00:00           NaN\n",
              "2025-05-23 04:00:00+00:00           NaN\n",
              "2025-05-27 04:00:00+00:00           NaN\n",
              "2025-05-28 04:00:00+00:00           NaN\n",
              "2025-05-29 04:00:00+00:00           NaN\n",
              "2025-05-30 04:00:00+00:00           NaN\n",
              "2025-06-02 04:00:00+00:00           NaN\n",
              "2025-06-03 04:00:00+00:00           NaN\n",
              "2025-06-04 04:00:00+00:00           NaN\n",
              "2025-06-05 04:00:00+00:00           NaN\n",
              "2025-06-06 04:00:00+00:00           NaN\n",
              "2025-06-09 04:00:00+00:00           NaN\n",
              "2025-06-10 04:00:00+00:00           NaN\n",
              "2025-06-11 04:00:00+00:00           NaN\n",
              "2025-06-12 04:00:00+00:00           NaN\n",
              "2025-06-13 04:00:00+00:00           NaN\n",
              "2025-06-16 04:00:00+00:00    1245798.85\n",
              "Name: volume, dtype: float64"
            ]
          },
          "execution_count": 571,
          "metadata": {},
          "output_type": "execute_result"
        }
      ],
      "source": [
        "average_volume_series = average_volume(df)\n",
        "average_volume_series"
      ]
    },
    {
      "cell_type": "code",
      "execution_count": 572,
      "metadata": {},
      "outputs": [
        {
          "data": {
            "image/png": "[encoded data removed]",
            "text/plain": [
              "<Figure size 1200x400 with 1 Axes>"
            ]
          },
          "metadata": {},
          "output_type": "display_data"
        }
      ],
      "source": [
        "average_volume_series = average_volume(df)\n",
        "plt.figure(figsize=(12, 4))\n",
        "sns.lineplot(x=df.index, y=df['volume'], label='Volume')\n",
        "sns.lineplot(x=df.index, y=average_volume_series, label='Average Volume (20)', color='orange')\n",
        "plt.title('Volume and 20-Period Average Volume')\n",
        "plt.xlabel('Time')\n",
        "plt.ylabel('Volume')\n",
        "plt.legend()\n",
        "plt.show()"
      ]
    },
    {
      "cell_type": "code",
      "execution_count": 573,
      "metadata": {
        "id": "D9m57PfoS-x4"
      },
      "outputs": [],
      "source": [
        "def calculate_slope(series: pd.Series, window: int = 5) -> pd.Series:\n",
        "    \"\"\"Calculates the slope of the given series over a specified window.\"\"\"\n",
        "    if series.empty:\n",
        "        logging.error(\"Cannot calculate slope: input series is empty.\")\n",
        "        raise ValueError(\"Input series is empty.\")\n",
        "\n",
        "    try:\n",
        "        slope = series.diff().rolling(window=window).mean()\n",
        "        logging.info(f\"Calculated {window}-period slope on {len(slope)} data points.\")\n",
        "        return slope\n",
        "    except Exception as e:\n",
        "        logging.error(f\"Unexpected error calculating slope: {e}\", exc_info=True)\n",
        "        raise"
      ]
    },
    {
      "cell_type": "code",
      "execution_count": 574,
      "metadata": {},
      "outputs": [
        {
          "data": {
            "text/plain": [
              "timestamp\n",
              "2025-05-19 04:00:00+00:00      NaN\n",
              "2025-05-20 04:00:00+00:00      NaN\n",
              "2025-05-21 04:00:00+00:00      NaN\n",
              "2025-05-22 04:00:00+00:00      NaN\n",
              "2025-05-23 04:00:00+00:00      NaN\n",
              "2025-05-27 04:00:00+00:00   -0.764\n",
              "2025-05-28 04:00:00+00:00   -1.016\n",
              "2025-05-29 04:00:00+00:00    1.398\n",
              "2025-05-30 04:00:00+00:00    1.248\n",
              "2025-06-02 04:00:00+00:00    2.718\n",
              "2025-06-03 04:00:00+00:00    1.012\n",
              "2025-06-04 04:00:00+00:00    1.636\n",
              "2025-06-05 04:00:00+00:00    0.626\n",
              "2025-06-06 04:00:00+00:00    1.935\n",
              "2025-06-09 04:00:00+00:00    1.328\n",
              "2025-06-10 04:00:00+00:00    1.396\n",
              "2025-06-11 04:00:00+00:00    1.122\n",
              "2025-06-12 04:00:00+00:00    2.128\n",
              "2025-06-13 04:00:00+00:00   -0.439\n",
              "2025-06-16 04:00:00+00:00    0.655\n",
              "Name: close, dtype: float64"
            ]
          },
          "execution_count": 574,
          "metadata": {},
          "output_type": "execute_result"
        }
      ],
      "source": [
        "cal_slope_series = calculate_slope(df['close'])\n",
        "cal_slope_series"
      ]
    },
    {
      "cell_type": "code",
      "execution_count": 575,
      "metadata": {},
      "outputs": [
        {
          "data": {
            "image/png": "[encoded data removed]",
            "text/plain": [
              "<Figure size 1200x400 with 1 Axes>"
            ]
          },
          "metadata": {},
          "output_type": "display_data"
        }
      ],
      "source": [
        "cal_slope_series = calculate_slope(df['close'])\n",
        "plt.figure(figsize=(12, 4))\n",
        "sns.lineplot(x=df.index, y=cal_slope_series, label='Slope (5)', color='blue')\n",
        "plt.title('Slope of Close Price (5-Period Rolling)')\n",
        "plt.xlabel('Time')\n",
        "plt.ylabel('Slope')\n",
        "plt.legend()\n",
        "plt.show()"
      ]
    },
    {
      "cell_type": "code",
      "execution_count": 576,
      "metadata": {
        "id": "yLrue0zZWTqW"
      },
      "outputs": [],
      "source": [
        "def check_missing_values(df: pd.DataFrame) -> pd.Series:\n",
        "    \"\"\"Checks for missing values in the DataFrame and returns a Series with counts.\"\"\"\n",
        "    if df.empty:\n",
        "        logging.error(\"Cannot check missing values: input DataFrame is empty.\")\n",
        "        raise ValueError(\"Input DataFrame is empty.\")\n",
        "\n",
        "    missing_values = df.isnull().sum()\n",
        "    missing_values = missing_values[missing_values > 0]\n",
        "\n",
        "    if not missing_values.empty:\n",
        "        logging.warning(f\"Missing values found:\\n{missing_values}\")\n",
        "    else:\n",
        "        logging.info(\"No missing values found in the DataFrame.\")\n",
        "\n",
        "    return missing_values"
      ]
    },
    {
      "cell_type": "code",
      "execution_count": 577,
      "metadata": {},
      "outputs": [
        {
          "data": {
            "text/plain": [
              "Series([], dtype: int64)"
            ]
          },
          "execution_count": 577,
          "metadata": {},
          "output_type": "execute_result"
        }
      ],
      "source": [
        "check_missing_values(df)"
      ]
    },
    {
      "cell_type": "code",
      "execution_count": 578,
      "metadata": {
        "id": "zjjqBiGAXYA5"
      },
      "outputs": [],
      "source": [
        "def remove_dividends_splits(df: pd.DataFrame, columns: list[str]) -> pd.DataFrame:\n",
        "    \"\"\"Removes specified columns from the DataFrame.\"\"\"\n",
        "    if df.empty:\n",
        "        logging.error(\"Cannot remove columns: input DataFrame is empty.\")\n",
        "        raise ValueError(\"Input DataFrame is empty.\")\n",
        "\n",
        "    try:\n",
        "        df = df.drop(columns=columns)\n",
        "        logging.info(f\"Removed columns: {columns}\")\n",
        "    except KeyError as e:\n",
        "        logging.warning(f\"One or more specified columns not found in DataFrame: {e}\")\n",
        "    except Exception as e:\n",
        "        logging.error(f\"Unexpected error while removing columns: {e}\", exc_info=True)\n",
        "\n",
        "    logging.debug(f\"Remaining columns: {df.columns.tolist()}\")\n",
        "    return df\n"
      ]
    },
    {
      "cell_type": "code",
      "execution_count": 579,
      "metadata": {},
      "outputs": [
        {
          "data": {
            "text/plain": [
              "Index(['symbol', 'open', 'high', 'low', 'close', 'volume', 'trade_count',\n",
              "       'vwap'],\n",
              "      dtype='object')"
            ]
          },
          "execution_count": 579,
          "metadata": {},
          "output_type": "execute_result"
        }
      ],
      "source": [
        "df_removed = remove_dividends_splits(df, ['dividends', 'splits'])\n",
        "df_removed.columns"
      ]
    },
    {
      "cell_type": "code",
      "execution_count": 580,
      "metadata": {},
      "outputs": [],
      "source": [
        "def save_all_open_positions(api: tradeapi.REST, filename: str = \"position.json\") -> None:\n",
        "    \"\"\"Saves all open positions to a JSON file.\"\"\"\n",
        "    try:\n",
        "        positions: list = api.list_positions()\n",
        "        positions_data = [p._raw for p in positions]\n",
        "\n",
        "        with open(filename, \"w\") as f:\n",
        "            json.dump(positions_data, f, indent=4)\n",
        "\n",
        "        logging.info(f\"Saved {len(positions_data)} open positions to {filename}.\")\n",
        "    except Exception as e:\n",
        "        logging.error(f\"Failed to save open positions to {filename}: {e}\", exc_info=True)\n"
      ]
    },
    {
      "cell_type": "code",
      "execution_count": 581,
      "metadata": {},
      "outputs": [],
      "source": [
        "def fetch_open_positions(api: tradeapi.REST) -> list:\n",
        "    \"\"\"Fetches and returns all open positions.\"\"\"\n",
        "    try:\n",
        "        positions: list = api.list_positions()\n",
        "        if not positions:\n",
        "            logging.info(\"No open positions found.\")\n",
        "        else:\n",
        "            logging.info(f\"Fetched {len(positions)} open positions.\")\n",
        "        return positions\n",
        "    except Exception as e:\n",
        "        logging.error(f\"Error fetching open positions: {e}\", exc_info=True)\n",
        "        return []"
      ]
    },
    {
      "cell_type": "code",
      "execution_count": 582,
      "metadata": {},
      "outputs": [
        {
          "name": "stdout",
          "output_type": "stream",
          "text": [
            "Symbol: SPY, Qty: 32.459157247, Entry: 600.584844, Current: 602.69, Unrealized PnL: 68.331578\n"
          ]
        }
      ],
      "source": [
        "if api is not None:\n",
        "    save_all_open_positions(api)\n",
        "    open_positions = fetch_open_positions(api)\n",
        "    for position in open_positions:\n",
        "        symbol = position.symbol\n",
        "        qty = position.qty\n",
        "        entry_price = position.avg_entry_price\n",
        "        current_price = position.current_price\n",
        "        unrealized_pl = position.unrealized_pl\n",
        "        print(\n",
        "            f\"Symbol: {symbol}, Qty: {qty}, Entry: {entry_price}, \"\n",
        "            f\"Current: {current_price}, Unrealized PnL: {unrealized_pl}\"\n",
        "        )\n",
        "else:\n",
        "    print(\"API connection is not available.\")"
      ]
    },
    {
      "cell_type": "code",
      "execution_count": 583,
      "metadata": {},
      "outputs": [],
      "source": [
        "def convert_row_to_numeric(row: pd.Series, df: pd.DataFrame) -> pd.Series:\n",
        "    \"\"\"\n",
        "    Converts the values in the given row to a consistent numeric format\n",
        "    for all numeric columns in df. Returns the modified row.\n",
        "    \"\"\"\n",
        "    numerical_columns = df.select_dtypes(include='number').columns.tolist()\n",
        "\n",
        "    for col in numerical_columns:\n",
        "        try:\n",
        "            val = row[col]\n",
        "            if pd.isna(val) or str(val).strip().lower() in ['', 'none', 'nan']:\n",
        "                raise ValueError(f\"Missing or empty value for column '{col}'\")\n",
        "            row[col] = float(val) if not isinstance(val, float) else val\n",
        "        except Exception as e:\n",
        "            logging.warning(f\"Data conversion error for '{col}': {e}\")\n",
        "\n",
        "    return row"
      ]
    },
    {
      "cell_type": "code",
      "execution_count": 584,
      "metadata": {},
      "outputs": [],
      "source": [
        "def add_indicators(df: pd.DataFrame) -> pd.DataFrame:\n",
        "    \"\"\"\n",
        "    Adds EMA(9), slope of EMA(9), RSI(14), and 20-period average volume to the DataFrame.\n",
        "    Returns the DataFrame with new columns: 'ema9', 'slope9', 'rsi', 'avg_volume'.\n",
        "    \"\"\"\n",
        "    if df.empty:\n",
        "        logging.error(\"Cannot add indicators: input DataFrame is empty.\")\n",
        "        raise ValueError(\"Input DataFrame is empty.\")\n",
        "\n",
        "    df = df.copy()\n",
        "\n",
        "    try:\n",
        "        df['ema9'] = calculate_ema(df, period=9)\n",
        "        df['slope9'] = calculate_slope(df['ema9'])\n",
        "        df['rsi'] = calculate_rsi(df)\n",
        "        df['avg_volume'] = average_volume(df)\n",
        "        logging.info(\"Successfully added indicators: ema9, slope9, rsi, avg_volume.\")\n",
        "    except Exception as e:\n",
        "        logging.error(f\"Error while adding indicators: {e}\", exc_info=True)\n",
        "        raise\n",
        "\n",
        "    return df"
      ]
    },
    {
      "cell_type": "code",
      "execution_count": 585,
      "metadata": {},
      "outputs": [],
      "source": [
        "def is_cooldown(last_exit_str: str, now: datetime, cooldown: int = COOLDOWN) -> bool:\n",
        "    \"\"\"\n",
        "    Checks if the cooldown period is active based on last_exit_str and current time.\n",
        "    Returns True if cooldown is active, False otherwise.\n",
        "    \"\"\"\n",
        "    if last_exit_str:\n",
        "        try:\n",
        "            last_exit = datetime.fromisoformat(last_exit_str)\n",
        "            logging.debug(f\"Parsed last_exit: {last_exit}\")\n",
        "\n",
        "            time_from_last_exit = int((now - last_exit).total_seconds())\n",
        "            time_left = cooldown - time_from_last_exit\n",
        "\n",
        "            logging.debug(f\"time_from_last_exit: {time_from_last_exit}\")\n",
        "            logging.debug(f\"time_left: {time_left}\")\n",
        "\n",
        "            if time_left > 0:\n",
        "                logging.info(\n",
        "                    f\"Cooldown active for {time_left} more seconds. \"\n",
        "                    f\"Last trade was at {last_exit.strftime('%H:%M:%S')}\"\n",
        "                )\n",
        "                return True\n",
        "        except ValueError:\n",
        "            logging.warning(f\"Invalid ISO format for 'last_exit': '{last_exit_str}'. No cooldown applied.\")\n",
        "    else:\n",
        "        logging.info(\"'last_exit' is empty. No cooldown applied.\")\n",
        "\n",
        "    return False"
      ]
    },
    {
      "cell_type": "code",
      "execution_count": 597,
      "metadata": {
        "id": "o_v5Tg1-zlcK"
      },
      "outputs": [],
      "source": [
        "def main():\n",
        "    \"\"\"Main trading logic with cooldown check and daily limits.\"\"\"\n",
        "    \n",
        "    # Load current position\n",
        "    position = load_position()\n",
        "    logging.info(f\"Loaded position: {position}\")\n",
        "\n",
        "    # Check if position is valid and non-empty\n",
        "    if not position or not isinstance(position, list) or not position[0]:\n",
        "        logging.warning(\"No position data found. Exiting.\")\n",
        "        return\n",
        "\n",
        "    # Cooldown check\n",
        "    now = datetime.now()\n",
        "    logging.debug(f\"Current datetime: {now}\")\n",
        "\n",
        "    last_exit_str = position[0].get('last_exit', '')\n",
        "    logging.debug(f\"Last exit string: '{last_exit_str}'\")\n",
        "\n",
        "    if is_cooldown(last_exit_str, now, COOLDOWN):\n",
        "        return\n",
        "    else:\n",
        "        logging.info(\"Cooldown not active. Proceeding with trade logic.\")\n",
        "\n",
        "    # Daily trade limits check\n",
        "    trade_count, daily_pnl = check_daily_limits()\n",
        "    if trade_count >= MAX_TRADES_PER_DAY or daily_pnl <= -DAILY_LOSS_LIMIT:\n",
        "        logging.warning(\n",
        "            f\"Daily limit reached. Trade count: {trade_count}, Daily PnL: {daily_pnl}. \"\n",
        "            \"No trades will be made today.\"\n",
        "        )\n",
        "        return\n",
        "\n",
        "    # Get latest quote safely\n",
        "    try:\n",
        "        client = get_historical_data_client()\n",
        "        quote = client.get_stock_latest_quote(\n",
        "            StockLatestQuoteRequest(symbol_or_symbols=SYMBOL)\n",
        "        )\n",
        "        logging.info(f\"Fetched latest quote for {SYMBOL}: {quote}\")\n",
        "    except ValueError as e:\n",
        "        logging.error(f\"Error initializing data client: {e}\", exc_info=True)\n",
        "        return\n",
        "\n",
        "    \n",
        "    # HERE\n",
        "    df_1m = get_data(SYMBOL, '1m', 30)\n",
        "    df_5m = get_data(SYMBOL, '5m', 30)\n",
        "\n",
        "    if df_1m.empty or df_5m.empty:\n",
        "        print(\"Data unavailable.\")\n",
        "        return\n",
        "\n",
        "    # Check for missing values\n",
        "    if not df_1m.isnull().sum().sum() == 0 or not df_5m.isnull().sum().sum() == 0:\n",
        "        print(\"Missing data detected. Skipping trade.\")\n",
        "        return\n",
        "\n",
        "    df_1m = add_indicators(df_1m)\n",
        "    df_5m = add_indicators(df_5m)\n",
        "\n",
        "    last = df_1m.iloc[-1].copy()\n",
        "    #print(\"Raw last row values:\")\n",
        "    for k, v in last.items():\n",
        "        print(f\"  {k}: {v}\")\n",
        "\n",
        "    last = df_1m.iloc[-1].copy()\n",
        "    last = convert_row_to_numeric(last, df_1m)\n",
        "\n",
        "    # #last\n",
        "\n",
        "    slope = float(df_5m['slope9'].iloc[-1])  # Updated to use 'slope9'\n",
        "    print(f\"Slope: {slope}\")\n",
        "\n",
        "    side = position[0].get('side')\n",
        "    print(f\"Side: {side}\")\n",
        "\n",
        "    qty = position[0].get('qty', 0)\n",
        "    print(f\"Qty: {qty}\")\n",
        "    \n",
        "    entry_price = position[0].get('avg_entry_price', 0)\n",
        "    print(f\"Entry price: {entry_price}\")\n",
        "    \n",
        "    api = connect_to_alpaca()  # Ensure api is initialized\n",
        "    if api is None:\n",
        "        logging.error(\"Failed to connect to Alpaca API. Exiting.\")\n",
        "        return\n",
        "    buying_power = float(api.get_account().cash)\n",
        "    \n",
        "    current_price = quote[SYMBOL].ask_price\n",
        "    print(f\"Current price: {current_price}\")\n",
        "    print(f\"Buying power: {buying_power}\")\n",
        "    trade_qty = int((buying_power * POSITION_SIZE_PCT) / last['close'])\n",
        "    print(f\"Trade qty: {trade_qty}\")\n",
        "\n",
        "    latest_trade = api.get_latest_trade(symbol)\n",
        "    latest_price = float(latest_trade.price)\n",
        "    print(f\"Current price of latest trade {symbol}: ${latest_price}\")\n",
        "\n",
        "    quote = api.get_latest_quote(symbol)\n",
        "    print(f\"Ask: {quote.ask_price}, Bid: {quote.bid_price}\")\n",
        "\n",
        "    mid_price = (quote.ask_price + quote.bid_price) / 2\n",
        "\n",
        "\n",
        "    entry_time_str = position[0]['entry_time']           # it's a string\n",
        "    entry_time = datetime.fromisoformat(entry_time_str)  # convert to datetime\n",
        "    # Ensure UTC timezone is attached\n",
        "    entry_time = entry_time.replace(tzinfo=timezone.utc)\n",
        "\n",
        "\n",
        "    bars = api.get_bars(\n",
        "        symbol=SYMBOL,\n",
        "        timeframe=TimeFrame.Minute, # ignore TimeFrame.Minute type error\n",
        "        start=entry_time.isoformat(),\n",
        "    ).df\n",
        "\n",
        "    if not bars.empty:\n",
        "        high_since_entry = bars['high'].max()\n",
        "        print(f\"High since entry: {high_since_entry}\")\n",
        "        position[0]['high'] = str(high_since_entry)\n",
        "\n",
        "    # No position\n",
        "    if not side:\n",
        "        print(\"No position found\")\n",
        "        # if last['Close'] > last['Open'] and last['Close'] > last['ema9'] and last['rsi'] < 65 and last['Volume'] > last['avg_volume'] and slope > 0:\n",
        "        #     price = last['Close'] * 1.001\n",
        "        #     place_order('buy', trade_qty, price)\n",
        "        #     save_position({'side': 'long', 'entry_price': price, 'qty': trade_qty, 'high': price, 'entry_time': now.isoformat()})\n",
        "\n",
        "        # elif last['Close'] < last['Open'] and last['Close'] < last['ema9'] and last['rsi'] > 55 and last['Volume'] > last['avg_volume'] and slope < 0:\n",
        "        #     price = last['Close'] * 0.999\n",
        "        #     place_order('sell', trade_qty, price)\n",
        "        #     save_position({'side': 'short', 'entry_price': price, 'qty': trade_qty, 'low': price, 'entry_time': now.isoformat()})\n",
        "\n",
        "    # Long Position\n",
        "    elif side == 'long':\n",
        "        print(\"Long Position\")\n",
        "        entry_price = position[0]['avg_entry_price']\n",
        "        # trail_stop = position[0]['high'] * (1 - TRAILING_STOP_PCT)\n",
        "        # print(f\"[LONG] Comparing last['Close'] = {last['Close']} (type: {type(last['Close'])}) to trail_stop = {trail_stop}\")\n",
        "        # last_close = float(last['Close'])\n",
        "        # if last_close <= trail_stop or last_close < last['ema9']:\n",
        "        #     close_position(api)\n",
        "        #     exit_price = last['Close']\n",
        "        #     pnl = (exit_price - entry_price) * qty\n",
        "        #     log_trade(position[0]['entry_time'], now.isoformat(), side, entry_price, exit_price, pnl)\n",
        "        #     reset_position()\n",
        "        #     save_position(pd.DataFrame([{'last_exit': now.isoformat()}]))\n",
        "\n",
        "    # # Short Position\n",
        "    elif side == 'short':\n",
        "        print(\"Short Position\")\n",
        "        # position['low'] = min(position['low'], last['Close'])\n",
        "        # trail_stop = position['low'] * (1 + TRAILING_STOP_PCT)\n",
        "        # print(f\"[SHORT] Comparing last['Close'] = {last['Close']} (type: {type(last['Close'])}) to trail_stop = {trail_stop}\")\n",
        "        # last_close = float(last['Close'])\n",
        "        # if last_close >= trail_stop or last_close > last['ema9']:\n",
        "        #     close_position()\n",
        "        #     exit_price = last['Close']\n",
        "        #     pnl = (entry_price - exit_price) * qty\n",
        "        #     log_trade(position['entry_time'], now.isoformat(), side, entry_price, exit_price, pnl)\n",
        "        #     #reset_position()\n",
        "        #     save_position({'last_exit': now.isoformat()})\n"
      ]
    },
    {
      "cell_type": "code",
      "execution_count": 598,
      "metadata": {
        "colab": {
          "base_uri": "https://localhost:8080/"
        },
        "id": "fu7nSeWdt9PT",
        "outputId": "b87d3b29-d20d-465b-8274-f92d97cebc07"
      },
      "outputs": [
        {
          "name": "stdout",
          "output_type": "stream",
          "text": [
            "  symbol: SPY\n",
            "  open: 603.04\n",
            "  high: 603.04\n",
            "  low: 603.04\n",
            "  close: 603.04\n",
            "  volume: 100.0\n",
            "  trade_count: 1.0\n",
            "  vwap: 603.04\n",
            "  ema9: 603.04\n",
            "  slope9: nan\n",
            "  rsi: nan\n",
            "  avg_volume: nan\n",
            "Slope: 0.07876289765956698\n",
            "Side: long\n",
            "Qty: 32.459157247\n",
            "Entry price: 600.584844\n",
            "Current price: 605.0\n",
            "Buying power: 80517.18\n",
            "Trade qty: 13\n",
            "Current price of latest trade SPY: $603.04\n",
            "Ask: 605, Bid: 602.53\n",
            "High since entry: 604.45\n",
            "Long Position\n"
          ]
        }
      ],
      "source": [
        "if __name__ == \"__main__\":\n",
        "    logging.info(\"Starting the trading bot...\")\n",
        "    main()"
      ]
    },
    {
      "cell_type": "markdown",
      "metadata": {
        "id": "CBdRzugeCSlw"
      },
      "source": []
    }
  ],
  "metadata": {
    "colab": {
      "authorship_tag": "ABX9TyNfEvgiKX3wR4bd4V7PClYf",
      "include_colab_link": true,
      "provenance": []
    },
    "kernelspec": {
      "display_name": "alpaca",
      "language": "python",
      "name": "python3"
    },
    "language_info": {
      "codemirror_mode": {
        "name": "ipython",
        "version": 3
      },
      "file_extension": ".py",
      "mimetype": "text/x-python",
      "name": "python",
      "nbconvert_exporter": "python",
      "pygments_lexer": "ipython3",
      "version": "3.13.5"
    }
  },
  "nbformat": 4,
  "nbformat_minor": 0
}
