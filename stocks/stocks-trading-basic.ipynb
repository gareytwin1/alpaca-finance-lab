{
  "cells": [
    {
      "cell_type": "markdown",
      "metadata": {
        "id": "u1y7La-kKvAG"
      },
      "source": [
        "# Alpaca-py stock trading basic"
      ]
    },
    {
      "cell_type": "markdown",
      "metadata": {
        "id": "2l5zZTFtKvAH"
      },
      "source": [
        "[![Open In Colab](https://colab.research.google.com/assets/colab-badge.svg)](https://colab.research.google.com/github/alpacahq/alpaca-py/blob/master/examples/stocks/stocks-trading-basic.ipynb)"
      ]
    },
    {
      "cell_type": "markdown",
      "metadata": {
        "id": "HtcnbJhbKvAH"
      },
      "source": [
        "- This notebook shows how to use alpaca-py with stock trading API endpoints\n",
        "- Please use ``paper account``. Please ``DO NOT`` use this notebook with live account. In this notebook, we place orders for stocks as an example."
      ]
    },
    {
      "cell_type": "code",
      "execution_count": 14,
      "metadata": {
        "id": "GyzDvDMvKvAH",
        "jupyter": {
          "is_executing": true
        }
      },
      "outputs": [],
      "source": [
        "# Please change the following to your own PAPER api key and secret\n",
        "# or set them as environment variables (ALPACA_API_KEY, ALPACA_SECRET_KEY).\n",
        "# You can get them from https://alpaca.markets/\n",
        "\n",
        "api_key = None\n",
        "secret_key = None\n",
        "\n",
        "#### We use paper environment for this example ####\n",
        "paper = True # Please do not modify this. This example is for paper trading only.\n",
        "####\n",
        "\n",
        "# Below are the variables for development this documents\n",
        "# Please do not change these variables\n",
        "trade_api_url = None\n",
        "trade_api_wss = None\n",
        "data_api_url = None\n",
        "stream_data_wss = None"
      ]
    },
    {
      "cell_type": "code",
      "execution_count": 25,
      "metadata": {
        "id": "l5ifRXKeKvAH"
      },
      "outputs": [],
      "source": [
        "import os\n",
        "\n",
        "# Check if environment variables are set\n",
        "if \"ALPACA_API_KEY\" in os.environ:\n",
        "    api_key = os.environ[\"ALPACA_API_KEY\"]\n",
        "if \"ALPACA_SECRET_KEY\" in os.environ:\n",
        "    secret_key = os.environ[\"ALPACA_SECRET_KEY\"]\n",
        "if \"ALPACA_BASE_URL\" in os.environ:\n",
        "    trade_api_url = os.environ[\"ALPACA_BASE_URL\"]\n",
        "\n"
      ]
    },
    {
      "cell_type": "code",
      "execution_count": 27,
      "metadata": {},
      "outputs": [],
      "source": [
        "api_key"
      ]
    },
    {
      "cell_type": "code",
      "execution_count": 9,
      "metadata": {
        "id": "3fMummKAKvAI"
      },
      "outputs": [],
      "source": [
        "# install alpaca-py if it is not available\n",
        "try:\n",
        "    import alpaca\n",
        "except ImportError:\n",
        "    !python3 -m pip install alpaca-py\n",
        "    import alpaca"
      ]
    },
    {
      "cell_type": "code",
      "execution_count": 10,
      "metadata": {
        "id": "5VDyXvDsKvAI"
      },
      "outputs": [],
      "source": [
        "from datetime import datetime, timedelta\n",
        "from zoneinfo import ZoneInfo\n",
        "\n",
        "from alpaca.trading.client import TradingClient\n",
        "from alpaca.data.timeframe import TimeFrame, TimeFrameUnit\n",
        "from alpaca.data.historical.corporate_actions import CorporateActionsClient\n",
        "from alpaca.data.historical.stock import StockHistoricalDataClient\n",
        "from alpaca.trading.stream import TradingStream\n",
        "from alpaca.data.live.stock import StockDataStream\n",
        "\n",
        "from alpaca.data.requests import (\n",
        "    CorporateActionsRequest,\n",
        "    StockBarsRequest,\n",
        "    StockQuotesRequest,\n",
        "    StockTradesRequest,\n",
        ")\n",
        "from alpaca.trading.requests import (\n",
        "    ClosePositionRequest,\n",
        "    GetAssetsRequest,\n",
        "    GetOrdersRequest,\n",
        "    LimitOrderRequest,\n",
        "    MarketOrderRequest,\n",
        "    StopLimitOrderRequest,\n",
        "    StopLossRequest,\n",
        "    StopOrderRequest,\n",
        "    TakeProfitRequest,\n",
        "    TrailingStopOrderRequest,\n",
        ")\n",
        "from alpaca.trading.enums import (\n",
        "    AssetExchange,\n",
        "    AssetStatus,\n",
        "    OrderClass,\n",
        "    OrderSide,\n",
        "    OrderType,\n",
        "    QueryOrderStatus,\n",
        "    TimeInForce,\n",
        ")"
      ]
    },
    {
      "cell_type": "code",
      "execution_count": 11,
      "metadata": {
        "id": "nfe0rVNDKvAI"
      },
      "outputs": [],
      "source": [
        "# to run async code in jupyter notebook\n",
        "import nest_asyncio\n",
        "nest_asyncio.apply()"
      ]
    },
    {
      "cell_type": "code",
      "execution_count": 12,
      "metadata": {
        "colab": {
          "base_uri": "https://localhost:8080/",
          "height": 35
        },
        "id": "3uUEamw9KvAI",
        "outputId": "9f20ed61-b66d-446c-e17b-77c0a467585d"
      },
      "outputs": [
        {
          "data": {
            "text/plain": [
              "'0.40.1'"
            ]
          },
          "execution_count": 12,
          "metadata": {},
          "output_type": "execute_result"
        }
      ],
      "source": [
        "# check version of alpaca-py\n",
        "alpaca.__version__"
      ]
    },
    {
      "cell_type": "markdown",
      "metadata": {
        "id": "s7vcfu9ZKvAI"
      },
      "source": [
        "# Trading Client"
      ]
    },
    {
      "cell_type": "code",
      "execution_count": null,
      "metadata": {
        "id": "9o2vfI4fKvAI"
      },
      "outputs": [
        {
          "ename": "ValueError",
          "evalue": "You must supply a method of authentication",
          "output_type": "error",
          "traceback": [
            "\u001b[31m---------------------------------------------------------------------------\u001b[39m",
            "\u001b[31mValueError\u001b[39m                                Traceback (most recent call last)",
            "\u001b[36mCell\u001b[39m\u001b[36m \u001b[39m\u001b[32mIn[13]\u001b[39m\u001b[32m, line 2\u001b[39m\n\u001b[32m      1\u001b[39m \u001b[38;5;66;03m# setup clients\u001b[39;00m\n\u001b[32m----> \u001b[39m\u001b[32m2\u001b[39m trade_client = \u001b[43mTradingClient\u001b[49m\u001b[43m(\u001b[49m\u001b[43mapi_key\u001b[49m\u001b[43m=\u001b[49m\u001b[43mapi_key\u001b[49m\u001b[43m,\u001b[49m\u001b[43m \u001b[49m\u001b[43msecret_key\u001b[49m\u001b[43m=\u001b[49m\u001b[43msecret_key\u001b[49m\u001b[43m,\u001b[49m\u001b[43m \u001b[49m\u001b[43mpaper\u001b[49m\u001b[43m=\u001b[49m\u001b[43mpaper\u001b[49m\u001b[43m,\u001b[49m\u001b[43m \u001b[49m\u001b[43murl_override\u001b[49m\u001b[43m=\u001b[49m\u001b[43mtrade_api_url\u001b[49m\u001b[43m)\u001b[49m\n",
            "\u001b[36mFile \u001b[39m\u001b[32m~/miniconda3/lib/python3.12/site-packages/alpaca/trading/client.py:74\u001b[39m, in \u001b[36mTradingClient.__init__\u001b[39m\u001b[34m(self, api_key, secret_key, oauth_token, paper, raw_data, url_override)\u001b[39m\n\u001b[32m     53\u001b[39m \u001b[38;5;28;01mdef\u001b[39;00m\u001b[38;5;250m \u001b[39m\u001b[34m__init__\u001b[39m(\n\u001b[32m     54\u001b[39m     \u001b[38;5;28mself\u001b[39m,\n\u001b[32m     55\u001b[39m     api_key: Optional[\u001b[38;5;28mstr\u001b[39m] = \u001b[38;5;28;01mNone\u001b[39;00m,\n\u001b[32m   (...)\u001b[39m\u001b[32m     60\u001b[39m     url_override: Optional[\u001b[38;5;28mstr\u001b[39m] = \u001b[38;5;28;01mNone\u001b[39;00m,\n\u001b[32m     61\u001b[39m ) -> \u001b[38;5;28;01mNone\u001b[39;00m:\n\u001b[32m     62\u001b[39m \u001b[38;5;250m    \u001b[39m\u001b[33;03m\"\"\"\u001b[39;00m\n\u001b[32m     63\u001b[39m \u001b[33;03m    Instantiates a client for trading and managing personal brokerage accounts.\u001b[39;00m\n\u001b[32m     64\u001b[39m \n\u001b[32m   (...)\u001b[39m\u001b[32m     72\u001b[39m \u001b[33;03m        url_override (Optional[str]): If specified allows you to override the base url the client points to for proxy/testing.\u001b[39;00m\n\u001b[32m     73\u001b[39m \u001b[33;03m    \"\"\"\u001b[39;00m\n\u001b[32m---> \u001b[39m\u001b[32m74\u001b[39m     \u001b[38;5;28;43msuper\u001b[39;49m\u001b[43m(\u001b[49m\u001b[43m)\u001b[49m\u001b[43m.\u001b[49m\u001b[34;43m__init__\u001b[39;49m\u001b[43m(\u001b[49m\n\u001b[32m     75\u001b[39m \u001b[43m        \u001b[49m\u001b[43mapi_key\u001b[49m\u001b[43m=\u001b[49m\u001b[43mapi_key\u001b[49m\u001b[43m,\u001b[49m\n\u001b[32m     76\u001b[39m \u001b[43m        \u001b[49m\u001b[43msecret_key\u001b[49m\u001b[43m=\u001b[49m\u001b[43msecret_key\u001b[49m\u001b[43m,\u001b[49m\n\u001b[32m     77\u001b[39m \u001b[43m        \u001b[49m\u001b[43moauth_token\u001b[49m\u001b[43m=\u001b[49m\u001b[43moauth_token\u001b[49m\u001b[43m,\u001b[49m\n\u001b[32m     78\u001b[39m \u001b[43m        \u001b[49m\u001b[43mapi_version\u001b[49m\u001b[43m=\u001b[49m\u001b[33;43m\"\u001b[39;49m\u001b[33;43mv2\u001b[39;49m\u001b[33;43m\"\u001b[39;49m\u001b[43m,\u001b[49m\n\u001b[32m     79\u001b[39m \u001b[43m        \u001b[49m\u001b[43mbase_url\u001b[49m\u001b[43m=\u001b[49m\u001b[43m(\u001b[49m\n\u001b[32m     80\u001b[39m \u001b[43m            \u001b[49m\u001b[43murl_override\u001b[49m\n\u001b[32m     81\u001b[39m \u001b[43m            \u001b[49m\u001b[38;5;28;43;01mif\u001b[39;49;00m\u001b[43m \u001b[49m\u001b[43murl_override\u001b[49m\n\u001b[32m     82\u001b[39m \u001b[43m            \u001b[49m\u001b[38;5;28;43;01melse\u001b[39;49;00m\u001b[43m \u001b[49m\u001b[43mBaseURL\u001b[49m\u001b[43m.\u001b[49m\u001b[43mTRADING_PAPER\u001b[49m\u001b[43m \u001b[49m\u001b[38;5;28;43;01mif\u001b[39;49;00m\u001b[43m \u001b[49m\u001b[43mpaper\u001b[49m\u001b[43m \u001b[49m\u001b[38;5;28;43;01melse\u001b[39;49;00m\u001b[43m \u001b[49m\u001b[43mBaseURL\u001b[49m\u001b[43m.\u001b[49m\u001b[43mTRADING_LIVE\u001b[49m\n\u001b[32m     83\u001b[39m \u001b[43m        \u001b[49m\u001b[43m)\u001b[49m\u001b[43m,\u001b[49m\n\u001b[32m     84\u001b[39m \u001b[43m        \u001b[49m\u001b[43msandbox\u001b[49m\u001b[43m=\u001b[49m\u001b[43mpaper\u001b[49m\u001b[43m,\u001b[49m\n\u001b[32m     85\u001b[39m \u001b[43m        \u001b[49m\u001b[43mraw_data\u001b[49m\u001b[43m=\u001b[49m\u001b[43mraw_data\u001b[49m\u001b[43m,\u001b[49m\n\u001b[32m     86\u001b[39m \u001b[43m    \u001b[49m\u001b[43m)\u001b[49m\n",
            "\u001b[36mFile \u001b[39m\u001b[32m~/miniconda3/lib/python3.12/site-packages/alpaca/common/rest.py:61\u001b[39m, in \u001b[36mRESTClient.__init__\u001b[39m\u001b[34m(self, base_url, api_key, secret_key, oauth_token, use_basic_auth, api_version, sandbox, raw_data, retry_attempts, retry_wait_seconds, retry_exception_codes)\u001b[39m\n\u001b[32m     29\u001b[39m \u001b[38;5;28;01mdef\u001b[39;00m\u001b[38;5;250m \u001b[39m\u001b[34m__init__\u001b[39m(\n\u001b[32m     30\u001b[39m     \u001b[38;5;28mself\u001b[39m,\n\u001b[32m     31\u001b[39m     base_url: Union[BaseURL, \u001b[38;5;28mstr\u001b[39m],\n\u001b[32m   (...)\u001b[39m\u001b[32m     41\u001b[39m     retry_exception_codes: Optional[List[\u001b[38;5;28mint\u001b[39m]] = \u001b[38;5;28;01mNone\u001b[39;00m,\n\u001b[32m     42\u001b[39m ) -> \u001b[38;5;28;01mNone\u001b[39;00m:\n\u001b[32m     43\u001b[39m \u001b[38;5;250m    \u001b[39m\u001b[33;03m\"\"\"Abstract base class for REST clients. Handles submitting HTTP requests to\u001b[39;00m\n\u001b[32m     44\u001b[39m \u001b[33;03m    Alpaca API endpoints.\u001b[39;00m\n\u001b[32m     45\u001b[39m \n\u001b[32m   (...)\u001b[39m\u001b[32m     58\u001b[39m \u001b[33;03m        retry_exception_codes (Optional[List[int]]): The API exception codes to retry a request on.\u001b[39;00m\n\u001b[32m     59\u001b[39m \u001b[33;03m    \"\"\"\u001b[39;00m\n\u001b[32m---> \u001b[39m\u001b[32m61\u001b[39m     \u001b[38;5;28mself\u001b[39m._api_key, \u001b[38;5;28mself\u001b[39m._secret_key, \u001b[38;5;28mself\u001b[39m._oauth_token = \u001b[38;5;28;43mself\u001b[39;49m\u001b[43m.\u001b[49m\u001b[43m_validate_credentials\u001b[49m\u001b[43m(\u001b[49m\n\u001b[32m     62\u001b[39m \u001b[43m        \u001b[49m\u001b[43mapi_key\u001b[49m\u001b[43m=\u001b[49m\u001b[43mapi_key\u001b[49m\u001b[43m,\u001b[49m\u001b[43m \u001b[49m\u001b[43msecret_key\u001b[49m\u001b[43m=\u001b[49m\u001b[43msecret_key\u001b[49m\u001b[43m,\u001b[49m\u001b[43m \u001b[49m\u001b[43moauth_token\u001b[49m\u001b[43m=\u001b[49m\u001b[43moauth_token\u001b[49m\n\u001b[32m     63\u001b[39m \u001b[43m    \u001b[49m\u001b[43m)\u001b[49m\n\u001b[32m     64\u001b[39m     \u001b[38;5;28mself\u001b[39m._api_version: \u001b[38;5;28mstr\u001b[39m = api_version\n\u001b[32m     65\u001b[39m     \u001b[38;5;28mself\u001b[39m._base_url: Union[BaseURL, \u001b[38;5;28mstr\u001b[39m] = base_url\n",
            "\u001b[36mFile \u001b[39m\u001b[32m~/miniconda3/lib/python3.12/site-packages/alpaca/common/rest.py:354\u001b[39m, in \u001b[36mRESTClient._validate_credentials\u001b[39m\u001b[34m(api_key, secret_key, oauth_token)\u001b[39m\n\u001b[32m    342\u001b[39m \u001b[38;5;250m\u001b[39m\u001b[33;03m\"\"\"Gathers API credentials from parameters and environment variables, and validates them.\u001b[39;00m\n\u001b[32m    343\u001b[39m \u001b[33;03mArgs:\u001b[39;00m\n\u001b[32m    344\u001b[39m \u001b[33;03m    api_key (Optional[str]): The API key for authentication. Defaults to None.\u001b[39;00m\n\u001b[32m   (...)\u001b[39m\u001b[32m    350\u001b[39m \u001b[33;03m    Credentials: The set of validated authentication keys\u001b[39;00m\n\u001b[32m    351\u001b[39m \u001b[33;03m\"\"\"\u001b[39;00m\n\u001b[32m    353\u001b[39m \u001b[38;5;28;01mif\u001b[39;00m \u001b[38;5;129;01mnot\u001b[39;00m oauth_token \u001b[38;5;129;01mand\u001b[39;00m \u001b[38;5;129;01mnot\u001b[39;00m api_key:\n\u001b[32m--> \u001b[39m\u001b[32m354\u001b[39m     \u001b[38;5;28;01mraise\u001b[39;00m \u001b[38;5;167;01mValueError\u001b[39;00m(\u001b[33m\"\u001b[39m\u001b[33mYou must supply a method of authentication\u001b[39m\u001b[33m\"\u001b[39m)\n\u001b[32m    356\u001b[39m \u001b[38;5;28;01mif\u001b[39;00m oauth_token \u001b[38;5;129;01mand\u001b[39;00m (api_key \u001b[38;5;129;01mor\u001b[39;00m secret_key):\n\u001b[32m    357\u001b[39m     \u001b[38;5;28;01mraise\u001b[39;00m \u001b[38;5;167;01mValueError\u001b[39;00m(\n\u001b[32m    358\u001b[39m         \u001b[33m\"\u001b[39m\u001b[33mEither an oauth_token or an api_key may be supplied, but not both\u001b[39m\u001b[33m\"\u001b[39m\n\u001b[32m    359\u001b[39m     )\n",
            "\u001b[31mValueError\u001b[39m: You must supply a method of authentication"
          ]
        }
      ],
      "source": [
        "# Set your Alpaca PAPER API credentials here if not set in environment variables\n",
        "api_key = \"YOUR_ALPACA_PAPER_API_KEY\"\n",
        "secret_key = \"YOUR_ALPACA_PAPER_SECRET_KEY\"\n",
        "\n",
        "# setup clients\n",
        "trade_client = TradingClient(api_key=api_key, secret_key=secret_key, paper=paper, url_override=trade_api_url)"
      ]
    },
    {
      "cell_type": "code",
      "execution_count": 31,
      "metadata": {
        "colab": {
          "base_uri": "https://localhost:8080/"
        },
        "id": "EUwiowG-KvAI",
        "outputId": "d30b8b9b-3287-40f9-f8c6-408fb5cdf0ed"
      },
      "outputs": [
        {
          "data": {
            "text/plain": [
              "{   'account_blocked': False,\n",
              "    'account_number': 'PA3GPJJBCV6D',\n",
              "    'accrued_fees': '0',\n",
              "    'buying_power': '200000',\n",
              "    'cash': '100000',\n",
              "    'created_at': datetime.datetime(2025, 6, 9, 15, 56, 50, 893330, tzinfo=TzInfo(UTC)),\n",
              "    'crypto_status': <AccountStatus.ACTIVE: 'ACTIVE'>,\n",
              "    'currency': 'USD',\n",
              "    'daytrade_count': 0,\n",
              "    'daytrading_buying_power': '0',\n",
              "    'equity': '100000',\n",
              "    'id': UUID('8273af54-8bd2-40e0-be96-857620779ffe'),\n",
              "    'initial_margin': '0',\n",
              "    'last_equity': '100000',\n",
              "    'last_maintenance_margin': '0',\n",
              "    'long_market_value': '0',\n",
              "    'maintenance_margin': '0',\n",
              "    'multiplier': '2',\n",
              "    'non_marginable_buying_power': '100000',\n",
              "    'options_approved_level': 3,\n",
              "    'options_buying_power': '100000',\n",
              "    'options_trading_level': 3,\n",
              "    'pattern_day_trader': False,\n",
              "    'pending_transfer_in': None,\n",
              "    'pending_transfer_out': None,\n",
              "    'portfolio_value': '100000',\n",
              "    'regt_buying_power': '200000',\n",
              "    'short_market_value': '0',\n",
              "    'shorting_enabled': True,\n",
              "    'sma': '0',\n",
              "    'status': <AccountStatus.ACTIVE: 'ACTIVE'>,\n",
              "    'trade_suspended_by_user': False,\n",
              "    'trading_blocked': False,\n",
              "    'transfers_blocked': False}"
            ]
          },
          "execution_count": 31,
          "metadata": {},
          "output_type": "execute_result"
        }
      ],
      "source": [
        "# check trading account\n",
        "# You can check definition of each field in the following documents\n",
        "# ref. https://docs.alpaca.markets/docs/account-plans\n",
        "# ref. https://docs.alpaca.markets/reference/getaccount-1\n",
        "acct = trade_client.get_account()\n",
        "acct"
      ]
    },
    {
      "cell_type": "code",
      "execution_count": 32,
      "metadata": {
        "colab": {
          "base_uri": "https://localhost:8080/"
        },
        "id": "4MU0Mae0KvAI",
        "outputId": "d828bcdc-59a8-4f1b-afbd-2c8be9fbcc7d"
      },
      "outputs": [
        {
          "data": {
            "text/plain": [
              "{   'dtbp_check': <DTBPCheck.ENTRY: 'entry'>,\n",
              "    'fractional_trading': True,\n",
              "    'max_margin_multiplier': '4',\n",
              "    'max_options_trading_level': None,\n",
              "    'no_shorting': False,\n",
              "    'pdt_check': <PDTCheck.ENTRY: 'entry'>,\n",
              "    'ptp_no_exception_entry': False,\n",
              "    'suspend_trade': False,\n",
              "    'trade_confirm_email': <TradeConfirmationEmail.ALL: 'all'>}"
            ]
          },
          "execution_count": 32,
          "metadata": {},
          "output_type": "execute_result"
        }
      ],
      "source": [
        "# check account configuration\n",
        "# ref. https://docs.alpaca.markets/reference/getaccountconfig-1\n",
        "acct_config = trade_client.get_account_configurations()\n",
        "acct_config"
      ]
    },
    {
      "cell_type": "code",
      "execution_count": 33,
      "metadata": {
        "colab": {
          "base_uri": "https://localhost:8080/",
          "height": 329
        },
        "id": "tCNnrrUCKvAI",
        "outputId": "25b4dc3c-fe2c-47c0-a906-e3376e1781a4"
      },
      "outputs": [
        {
          "data": {
            "text/plain": [
              "{   'dtbp_check': <DTBPCheck.ENTRY: 'entry'>,\n",
              "    'fractional_trading': False,\n",
              "    'max_margin_multiplier': '4',\n",
              "    'max_options_trading_level': None,\n",
              "    'no_shorting': False,\n",
              "    'pdt_check': <PDTCheck.ENTRY: 'entry'>,\n",
              "    'ptp_no_exception_entry': False,\n",
              "    'suspend_trade': False,\n",
              "    'trade_confirm_email': <TradeConfirmationEmail.ALL: 'all'>}"
            ]
          },
          "metadata": {},
          "output_type": "display_data"
        },
        {
          "data": {
            "text/plain": [
              "{   'dtbp_check': <DTBPCheck.ENTRY: 'entry'>,\n",
              "    'fractional_trading': True,\n",
              "    'max_margin_multiplier': '4',\n",
              "    'max_options_trading_level': None,\n",
              "    'no_shorting': False,\n",
              "    'pdt_check': <PDTCheck.ENTRY: 'entry'>,\n",
              "    'ptp_no_exception_entry': False,\n",
              "    'suspend_trade': False,\n",
              "    'trade_confirm_email': <TradeConfirmationEmail.ALL: 'all'>}"
            ]
          },
          "metadata": {},
          "output_type": "display_data"
        }
      ],
      "source": [
        "# set account configuration\n",
        "# ref. https://docs.alpaca.markets/reference/patchaccountconfig-1\n",
        "req = acct_config\n",
        "req.fractional_trading = not req.fractional_trading # toggle fractional trading\n",
        "acct_config_new = trade_client.set_account_configurations(req)\n",
        "display(acct_config_new)\n",
        "\n",
        "# revert changes\n",
        "req = acct_config_new\n",
        "req.fractional_trading = not req.fractional_trading # toggle fractional trading\n",
        "acct_config_reverted = trade_client.set_account_configurations(req)\n",
        "display(acct_config_reverted)"
      ]
    },
    {
      "cell_type": "code",
      "execution_count": 34,
      "metadata": {
        "colab": {
          "base_uri": "https://localhost:8080/"
        },
        "id": "cSw9SXXNKvAI",
        "outputId": "e38f1f95-ced1-4a68-aa0b-3593cbb0613e"
      },
      "outputs": [
        {
          "data": {
            "text/plain": [
              "[{   'asset_class': <AssetClass.US_EQUITY: 'us_equity'>,\n",
              "     'attributes': [],\n",
              "     'easy_to_borrow': False,\n",
              "     'exchange': <AssetExchange.NASDAQ: 'NASDAQ'>,\n",
              "     'fractionable': False,\n",
              "     'id': UUID('69840963-59eb-4fb7-89e9-3ea875ee5c97'),\n",
              "     'maintenance_margin_requirement': 100.0,\n",
              "     'marginable': False,\n",
              "     'min_order_size': None,\n",
              "     'min_trade_increment': None,\n",
              "     'name': 'GD Culture Group Limited Common Stock',\n",
              "     'price_increment': None,\n",
              "     'shortable': False,\n",
              "     'status': <AssetStatus.ACTIVE: 'active'>,\n",
              "     'symbol': 'GDC',\n",
              "     'tradable': False},\n",
              " {   'asset_class': <AssetClass.US_EQUITY: 'us_equity'>,\n",
              "     'attributes': [],\n",
              "     'easy_to_borrow': False,\n",
              "     'exchange': <AssetExchange.NASDAQ: 'NASDAQ'>,\n",
              "     'fractionable': False,\n",
              "     'id': UUID('62555608-7e26-476b-b698-17a74f6ef56e'),\n",
              "     'maintenance_margin_requirement': 100.0,\n",
              "     'marginable': False,\n",
              "     'min_order_size': None,\n",
              "     'min_trade_increment': None,\n",
              "     'name': 'Fitell Corporation Ordinary Shares',\n",
              "     'price_increment': None,\n",
              "     'shortable': False,\n",
              "     'status': <AssetStatus.ACTIVE: 'active'>,\n",
              "     'symbol': 'FTEL',\n",
              "     'tradable': False}]"
            ]
          },
          "execution_count": 34,
          "metadata": {},
          "output_type": "execute_result"
        }
      ],
      "source": [
        "# get list of assets which are us_equity (default), active, and in NASDAQ\n",
        "# ref. https://docs.alpaca.markets/reference/get-v2-assets-1\n",
        "req = GetAssetsRequest(\n",
        "  # asset_class=AssetClass.US_EQUITY,  # default asset_class is us_equity\n",
        "  status=AssetStatus.ACTIVE,\n",
        "  exchange=AssetExchange.NASDAQ,\n",
        ")\n",
        "assets = trade_client.get_all_assets(req)\n",
        "assets[:2]"
      ]
    },
    {
      "cell_type": "markdown",
      "metadata": {
        "id": "HQ22i_fVKvAI"
      },
      "source": [
        "### Orders"
      ]
    },
    {
      "cell_type": "code",
      "execution_count": 35,
      "metadata": {
        "id": "h0IKbbYaKvAJ"
      },
      "outputs": [],
      "source": [
        "# we will place orders which Alapca trading platform supports\n",
        "# - order classes: simple, bracket, oco, oto\n",
        "# - order types: market, limit, stop, stop_limit, trailing_stop\n",
        "#\n",
        "# please refer to the following documents for more details\n",
        "# ref. https://docs.alpaca.markets/docs/orders-at-alpaca\n",
        "# ref. https://docs.alpaca.markets/reference/postorder\n",
        "#\n",
        "# we will also use fractional trading capability of Alpaca trading platform in this example\n",
        "# ref. https://docs.alpaca.markets/docs/fractional-trading\n",
        "\n",
        "# we will place orders for symbol: SPY in this example\n",
        "symbol = \"SPY\""
      ]
    },
    {
      "cell_type": "code",
      "execution_count": 36,
      "metadata": {
        "colab": {
          "base_uri": "https://localhost:8080/"
        },
        "id": "r0EdvBntKvAJ",
        "outputId": "5dbeb2f1-dadb-41ea-bcc4-334c7de00dfd"
      },
      "outputs": [
        {
          "data": {
            "text/plain": [
              "{   'asset_class': <AssetClass.US_EQUITY: 'us_equity'>,\n",
              "    'asset_id': UUID('b28f4066-5c6d-479b-a2af-85dc1a8f16fb'),\n",
              "    'canceled_at': None,\n",
              "    'client_order_id': '1983a64d-3143-4ee8-8f9c-bb8647643f1d',\n",
              "    'created_at': datetime.datetime(2025, 6, 9, 15, 58, 56, 742386, tzinfo=TzInfo(UTC)),\n",
              "    'expired_at': None,\n",
              "    'expires_at': datetime.datetime(2025, 6, 9, 20, 0, tzinfo=TzInfo(UTC)),\n",
              "    'extended_hours': False,\n",
              "    'failed_at': None,\n",
              "    'filled_at': None,\n",
              "    'filled_avg_price': None,\n",
              "    'filled_qty': '0',\n",
              "    'hwm': None,\n",
              "    'id': UUID('f717044b-189a-452a-802d-0f9bd1fca6c8'),\n",
              "    'legs': None,\n",
              "    'limit_price': None,\n",
              "    'notional': None,\n",
              "    'order_class': <OrderClass.SIMPLE: 'simple'>,\n",
              "    'order_type': <OrderType.MARKET: 'market'>,\n",
              "    'position_intent': <PositionIntent.BUY_TO_OPEN: 'buy_to_open'>,\n",
              "    'qty': '5.5',\n",
              "    'ratio_qty': None,\n",
              "    'replaced_at': None,\n",
              "    'replaced_by': None,\n",
              "    'replaces': None,\n",
              "    'side': <OrderSide.BUY: 'buy'>,\n",
              "    'status': <OrderStatus.PENDING_NEW: 'pending_new'>,\n",
              "    'stop_price': None,\n",
              "    'submitted_at': datetime.datetime(2025, 6, 9, 15, 58, 56, 742386, tzinfo=TzInfo(UTC)),\n",
              "    'symbol': 'SPY',\n",
              "    'time_in_force': <TimeInForce.DAY: 'day'>,\n",
              "    'trail_percent': None,\n",
              "    'trail_price': None,\n",
              "    'type': <OrderType.MARKET: 'market'>,\n",
              "    'updated_at': datetime.datetime(2025, 6, 9, 15, 58, 56, 743913, tzinfo=TzInfo(UTC))}"
            ]
          },
          "execution_count": 36,
          "metadata": {},
          "output_type": "execute_result"
        }
      ],
      "source": [
        "# simple, market order, fractional qty\n",
        "# Alpaca trading platform support fractional trading by default\n",
        "# you can specify:\n",
        "# fractional qty (e.g. 0.01 qty) in the order request (which is shown in this example)\n",
        "# or notional value (e.g. 100 USD) (which is in the next example)\n",
        "#\n",
        "# If you have an error of `qty must be integer`,\n",
        "# please try to `Reset Account` of your paper account via the Alpaca Trading API dashboard\n",
        "req = MarketOrderRequest(\n",
        "    symbol = symbol,\n",
        "    qty = 5.5, # Example: place an order for $100 dollars worth of SPY\n",
        "    #notional = 100, # Example: place an order for 5.5 shares of SPY\n",
        "    side = OrderSide.BUY,\n",
        "    type = OrderType.MARKET,\n",
        "    time_in_force = TimeInForce.DAY,\n",
        ")\n",
        "res = trade_client.submit_order(req)\n",
        "res"
      ]
    },
    {
      "cell_type": "code",
      "execution_count": 37,
      "metadata": {
        "colab": {
          "base_uri": "https://localhost:8080/"
        },
        "id": "Iy4rj5AyKvAJ",
        "outputId": "8fcf5b38-e754-4b2c-b90b-ea749ae346b0"
      },
      "outputs": [
        {
          "data": {
            "text/plain": [
              "{   'asset_class': <AssetClass.US_EQUITY: 'us_equity'>,\n",
              "    'asset_id': UUID('b28f4066-5c6d-479b-a2af-85dc1a8f16fb'),\n",
              "    'canceled_at': None,\n",
              "    'client_order_id': 'f8e518d2-7092-4932-9a77-23e59eaa4044',\n",
              "    'created_at': datetime.datetime(2025, 6, 9, 15, 59, 6, 289217, tzinfo=TzInfo(UTC)),\n",
              "    'expired_at': None,\n",
              "    'expires_at': datetime.datetime(2025, 6, 9, 20, 0, tzinfo=TzInfo(UTC)),\n",
              "    'extended_hours': False,\n",
              "    'failed_at': None,\n",
              "    'filled_at': None,\n",
              "    'filled_avg_price': None,\n",
              "    'filled_qty': '0',\n",
              "    'hwm': None,\n",
              "    'id': UUID('747f0fb1-345e-45f8-b945-a44ef34f651d'),\n",
              "    'legs': None,\n",
              "    'limit_price': None,\n",
              "    'notional': '1.11',\n",
              "    'order_class': <OrderClass.SIMPLE: 'simple'>,\n",
              "    'order_type': <OrderType.MARKET: 'market'>,\n",
              "    'position_intent': <PositionIntent.BUY_TO_OPEN: 'buy_to_open'>,\n",
              "    'qty': None,\n",
              "    'ratio_qty': None,\n",
              "    'replaced_at': None,\n",
              "    'replaced_by': None,\n",
              "    'replaces': None,\n",
              "    'side': <OrderSide.BUY: 'buy'>,\n",
              "    'status': <OrderStatus.PENDING_NEW: 'pending_new'>,\n",
              "    'stop_price': None,\n",
              "    'submitted_at': datetime.datetime(2025, 6, 9, 15, 59, 6, 289217, tzinfo=TzInfo(UTC)),\n",
              "    'symbol': 'SPY',\n",
              "    'time_in_force': <TimeInForce.DAY: 'day'>,\n",
              "    'trail_percent': None,\n",
              "    'trail_price': None,\n",
              "    'type': <OrderType.MARKET: 'market'>,\n",
              "    'updated_at': datetime.datetime(2025, 6, 9, 15, 59, 6, 290397, tzinfo=TzInfo(UTC))}"
            ]
          },
          "execution_count": 37,
          "metadata": {},
          "output_type": "execute_result"
        }
      ],
      "source": [
        "# simple, market order, notional\n",
        "# Alpaca trading platform support fractional trading by default\n",
        "# you can specify:\n",
        "# fractional qty (e.g. 0.01 qty) in the order request (which is in the example above)\n",
        "# or notional value (e.g. 100 USD) (which is in this example)\n",
        "req = MarketOrderRequest(\n",
        "    symbol = symbol,\n",
        "    notional = 1.11,  # notional is specified in USD, here we specify $1.11\n",
        "    side = OrderSide.BUY,\n",
        "    type = OrderType.MARKET,\n",
        "    time_in_force = TimeInForce.DAY,\n",
        ")\n",
        "res = trade_client.submit_order(req)\n",
        "res"
      ]
    },
    {
      "cell_type": "code",
      "execution_count": 38,
      "metadata": {
        "colab": {
          "base_uri": "https://localhost:8080/"
        },
        "id": "Si4gXhnVKvAJ",
        "outputId": "589f0a94-7983-4b48-c91c-252a22913c7f"
      },
      "outputs": [
        {
          "data": {
            "text/plain": [
              "{   'asset_class': <AssetClass.US_EQUITY: 'us_equity'>,\n",
              "    'asset_id': UUID('b28f4066-5c6d-479b-a2af-85dc1a8f16fb'),\n",
              "    'canceled_at': None,\n",
              "    'client_order_id': '9ced35c1-f84a-48c9-b6cc-cea1be6c84ea',\n",
              "    'created_at': datetime.datetime(2025, 6, 9, 15, 59, 14, 594530, tzinfo=TzInfo(UTC)),\n",
              "    'expired_at': None,\n",
              "    'expires_at': datetime.datetime(2025, 6, 9, 20, 0, tzinfo=TzInfo(UTC)),\n",
              "    'extended_hours': False,\n",
              "    'failed_at': None,\n",
              "    'filled_at': None,\n",
              "    'filled_avg_price': None,\n",
              "    'filled_qty': '0',\n",
              "    'hwm': None,\n",
              "    'id': UUID('ccc41a38-83a4-480c-b49b-ee33d2a03c95'),\n",
              "    'legs': None,\n",
              "    'limit_price': '550.25',\n",
              "    'notional': None,\n",
              "    'order_class': <OrderClass.SIMPLE: 'simple'>,\n",
              "    'order_type': <OrderType.LIMIT: 'limit'>,\n",
              "    'position_intent': <PositionIntent.BUY_TO_OPEN: 'buy_to_open'>,\n",
              "    'qty': '0.01',\n",
              "    'ratio_qty': None,\n",
              "    'replaced_at': None,\n",
              "    'replaced_by': None,\n",
              "    'replaces': None,\n",
              "    'side': <OrderSide.BUY: 'buy'>,\n",
              "    'status': <OrderStatus.PENDING_NEW: 'pending_new'>,\n",
              "    'stop_price': None,\n",
              "    'submitted_at': datetime.datetime(2025, 6, 9, 15, 59, 14, 594530, tzinfo=TzInfo(UTC)),\n",
              "    'symbol': 'SPY',\n",
              "    'time_in_force': <TimeInForce.DAY: 'day'>,\n",
              "    'trail_percent': None,\n",
              "    'trail_price': None,\n",
              "    'type': <OrderType.LIMIT: 'limit'>,\n",
              "    'updated_at': datetime.datetime(2025, 6, 9, 15, 59, 14, 595466, tzinfo=TzInfo(UTC))}"
            ]
          },
          "execution_count": 38,
          "metadata": {},
          "output_type": "execute_result"
        }
      ],
      "source": [
        "# simple, limit order, fractional qty\n",
        "req = LimitOrderRequest(\n",
        "    symbol = symbol,\n",
        "    qty = 0.01,\n",
        "    limit_price = 550.25,\n",
        "    side = OrderSide.BUY,\n",
        "    type = OrderType.LIMIT,\n",
        "    time_in_force = TimeInForce.DAY,\n",
        ")\n",
        "res = trade_client.submit_order(req)\n",
        "res"
      ]
    },
    {
      "cell_type": "code",
      "execution_count": 39,
      "metadata": {
        "colab": {
          "base_uri": "https://localhost:8080/"
        },
        "id": "-UKoJWEzKvAJ",
        "outputId": "37a269c2-b3b9-48b7-8da0-20f2279a8a65"
      },
      "outputs": [
        {
          "data": {
            "text/plain": [
              "{   'asset_class': <AssetClass.US_EQUITY: 'us_equity'>,\n",
              "    'asset_id': UUID('b28f4066-5c6d-479b-a2af-85dc1a8f16fb'),\n",
              "    'canceled_at': None,\n",
              "    'client_order_id': '8edfdf43-f01e-4fe5-a99d-9ae2a0bc4c76',\n",
              "    'created_at': datetime.datetime(2025, 6, 9, 15, 59, 18, 273594, tzinfo=TzInfo(UTC)),\n",
              "    'expired_at': None,\n",
              "    'expires_at': datetime.datetime(2025, 9, 5, 20, 0, tzinfo=TzInfo(UTC)),\n",
              "    'extended_hours': False,\n",
              "    'failed_at': None,\n",
              "    'filled_at': None,\n",
              "    'filled_avg_price': None,\n",
              "    'filled_qty': '0',\n",
              "    'hwm': None,\n",
              "    'id': UUID('3eed1474-109e-4752-b7c5-cafd6265c1de'),\n",
              "    'legs': None,\n",
              "    'limit_price': None,\n",
              "    'notional': None,\n",
              "    'order_class': <OrderClass.SIMPLE: 'simple'>,\n",
              "    'order_type': <OrderType.STOP: 'stop'>,\n",
              "    'position_intent': <PositionIntent.BUY_TO_OPEN: 'buy_to_open'>,\n",
              "    'qty': '1',\n",
              "    'ratio_qty': None,\n",
              "    'replaced_at': None,\n",
              "    'replaced_by': None,\n",
              "    'replaces': None,\n",
              "    'side': <OrderSide.BUY: 'buy'>,\n",
              "    'status': <OrderStatus.PENDING_NEW: 'pending_new'>,\n",
              "    'stop_price': '600',\n",
              "    'submitted_at': datetime.datetime(2025, 6, 9, 15, 59, 18, 273594, tzinfo=TzInfo(UTC)),\n",
              "    'symbol': 'SPY',\n",
              "    'time_in_force': <TimeInForce.GTC: 'gtc'>,\n",
              "    'trail_percent': None,\n",
              "    'trail_price': None,\n",
              "    'type': <OrderType.STOP: 'stop'>,\n",
              "    'updated_at': datetime.datetime(2025, 6, 9, 15, 59, 18, 274552, tzinfo=TzInfo(UTC))}"
            ]
          },
          "execution_count": 39,
          "metadata": {},
          "output_type": "execute_result"
        }
      ],
      "source": [
        "# stop order\n",
        "req = StopOrderRequest(\n",
        "                    symbol = symbol,\n",
        "                    qty = 1,\n",
        "                    side = OrderSide.BUY,\n",
        "                    time_in_force = TimeInForce.GTC,\n",
        "                    stop_price = 600\n",
        "                    )\n",
        "\n",
        "res = trade_client.submit_order(req)\n",
        "res"
      ]
    },
    {
      "cell_type": "code",
      "execution_count": 40,
      "metadata": {
        "colab": {
          "base_uri": "https://localhost:8080/"
        },
        "id": "HvpwYNflKvAJ",
        "outputId": "6a3eaf16-35b1-401c-c675-976ad84fde6a"
      },
      "outputs": [
        {
          "data": {
            "text/plain": [
              "{   'asset_class': <AssetClass.US_EQUITY: 'us_equity'>,\n",
              "    'asset_id': UUID('b28f4066-5c6d-479b-a2af-85dc1a8f16fb'),\n",
              "    'canceled_at': None,\n",
              "    'client_order_id': '326ada7e-0525-40ff-a26d-56a44dc71911',\n",
              "    'created_at': datetime.datetime(2025, 6, 9, 15, 59, 26, 312944, tzinfo=TzInfo(UTC)),\n",
              "    'expired_at': None,\n",
              "    'expires_at': datetime.datetime(2025, 9, 5, 20, 0, tzinfo=TzInfo(UTC)),\n",
              "    'extended_hours': False,\n",
              "    'failed_at': None,\n",
              "    'filled_at': None,\n",
              "    'filled_avg_price': None,\n",
              "    'filled_qty': '0',\n",
              "    'hwm': None,\n",
              "    'id': UUID('38921fb0-d447-4b2e-a1e6-c0bc5fadf8a4'),\n",
              "    'legs': None,\n",
              "    'limit_price': '550',\n",
              "    'notional': None,\n",
              "    'order_class': <OrderClass.SIMPLE: 'simple'>,\n",
              "    'order_type': <OrderType.STOP_LIMIT: 'stop_limit'>,\n",
              "    'position_intent': <PositionIntent.BUY_TO_OPEN: 'buy_to_open'>,\n",
              "    'qty': '1',\n",
              "    'ratio_qty': None,\n",
              "    'replaced_at': None,\n",
              "    'replaced_by': None,\n",
              "    'replaces': None,\n",
              "    'side': <OrderSide.BUY: 'buy'>,\n",
              "    'status': <OrderStatus.PENDING_NEW: 'pending_new'>,\n",
              "    'stop_price': '600',\n",
              "    'submitted_at': datetime.datetime(2025, 6, 9, 15, 59, 26, 312944, tzinfo=TzInfo(UTC)),\n",
              "    'symbol': 'SPY',\n",
              "    'time_in_force': <TimeInForce.GTC: 'gtc'>,\n",
              "    'trail_percent': None,\n",
              "    'trail_price': None,\n",
              "    'type': <OrderType.STOP_LIMIT: 'stop_limit'>,\n",
              "    'updated_at': datetime.datetime(2025, 6, 9, 15, 59, 26, 313912, tzinfo=TzInfo(UTC))}"
            ]
          },
          "execution_count": 40,
          "metadata": {},
          "output_type": "execute_result"
        }
      ],
      "source": [
        "# stop limit order\n",
        "req = StopLimitOrderRequest(\n",
        "                    symbol = symbol,\n",
        "                    qty = 1,\n",
        "                    side = OrderSide.BUY,\n",
        "                    time_in_force = TimeInForce.GTC,\n",
        "                    limit_price = 550,\n",
        "                    stop_price = 600\n",
        "                    )\n",
        "\n",
        "res = trade_client.submit_order(req)\n",
        "res"
      ]
    },
    {
      "cell_type": "code",
      "execution_count": 41,
      "metadata": {
        "colab": {
          "base_uri": "https://localhost:8080/"
        },
        "id": "9odhy2cyKvAJ",
        "outputId": "6152b87f-474d-4d46-d156-d251beb1a39c"
      },
      "outputs": [
        {
          "data": {
            "text/plain": [
              "{   'asset_class': <AssetClass.US_EQUITY: 'us_equity'>,\n",
              "    'asset_id': UUID('b28f4066-5c6d-479b-a2af-85dc1a8f16fb'),\n",
              "    'canceled_at': None,\n",
              "    'client_order_id': 'b79e9b3b-702a-4374-8fe9-f27dcf9a9901',\n",
              "    'created_at': datetime.datetime(2025, 6, 9, 15, 59, 29, 229418, tzinfo=TzInfo(UTC)),\n",
              "    'expired_at': None,\n",
              "    'expires_at': datetime.datetime(2025, 6, 9, 20, 0, tzinfo=TzInfo(UTC)),\n",
              "    'extended_hours': False,\n",
              "    'failed_at': None,\n",
              "    'filled_at': None,\n",
              "    'filled_avg_price': None,\n",
              "    'filled_qty': '0',\n",
              "    'hwm': None,\n",
              "    'id': UUID('ed7e0be3-ce9a-46dd-b9ad-78aa07ad349e'),\n",
              "    'legs': [   {   'asset_class': <AssetClass.US_EQUITY: 'us_equity'>,\n",
              "                    'asset_id': UUID('b28f4066-5c6d-479b-a2af-85dc1a8f16fb'),\n",
              "                    'canceled_at': None,\n",
              "                    'client_order_id': 'cb895cb2-3d14-4897-b5b7-b35666638928',\n",
              "                    'created_at': datetime.datetime(2025, 6, 9, 15, 59, 29, 229418, tzinfo=TzInfo(UTC)),\n",
              "                    'expired_at': None,\n",
              "                    'expires_at': datetime.datetime(2025, 6, 9, 20, 0, tzinfo=TzInfo(UTC)),\n",
              "                    'extended_hours': False,\n",
              "                    'failed_at': None,\n",
              "                    'filled_at': None,\n",
              "                    'filled_avg_price': None,\n",
              "                    'filled_qty': '0',\n",
              "                    'hwm': None,\n",
              "                    'id': UUID('dddee252-eec3-4d3d-bf02-c6c6462c1811'),\n",
              "                    'legs': None,\n",
              "                    'limit_price': '600',\n",
              "                    'notional': None,\n",
              "                    'order_class': <OrderClass.BRACKET: 'bracket'>,\n",
              "                    'order_type': <OrderType.LIMIT: 'limit'>,\n",
              "                    'position_intent': <PositionIntent.SELL_TO_CLOSE: 'sell_to_close'>,\n",
              "                    'qty': '5',\n",
              "                    'ratio_qty': None,\n",
              "                    'replaced_at': None,\n",
              "                    'replaced_by': None,\n",
              "                    'replaces': None,\n",
              "                    'side': <OrderSide.SELL: 'sell'>,\n",
              "                    'status': <OrderStatus.HELD: 'held'>,\n",
              "                    'stop_price': None,\n",
              "                    'submitted_at': datetime.datetime(2025, 6, 9, 15, 59, 29, 229418, tzinfo=TzInfo(UTC)),\n",
              "                    'symbol': 'SPY',\n",
              "                    'time_in_force': <TimeInForce.DAY: 'day'>,\n",
              "                    'trail_percent': None,\n",
              "                    'trail_price': None,\n",
              "                    'type': <OrderType.LIMIT: 'limit'>,\n",
              "                    'updated_at': datetime.datetime(2025, 6, 9, 15, 59, 29, 230409, tzinfo=TzInfo(UTC))},\n",
              "                {   'asset_class': <AssetClass.US_EQUITY: 'us_equity'>,\n",
              "                    'asset_id': UUID('b28f4066-5c6d-479b-a2af-85dc1a8f16fb'),\n",
              "                    'canceled_at': None,\n",
              "                    'client_order_id': 'f7371470-40eb-4aef-a3c8-b16e476bbd82',\n",
              "                    'created_at': datetime.datetime(2025, 6, 9, 15, 59, 29, 229418, tzinfo=TzInfo(UTC)),\n",
              "                    'expired_at': None,\n",
              "                    'expires_at': datetime.datetime(2025, 6, 9, 20, 0, tzinfo=TzInfo(UTC)),\n",
              "                    'extended_hours': False,\n",
              "                    'failed_at': None,\n",
              "                    'filled_at': None,\n",
              "                    'filled_avg_price': None,\n",
              "                    'filled_qty': '0',\n",
              "                    'hwm': None,\n",
              "                    'id': UUID('29c6d080-35b8-44ba-a72b-70af5df37857'),\n",
              "                    'legs': None,\n",
              "                    'limit_price': None,\n",
              "                    'notional': None,\n",
              "                    'order_class': <OrderClass.BRACKET: 'bracket'>,\n",
              "                    'order_type': <OrderType.STOP: 'stop'>,\n",
              "                    'position_intent': <PositionIntent.SELL_TO_CLOSE: 'sell_to_close'>,\n",
              "                    'qty': '5',\n",
              "                    'ratio_qty': None,\n",
              "                    'replaced_at': None,\n",
              "                    'replaced_by': None,\n",
              "                    'replaces': None,\n",
              "                    'side': <OrderSide.SELL: 'sell'>,\n",
              "                    'status': <OrderStatus.HELD: 'held'>,\n",
              "                    'stop_price': '300',\n",
              "                    'submitted_at': datetime.datetime(2025, 6, 9, 15, 59, 29, 229418, tzinfo=TzInfo(UTC)),\n",
              "                    'symbol': 'SPY',\n",
              "                    'time_in_force': <TimeInForce.DAY: 'day'>,\n",
              "                    'trail_percent': None,\n",
              "                    'trail_price': None,\n",
              "                    'type': <OrderType.STOP: 'stop'>,\n",
              "                    'updated_at': datetime.datetime(2025, 6, 9, 15, 59, 29, 230438, tzinfo=TzInfo(UTC))}],\n",
              "    'limit_price': None,\n",
              "    'notional': None,\n",
              "    'order_class': <OrderClass.BRACKET: 'bracket'>,\n",
              "    'order_type': <OrderType.MARKET: 'market'>,\n",
              "    'position_intent': <PositionIntent.BUY_TO_OPEN: 'buy_to_open'>,\n",
              "    'qty': '5',\n",
              "    'ratio_qty': None,\n",
              "    'replaced_at': None,\n",
              "    'replaced_by': None,\n",
              "    'replaces': None,\n",
              "    'side': <OrderSide.BUY: 'buy'>,\n",
              "    'status': <OrderStatus.PENDING_NEW: 'pending_new'>,\n",
              "    'stop_price': None,\n",
              "    'submitted_at': datetime.datetime(2025, 6, 9, 15, 59, 29, 229418, tzinfo=TzInfo(UTC)),\n",
              "    'symbol': 'SPY',\n",
              "    'time_in_force': <TimeInForce.DAY: 'day'>,\n",
              "    'trail_percent': None,\n",
              "    'trail_price': None,\n",
              "    'type': <OrderType.MARKET: 'market'>,\n",
              "    'updated_at': datetime.datetime(2025, 6, 9, 15, 59, 29, 230489, tzinfo=TzInfo(UTC))}"
            ]
          },
          "execution_count": 41,
          "metadata": {},
          "output_type": "execute_result"
        }
      ],
      "source": [
        "# bracket order with both stop loss and take profit\n",
        "req = MarketOrderRequest(\n",
        "                    symbol = symbol,\n",
        "                    qty = 5,\n",
        "                    side = OrderSide.BUY,\n",
        "                    time_in_force = TimeInForce.DAY,\n",
        "                    order_class = OrderClass.BRACKET,\n",
        "                    take_profit = TakeProfitRequest(limit_price=600),\n",
        "                    stop_loss = StopLossRequest(stop_price=300)\n",
        ")\n",
        "res = trade_client.submit_order(req)\n",
        "res"
      ]
    },
    {
      "cell_type": "code",
      "execution_count": 42,
      "metadata": {
        "colab": {
          "base_uri": "https://localhost:8080/"
        },
        "id": "dHvWQdPkKvAJ",
        "outputId": "89575d3c-7b43-4004-e766-d8444779690f"
      },
      "outputs": [
        {
          "data": {
            "text/plain": [
              "{   'asset_class': <AssetClass.US_EQUITY: 'us_equity'>,\n",
              "    'asset_id': UUID('b28f4066-5c6d-479b-a2af-85dc1a8f16fb'),\n",
              "    'canceled_at': None,\n",
              "    'client_order_id': '4009ef7d-9639-43d9-978a-e383fb6918a3',\n",
              "    'created_at': datetime.datetime(2025, 6, 9, 15, 59, 40, 88396, tzinfo=TzInfo(UTC)),\n",
              "    'expired_at': None,\n",
              "    'expires_at': datetime.datetime(2025, 6, 9, 20, 0, tzinfo=TzInfo(UTC)),\n",
              "    'extended_hours': False,\n",
              "    'failed_at': None,\n",
              "    'filled_at': None,\n",
              "    'filled_avg_price': None,\n",
              "    'filled_qty': '0',\n",
              "    'hwm': None,\n",
              "    'id': UUID('25e80f43-18a7-45e3-ba74-2f1b4af2e596'),\n",
              "    'legs': None,\n",
              "    'limit_price': '500',\n",
              "    'notional': None,\n",
              "    'order_class': <OrderClass.SIMPLE: 'simple'>,\n",
              "    'order_type': <OrderType.LIMIT: 'limit'>,\n",
              "    'position_intent': <PositionIntent.BUY_TO_OPEN: 'buy_to_open'>,\n",
              "    'qty': '1',\n",
              "    'ratio_qty': None,\n",
              "    'replaced_at': None,\n",
              "    'replaced_by': None,\n",
              "    'replaces': None,\n",
              "    'side': <OrderSide.BUY: 'buy'>,\n",
              "    'status': <OrderStatus.PENDING_NEW: 'pending_new'>,\n",
              "    'stop_price': None,\n",
              "    'submitted_at': datetime.datetime(2025, 6, 9, 15, 59, 40, 88396, tzinfo=TzInfo(UTC)),\n",
              "    'symbol': 'SPY',\n",
              "    'time_in_force': <TimeInForce.DAY: 'day'>,\n",
              "    'trail_percent': None,\n",
              "    'trail_price': None,\n",
              "    'type': <OrderType.LIMIT: 'limit'>,\n",
              "    'updated_at': datetime.datetime(2025, 6, 9, 15, 59, 40, 89404, tzinfo=TzInfo(UTC))}"
            ]
          },
          "execution_count": 42,
          "metadata": {},
          "output_type": "execute_result"
        }
      ],
      "source": [
        "# oto order with stop loss\n",
        "req = LimitOrderRequest(\n",
        "                    symbol = symbol,\n",
        "                    qty = 1,\n",
        "                    limit_price = 500,\n",
        "                    side = OrderSide.BUY,\n",
        "                    time_in_force = TimeInForce.DAY,\n",
        "                    Class = OrderClass.OTO,\n",
        "                    stop_loss = StopLossRequest(stop_price = 300)\n",
        "                    )\n",
        "\n",
        "res = trade_client.submit_order(req)\n",
        "res"
      ]
    },
    {
      "cell_type": "code",
      "execution_count": 43,
      "metadata": {
        "colab": {
          "base_uri": "https://localhost:8080/"
        },
        "id": "kkLjeJJpKvAJ",
        "outputId": "746a0023-e314-49c8-b9fb-ce50d472db8c"
      },
      "outputs": [
        {
          "data": {
            "text/plain": [
              "{   'asset_class': <AssetClass.US_EQUITY: 'us_equity'>,\n",
              "    'asset_id': UUID('b28f4066-5c6d-479b-a2af-85dc1a8f16fb'),\n",
              "    'canceled_at': None,\n",
              "    'client_order_id': '3757ceab-caaf-40fe-8090-9dfe9b29a307',\n",
              "    'created_at': datetime.datetime(2025, 6, 9, 15, 59, 46, 127331, tzinfo=TzInfo(UTC)),\n",
              "    'expired_at': None,\n",
              "    'expires_at': datetime.datetime(2025, 6, 9, 20, 0, tzinfo=TzInfo(UTC)),\n",
              "    'extended_hours': False,\n",
              "    'failed_at': None,\n",
              "    'filled_at': None,\n",
              "    'filled_avg_price': None,\n",
              "    'filled_qty': '0',\n",
              "    'hwm': None,\n",
              "    'id': UUID('da324acc-43fe-4c11-bd7f-d7e2865a94a9'),\n",
              "    'legs': None,\n",
              "    'limit_price': '500',\n",
              "    'notional': None,\n",
              "    'order_class': <OrderClass.SIMPLE: 'simple'>,\n",
              "    'order_type': <OrderType.LIMIT: 'limit'>,\n",
              "    'position_intent': <PositionIntent.BUY_TO_OPEN: 'buy_to_open'>,\n",
              "    'qty': '1',\n",
              "    'ratio_qty': None,\n",
              "    'replaced_at': None,\n",
              "    'replaced_by': None,\n",
              "    'replaces': None,\n",
              "    'side': <OrderSide.BUY: 'buy'>,\n",
              "    'status': <OrderStatus.PENDING_NEW: 'pending_new'>,\n",
              "    'stop_price': None,\n",
              "    'submitted_at': datetime.datetime(2025, 6, 9, 15, 59, 46, 127331, tzinfo=TzInfo(UTC)),\n",
              "    'symbol': 'SPY',\n",
              "    'time_in_force': <TimeInForce.DAY: 'day'>,\n",
              "    'trail_percent': None,\n",
              "    'trail_price': None,\n",
              "    'type': <OrderType.LIMIT: 'limit'>,\n",
              "    'updated_at': datetime.datetime(2025, 6, 9, 15, 59, 46, 128396, tzinfo=TzInfo(UTC))}"
            ]
          },
          "execution_count": 43,
          "metadata": {},
          "output_type": "execute_result"
        }
      ],
      "source": [
        "# oco limit order\n",
        "req = LimitOrderRequest(\n",
        "                    symbol = symbol,\n",
        "                    qty = 1,\n",
        "                    limit_price = 500,\n",
        "                    side = OrderSide.BUY,\n",
        "                    time_in_force = TimeInForce.DAY,\n",
        "                    Class = OrderClass.OCO\n",
        "                    )\n",
        "\n",
        "res = trade_client.submit_order(req)\n",
        "res"
      ]
    },
    {
      "cell_type": "code",
      "execution_count": 44,
      "metadata": {
        "colab": {
          "base_uri": "https://localhost:8080/"
        },
        "id": "WujoxoUhKvAJ",
        "outputId": "135be769-7353-4dfc-dd0c-17e35f5fad5e"
      },
      "outputs": [
        {
          "data": {
            "text/plain": [
              "{   'asset_class': <AssetClass.US_EQUITY: 'us_equity'>,\n",
              "    'asset_id': UUID('b28f4066-5c6d-479b-a2af-85dc1a8f16fb'),\n",
              "    'canceled_at': None,\n",
              "    'client_order_id': '17fed82a-3161-40b7-b142-44e43bd3d296',\n",
              "    'created_at': datetime.datetime(2025, 6, 9, 15, 59, 48, 861363, tzinfo=TzInfo(UTC)),\n",
              "    'expired_at': None,\n",
              "    'expires_at': datetime.datetime(2025, 9, 5, 20, 0, tzinfo=TzInfo(UTC)),\n",
              "    'extended_hours': False,\n",
              "    'failed_at': None,\n",
              "    'filled_at': None,\n",
              "    'filled_avg_price': None,\n",
              "    'filled_qty': '0',\n",
              "    'hwm': '599.86',\n",
              "    'id': UUID('e0ee86c9-b9f8-465c-be2f-8beaff548298'),\n",
              "    'legs': None,\n",
              "    'limit_price': None,\n",
              "    'notional': None,\n",
              "    'order_class': <OrderClass.SIMPLE: 'simple'>,\n",
              "    'order_type': <OrderType.TRAILING_STOP: 'trailing_stop'>,\n",
              "    'position_intent': <PositionIntent.SELL_TO_CLOSE: 'sell_to_close'>,\n",
              "    'qty': '1',\n",
              "    'ratio_qty': None,\n",
              "    'replaced_at': None,\n",
              "    'replaced_by': None,\n",
              "    'replaces': None,\n",
              "    'side': <OrderSide.SELL: 'sell'>,\n",
              "    'status': <OrderStatus.NEW: 'new'>,\n",
              "    'stop_price': '598.66028',\n",
              "    'submitted_at': datetime.datetime(2025, 6, 9, 15, 59, 48, 861363, tzinfo=TzInfo(UTC)),\n",
              "    'symbol': 'SPY',\n",
              "    'time_in_force': <TimeInForce.GTC: 'gtc'>,\n",
              "    'trail_percent': '0.2',\n",
              "    'trail_price': None,\n",
              "    'type': <OrderType.TRAILING_STOP: 'trailing_stop'>,\n",
              "    'updated_at': datetime.datetime(2025, 6, 9, 15, 59, 48, 862182, tzinfo=TzInfo(UTC))}"
            ]
          },
          "execution_count": 44,
          "metadata": {},
          "output_type": "execute_result"
        }
      ],
      "source": [
        "# trailing stop order\n",
        "req = TrailingStopOrderRequest(\n",
        "                    symbol = symbol,\n",
        "                    qty = 1,\n",
        "                    side = OrderSide.SELL,\n",
        "                    time_in_force = TimeInForce.GTC,\n",
        "                    trail_percent = 0.20 # you can also use trail_price instead of trail_percent\n",
        "                    )\n",
        "\n",
        "res = trade_client.submit_order(req)\n",
        "res"
      ]
    },
    {
      "cell_type": "code",
      "execution_count": 45,
      "metadata": {
        "colab": {
          "base_uri": "https://localhost:8080/"
        },
        "id": "8aM0U0XlKvAJ",
        "outputId": "08451215-3783-4c76-f6f3-372866e44667"
      },
      "outputs": [
        {
          "data": {
            "text/plain": [
              "[{   'asset_class': <AssetClass.US_EQUITY: 'us_equity'>,\n",
              "     'asset_id': UUID('b28f4066-5c6d-479b-a2af-85dc1a8f16fb'),\n",
              "     'canceled_at': None,\n",
              "     'client_order_id': '17fed82a-3161-40b7-b142-44e43bd3d296',\n",
              "     'created_at': datetime.datetime(2025, 6, 9, 15, 59, 48, 861363, tzinfo=TzInfo(UTC)),\n",
              "     'expired_at': None,\n",
              "     'expires_at': datetime.datetime(2025, 9, 5, 20, 0, tzinfo=TzInfo(UTC)),\n",
              "     'extended_hours': False,\n",
              "     'failed_at': None,\n",
              "     'filled_at': None,\n",
              "     'filled_avg_price': None,\n",
              "     'filled_qty': '0',\n",
              "     'hwm': '599.86',\n",
              "     'id': UUID('e0ee86c9-b9f8-465c-be2f-8beaff548298'),\n",
              "     'legs': None,\n",
              "     'limit_price': None,\n",
              "     'notional': None,\n",
              "     'order_class': <OrderClass.SIMPLE: 'simple'>,\n",
              "     'order_type': <OrderType.TRAILING_STOP: 'trailing_stop'>,\n",
              "     'position_intent': <PositionIntent.SELL_TO_CLOSE: 'sell_to_close'>,\n",
              "     'qty': '1',\n",
              "     'ratio_qty': None,\n",
              "     'replaced_at': None,\n",
              "     'replaced_by': None,\n",
              "     'replaces': None,\n",
              "     'side': <OrderSide.SELL: 'sell'>,\n",
              "     'status': <OrderStatus.NEW: 'new'>,\n",
              "     'stop_price': '598.66028',\n",
              "     'submitted_at': datetime.datetime(2025, 6, 9, 15, 59, 48, 861363, tzinfo=TzInfo(UTC)),\n",
              "     'symbol': 'SPY',\n",
              "     'time_in_force': <TimeInForce.GTC: 'gtc'>,\n",
              "     'trail_percent': '0.2',\n",
              "     'trail_price': None,\n",
              "     'type': <OrderType.TRAILING_STOP: 'trailing_stop'>,\n",
              "     'updated_at': datetime.datetime(2025, 6, 9, 15, 59, 48, 862182, tzinfo=TzInfo(UTC))},\n",
              " {   'asset_class': <AssetClass.US_EQUITY: 'us_equity'>,\n",
              "     'asset_id': UUID('b28f4066-5c6d-479b-a2af-85dc1a8f16fb'),\n",
              "     'canceled_at': None,\n",
              "     'client_order_id': '3757ceab-caaf-40fe-8090-9dfe9b29a307',\n",
              "     'created_at': datetime.datetime(2025, 6, 9, 15, 59, 46, 127331, tzinfo=TzInfo(UTC)),\n",
              "     'expired_at': None,\n",
              "     'expires_at': datetime.datetime(2025, 6, 9, 20, 0, tzinfo=TzInfo(UTC)),\n",
              "     'extended_hours': False,\n",
              "     'failed_at': None,\n",
              "     'filled_at': None,\n",
              "     'filled_avg_price': None,\n",
              "     'filled_qty': '0',\n",
              "     'hwm': None,\n",
              "     'id': UUID('da324acc-43fe-4c11-bd7f-d7e2865a94a9'),\n",
              "     'legs': None,\n",
              "     'limit_price': '500',\n",
              "     'notional': None,\n",
              "     'order_class': <OrderClass.SIMPLE: 'simple'>,\n",
              "     'order_type': <OrderType.LIMIT: 'limit'>,\n",
              "     'position_intent': <PositionIntent.BUY_TO_OPEN: 'buy_to_open'>,\n",
              "     'qty': '1',\n",
              "     'ratio_qty': None,\n",
              "     'replaced_at': None,\n",
              "     'replaced_by': None,\n",
              "     'replaces': None,\n",
              "     'side': <OrderSide.BUY: 'buy'>,\n",
              "     'status': <OrderStatus.NEW: 'new'>,\n",
              "     'stop_price': None,\n",
              "     'submitted_at': datetime.datetime(2025, 6, 9, 15, 59, 46, 139903, tzinfo=TzInfo(UTC)),\n",
              "     'symbol': 'SPY',\n",
              "     'time_in_force': <TimeInForce.DAY: 'day'>,\n",
              "     'trail_percent': None,\n",
              "     'trail_price': None,\n",
              "     'type': <OrderType.LIMIT: 'limit'>,\n",
              "     'updated_at': datetime.datetime(2025, 6, 9, 15, 59, 46, 141058, tzinfo=TzInfo(UTC))},\n",
              " {   'asset_class': <AssetClass.US_EQUITY: 'us_equity'>,\n",
              "     'asset_id': UUID('b28f4066-5c6d-479b-a2af-85dc1a8f16fb'),\n",
              "     'canceled_at': None,\n",
              "     'client_order_id': '4009ef7d-9639-43d9-978a-e383fb6918a3',\n",
              "     'created_at': datetime.datetime(2025, 6, 9, 15, 59, 40, 88396, tzinfo=TzInfo(UTC)),\n",
              "     'expired_at': None,\n",
              "     'expires_at': datetime.datetime(2025, 6, 9, 20, 0, tzinfo=TzInfo(UTC)),\n",
              "     'extended_hours': False,\n",
              "     'failed_at': None,\n",
              "     'filled_at': None,\n",
              "     'filled_avg_price': None,\n",
              "     'filled_qty': '0',\n",
              "     'hwm': None,\n",
              "     'id': UUID('25e80f43-18a7-45e3-ba74-2f1b4af2e596'),\n",
              "     'legs': None,\n",
              "     'limit_price': '500',\n",
              "     'notional': None,\n",
              "     'order_class': <OrderClass.SIMPLE: 'simple'>,\n",
              "     'order_type': <OrderType.LIMIT: 'limit'>,\n",
              "     'position_intent': <PositionIntent.BUY_TO_OPEN: 'buy_to_open'>,\n",
              "     'qty': '1',\n",
              "     'ratio_qty': None,\n",
              "     'replaced_at': None,\n",
              "     'replaced_by': None,\n",
              "     'replaces': None,\n",
              "     'side': <OrderSide.BUY: 'buy'>,\n",
              "     'status': <OrderStatus.NEW: 'new'>,\n",
              "     'stop_price': None,\n",
              "     'submitted_at': datetime.datetime(2025, 6, 9, 15, 59, 40, 99011, tzinfo=TzInfo(UTC)),\n",
              "     'symbol': 'SPY',\n",
              "     'time_in_force': <TimeInForce.DAY: 'day'>,\n",
              "     'trail_percent': None,\n",
              "     'trail_price': None,\n",
              "     'type': <OrderType.LIMIT: 'limit'>,\n",
              "     'updated_at': datetime.datetime(2025, 6, 9, 15, 59, 40, 100109, tzinfo=TzInfo(UTC))},\n",
              " {   'asset_class': <AssetClass.US_EQUITY: 'us_equity'>,\n",
              "     'asset_id': UUID('b28f4066-5c6d-479b-a2af-85dc1a8f16fb'),\n",
              "     'canceled_at': None,\n",
              "     'client_order_id': 'cb895cb2-3d14-4897-b5b7-b35666638928',\n",
              "     'created_at': datetime.datetime(2025, 6, 9, 15, 59, 29, 229419, tzinfo=TzInfo(UTC)),\n",
              "     'expired_at': None,\n",
              "     'expires_at': datetime.datetime(2025, 6, 9, 20, 0, tzinfo=TzInfo(UTC)),\n",
              "     'extended_hours': False,\n",
              "     'failed_at': None,\n",
              "     'filled_at': None,\n",
              "     'filled_avg_price': None,\n",
              "     'filled_qty': '0',\n",
              "     'hwm': None,\n",
              "     'id': UUID('dddee252-eec3-4d3d-bf02-c6c6462c1811'),\n",
              "     'legs': None,\n",
              "     'limit_price': '600',\n",
              "     'notional': None,\n",
              "     'order_class': <OrderClass.BRACKET: 'bracket'>,\n",
              "     'order_type': <OrderType.LIMIT: 'limit'>,\n",
              "     'position_intent': <PositionIntent.SELL_TO_CLOSE: 'sell_to_close'>,\n",
              "     'qty': '5',\n",
              "     'ratio_qty': None,\n",
              "     'replaced_at': None,\n",
              "     'replaced_by': None,\n",
              "     'replaces': None,\n",
              "     'side': <OrderSide.SELL: 'sell'>,\n",
              "     'status': <OrderStatus.NEW: 'new'>,\n",
              "     'stop_price': None,\n",
              "     'submitted_at': datetime.datetime(2025, 6, 9, 15, 59, 30, 248966, tzinfo=TzInfo(UTC)),\n",
              "     'symbol': 'SPY',\n",
              "     'time_in_force': <TimeInForce.DAY: 'day'>,\n",
              "     'trail_percent': None,\n",
              "     'trail_price': None,\n",
              "     'type': <OrderType.LIMIT: 'limit'>,\n",
              "     'updated_at': datetime.datetime(2025, 6, 9, 15, 59, 30, 250215, tzinfo=TzInfo(UTC))},\n",
              " {   'asset_class': <AssetClass.US_EQUITY: 'us_equity'>,\n",
              "     'asset_id': UUID('b28f4066-5c6d-479b-a2af-85dc1a8f16fb'),\n",
              "     'canceled_at': None,\n",
              "     'client_order_id': 'b79e9b3b-702a-4374-8fe9-f27dcf9a9901',\n",
              "     'created_at': datetime.datetime(2025, 6, 9, 15, 59, 29, 229419, tzinfo=TzInfo(UTC)),\n",
              "     'expired_at': None,\n",
              "     'expires_at': datetime.datetime(2025, 6, 9, 20, 0, tzinfo=TzInfo(UTC)),\n",
              "     'extended_hours': False,\n",
              "     'failed_at': None,\n",
              "     'filled_at': datetime.datetime(2025, 6, 9, 15, 59, 30, 233396, tzinfo=TzInfo(UTC)),\n",
              "     'filled_avg_price': '599.84',\n",
              "     'filled_qty': '5',\n",
              "     'hwm': None,\n",
              "     'id': UUID('ed7e0be3-ce9a-46dd-b9ad-78aa07ad349e'),\n",
              "     'legs': None,\n",
              "     'limit_price': None,\n",
              "     'notional': None,\n",
              "     'order_class': <OrderClass.BRACKET: 'bracket'>,\n",
              "     'order_type': <OrderType.MARKET: 'market'>,\n",
              "     'position_intent': <PositionIntent.BUY_TO_OPEN: 'buy_to_open'>,\n",
              "     'qty': '5',\n",
              "     'ratio_qty': None,\n",
              "     'replaced_at': None,\n",
              "     'replaced_by': None,\n",
              "     'replaces': None,\n",
              "     'side': <OrderSide.BUY: 'buy'>,\n",
              "     'status': <OrderStatus.FILLED: 'filled'>,\n",
              "     'stop_price': None,\n",
              "     'submitted_at': datetime.datetime(2025, 6, 9, 15, 59, 29, 233944, tzinfo=TzInfo(UTC)),\n",
              "     'symbol': 'SPY',\n",
              "     'time_in_force': <TimeInForce.DAY: 'day'>,\n",
              "     'trail_percent': None,\n",
              "     'trail_price': None,\n",
              "     'type': <OrderType.MARKET: 'market'>,\n",
              "     'updated_at': datetime.datetime(2025, 6, 9, 15, 59, 30, 235371, tzinfo=TzInfo(UTC))},\n",
              " {   'asset_class': <AssetClass.US_EQUITY: 'us_equity'>,\n",
              "     'asset_id': UUID('b28f4066-5c6d-479b-a2af-85dc1a8f16fb'),\n",
              "     'canceled_at': None,\n",
              "     'client_order_id': 'f7371470-40eb-4aef-a3c8-b16e476bbd82',\n",
              "     'created_at': datetime.datetime(2025, 6, 9, 15, 59, 29, 229419, tzinfo=TzInfo(UTC)),\n",
              "     'expired_at': None,\n",
              "     'expires_at': datetime.datetime(2025, 6, 9, 20, 0, tzinfo=TzInfo(UTC)),\n",
              "     'extended_hours': False,\n",
              "     'failed_at': None,\n",
              "     'filled_at': None,\n",
              "     'filled_avg_price': None,\n",
              "     'filled_qty': '0',\n",
              "     'hwm': None,\n",
              "     'id': UUID('29c6d080-35b8-44ba-a72b-70af5df37857'),\n",
              "     'legs': None,\n",
              "     'limit_price': None,\n",
              "     'notional': None,\n",
              "     'order_class': <OrderClass.BRACKET: 'bracket'>,\n",
              "     'order_type': <OrderType.STOP: 'stop'>,\n",
              "     'position_intent': <PositionIntent.SELL_TO_CLOSE: 'sell_to_close'>,\n",
              "     'qty': '5',\n",
              "     'ratio_qty': None,\n",
              "     'replaced_at': None,\n",
              "     'replaced_by': None,\n",
              "     'replaces': None,\n",
              "     'side': <OrderSide.SELL: 'sell'>,\n",
              "     'status': <OrderStatus.HELD: 'held'>,\n",
              "     'stop_price': '300',\n",
              "     'submitted_at': datetime.datetime(2025, 6, 9, 15, 59, 29, 229419, tzinfo=TzInfo(UTC)),\n",
              "     'symbol': 'SPY',\n",
              "     'time_in_force': <TimeInForce.DAY: 'day'>,\n",
              "     'trail_percent': None,\n",
              "     'trail_price': None,\n",
              "     'type': <OrderType.STOP: 'stop'>,\n",
              "     'updated_at': datetime.datetime(2025, 6, 9, 15, 59, 29, 230438, tzinfo=TzInfo(UTC))},\n",
              " {   'asset_class': <AssetClass.US_EQUITY: 'us_equity'>,\n",
              "     'asset_id': UUID('b28f4066-5c6d-479b-a2af-85dc1a8f16fb'),\n",
              "     'canceled_at': None,\n",
              "     'client_order_id': '326ada7e-0525-40ff-a26d-56a44dc71911',\n",
              "     'created_at': datetime.datetime(2025, 6, 9, 15, 59, 26, 312944, tzinfo=TzInfo(UTC)),\n",
              "     'expired_at': None,\n",
              "     'expires_at': datetime.datetime(2025, 9, 5, 20, 0, tzinfo=TzInfo(UTC)),\n",
              "     'extended_hours': False,\n",
              "     'failed_at': None,\n",
              "     'filled_at': None,\n",
              "     'filled_avg_price': None,\n",
              "     'filled_qty': '0',\n",
              "     'hwm': None,\n",
              "     'id': UUID('38921fb0-d447-4b2e-a1e6-c0bc5fadf8a4'),\n",
              "     'legs': None,\n",
              "     'limit_price': '550',\n",
              "     'notional': None,\n",
              "     'order_class': <OrderClass.SIMPLE: 'simple'>,\n",
              "     'order_type': <OrderType.STOP_LIMIT: 'stop_limit'>,\n",
              "     'position_intent': <PositionIntent.BUY_TO_OPEN: 'buy_to_open'>,\n",
              "     'qty': '1',\n",
              "     'ratio_qty': None,\n",
              "     'replaced_at': None,\n",
              "     'replaced_by': None,\n",
              "     'replaces': None,\n",
              "     'side': <OrderSide.BUY: 'buy'>,\n",
              "     'status': <OrderStatus.NEW: 'new'>,\n",
              "     'stop_price': '600',\n",
              "     'submitted_at': datetime.datetime(2025, 6, 9, 15, 59, 26, 318193, tzinfo=TzInfo(UTC)),\n",
              "     'symbol': 'SPY',\n",
              "     'time_in_force': <TimeInForce.GTC: 'gtc'>,\n",
              "     'trail_percent': None,\n",
              "     'trail_price': None,\n",
              "     'type': <OrderType.STOP_LIMIT: 'stop_limit'>,\n",
              "     'updated_at': datetime.datetime(2025, 6, 9, 15, 59, 26, 319519, tzinfo=TzInfo(UTC))},\n",
              " {   'asset_class': <AssetClass.US_EQUITY: 'us_equity'>,\n",
              "     'asset_id': UUID('b28f4066-5c6d-479b-a2af-85dc1a8f16fb'),\n",
              "     'canceled_at': None,\n",
              "     'client_order_id': '8edfdf43-f01e-4fe5-a99d-9ae2a0bc4c76',\n",
              "     'created_at': datetime.datetime(2025, 6, 9, 15, 59, 18, 273594, tzinfo=TzInfo(UTC)),\n",
              "     'expired_at': None,\n",
              "     'expires_at': datetime.datetime(2025, 9, 5, 20, 0, tzinfo=TzInfo(UTC)),\n",
              "     'extended_hours': False,\n",
              "     'failed_at': None,\n",
              "     'filled_at': None,\n",
              "     'filled_avg_price': None,\n",
              "     'filled_qty': '0',\n",
              "     'hwm': None,\n",
              "     'id': UUID('3eed1474-109e-4752-b7c5-cafd6265c1de'),\n",
              "     'legs': None,\n",
              "     'limit_price': None,\n",
              "     'notional': None,\n",
              "     'order_class': <OrderClass.SIMPLE: 'simple'>,\n",
              "     'order_type': <OrderType.STOP: 'stop'>,\n",
              "     'position_intent': <PositionIntent.BUY_TO_OPEN: 'buy_to_open'>,\n",
              "     'qty': '1',\n",
              "     'ratio_qty': None,\n",
              "     'replaced_at': None,\n",
              "     'replaced_by': None,\n",
              "     'replaces': None,\n",
              "     'side': <OrderSide.BUY: 'buy'>,\n",
              "     'status': <OrderStatus.NEW: 'new'>,\n",
              "     'stop_price': '600',\n",
              "     'submitted_at': datetime.datetime(2025, 6, 9, 15, 59, 18, 278548, tzinfo=TzInfo(UTC)),\n",
              "     'symbol': 'SPY',\n",
              "     'time_in_force': <TimeInForce.GTC: 'gtc'>,\n",
              "     'trail_percent': None,\n",
              "     'trail_price': None,\n",
              "     'type': <OrderType.STOP: 'stop'>,\n",
              "     'updated_at': datetime.datetime(2025, 6, 9, 15, 59, 18, 280309, tzinfo=TzInfo(UTC))},\n",
              " {   'asset_class': <AssetClass.US_EQUITY: 'us_equity'>,\n",
              "     'asset_id': UUID('b28f4066-5c6d-479b-a2af-85dc1a8f16fb'),\n",
              "     'canceled_at': None,\n",
              "     'client_order_id': '9ced35c1-f84a-48c9-b6cc-cea1be6c84ea',\n",
              "     'created_at': datetime.datetime(2025, 6, 9, 15, 59, 14, 594530, tzinfo=TzInfo(UTC)),\n",
              "     'expired_at': None,\n",
              "     'expires_at': datetime.datetime(2025, 6, 9, 20, 0, tzinfo=TzInfo(UTC)),\n",
              "     'extended_hours': False,\n",
              "     'failed_at': None,\n",
              "     'filled_at': None,\n",
              "     'filled_avg_price': None,\n",
              "     'filled_qty': '0',\n",
              "     'hwm': None,\n",
              "     'id': UUID('ccc41a38-83a4-480c-b49b-ee33d2a03c95'),\n",
              "     'legs': None,\n",
              "     'limit_price': '550.25',\n",
              "     'notional': None,\n",
              "     'order_class': <OrderClass.SIMPLE: 'simple'>,\n",
              "     'order_type': <OrderType.LIMIT: 'limit'>,\n",
              "     'position_intent': <PositionIntent.BUY_TO_OPEN: 'buy_to_open'>,\n",
              "     'qty': '0.01',\n",
              "     'ratio_qty': None,\n",
              "     'replaced_at': None,\n",
              "     'replaced_by': None,\n",
              "     'replaces': None,\n",
              "     'side': <OrderSide.BUY: 'buy'>,\n",
              "     'status': <OrderStatus.NEW: 'new'>,\n",
              "     'stop_price': None,\n",
              "     'submitted_at': datetime.datetime(2025, 6, 9, 15, 59, 14, 594530, tzinfo=TzInfo(UTC)),\n",
              "     'symbol': 'SPY',\n",
              "     'time_in_force': <TimeInForce.DAY: 'day'>,\n",
              "     'trail_percent': None,\n",
              "     'trail_price': None,\n",
              "     'type': <OrderType.LIMIT: 'limit'>,\n",
              "     'updated_at': datetime.datetime(2025, 6, 9, 15, 59, 14, 598471, tzinfo=TzInfo(UTC))},\n",
              " {   'asset_class': <AssetClass.US_EQUITY: 'us_equity'>,\n",
              "     'asset_id': UUID('b28f4066-5c6d-479b-a2af-85dc1a8f16fb'),\n",
              "     'canceled_at': None,\n",
              "     'client_order_id': 'f8e518d2-7092-4932-9a77-23e59eaa4044',\n",
              "     'created_at': datetime.datetime(2025, 6, 9, 15, 59, 6, 289218, tzinfo=TzInfo(UTC)),\n",
              "     'expired_at': None,\n",
              "     'expires_at': datetime.datetime(2025, 6, 9, 20, 0, tzinfo=TzInfo(UTC)),\n",
              "     'extended_hours': False,\n",
              "     'failed_at': None,\n",
              "     'filled_at': datetime.datetime(2025, 6, 9, 15, 59, 6, 294021, tzinfo=TzInfo(UTC)),\n",
              "     'filled_avg_price': '599.868',\n",
              "     'filled_qty': '0.001833736',\n",
              "     'hwm': None,\n",
              "     'id': UUID('747f0fb1-345e-45f8-b945-a44ef34f651d'),\n",
              "     'legs': None,\n",
              "     'limit_price': None,\n",
              "     'notional': '1.11',\n",
              "     'order_class': <OrderClass.SIMPLE: 'simple'>,\n",
              "     'order_type': <OrderType.MARKET: 'market'>,\n",
              "     'position_intent': <PositionIntent.BUY_TO_OPEN: 'buy_to_open'>,\n",
              "     'qty': None,\n",
              "     'ratio_qty': None,\n",
              "     'replaced_at': None,\n",
              "     'replaced_by': None,\n",
              "     'replaces': None,\n",
              "     'side': <OrderSide.BUY: 'buy'>,\n",
              "     'status': <OrderStatus.FILLED: 'filled'>,\n",
              "     'stop_price': None,\n",
              "     'submitted_at': datetime.datetime(2025, 6, 9, 15, 59, 6, 289218, tzinfo=TzInfo(UTC)),\n",
              "     'symbol': 'SPY',\n",
              "     'time_in_force': <TimeInForce.DAY: 'day'>,\n",
              "     'trail_percent': None,\n",
              "     'trail_price': None,\n",
              "     'type': <OrderType.MARKET: 'market'>,\n",
              "     'updated_at': datetime.datetime(2025, 6, 9, 15, 59, 6, 295149, tzinfo=TzInfo(UTC))},\n",
              " {   'asset_class': <AssetClass.US_EQUITY: 'us_equity'>,\n",
              "     'asset_id': UUID('b28f4066-5c6d-479b-a2af-85dc1a8f16fb'),\n",
              "     'canceled_at': None,\n",
              "     'client_order_id': '1983a64d-3143-4ee8-8f9c-bb8647643f1d',\n",
              "     'created_at': datetime.datetime(2025, 6, 9, 15, 58, 56, 742386, tzinfo=TzInfo(UTC)),\n",
              "     'expired_at': None,\n",
              "     'expires_at': datetime.datetime(2025, 6, 9, 20, 0, tzinfo=TzInfo(UTC)),\n",
              "     'extended_hours': False,\n",
              "     'failed_at': None,\n",
              "     'filled_at': datetime.datetime(2025, 6, 9, 15, 58, 57, 482423, tzinfo=TzInfo(UTC)),\n",
              "     'filled_avg_price': '599.84',\n",
              "     'filled_qty': '5.5',\n",
              "     'hwm': None,\n",
              "     'id': UUID('f717044b-189a-452a-802d-0f9bd1fca6c8'),\n",
              "     'legs': None,\n",
              "     'limit_price': None,\n",
              "     'notional': None,\n",
              "     'order_class': <OrderClass.SIMPLE: 'simple'>,\n",
              "     'order_type': <OrderType.MARKET: 'market'>,\n",
              "     'position_intent': <PositionIntent.BUY_TO_OPEN: 'buy_to_open'>,\n",
              "     'qty': '5.5',\n",
              "     'ratio_qty': None,\n",
              "     'replaced_at': None,\n",
              "     'replaced_by': None,\n",
              "     'replaces': None,\n",
              "     'side': <OrderSide.BUY: 'buy'>,\n",
              "     'status': <OrderStatus.FILLED: 'filled'>,\n",
              "     'stop_price': None,\n",
              "     'submitted_at': datetime.datetime(2025, 6, 9, 15, 58, 56, 747719, tzinfo=TzInfo(UTC)),\n",
              "     'symbol': 'SPY',\n",
              "     'time_in_force': <TimeInForce.DAY: 'day'>,\n",
              "     'trail_percent': None,\n",
              "     'trail_price': None,\n",
              "     'type': <OrderType.MARKET: 'market'>,\n",
              "     'updated_at': datetime.datetime(2025, 6, 9, 15, 58, 57, 484393, tzinfo=TzInfo(UTC))}]"
            ]
          },
          "execution_count": 45,
          "metadata": {},
          "output_type": "execute_result"
        }
      ],
      "source": [
        "# get a list of orders including closed (e.g. filled) orders by specifying symbol\n",
        "req = GetOrdersRequest(\n",
        "    status = QueryOrderStatus.ALL,\n",
        "    symbols = [symbol]\n",
        ")\n",
        "orders = trade_client.get_orders(req)\n",
        "orders"
      ]
    },
    {
      "cell_type": "code",
      "execution_count": 46,
      "metadata": {
        "colab": {
          "base_uri": "https://localhost:8080/"
        },
        "id": "7gVxONxfKvAJ",
        "outputId": "836a508e-67d2-4a70-af1b-e009b049df5c"
      },
      "outputs": [
        {
          "data": {
            "text/plain": [
              "[{   'asset_class': <AssetClass.US_EQUITY: 'us_equity'>,\n",
              "     'asset_id': UUID('b28f4066-5c6d-479b-a2af-85dc1a8f16fb'),\n",
              "     'canceled_at': None,\n",
              "     'client_order_id': '17fed82a-3161-40b7-b142-44e43bd3d296',\n",
              "     'created_at': datetime.datetime(2025, 6, 9, 15, 59, 48, 861363, tzinfo=TzInfo(UTC)),\n",
              "     'expired_at': None,\n",
              "     'expires_at': datetime.datetime(2025, 9, 5, 20, 0, tzinfo=TzInfo(UTC)),\n",
              "     'extended_hours': False,\n",
              "     'failed_at': None,\n",
              "     'filled_at': None,\n",
              "     'filled_avg_price': None,\n",
              "     'filled_qty': '0',\n",
              "     'hwm': '599.8699',\n",
              "     'id': UUID('e0ee86c9-b9f8-465c-be2f-8beaff548298'),\n",
              "     'legs': None,\n",
              "     'limit_price': None,\n",
              "     'notional': None,\n",
              "     'order_class': <OrderClass.SIMPLE: 'simple'>,\n",
              "     'order_type': <OrderType.TRAILING_STOP: 'trailing_stop'>,\n",
              "     'position_intent': <PositionIntent.SELL_TO_CLOSE: 'sell_to_close'>,\n",
              "     'qty': '1',\n",
              "     'ratio_qty': None,\n",
              "     'replaced_at': None,\n",
              "     'replaced_by': None,\n",
              "     'replaces': None,\n",
              "     'side': <OrderSide.SELL: 'sell'>,\n",
              "     'status': <OrderStatus.NEW: 'new'>,\n",
              "     'stop_price': '598.6701602',\n",
              "     'submitted_at': datetime.datetime(2025, 6, 9, 15, 59, 48, 861363, tzinfo=TzInfo(UTC)),\n",
              "     'symbol': 'SPY',\n",
              "     'time_in_force': <TimeInForce.GTC: 'gtc'>,\n",
              "     'trail_percent': '0.2',\n",
              "     'trail_price': None,\n",
              "     'type': <OrderType.TRAILING_STOP: 'trailing_stop'>,\n",
              "     'updated_at': datetime.datetime(2025, 6, 9, 15, 59, 54, 46883, tzinfo=TzInfo(UTC))},\n",
              " {   'asset_class': <AssetClass.US_EQUITY: 'us_equity'>,\n",
              "     'asset_id': UUID('b28f4066-5c6d-479b-a2af-85dc1a8f16fb'),\n",
              "     'canceled_at': None,\n",
              "     'client_order_id': '3757ceab-caaf-40fe-8090-9dfe9b29a307',\n",
              "     'created_at': datetime.datetime(2025, 6, 9, 15, 59, 46, 127331, tzinfo=TzInfo(UTC)),\n",
              "     'expired_at': None,\n",
              "     'expires_at': datetime.datetime(2025, 6, 9, 20, 0, tzinfo=TzInfo(UTC)),\n",
              "     'extended_hours': False,\n",
              "     'failed_at': None,\n",
              "     'filled_at': None,\n",
              "     'filled_avg_price': None,\n",
              "     'filled_qty': '0',\n",
              "     'hwm': None,\n",
              "     'id': UUID('da324acc-43fe-4c11-bd7f-d7e2865a94a9'),\n",
              "     'legs': None,\n",
              "     'limit_price': '500',\n",
              "     'notional': None,\n",
              "     'order_class': <OrderClass.SIMPLE: 'simple'>,\n",
              "     'order_type': <OrderType.LIMIT: 'limit'>,\n",
              "     'position_intent': <PositionIntent.BUY_TO_OPEN: 'buy_to_open'>,\n",
              "     'qty': '1',\n",
              "     'ratio_qty': None,\n",
              "     'replaced_at': None,\n",
              "     'replaced_by': None,\n",
              "     'replaces': None,\n",
              "     'side': <OrderSide.BUY: 'buy'>,\n",
              "     'status': <OrderStatus.NEW: 'new'>,\n",
              "     'stop_price': None,\n",
              "     'submitted_at': datetime.datetime(2025, 6, 9, 15, 59, 46, 139903, tzinfo=TzInfo(UTC)),\n",
              "     'symbol': 'SPY',\n",
              "     'time_in_force': <TimeInForce.DAY: 'day'>,\n",
              "     'trail_percent': None,\n",
              "     'trail_price': None,\n",
              "     'type': <OrderType.LIMIT: 'limit'>,\n",
              "     'updated_at': datetime.datetime(2025, 6, 9, 15, 59, 46, 141059, tzinfo=TzInfo(UTC))},\n",
              " {   'asset_class': <AssetClass.US_EQUITY: 'us_equity'>,\n",
              "     'asset_id': UUID('b28f4066-5c6d-479b-a2af-85dc1a8f16fb'),\n",
              "     'canceled_at': None,\n",
              "     'client_order_id': '4009ef7d-9639-43d9-978a-e383fb6918a3',\n",
              "     'created_at': datetime.datetime(2025, 6, 9, 15, 59, 40, 88397, tzinfo=TzInfo(UTC)),\n",
              "     'expired_at': None,\n",
              "     'expires_at': datetime.datetime(2025, 6, 9, 20, 0, tzinfo=TzInfo(UTC)),\n",
              "     'extended_hours': False,\n",
              "     'failed_at': None,\n",
              "     'filled_at': None,\n",
              "     'filled_avg_price': None,\n",
              "     'filled_qty': '0',\n",
              "     'hwm': None,\n",
              "     'id': UUID('25e80f43-18a7-45e3-ba74-2f1b4af2e596'),\n",
              "     'legs': None,\n",
              "     'limit_price': '500',\n",
              "     'notional': None,\n",
              "     'order_class': <OrderClass.SIMPLE: 'simple'>,\n",
              "     'order_type': <OrderType.LIMIT: 'limit'>,\n",
              "     'position_intent': <PositionIntent.BUY_TO_OPEN: 'buy_to_open'>,\n",
              "     'qty': '1',\n",
              "     'ratio_qty': None,\n",
              "     'replaced_at': None,\n",
              "     'replaced_by': None,\n",
              "     'replaces': None,\n",
              "     'side': <OrderSide.BUY: 'buy'>,\n",
              "     'status': <OrderStatus.NEW: 'new'>,\n",
              "     'stop_price': None,\n",
              "     'submitted_at': datetime.datetime(2025, 6, 9, 15, 59, 40, 99011, tzinfo=TzInfo(UTC)),\n",
              "     'symbol': 'SPY',\n",
              "     'time_in_force': <TimeInForce.DAY: 'day'>,\n",
              "     'trail_percent': None,\n",
              "     'trail_price': None,\n",
              "     'type': <OrderType.LIMIT: 'limit'>,\n",
              "     'updated_at': datetime.datetime(2025, 6, 9, 15, 59, 40, 100110, tzinfo=TzInfo(UTC))},\n",
              " {   'asset_class': <AssetClass.US_EQUITY: 'us_equity'>,\n",
              "     'asset_id': UUID('b28f4066-5c6d-479b-a2af-85dc1a8f16fb'),\n",
              "     'canceled_at': None,\n",
              "     'client_order_id': 'cb895cb2-3d14-4897-b5b7-b35666638928',\n",
              "     'created_at': datetime.datetime(2025, 6, 9, 15, 59, 29, 229419, tzinfo=TzInfo(UTC)),\n",
              "     'expired_at': None,\n",
              "     'expires_at': datetime.datetime(2025, 6, 9, 20, 0, tzinfo=TzInfo(UTC)),\n",
              "     'extended_hours': False,\n",
              "     'failed_at': None,\n",
              "     'filled_at': None,\n",
              "     'filled_avg_price': None,\n",
              "     'filled_qty': '0',\n",
              "     'hwm': None,\n",
              "     'id': UUID('dddee252-eec3-4d3d-bf02-c6c6462c1811'),\n",
              "     'legs': None,\n",
              "     'limit_price': '600',\n",
              "     'notional': None,\n",
              "     'order_class': <OrderClass.BRACKET: 'bracket'>,\n",
              "     'order_type': <OrderType.LIMIT: 'limit'>,\n",
              "     'position_intent': <PositionIntent.SELL_TO_CLOSE: 'sell_to_close'>,\n",
              "     'qty': '5',\n",
              "     'ratio_qty': None,\n",
              "     'replaced_at': None,\n",
              "     'replaced_by': None,\n",
              "     'replaces': None,\n",
              "     'side': <OrderSide.SELL: 'sell'>,\n",
              "     'status': <OrderStatus.NEW: 'new'>,\n",
              "     'stop_price': None,\n",
              "     'submitted_at': datetime.datetime(2025, 6, 9, 15, 59, 30, 248966, tzinfo=TzInfo(UTC)),\n",
              "     'symbol': 'SPY',\n",
              "     'time_in_force': <TimeInForce.DAY: 'day'>,\n",
              "     'trail_percent': None,\n",
              "     'trail_price': None,\n",
              "     'type': <OrderType.LIMIT: 'limit'>,\n",
              "     'updated_at': datetime.datetime(2025, 6, 9, 15, 59, 30, 250215, tzinfo=TzInfo(UTC))},\n",
              " {   'asset_class': <AssetClass.US_EQUITY: 'us_equity'>,\n",
              "     'asset_id': UUID('b28f4066-5c6d-479b-a2af-85dc1a8f16fb'),\n",
              "     'canceled_at': None,\n",
              "     'client_order_id': '326ada7e-0525-40ff-a26d-56a44dc71911',\n",
              "     'created_at': datetime.datetime(2025, 6, 9, 15, 59, 26, 312944, tzinfo=TzInfo(UTC)),\n",
              "     'expired_at': None,\n",
              "     'expires_at': datetime.datetime(2025, 9, 5, 20, 0, tzinfo=TzInfo(UTC)),\n",
              "     'extended_hours': False,\n",
              "     'failed_at': None,\n",
              "     'filled_at': None,\n",
              "     'filled_avg_price': None,\n",
              "     'filled_qty': '0',\n",
              "     'hwm': None,\n",
              "     'id': UUID('38921fb0-d447-4b2e-a1e6-c0bc5fadf8a4'),\n",
              "     'legs': None,\n",
              "     'limit_price': '550',\n",
              "     'notional': None,\n",
              "     'order_class': <OrderClass.SIMPLE: 'simple'>,\n",
              "     'order_type': <OrderType.STOP_LIMIT: 'stop_limit'>,\n",
              "     'position_intent': <PositionIntent.BUY_TO_OPEN: 'buy_to_open'>,\n",
              "     'qty': '1',\n",
              "     'ratio_qty': None,\n",
              "     'replaced_at': None,\n",
              "     'replaced_by': None,\n",
              "     'replaces': None,\n",
              "     'side': <OrderSide.BUY: 'buy'>,\n",
              "     'status': <OrderStatus.NEW: 'new'>,\n",
              "     'stop_price': '600',\n",
              "     'submitted_at': datetime.datetime(2025, 6, 9, 15, 59, 26, 318193, tzinfo=TzInfo(UTC)),\n",
              "     'symbol': 'SPY',\n",
              "     'time_in_force': <TimeInForce.GTC: 'gtc'>,\n",
              "     'trail_percent': None,\n",
              "     'trail_price': None,\n",
              "     'type': <OrderType.STOP_LIMIT: 'stop_limit'>,\n",
              "     'updated_at': datetime.datetime(2025, 6, 9, 15, 59, 26, 319519, tzinfo=TzInfo(UTC))},\n",
              " {   'asset_class': <AssetClass.US_EQUITY: 'us_equity'>,\n",
              "     'asset_id': UUID('b28f4066-5c6d-479b-a2af-85dc1a8f16fb'),\n",
              "     'canceled_at': None,\n",
              "     'client_order_id': '8edfdf43-f01e-4fe5-a99d-9ae2a0bc4c76',\n",
              "     'created_at': datetime.datetime(2025, 6, 9, 15, 59, 18, 273594, tzinfo=TzInfo(UTC)),\n",
              "     'expired_at': None,\n",
              "     'expires_at': datetime.datetime(2025, 9, 5, 20, 0, tzinfo=TzInfo(UTC)),\n",
              "     'extended_hours': False,\n",
              "     'failed_at': None,\n",
              "     'filled_at': None,\n",
              "     'filled_avg_price': None,\n",
              "     'filled_qty': '0',\n",
              "     'hwm': None,\n",
              "     'id': UUID('3eed1474-109e-4752-b7c5-cafd6265c1de'),\n",
              "     'legs': None,\n",
              "     'limit_price': None,\n",
              "     'notional': None,\n",
              "     'order_class': <OrderClass.SIMPLE: 'simple'>,\n",
              "     'order_type': <OrderType.STOP: 'stop'>,\n",
              "     'position_intent': <PositionIntent.BUY_TO_OPEN: 'buy_to_open'>,\n",
              "     'qty': '1',\n",
              "     'ratio_qty': None,\n",
              "     'replaced_at': None,\n",
              "     'replaced_by': None,\n",
              "     'replaces': None,\n",
              "     'side': <OrderSide.BUY: 'buy'>,\n",
              "     'status': <OrderStatus.NEW: 'new'>,\n",
              "     'stop_price': '600',\n",
              "     'submitted_at': datetime.datetime(2025, 6, 9, 15, 59, 18, 278548, tzinfo=TzInfo(UTC)),\n",
              "     'symbol': 'SPY',\n",
              "     'time_in_force': <TimeInForce.GTC: 'gtc'>,\n",
              "     'trail_percent': None,\n",
              "     'trail_price': None,\n",
              "     'type': <OrderType.STOP: 'stop'>,\n",
              "     'updated_at': datetime.datetime(2025, 6, 9, 15, 59, 18, 280309, tzinfo=TzInfo(UTC))},\n",
              " {   'asset_class': <AssetClass.US_EQUITY: 'us_equity'>,\n",
              "     'asset_id': UUID('b28f4066-5c6d-479b-a2af-85dc1a8f16fb'),\n",
              "     'canceled_at': None,\n",
              "     'client_order_id': '9ced35c1-f84a-48c9-b6cc-cea1be6c84ea',\n",
              "     'created_at': datetime.datetime(2025, 6, 9, 15, 59, 14, 594530, tzinfo=TzInfo(UTC)),\n",
              "     'expired_at': None,\n",
              "     'expires_at': datetime.datetime(2025, 6, 9, 20, 0, tzinfo=TzInfo(UTC)),\n",
              "     'extended_hours': False,\n",
              "     'failed_at': None,\n",
              "     'filled_at': None,\n",
              "     'filled_avg_price': None,\n",
              "     'filled_qty': '0',\n",
              "     'hwm': None,\n",
              "     'id': UUID('ccc41a38-83a4-480c-b49b-ee33d2a03c95'),\n",
              "     'legs': None,\n",
              "     'limit_price': '550.25',\n",
              "     'notional': None,\n",
              "     'order_class': <OrderClass.SIMPLE: 'simple'>,\n",
              "     'order_type': <OrderType.LIMIT: 'limit'>,\n",
              "     'position_intent': <PositionIntent.BUY_TO_OPEN: 'buy_to_open'>,\n",
              "     'qty': '0.01',\n",
              "     'ratio_qty': None,\n",
              "     'replaced_at': None,\n",
              "     'replaced_by': None,\n",
              "     'replaces': None,\n",
              "     'side': <OrderSide.BUY: 'buy'>,\n",
              "     'status': <OrderStatus.NEW: 'new'>,\n",
              "     'stop_price': None,\n",
              "     'submitted_at': datetime.datetime(2025, 6, 9, 15, 59, 14, 594530, tzinfo=TzInfo(UTC)),\n",
              "     'symbol': 'SPY',\n",
              "     'time_in_force': <TimeInForce.DAY: 'day'>,\n",
              "     'trail_percent': None,\n",
              "     'trail_price': None,\n",
              "     'type': <OrderType.LIMIT: 'limit'>,\n",
              "     'updated_at': datetime.datetime(2025, 6, 9, 15, 59, 14, 598471, tzinfo=TzInfo(UTC))}]"
            ]
          },
          "execution_count": 46,
          "metadata": {},
          "output_type": "execute_result"
        }
      ],
      "source": [
        "# see all open orders\n",
        "req = GetOrdersRequest(\n",
        "    status = QueryOrderStatus.OPEN,\n",
        "    symbols = [symbol]\n",
        ")\n",
        "open_orders = trade_client.get_orders(req)\n",
        "open_orders"
      ]
    },
    {
      "cell_type": "code",
      "execution_count": 47,
      "metadata": {
        "colab": {
          "base_uri": "https://localhost:8080/"
        },
        "id": "MmyxkY_AKvAJ",
        "outputId": "354abbe5-225a-4e08-f324-24d52073fdcf"
      },
      "outputs": [
        {
          "data": {
            "text/plain": [
              "[{   'body': None,\n",
              "     'id': UUID('25e80f43-18a7-45e3-ba74-2f1b4af2e596'),\n",
              "     'status': 200},\n",
              " {   'body': None,\n",
              "     'id': UUID('38921fb0-d447-4b2e-a1e6-c0bc5fadf8a4'),\n",
              "     'status': 200},\n",
              " {   'body': None,\n",
              "     'id': UUID('3eed1474-109e-4752-b7c5-cafd6265c1de'),\n",
              "     'status': 200},\n",
              " {   'body': None,\n",
              "     'id': UUID('ccc41a38-83a4-480c-b49b-ee33d2a03c95'),\n",
              "     'status': 200},\n",
              " {   'body': None,\n",
              "     'id': UUID('da324acc-43fe-4c11-bd7f-d7e2865a94a9'),\n",
              "     'status': 200},\n",
              " {   'body': None,\n",
              "     'id': UUID('dddee252-eec3-4d3d-bf02-c6c6462c1811'),\n",
              "     'status': 200},\n",
              " {   'body': None,\n",
              "     'id': UUID('e0ee86c9-b9f8-465c-be2f-8beaff548298'),\n",
              "     'status': 200}]"
            ]
          },
          "execution_count": 47,
          "metadata": {},
          "output_type": "execute_result"
        }
      ],
      "source": [
        "# cancel all open orders\n",
        "trade_client.cancel_orders()"
      ]
    },
    {
      "cell_type": "markdown",
      "metadata": {
        "id": "jV0CMJoUKvAJ"
      },
      "source": [
        "### Positions"
      ]
    },
    {
      "cell_type": "code",
      "execution_count": 48,
      "metadata": {
        "colab": {
          "base_uri": "https://localhost:8080/"
        },
        "id": "CNEmyhSqKvAJ",
        "outputId": "b64c2949-89c2-429c-fb12-d5bc9d23984d"
      },
      "outputs": [
        {
          "data": {
            "text/plain": [
              "[{   'asset_class': <AssetClass.US_EQUITY: 'us_equity'>,\n",
              "     'asset_id': UUID('b28f4066-5c6d-479b-a2af-85dc1a8f16fb'),\n",
              "     'asset_marginable': True,\n",
              "     'avg_entry_price': '599.840005',\n",
              "     'avg_entry_swap_rate': None,\n",
              "     'change_today': '0.0011683412891812',\n",
              "     'cost_basis': '6299.42',\n",
              "     'current_price': '599.84',\n",
              "     'exchange': <AssetExchange.ARCA: 'ARCA'>,\n",
              "     'lastday_price': '599.14',\n",
              "     'market_value': '6299.419948',\n",
              "     'qty': '10.501833736',\n",
              "     'qty_available': '10.501833736',\n",
              "     'side': <PositionSide.LONG: 'long'>,\n",
              "     'swap_rate': None,\n",
              "     'symbol': 'SPY',\n",
              "     'unrealized_intraday_pl': '-0.000053',\n",
              "     'unrealized_intraday_plpc': '-0.000000008413473',\n",
              "     'unrealized_pl': '-0.000052',\n",
              "     'unrealized_plpc': '-0.0000000082547282',\n",
              "     'usd': None}]"
            ]
          },
          "execution_count": 48,
          "metadata": {},
          "output_type": "execute_result"
        }
      ],
      "source": [
        "# get all open positions\n",
        "# ref. https://docs.alpaca.markets/reference/getallopenpositions-1\n",
        "positions = trade_client.get_all_positions()\n",
        "positions"
      ]
    },
    {
      "cell_type": "code",
      "execution_count": 49,
      "metadata": {
        "colab": {
          "base_uri": "https://localhost:8080/"
        },
        "id": "uyWQnFBlKvAJ",
        "outputId": "1e08b8c4-623f-4355-9236-a42191853110"
      },
      "outputs": [
        {
          "data": {
            "text/plain": [
              "{   'asset_class': <AssetClass.US_EQUITY: 'us_equity'>,\n",
              "    'asset_id': UUID('b28f4066-5c6d-479b-a2af-85dc1a8f16fb'),\n",
              "    'asset_marginable': True,\n",
              "    'avg_entry_price': '599.840005',\n",
              "    'avg_entry_swap_rate': None,\n",
              "    'change_today': '0.0011017458356978',\n",
              "    'cost_basis': '6299.42',\n",
              "    'current_price': '599.8001',\n",
              "    'exchange': <AssetExchange.ARCA: 'ARCA'>,\n",
              "    'lastday_price': '599.14',\n",
              "    'market_value': '6299.000925',\n",
              "    'qty': '10.501833736',\n",
              "    'qty_available': '10.501833736',\n",
              "    'side': <PositionSide.LONG: 'long'>,\n",
              "    'swap_rate': None,\n",
              "    'symbol': 'SPY',\n",
              "    'unrealized_intraday_pl': '-0.419076',\n",
              "    'unrealized_intraday_plpc': '-0.0000665261246168',\n",
              "    'unrealized_pl': '-0.419075',\n",
              "    'unrealized_plpc': '-0.0000665259658826',\n",
              "    'usd': None}"
            ]
          },
          "execution_count": 49,
          "metadata": {},
          "output_type": "execute_result"
        }
      ],
      "source": [
        "# get positions by symbol\n",
        "# ref. https://docs.alpaca.markets/reference/getopenposition-1\n",
        "position = trade_client.get_open_position(symbol_or_asset_id=symbol)\n",
        "position\n"
      ]
    },
    {
      "cell_type": "code",
      "execution_count": 50,
      "metadata": {
        "colab": {
          "base_uri": "https://localhost:8080/"
        },
        "id": "7BZMVDQ0KvAJ",
        "outputId": "74b3c7d2-b7c4-4003-8d9a-aee252de2239"
      },
      "outputs": [
        {
          "data": {
            "text/plain": [
              "{   'asset_class': <AssetClass.US_EQUITY: 'us_equity'>,\n",
              "    'asset_id': UUID('b28f4066-5c6d-479b-a2af-85dc1a8f16fb'),\n",
              "    'asset_marginable': True,\n",
              "    'avg_entry_price': '599.840005',\n",
              "    'avg_entry_swap_rate': None,\n",
              "    'change_today': '0.0010681977501085',\n",
              "    'cost_basis': '6299.42',\n",
              "    'current_price': '599.78',\n",
              "    'exchange': <AssetExchange.ARCA: 'ARCA'>,\n",
              "    'lastday_price': '599.14',\n",
              "    'market_value': '6298.789838',\n",
              "    'qty': '10.501833736',\n",
              "    'qty_available': '10.501833736',\n",
              "    'side': <PositionSide.LONG: 'long'>,\n",
              "    'swap_rate': None,\n",
              "    'symbol': 'SPY',\n",
              "    'unrealized_intraday_pl': '-0.630163',\n",
              "    'unrealized_intraday_plpc': '-0.000100035082579',\n",
              "    'unrealized_pl': '-0.630162',\n",
              "    'unrealized_plpc': '-0.0001000349238501',\n",
              "    'usd': None}"
            ]
          },
          "execution_count": 50,
          "metadata": {},
          "output_type": "execute_result"
        }
      ],
      "source": [
        "# get positions by asset_id\n",
        "trade_client.get_open_position(symbol_or_asset_id=position.asset_id)"
      ]
    },
    {
      "cell_type": "code",
      "execution_count": 51,
      "metadata": {
        "colab": {
          "base_uri": "https://localhost:8080/"
        },
        "id": "tGcuCSpHKvAJ",
        "outputId": "4b97f12c-cfaf-414d-caa5-b75dc5460aae"
      },
      "outputs": [
        {
          "data": {
            "text/plain": [
              "{   'asset_class': <AssetClass.US_EQUITY: 'us_equity'>,\n",
              "    'asset_id': UUID('b28f4066-5c6d-479b-a2af-85dc1a8f16fb'),\n",
              "    'canceled_at': None,\n",
              "    'client_order_id': '07134e2a-e027-4426-a07b-7501ec8914eb',\n",
              "    'created_at': datetime.datetime(2025, 6, 9, 16, 1, 54, 260893, tzinfo=TzInfo(UTC)),\n",
              "    'expired_at': None,\n",
              "    'expires_at': datetime.datetime(2025, 6, 9, 20, 0, tzinfo=TzInfo(UTC)),\n",
              "    'extended_hours': False,\n",
              "    'failed_at': None,\n",
              "    'filled_at': None,\n",
              "    'filled_avg_price': None,\n",
              "    'filled_qty': '0',\n",
              "    'hwm': None,\n",
              "    'id': UUID('33b2cb93-1398-4508-9f87-b0e4ea15c368'),\n",
              "    'legs': None,\n",
              "    'limit_price': None,\n",
              "    'notional': None,\n",
              "    'order_class': <OrderClass.SIMPLE: 'simple'>,\n",
              "    'order_type': <OrderType.MARKET: 'market'>,\n",
              "    'position_intent': <PositionIntent.SELL_TO_CLOSE: 'sell_to_close'>,\n",
              "    'qty': '0.01',\n",
              "    'ratio_qty': None,\n",
              "    'replaced_at': None,\n",
              "    'replaced_by': None,\n",
              "    'replaces': None,\n",
              "    'side': <OrderSide.SELL: 'sell'>,\n",
              "    'status': <OrderStatus.PENDING_NEW: 'pending_new'>,\n",
              "    'stop_price': None,\n",
              "    'submitted_at': datetime.datetime(2025, 6, 9, 16, 1, 54, 260893, tzinfo=TzInfo(UTC)),\n",
              "    'symbol': 'SPY',\n",
              "    'time_in_force': <TimeInForce.DAY: 'day'>,\n",
              "    'trail_percent': None,\n",
              "    'trail_price': None,\n",
              "    'type': <OrderType.MARKET: 'market'>,\n",
              "    'updated_at': datetime.datetime(2025, 6, 9, 16, 1, 54, 261380, tzinfo=TzInfo(UTC))}"
            ]
          },
          "execution_count": 51,
          "metadata": {},
          "output_type": "execute_result"
        }
      ],
      "source": [
        "# close the position with specifying qty\n",
        "# ref. https://docs.alpaca.markets/reference/deleteopenposition-1\n",
        "trade_client.close_position(\n",
        "    symbol_or_asset_id = symbol,\n",
        "    close_options = ClosePositionRequest(\n",
        "        qty = \"0.01\",\n",
        "    )\n",
        ")"
      ]
    },
    {
      "cell_type": "markdown",
      "metadata": {
        "id": "lNnB3XJ5KvAJ"
      },
      "source": [
        "# Trade Update (Stream)"
      ]
    },
    {
      "cell_type": "markdown",
      "metadata": {
        "id": "T_RUHmvIKvAK"
      },
      "source": [
        "With TradingStream client, you can get updates about trades\n",
        "\n",
        "You can open this notebook in another window and run below cell to check trade updates."
      ]
    },
    {
      "cell_type": "code",
      "execution_count": null,
      "metadata": {
        "id": "dCJv_YEbKvAK"
      },
      "outputs": [],
      "source": [
        "# subscribe trade updates\n",
        "trade_stream_client = TradingStream(api_key, secret_key, paper=paper, url_override = trade_api_wss)\n",
        "\n",
        "async def trade_updates_handler(data):\n",
        "    print(data)\n",
        "\n",
        "trade_stream_client.subscribe_trade_updates(trade_updates_handler)\n",
        "trade_stream_client.run()"
      ]
    },
    {
      "cell_type": "markdown",
      "metadata": {
        "id": "NRIJHJZ3KvAK"
      },
      "source": [
        "# Market Data (Historical)"
      ]
    },
    {
      "cell_type": "code",
      "execution_count": null,
      "metadata": {
        "id": "cX-2hHM3KvAK"
      },
      "outputs": [],
      "source": [
        "# setup stock historical data client\n",
        "stock_historical_data_client = StockHistoricalDataClient(api_key, secret_key, url_override = data_api_url)"
      ]
    },
    {
      "cell_type": "code",
      "execution_count": null,
      "metadata": {
        "id": "ztPqheOfKvAN"
      },
      "outputs": [],
      "source": [
        "# get historical bars by symbol\n",
        "# ref. https://docs.alpaca.markets/reference/stockbars-1\n",
        "now = datetime.now(ZoneInfo(\"America/New_York\"))\n",
        "req = StockBarsRequest(\n",
        "    symbol_or_symbols = [symbol],\n",
        "    timeframe=TimeFrame(amount = 1, unit = TimeFrameUnit.Hour), # specify timeframe\n",
        "    start = now - timedelta(days = 5),                          # specify start datetime, default=the beginning of the current day.\n",
        "    # end_date=None,                                        # specify end datetime, default=now\n",
        "    limit = 2,                                               # specify limit\n",
        ")\n",
        "stock_historical_data_client.get_stock_bars(req).df"
      ]
    },
    {
      "cell_type": "code",
      "execution_count": null,
      "metadata": {
        "id": "_MZ7GonMKvAN"
      },
      "outputs": [],
      "source": [
        "# get historical trades by symbol\n",
        "req = StockTradesRequest(\n",
        "    symbol_or_symbols = [symbol],\n",
        "    start = now - timedelta(days = 5),                          # specify start datetime, default=the beginning of the current day.\n",
        "    # end=None,                                             # specify end datetime, default=now\n",
        "    limit = 2,                                                # specify limit\n",
        ")\n",
        "stock_historical_data_client.get_stock_trades(req).df"
      ]
    },
    {
      "cell_type": "code",
      "execution_count": null,
      "metadata": {
        "id": "Pz-TqUCwKvAN"
      },
      "outputs": [],
      "source": [
        "# get historical quotes by symbol\n",
        "req = StockQuotesRequest(\n",
        "    symbol_or_symbols = [symbol],\n",
        "    start = now - timedelta(days = 5),                      # specify start datetime, default=the beginning of the current day.\n",
        "    # end=None,                                             # specify end datetime, default=now\n",
        "    limit = 2,                                              # specify limit\n",
        ")\n",
        "stock_historical_data_client.get_stock_quotes(req).df"
      ]
    },
    {
      "cell_type": "code",
      "execution_count": null,
      "metadata": {
        "id": "kqF__UMeKvAN"
      },
      "outputs": [],
      "source": [
        "# get latest quotes by symbol\n",
        "req = StockQuotesRequest(\n",
        "    symbol_or_symbols = [symbol],\n",
        ")\n",
        "res = stock_historical_data_client.get_stock_latest_quote(req)\n",
        "res"
      ]
    },
    {
      "cell_type": "markdown",
      "metadata": {
        "id": "yN3fPtwFKvAN"
      },
      "source": [
        "# Market Data (Stream)"
      ]
    },
    {
      "cell_type": "code",
      "execution_count": null,
      "metadata": {
        "id": "zg3CM-rdKvAN"
      },
      "outputs": [],
      "source": [
        "stock_data_stream_client = StockDataStream(api_key, secret_key, url_override = stream_data_wss)\n",
        "\n",
        "async def stock_data_stream_handler(data):\n",
        "    print(data)\n",
        "\n",
        "symbols = [symbol]\n",
        "\n",
        "stock_data_stream_client.subscribe_quotes(stock_data_stream_handler, *symbols)\n",
        "stock_data_stream_client.subscribe_trades(stock_data_stream_handler, *symbols)\n",
        "\n",
        "stock_data_stream_client.run()"
      ]
    },
    {
      "cell_type": "markdown",
      "metadata": {
        "id": "5Xtz4XhkKvAN"
      },
      "source": [
        "# Corporate actions"
      ]
    },
    {
      "cell_type": "code",
      "execution_count": null,
      "metadata": {
        "id": "yR-jHXlHKvAN"
      },
      "outputs": [],
      "source": [
        "corporate_actions_client = CorporateActionsClient(api_key, secret_key)\n",
        "corporate_actions_client.get_corporate_actions(CorporateActionsRequest(\n",
        "    start=datetime(2020, 1, 1),\n",
        "    symbols=[symbol]\n",
        ")).df"
      ]
    }
  ],
  "metadata": {
    "colab": {
      "provenance": []
    },
    "kernelspec": {
      "display_name": "base",
      "language": "python",
      "name": "python3"
    },
    "language_info": {
      "codemirror_mode": {
        "name": "ipython",
        "version": 3
      },
      "file_extension": ".py",
      "mimetype": "text/x-python",
      "name": "python",
      "nbconvert_exporter": "python",
      "pygments_lexer": "ipython3",
      "version": "3.12.3"
    }
  },
  "nbformat": 4,
  "nbformat_minor": 0
}
