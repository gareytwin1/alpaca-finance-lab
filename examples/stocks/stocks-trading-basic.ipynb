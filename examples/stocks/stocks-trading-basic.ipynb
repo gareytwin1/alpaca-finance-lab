{
  "cells": [
    {
      "cell_type": "markdown",
      "metadata": {
        "id": "u1y7La-kKvAG"
      },
      "source": [
        "# Alpaca-py stock trading basic"
      ]
    },
    {
      "cell_type": "markdown",
      "metadata": {
        "id": "HtcnbJhbKvAH"
      },
      "source": [
        "- This notebook shows how to use alpaca-py with stock trading API endpoints\n",
        "- Please use ``paper account``. Please ``DO NOT`` use this notebook with live account. In this notebook, we place orders for stocks as an example."
      ]
    },
    {
      "cell_type": "code",
      "execution_count": null,
      "metadata": {
        "id": "GyzDvDMvKvAH",
        "jupyter": {
          "is_executing": true
        }
      },
      "outputs": [],
      "source": [
        "# Please change the following to your own PAPER api key and secret\n",
        "# or set them as environment variables (ALPACA_API_KEY, ALPACA_SECRET_KEY).\n",
        "# You can get them from https://alpaca.markets/\n",
        "\n",
        "api_key = None\n",
        "secret_key = None\n",
        "\n",
        "#### We use paper environment for this example ####\n",
        "paper = True # Please do not modify this. This example is for paper trading only.\n",
        "####\n",
        "\n",
        "# Below are the variables for development this documents\n",
        "# Please do not change these variables\n",
        "trade_api_url = None\n",
        "trade_api_wss = None\n",
        "data_api_url = None\n",
        "stream_data_wss = None"
      ]
    },
    {
      "cell_type": "code",
      "execution_count": null,
      "metadata": {
        "id": "l5ifRXKeKvAH"
      },
      "outputs": [],
      "source": [
        "import os\n",
        "\n",
        "# Check if environment variables are set\n",
        "if \"ALPACA_API_KEY\" in os.environ:\n",
        "    api_key = os.getenv(\"ALPACA_API_KEY\")\n",
        "if \"ALPACA_SECRET_KEY\" in os.environ:\n",
        "    secret_key = os.getenv(\"ALPACA_SECRET_KEY\")\n",
        "if \"ALPACA_BASE_URL\" in os.environ:\n",
        "    trade_api_url = os.getenv(\"ALPACA_BASE_URL\")\n",
        "\n"
      ]
    },
    {
      "cell_type": "code",
      "execution_count": null,
      "metadata": {
        "id": "3fMummKAKvAI"
      },
      "outputs": [],
      "source": [
        "# install alpaca-py if it is not available\n",
        "try:\n",
        "    import alpaca\n",
        "except ImportError:\n",
        "    !python3 -m pip install alpaca-py\n",
        "    import alpaca"
      ]
    },
    {
      "cell_type": "code",
      "execution_count": null,
      "metadata": {
        "id": "5VDyXvDsKvAI"
      },
      "outputs": [],
      "source": [
        "from datetime import datetime, timedelta\n",
        "from zoneinfo import ZoneInfo\n",
        "\n",
        "from alpaca.trading.client import TradingClient\n",
        "from alpaca.data.timeframe import TimeFrame, TimeFrameUnit\n",
        "from alpaca.data.historical.corporate_actions import CorporateActionsClient\n",
        "from alpaca.data.historical.stock import StockHistoricalDataClient\n",
        "from alpaca.trading.stream import TradingStream\n",
        "from alpaca.data.live.stock import StockDataStream\n",
        "\n",
        "from alpaca.data.requests import (\n",
        "    CorporateActionsRequest,\n",
        "    StockBarsRequest,\n",
        "    StockQuotesRequest,\n",
        "    StockTradesRequest,\n",
        ")\n",
        "from alpaca.trading.requests import (\n",
        "    ClosePositionRequest,\n",
        "    GetAssetsRequest,\n",
        "    GetOrdersRequest,\n",
        "    LimitOrderRequest,\n",
        "    MarketOrderRequest,\n",
        "    StopLimitOrderRequest,\n",
        "    StopLossRequest,\n",
        "    StopOrderRequest,\n",
        "    TakeProfitRequest,\n",
        "    TrailingStopOrderRequest,\n",
        ")\n",
        "from alpaca.trading.enums import (\n",
        "    AssetExchange,\n",
        "    AssetStatus,\n",
        "    OrderClass,\n",
        "    OrderSide,\n",
        "    OrderType,\n",
        "    QueryOrderStatus,\n",
        "    TimeInForce,\n",
        ")"
      ]
    },
    {
      "cell_type": "code",
      "execution_count": null,
      "metadata": {
        "id": "nfe0rVNDKvAI"
      },
      "outputs": [],
      "source": [
        "# to run async code in jupyter notebook\n",
        "import nest_asyncio\n",
        "nest_asyncio.apply()"
      ]
    },
    {
      "cell_type": "code",
      "execution_count": null,
      "metadata": {
        "colab": {
          "base_uri": "https://localhost:8080/",
          "height": 35
        },
        "id": "3uUEamw9KvAI",
        "outputId": "9f20ed61-b66d-446c-e17b-77c0a467585d"
      },
      "outputs": [],
      "source": [
        "# check version of alpaca-py\n",
        "alpaca.__version__"
      ]
    },
    {
      "cell_type": "markdown",
      "metadata": {
        "id": "s7vcfu9ZKvAI"
      },
      "source": [
        "# Trading Client"
      ]
    },
    {
      "cell_type": "code",
      "execution_count": null,
      "metadata": {
        "id": "9o2vfI4fKvAI"
      },
      "outputs": [],
      "source": [
        "# setup clients\n",
        "trade_client = TradingClient(api_key=api_key, secret_key=secret_key, paper=paper, url_override=trade_api_url)"
      ]
    },
    {
      "cell_type": "code",
      "execution_count": null,
      "metadata": {
        "colab": {
          "base_uri": "https://localhost:8080/"
        },
        "id": "EUwiowG-KvAI",
        "outputId": "d30b8b9b-3287-40f9-f8c6-408fb5cdf0ed"
      },
      "outputs": [],
      "source": [
        "# check trading account\n",
        "# You can check definition of each field in the following documents\n",
        "# ref. https://docs.alpaca.markets/docs/account-plans\n",
        "# ref. https://docs.alpaca.markets/reference/getaccount-1\n",
        "acct = trade_client.get_account()\n",
        "acct"
      ]
    },
    {
      "cell_type": "code",
      "execution_count": null,
      "metadata": {
        "colab": {
          "base_uri": "https://localhost:8080/"
        },
        "id": "4MU0Mae0KvAI",
        "outputId": "d828bcdc-59a8-4f1b-afbd-2c8be9fbcc7d"
      },
      "outputs": [],
      "source": [
        "# check account configuration\n",
        "# ref. https://docs.alpaca.markets/reference/getaccountconfig-1\n",
        "acct_config = trade_client.get_account_configurations()\n",
        "acct_config"
      ]
    },
    {
      "cell_type": "code",
      "execution_count": null,
      "metadata": {
        "colab": {
          "base_uri": "https://localhost:8080/",
          "height": 329
        },
        "id": "tCNnrrUCKvAI",
        "outputId": "25b4dc3c-fe2c-47c0-a906-e3376e1781a4"
      },
      "outputs": [],
      "source": [
        "# set account configuration\n",
        "# ref. https://docs.alpaca.markets/reference/patchaccountconfig-1\n",
        "req = acct_config\n",
        "req.fractional_trading = not req.fractional_trading # toggle fractional trading\n",
        "acct_config_new = trade_client.set_account_configurations(req)\n",
        "display(acct_config_new)\n",
        "\n",
        "# revert changes\n",
        "req = acct_config_new\n",
        "req.fractional_trading = not req.fractional_trading # toggle fractional trading\n",
        "acct_config_reverted = trade_client.set_account_configurations(req)\n",
        "display(acct_config_reverted)"
      ]
    },
    {
      "cell_type": "code",
      "execution_count": null,
      "metadata": {
        "colab": {
          "base_uri": "https://localhost:8080/"
        },
        "id": "cSw9SXXNKvAI",
        "outputId": "e38f1f95-ced1-4a68-aa0b-3593cbb0613e"
      },
      "outputs": [],
      "source": [
        "# get list of assets which are us_equity (default), active, and in NASDAQ\n",
        "# ref. https://docs.alpaca.markets/reference/get-v2-assets-1\n",
        "req = GetAssetsRequest(\n",
        "  # asset_class=AssetClass.US_EQUITY,  # default asset_class is us_equity\n",
        "  status=AssetStatus.ACTIVE,\n",
        "  exchange=AssetExchange.NASDAQ,\n",
        ")\n",
        "assets = trade_client.get_all_assets(req)\n",
        "print(f\"Number of assets: {len(assets)}\")\n",
        "assets[:2]"
      ]
    },
    {
      "cell_type": "markdown",
      "metadata": {
        "id": "HQ22i_fVKvAI"
      },
      "source": [
        "### Orders"
      ]
    },
    {
      "cell_type": "code",
      "execution_count": null,
      "metadata": {
        "id": "h0IKbbYaKvAJ"
      },
      "outputs": [],
      "source": [
        "# we will place orders which Alapca trading platform supports\n",
        "# - order classes: simple, bracket, oco, oto\n",
        "# - order types: market, limit, stop, stop_limit, trailing_stop\n",
        "#\n",
        "# please refer to the following documents for more details\n",
        "# ref. https://docs.alpaca.markets/docs/orders-at-alpaca\n",
        "# ref. https://docs.alpaca.markets/reference/postorder\n",
        "#\n",
        "# we will also use fractional trading capability of Alpaca trading platform in this example\n",
        "# ref. https://docs.alpaca.markets/docs/fractional-trading\n",
        "\n",
        "# we will place orders for symbol: SPY in this example\n",
        "symbol = \"SPY\""
      ]
    },
    {
      "cell_type": "code",
      "execution_count": null,
      "metadata": {
        "colab": {
          "base_uri": "https://localhost:8080/"
        },
        "id": "r0EdvBntKvAJ",
        "outputId": "5dbeb2f1-dadb-41ea-bcc4-334c7de00dfd"
      },
      "outputs": [],
      "source": [
        "# simple, market order, fractional qty\n",
        "# Alpaca trading platform support fractional trading by default\n",
        "# you can specify:\n",
        "# fractional qty (e.g. 0.01 qty) in the order request (which is shown in this example)\n",
        "# or notional value (e.g. 100 USD) (which is in the next example)\n",
        "#\n",
        "# If you have an error of `qty must be integer`,\n",
        "# please try to `Reset Account` of your paper account via the Alpaca Trading API dashboard\n",
        "req = MarketOrderRequest(\n",
        "    symbol = symbol,\n",
        "    qty = 5.5, # Example: place an order for $100 dollars worth of SPY\n",
        "    #notional = 100, # Example: place an order for 5.5 shares of SPY\n",
        "    side = OrderSide.BUY,\n",
        "    type = OrderType.MARKET,\n",
        "    time_in_force = TimeInForce.DAY,\n",
        ")\n",
        "res = trade_client.submit_order(req)\n",
        "res"
      ]
    },
    {
      "cell_type": "code",
      "execution_count": null,
      "metadata": {
        "colab": {
          "base_uri": "https://localhost:8080/"
        },
        "id": "Iy4rj5AyKvAJ",
        "outputId": "8fcf5b38-e754-4b2c-b90b-ea749ae346b0"
      },
      "outputs": [],
      "source": [
        "# simple, market order, notional\n",
        "# Alpaca trading platform support fractional trading by default\n",
        "# you can specify:\n",
        "# fractional qty (e.g. 0.01 qty) in the order request (which is in the example above)\n",
        "# or notional value (e.g. 100 USD) (which is in this example)\n",
        "req = MarketOrderRequest(\n",
        "    symbol = symbol,\n",
        "    notional = 1.11,  # notional is specified in USD, here we specify $1.11\n",
        "    side = OrderSide.BUY,\n",
        "    type = OrderType.MARKET,\n",
        "    time_in_force = TimeInForce.DAY,\n",
        ")\n",
        "res = trade_client.submit_order(req)\n",
        "res"
      ]
    },
    {
      "cell_type": "code",
      "execution_count": null,
      "metadata": {
        "colab": {
          "base_uri": "https://localhost:8080/"
        },
        "id": "Si4gXhnVKvAJ",
        "outputId": "589f0a94-7983-4b48-c91c-252a22913c7f"
      },
      "outputs": [],
      "source": [
        "# simple, limit order, fractional qty\n",
        "req = LimitOrderRequest(\n",
        "    symbol = symbol,\n",
        "    qty = 0.01,\n",
        "    limit_price = 550.25,\n",
        "    side = OrderSide.BUY,\n",
        "    type = OrderType.LIMIT,\n",
        "    time_in_force = TimeInForce.DAY,\n",
        ")\n",
        "res = trade_client.submit_order(req)\n",
        "res"
      ]
    },
    {
      "cell_type": "code",
      "execution_count": null,
      "metadata": {
        "colab": {
          "base_uri": "https://localhost:8080/"
        },
        "id": "-UKoJWEzKvAJ",
        "outputId": "37a269c2-b3b9-48b7-8da0-20f2279a8a65"
      },
      "outputs": [],
      "source": [
        "# stop order\n",
        "req = StopOrderRequest(\n",
        "                    symbol = symbol,\n",
        "                    qty = 1,\n",
        "                    side = OrderSide.BUY,\n",
        "                    time_in_force = TimeInForce.GTC,\n",
        "                    stop_price = 600\n",
        "                    )\n",
        "\n",
        "res = trade_client.submit_order(req)\n",
        "res"
      ]
    },
    {
      "cell_type": "code",
      "execution_count": null,
      "metadata": {
        "colab": {
          "base_uri": "https://localhost:8080/"
        },
        "id": "HvpwYNflKvAJ",
        "outputId": "6a3eaf16-35b1-401c-c675-976ad84fde6a"
      },
      "outputs": [],
      "source": [
        "# stop limit order\n",
        "req = StopLimitOrderRequest(\n",
        "                    symbol = symbol,\n",
        "                    qty = 1,\n",
        "                    side = OrderSide.BUY,\n",
        "                    time_in_force = TimeInForce.GTC,\n",
        "                    limit_price = 550,\n",
        "                    stop_price = 600\n",
        "                    )\n",
        "\n",
        "res = trade_client.submit_order(req)\n",
        "res"
      ]
    },
    {
      "cell_type": "code",
      "execution_count": null,
      "metadata": {
        "colab": {
          "base_uri": "https://localhost:8080/"
        },
        "id": "9odhy2cyKvAJ",
        "outputId": "6152b87f-474d-4d46-d156-d251beb1a39c"
      },
      "outputs": [],
      "source": [
        "# bracket order with both stop loss and take profit\n",
        "req = MarketOrderRequest(\n",
        "                    symbol = symbol,\n",
        "                    qty = 5,\n",
        "                    side = OrderSide.BUY,\n",
        "                    time_in_force = TimeInForce.DAY,\n",
        "                    order_class = OrderClass.BRACKET,\n",
        "                    take_profit = TakeProfitRequest(limit_price=602),  # Adjusted: e.g., 602 or higher based on base_price\n",
        "                    stop_loss = StopLossRequest(stop_price=300)\n",
        ")\n",
        "res = trade_client.submit_order(req)\n",
        "res"
      ]
    },
    {
      "cell_type": "code",
      "execution_count": null,
      "metadata": {
        "colab": {
          "base_uri": "https://localhost:8080/"
        },
        "id": "dHvWQdPkKvAJ",
        "outputId": "89575d3c-7b43-4004-e766-d8444779690f"
      },
      "outputs": [],
      "source": [
        "# oto order with stop loss\n",
        "req = LimitOrderRequest(\n",
        "                    symbol = symbol,\n",
        "                    qty = 1,\n",
        "                    limit_price = 500,\n",
        "                    side = OrderSide.BUY,\n",
        "                    time_in_force = TimeInForce.DAY,\n",
        "                    Class = OrderClass.OTO,\n",
        "                    stop_loss = StopLossRequest(stop_price = 300)\n",
        "                    )\n",
        "\n",
        "res = trade_client.submit_order(req)\n",
        "res"
      ]
    },
    {
      "cell_type": "code",
      "execution_count": null,
      "metadata": {
        "colab": {
          "base_uri": "https://localhost:8080/"
        },
        "id": "kkLjeJJpKvAJ",
        "outputId": "746a0023-e314-49c8-b9fb-ce50d472db8c"
      },
      "outputs": [],
      "source": [
        "# oco limit order\n",
        "req = LimitOrderRequest(\n",
        "                    symbol = symbol,\n",
        "                    qty = 1,\n",
        "                    limit_price = 500,\n",
        "                    side = OrderSide.BUY,\n",
        "                    time_in_force = TimeInForce.DAY,\n",
        "                    Class = OrderClass.OCO\n",
        "                    )\n",
        "\n",
        "res = trade_client.submit_order(req)\n",
        "res"
      ]
    },
    {
      "cell_type": "code",
      "execution_count": null,
      "metadata": {
        "colab": {
          "base_uri": "https://localhost:8080/"
        },
        "id": "WujoxoUhKvAJ",
        "outputId": "135be769-7353-4dfc-dd0c-17e35f5fad5e"
      },
      "outputs": [],
      "source": [
        "# trailing stop order\n",
        "req = TrailingStopOrderRequest(\n",
        "                    symbol = symbol,\n",
        "                    qty = 1,\n",
        "                    side = OrderSide.SELL,\n",
        "                    time_in_force = TimeInForce.GTC,\n",
        "                    trail_percent = 0.20 # you can also use trail_price instead of trail_percent\n",
        "                    )\n",
        "\n",
        "res = trade_client.submit_order(req)\n",
        "res"
      ]
    },
    {
      "cell_type": "code",
      "execution_count": null,
      "metadata": {
        "colab": {
          "base_uri": "https://localhost:8080/"
        },
        "id": "8aM0U0XlKvAJ",
        "outputId": "08451215-3783-4c76-f6f3-372866e44667"
      },
      "outputs": [],
      "source": [
        "# get a list of orders including closed (e.g. filled) orders by specifying symbol\n",
        "req = GetOrdersRequest(\n",
        "    status = QueryOrderStatus.ALL,\n",
        "    symbols = [symbol]\n",
        ")\n",
        "orders = trade_client.get_orders(req)\n",
        "orders"
      ]
    },
    {
      "cell_type": "code",
      "execution_count": null,
      "metadata": {
        "colab": {
          "base_uri": "https://localhost:8080/"
        },
        "id": "7gVxONxfKvAJ",
        "outputId": "836a508e-67d2-4a70-af1b-e009b049df5c"
      },
      "outputs": [],
      "source": [
        "# see all open orders\n",
        "req = GetOrdersRequest(\n",
        "    status = QueryOrderStatus.OPEN,\n",
        "    symbols = [symbol]\n",
        ")\n",
        "open_orders = trade_client.get_orders(req)\n",
        "open_orders"
      ]
    },
    {
      "cell_type": "code",
      "execution_count": null,
      "metadata": {
        "colab": {
          "base_uri": "https://localhost:8080/"
        },
        "id": "MmyxkY_AKvAJ",
        "outputId": "354abbe5-225a-4e08-f324-24d52073fdcf"
      },
      "outputs": [],
      "source": [
        "# cancel all open orders\n",
        "trade_client.cancel_orders()"
      ]
    },
    {
      "cell_type": "markdown",
      "metadata": {
        "id": "jV0CMJoUKvAJ"
      },
      "source": [
        "### Positions"
      ]
    },
    {
      "cell_type": "code",
      "execution_count": null,
      "metadata": {
        "colab": {
          "base_uri": "https://localhost:8080/"
        },
        "id": "CNEmyhSqKvAJ",
        "outputId": "b64c2949-89c2-429c-fb12-d5bc9d23984d"
      },
      "outputs": [],
      "source": [
        "# get all open positions\n",
        "# ref. https://docs.alpaca.markets/reference/getallopenpositions-1\n",
        "positions = trade_client.get_all_positions()\n",
        "positions"
      ]
    },
    {
      "cell_type": "code",
      "execution_count": null,
      "metadata": {
        "colab": {
          "base_uri": "https://localhost:8080/"
        },
        "id": "uyWQnFBlKvAJ",
        "outputId": "1e08b8c4-623f-4355-9236-a42191853110"
      },
      "outputs": [],
      "source": [
        "# get positions by symbol\n",
        "# ref. https://docs.alpaca.markets/reference/getopenposition-1\n",
        "position = trade_client.get_open_position(symbol_or_asset_id=symbol)\n",
        "position\n"
      ]
    },
    {
      "cell_type": "code",
      "execution_count": null,
      "metadata": {
        "colab": {
          "base_uri": "https://localhost:8080/"
        },
        "id": "7BZMVDQ0KvAJ",
        "outputId": "74b3c7d2-b7c4-4003-8d9a-aee252de2239"
      },
      "outputs": [],
      "source": [
        "# get positions by asset_id\n",
        "trade_client.get_open_position(symbol_or_asset_id=position.asset_id)"
      ]
    },
    {
      "cell_type": "code",
      "execution_count": null,
      "metadata": {
        "colab": {
          "base_uri": "https://localhost:8080/"
        },
        "id": "tGcuCSpHKvAJ",
        "outputId": "4b97f12c-cfaf-414d-caa5-b75dc5460aae"
      },
      "outputs": [],
      "source": [
        "# close the position with specifying qty\n",
        "# ref. https://docs.alpaca.markets/reference/deleteopenposition-1\n",
        "trade_client.close_position(\n",
        "    symbol_or_asset_id = symbol,\n",
        "    close_options = ClosePositionRequest(\n",
        "        qty = \"0.01\",\n",
        "    )\n",
        ")"
      ]
    },
    {
      "cell_type": "markdown",
      "metadata": {
        "id": "lNnB3XJ5KvAJ"
      },
      "source": [
        "# Trade Update (Stream)"
      ]
    },
    {
      "cell_type": "markdown",
      "metadata": {
        "id": "T_RUHmvIKvAK"
      },
      "source": [
        "With TradingStream client, you can get updates about trades\n",
        "\n",
        "You can open this notebook in another window and run below cell to check trade updates."
      ]
    },
    {
      "cell_type": "code",
      "execution_count": null,
      "metadata": {
        "id": "dCJv_YEbKvAK"
      },
      "outputs": [],
      "source": [
        "# subscribe trade updates\n",
        "trade_stream_client = TradingStream(api_key, secret_key, paper=paper, url_override = trade_api_wss)\n",
        "\n",
        "async def trade_updates_handler(data):\n",
        "    print(data)\n",
        "\n",
        "trade_stream_client.subscribe_trade_updates(trade_updates_handler)\n",
        "trade_stream_client.run()"
      ]
    },
    {
      "cell_type": "markdown",
      "metadata": {
        "id": "NRIJHJZ3KvAK"
      },
      "source": [
        "# Market Data (Historical)"
      ]
    },
    {
      "cell_type": "code",
      "execution_count": null,
      "metadata": {
        "id": "cX-2hHM3KvAK"
      },
      "outputs": [],
      "source": [
        "# setup stock historical data client\n",
        "stock_historical_data_client = StockHistoricalDataClient(api_key, secret_key, url_override = data_api_url)"
      ]
    },
    {
      "cell_type": "code",
      "execution_count": null,
      "metadata": {
        "id": "ztPqheOfKvAN"
      },
      "outputs": [],
      "source": [
        "# get historical bars by symbol\n",
        "# ref. https://docs.alpaca.markets/reference/stockbars-1\n",
        "now = datetime.now(ZoneInfo(\"America/New_York\"))\n",
        "req = StockBarsRequest(\n",
        "    symbol_or_symbols = [symbol],\n",
        "    timeframe=TimeFrame(amount = 1, unit = TimeFrameUnit.Hour), # specify timeframe\n",
        "    start = now - timedelta(days = 5),                          # specify start datetime, default=the beginning of the current day.\n",
        "    # end_date=None,                                        # specify end datetime, default=now\n",
        "    limit = 2,                                               # specify limit\n",
        ")\n",
        "stock_historical_data_client.get_stock_bars(req).df"
      ]
    },
    {
      "cell_type": "code",
      "execution_count": null,
      "metadata": {
        "id": "_MZ7GonMKvAN"
      },
      "outputs": [],
      "source": [
        "# get historical trades by symbol\n",
        "req = StockTradesRequest(\n",
        "    symbol_or_symbols = [symbol],\n",
        "    start = now - timedelta(days = 5),                          # specify start datetime, default=the beginning of the current day.\n",
        "    # end=None,                                             # specify end datetime, default=now\n",
        "    limit = 2,                                                # specify limit\n",
        ")\n",
        "stock_historical_data_client.get_stock_trades(req).df"
      ]
    },
    {
      "cell_type": "code",
      "execution_count": null,
      "metadata": {
        "id": "Pz-TqUCwKvAN"
      },
      "outputs": [],
      "source": [
        "# get historical quotes by symbol\n",
        "req = StockQuotesRequest(\n",
        "    symbol_or_symbols = [symbol],\n",
        "    start = now - timedelta(days = 5),                      # specify start datetime, default=the beginning of the current day.\n",
        "    # end=None,                                             # specify end datetime, default=now\n",
        "    limit = 2,                                              # specify limit\n",
        ")\n",
        "stock_historical_data_client.get_stock_quotes(req).df"
      ]
    },
    {
      "cell_type": "code",
      "execution_count": null,
      "metadata": {
        "id": "kqF__UMeKvAN"
      },
      "outputs": [],
      "source": [
        "# get latest quotes by symbol\n",
        "req = StockQuotesRequest(\n",
        "    symbol_or_symbols = [symbol],\n",
        ")\n",
        "res = stock_historical_data_client.get_stock_latest_quote(req)\n",
        "res"
      ]
    },
    {
      "cell_type": "markdown",
      "metadata": {
        "id": "yN3fPtwFKvAN"
      },
      "source": [
        "# Market Data (Stream)"
      ]
    },
    {
      "cell_type": "code",
      "execution_count": null,
      "metadata": {
        "id": "zg3CM-rdKvAN"
      },
      "outputs": [],
      "source": [
        "stock_data_stream_client = StockDataStream(api_key, secret_key, url_override = stream_data_wss)\n",
        "\n",
        "async def stock_data_stream_handler(data):\n",
        "    print(data)\n",
        "\n",
        "symbols = [symbol]\n",
        "\n",
        "stock_data_stream_client.subscribe_quotes(stock_data_stream_handler, *symbols)\n",
        "stock_data_stream_client.subscribe_trades(stock_data_stream_handler, *symbols)\n",
        "\n",
        "stock_data_stream_client.run()"
      ]
    },
    {
      "cell_type": "markdown",
      "metadata": {
        "id": "5Xtz4XhkKvAN"
      },
      "source": [
        "# Corporate actions"
      ]
    },
    {
      "cell_type": "code",
      "execution_count": null,
      "metadata": {
        "id": "yR-jHXlHKvAN"
      },
      "outputs": [],
      "source": [
        "corporate_actions_client = CorporateActionsClient(api_key, secret_key)\n",
        "corporate_actions_client.get_corporate_actions(CorporateActionsRequest(\n",
        "    start=datetime(2020, 1, 1),\n",
        "    symbols=[symbol]\n",
        ")).df"
      ]
    }
  ],
  "metadata": {
    "colab": {
      "provenance": []
    },
    "kernelspec": {
      "display_name": "base",
      "language": "python",
      "name": "python3"
    },
    "language_info": {
      "codemirror_mode": {
        "name": "ipython",
        "version": 3
      },
      "file_extension": ".py",
      "mimetype": "text/x-python",
      "name": "python",
      "nbconvert_exporter": "python",
      "pygments_lexer": "ipython3",
      "version": "3.12.3"
    }
  },
  "nbformat": 4,
  "nbformat_minor": 0
}
